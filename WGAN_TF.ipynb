{
 "cells": [
  {
   "cell_type": "code",
   "execution_count": 1,
   "metadata": {
    "collapsed": true
   },
   "outputs": [],
   "source": [
    "import tensorflow as tf\n",
    "import tensorflow.contrib.layers as layers\n",
    "import tensorflow.contrib.distributions as ds"
   ]
  },
  {
   "cell_type": "code",
   "execution_count": 2,
   "metadata": {
    "collapsed": true
   },
   "outputs": [],
   "source": [
    "import numpy as np\n",
    "import matplotlib.pyplot as plt"
   ]
  },
  {
   "cell_type": "code",
   "execution_count": 3,
   "metadata": {
    "collapsed": true
   },
   "outputs": [],
   "source": [
    "config = tf.ConfigProto(intra_op_parallelism_threads=8, inter_op_parallelism_threads=8, \\\n",
    "                        allow_soft_placement=True, device_count = {'CPU': 8})\n",
    "sess = tf.InteractiveSession(config = config)"
   ]
  },
  {
   "cell_type": "code",
   "execution_count": 4,
   "metadata": {
    "collapsed": true
   },
   "outputs": [],
   "source": [
    "eps = 1e-10"
   ]
  },
  {
   "cell_type": "code",
   "execution_count": 5,
   "metadata": {
    "collapsed": true
   },
   "outputs": [],
   "source": [
    "def generator(noise_in, name):\n",
    "    with tf.variable_scope(name, reuse = tf.AUTO_REUSE):\n",
    "        lay = layers.relu(noise_in, 40)\n",
    "        lay = layers.relu(lay, 20)\n",
    "        outputs = layers.linear(lay, 1)\n",
    "\n",
    "    these_vars = tf.get_collection(tf.GraphKeys.GLOBAL_VARIABLES, scope = name)\n",
    "\n",
    "    return outputs, these_vars"
   ]
  },
  {
   "cell_type": "code",
   "execution_count": 6,
   "metadata": {
    "collapsed": true
   },
   "outputs": [],
   "source": [
    "def EM_network(data, name):\n",
    "    with tf.variable_scope(name, reuse = tf.AUTO_REUSE):       \n",
    "        lay = layers.relu(data, 40)\n",
    "        lay = layers.relu(lay, 20)\n",
    "        outputs = layers.linear(lay, 1)\n",
    "        \n",
    "    these_vars = tf.get_collection(tf.GraphKeys.GLOBAL_VARIABLES, scope = name)\n",
    "    \n",
    "    return outputs, these_vars"
   ]
  },
  {
   "cell_type": "code",
   "execution_count": 7,
   "metadata": {
    "collapsed": true
   },
   "outputs": [],
   "source": [
    "def make_EM_loss(data_P, data_Q, name):\n",
    "    local_EM_network_name = name + \"_EM_net\"\n",
    "    \n",
    "    # generator output\n",
    "    T_P, EM_vars = EM_network(data_P, name = local_EM_network_name)\n",
    "    \n",
    "    # target\n",
    "    T_Q, _ = EM_network(data_Q, name = local_EM_network_name)\n",
    "\n",
    "    EM_loss = tf.reduce_mean(T_P, axis = 0) - tf.reduce_mean(T_Q, axis = 0)\n",
    "    \n",
    "    batch_size_dyn = tf.cast(tf.shape(T_P)[0], tf.int32)\n",
    "    rand = tf.random.uniform(shape = (batch_size_dyn, 1), minval = 0.0, maxval = 1.0)\n",
    "    \n",
    "    # add gradient penalty\n",
    "    x_grad = tf.math.add(tf.math.multiply(rand, data_P),\n",
    "                         tf.math.multiply(tf.math.subtract(1.0, rand), data_Q))\n",
    "    x_grad_EM, _ = EM_network(x_grad, name = local_EM_network_name)\n",
    "    grad = tf.gradients(x_grad_EM, x_grad)[0]\n",
    "    \n",
    "    grad_norm = tf.math.sqrt(tf.reduce_sum(tf.math.square(grad), axis = 1) + eps)\n",
    "    \n",
    "    grad_pen = tf.reduce_mean(tf.math.square(grad_norm - 1.0))\n",
    "\n",
    "    EM_loss_grad_pen = EM_loss[0] + 10 * grad_pen\n",
    "\n",
    "    return EM_loss_grad_pen, EM_vars, -EM_loss"
   ]
  },
  {
   "cell_type": "code",
   "execution_count": 8,
   "metadata": {
    "collapsed": false
   },
   "outputs": [],
   "source": [
    "targetdist = ds.Normal(loc = 0.2, scale = 1.0)"
   ]
  },
  {
   "cell_type": "code",
   "execution_count": 9,
   "metadata": {
    "collapsed": true
   },
   "outputs": [],
   "source": [
    "noise_in = tf.placeholder(tf.float32, [None, 20], name = 'noise_in')\n",
    "target_in = tf.placeholder(tf.float32, [None, 1], name = 'target_in')"
   ]
  },
  {
   "cell_type": "code",
   "execution_count": 10,
   "metadata": {
    "collapsed": false
   },
   "outputs": [],
   "source": [
    "gen_out, gen_vars = generator(noise_in, \"gen\")"
   ]
  },
  {
   "cell_type": "code",
   "execution_count": 11,
   "metadata": {
    "collapsed": false
   },
   "outputs": [],
   "source": [
    "EM_lossval, EM_vars, EM_dist = make_EM_loss(gen_out, target_in, \"EM_loss_obj\")"
   ]
  },
  {
   "cell_type": "code",
   "execution_count": 70,
   "metadata": {
    "collapsed": false
   },
   "outputs": [],
   "source": [
    "train_EM = tf.train.AdamOptimizer(learning_rate = 0.01, beta1 = 0.9, beta2 = 0.999).minimize(EM_lossval, var_list = EM_vars)"
   ]
  },
  {
   "cell_type": "code",
   "execution_count": 71,
   "metadata": {
    "collapsed": true
   },
   "outputs": [],
   "source": [
    "train_gen = tf.train.AdamOptimizer(learning_rate = 1e-3, beta1 = 0.5, beta2 = 0.9).minimize(EM_dist, var_list = gen_vars)"
   ]
  },
  {
   "cell_type": "code",
   "execution_count": 72,
   "metadata": {
    "collapsed": true
   },
   "outputs": [],
   "source": [
    "sess.run(tf.global_variables_initializer())"
   ]
  },
  {
   "cell_type": "code",
   "execution_count": 85,
   "metadata": {
    "collapsed": true
   },
   "outputs": [],
   "source": [
    "init_critic = tf.variables_initializer(EM_vars)"
   ]
  },
  {
   "cell_type": "code",
   "execution_count": 86,
   "metadata": {
    "collapsed": true
   },
   "outputs": [],
   "source": [
    "sess.run(init_critic)"
   ]
  },
  {
   "cell_type": "code",
   "execution_count": 105,
   "metadata": {
    "collapsed": false
   },
   "outputs": [
    {
     "name": "stdout",
     "output_type": "stream",
     "text": [
      "EM_dist = [0.31518364]\n",
      "EM_dist = [0.31499743]\n",
      "EM_dist = [0.28893936]\n",
      "EM_dist = [0.2771374]\n",
      "EM_dist = [0.28945732]\n",
      "EM_dist = [0.28723502]\n",
      "EM_dist = [0.27852738]\n",
      "EM_dist = [0.27902818]\n",
      "EM_dist = [0.2855227]\n",
      "EM_dist = [0.2684374]\n",
      "EM_dist = [0.31178927]\n",
      "EM_dist = [0.30075336]\n",
      "EM_dist = [0.28903985]\n",
      "EM_dist = [0.2580459]\n",
      "EM_dist = [0.29815984]\n",
      "EM_dist = [0.2873509]\n",
      "EM_dist = [0.27085137]\n",
      "EM_dist = [0.30218768]\n",
      "EM_dist = [0.2887125]\n",
      "EM_dist = [0.2994144]\n"
     ]
    }
   ],
   "source": [
    "# prepare noise\n",
    "for i in range(20):\n",
    "    target = sess.run(targetdist.sample(1000, 1))\n",
    "    target = np.expand_dims(target, axis = 1)\n",
    "    noise = np.random.uniform(low = 0.0, high = 1.0, size = (1000, 20))\n",
    "    sess.run(train_EM, feed_dict = {noise_in: noise, target_in: target})\n",
    "\n",
    "    EM_dist_val = sess.run(EM_dist, feed_dict = {noise_in: noise, target_in: target})\n",
    "    print(\"EM_dist = {}\".format(EM_dist_val))"
   ]
  },
  {
   "cell_type": "code",
   "execution_count": 88,
   "metadata": {
    "collapsed": false
   },
   "outputs": [],
   "source": [
    "# compare initial distributions\n",
    "target_test = sess.run(targetdist.sample(1000, 1))\n",
    "noise_test = np.random.uniform(low = 0.0, high = 1.0, size = (1000, 20))\n",
    "gen_output_test = sess.run(gen_out,  feed_dict = {noise_in: noise_test})"
   ]
  },
  {
   "cell_type": "code",
   "execution_count": 89,
   "metadata": {
    "collapsed": false
   },
   "outputs": [
    {
     "data": {
      "image/png": "[encoded data removed]",
      "text/plain": [
       "<Figure size 432x288 with 1 Axes>"
      ]
     },
     "metadata": {},
     "output_type": "display_data"
    }
   ],
   "source": [
    "plt.hist([np.squeeze(target_test), np.squeeze(gen_output_test)], label = ['target', 'generator'], histtype = 'step', density = True, bins = 50)\n",
    "plt.legend()\n",
    "plt.show()"
   ]
  },
  {
   "cell_type": "code",
   "execution_count": null,
   "metadata": {
    "collapsed": false,
    "scrolled": true
   },
   "outputs": [],
   "source": [
    "for i in range(10):\n",
    "    # prepare noise\n",
    "    for i in range(50):\n",
    "        target = sess.run(targetdist.sample(1000, 1))\n",
    "        target = np.expand_dims(target, axis = 1)\n",
    "        noise = np.random.uniform(low = 0.0, high = 1.0, size = (1000, 20))\n",
    "        sess.run(train_EM, feed_dict = {noise_in: noise, target_in: target})\n",
    "    \n",
    "    target = sess.run(targetdist.sample(1000, 1))\n",
    "    target = np.expand_dims(target, axis = 1)\n",
    "    noise = np.random.uniform(low = 0.0, high = 1.0, size = (1000, 20))\n",
    "    sess.run(train_gen, feed_dict = {noise_in: noise, target_in: target})\n",
    "    EM_dist_val = sess.run(EM_dist, feed_dict = {noise_in: noise, target_in: target})\n",
    "    critic_loss = sess.run(EM_lossval, feed_dict = {noise_in: noise, target_in: target})\n",
    "    \n",
    "    print(\"W = {}\".format(EM_dist_val))\n",
    "    print(\"critic loss = {}\".format(critic_loss))"
   ]
  },
  {
   "cell_type": "code",
   "execution_count": 103,
   "metadata": {
    "collapsed": true
   },
   "outputs": [],
   "source": [
    "# compare initial distributions\n",
    "target_test = sess.run(targetdist.sample(10000, 1))\n",
    "noise_test = np.random.uniform(low = 0.0, high = 1.0, size = (10000, 20))\n",
    "gen_output_test = sess.run(gen_out,  feed_dict = {noise_in: noise_test})"
   ]
  },
  {
   "cell_type": "code",
   "execution_count": 104,
   "metadata": {
    "collapsed": false
   },
   "outputs": [
    {
     "data": {
      "image/png": "[encoded data removed]",
      "text/plain": [
       "<Figure size 432x288 with 1 Axes>"
      ]
     },
     "metadata": {},
     "output_type": "display_data"
    }
   ],
   "source": [
    "plt.hist([np.squeeze(target_test), np.squeeze(gen_output_test)], label = ['target', 'generator'], histtype = 'step', density = True, bins = 50)\n",
    "plt.legend()\n",
    "plt.show()"
   ]
  },
  {
   "cell_type": "code",
   "execution_count": null,
   "metadata": {
    "collapsed": true
   },
   "outputs": [],
   "source": []
  },
  {
   "cell_type": "code",
   "execution_count": null,
   "metadata": {
    "collapsed": true
   },
   "outputs": [],
   "source": []
  }
 ],
 "metadata": {
  "kernelspec": {
   "display_name": "Python 3",
   "language": "python",
   "name": "python3"
  },
  "language_info": {
   "codemirror_mode": {
    "name": "ipython",
    "version": 3
   },
   "file_extension": ".py",
   "mimetype": "text/x-python",
   "name": "python",
   "nbconvert_exporter": "python",
   "pygments_lexer": "ipython3",
   "version": "3.5.3"
  }
 },
 "nbformat": 4,
 "nbformat_minor": 2
}
