{
 "cells": [
  {
   "cell_type": "code",
   "execution_count": 1,
   "metadata": {
    "collapsed": true
   },
   "outputs": [],
   "source": [
    "import tensorflow as tf\n",
    "import tensorflow.contrib.layers as layers\n",
    "import tensorflow.contrib.distributions as ds"
   ]
  },
  {
   "cell_type": "code",
   "execution_count": 19,
   "metadata": {
    "collapsed": true
   },
   "outputs": [],
   "source": [
    "import numpy as np\n",
    "import matplotlib.pyplot as plt"
   ]
  },
  {
   "cell_type": "code",
   "execution_count": 3,
   "metadata": {
    "collapsed": true
   },
   "outputs": [],
   "source": [
    "config = tf.ConfigProto(intra_op_parallelism_threads=8, inter_op_parallelism_threads=8, \\\n",
    "                        allow_soft_placement=True, device_count = {'CPU': 8})\n",
    "sess = tf.InteractiveSession(config = config)"
   ]
  },
  {
   "cell_type": "code",
   "execution_count": 4,
   "metadata": {
    "collapsed": true
   },
   "outputs": [],
   "source": [
    "eps = 1e-10"
   ]
  },
  {
   "cell_type": "code",
   "execution_count": 5,
   "metadata": {
    "collapsed": true
   },
   "outputs": [],
   "source": [
    "def generator(noise_in, name):\n",
    "    with tf.variable_scope(name, reuse = tf.AUTO_REUSE):\n",
    "        lay = layers.relu(noise_in, 40)\n",
    "        lay = layers.relu(lay, 40)\n",
    "        lay = layers.relu(lay, 40)\n",
    "        lay = layers.relu(lay, 20)\n",
    "        outputs = layers.linear(lay, 1)\n",
    "\n",
    "    these_vars = tf.get_collection(tf.GraphKeys.GLOBAL_VARIABLES, scope = name)\n",
    "\n",
    "    return outputs, these_vars"
   ]
  },
  {
   "cell_type": "code",
   "execution_count": 6,
   "metadata": {
    "collapsed": true
   },
   "outputs": [],
   "source": [
    "def EM_network(data, name):\n",
    "    with tf.variable_scope(name, reuse = tf.AUTO_REUSE):       \n",
    "        lay = layers.relu(data, 40)\n",
    "        lay = layers.relu(lay, 40)\n",
    "        lay = layers.relu(lay, 20)\n",
    "        outputs = layers.linear(lay, 1)\n",
    "        \n",
    "    these_vars = tf.get_collection(tf.GraphKeys.GLOBAL_VARIABLES, scope = name)\n",
    "    \n",
    "    return outputs, these_vars"
   ]
  },
  {
   "cell_type": "code",
   "execution_count": 7,
   "metadata": {
    "collapsed": true
   },
   "outputs": [],
   "source": [
    "def EM_loss(data_P, data_Q, name):\n",
    "    local_EM_network_name = name + \"_EM_net\"\n",
    "    \n",
    "    T_P, EM_vars = EM_network(data_P, name = local_EM_network_name)\n",
    "    T_Q, _ = EM_network(data_Q, name = local_EM_network_name)\n",
    "\n",
    "    EM_loss = tf.reduce_mean(T_P, axis = 0) - tf.reduce_mean(T_Q, axis = 0)\n",
    "    \n",
    "    batch_size_dyn = tf.cast(tf.shape(T_P)[0], tf.int32)\n",
    "    rand = tf.random.uniform(shape = (batch_size_dyn, 1), minval = 0.0, maxval = 1.0)\n",
    "    \n",
    "    # add gradient penalty\n",
    "    x_grad = tf.math.add(tf.math.multiply(rand, data_P),\n",
    "                         tf.math.multiply(tf.math.subtract(1.0, rand), data_Q))\n",
    "    x_grad_EM, _ = EM_network(x_grad, name = local_EM_network_name)\n",
    "    grad = tf.gradients(x_grad_EM, x_grad)[0]\n",
    "    \n",
    "    grad_norm = tf.math.sqrt(tf.reduce_sum(tf.math.square(grad), axis = 1) + eps)\n",
    "    \n",
    "    grad_pen = tf.reduce_mean(tf.math.square(grad_norm - 1.0))\n",
    "\n",
    "    EM_loss_grad_pen = EM_loss[0] + 10 * grad_pen\n",
    "\n",
    "    return EM_loss_grad_pen, EM_vars, tf.reduce_mean(T_P, axis = 0)"
   ]
  },
  {
   "cell_type": "code",
   "execution_count": 28,
   "metadata": {
    "collapsed": false
   },
   "outputs": [],
   "source": [
    "targetdist = ds.Normal(loc = 1.0, scale = 0.1)"
   ]
  },
  {
   "cell_type": "code",
   "execution_count": 9,
   "metadata": {
    "collapsed": true
   },
   "outputs": [],
   "source": [
    "noise_in = tf.placeholder(tf.float32, [None, 2], name = 'noise_in')\n",
    "target_in = tf.placeholder(tf.float32, [None, 1], name = 'target_in')"
   ]
  },
  {
   "cell_type": "code",
   "execution_count": 10,
   "metadata": {
    "collapsed": false
   },
   "outputs": [],
   "source": [
    "gen_out, gen_vars = generator(noise_in, \"gen\")"
   ]
  },
  {
   "cell_type": "code",
   "execution_count": 11,
   "metadata": {
    "collapsed": false
   },
   "outputs": [],
   "source": [
    "EM_loss, EM_vars, gen_loss = EM_loss(gen_out, target_in, \"EM_loss\")"
   ]
  },
  {
   "cell_type": "code",
   "execution_count": 91,
   "metadata": {
    "collapsed": true
   },
   "outputs": [],
   "source": [
    "train_EM = tf.train.AdamOptimizer(learning_rate = 1e-4, beta1 = 0.5, beta2 = 0.9).minimize(EM_loss, var_list = EM_vars)"
   ]
  },
  {
   "cell_type": "code",
   "execution_count": 103,
   "metadata": {
    "collapsed": true
   },
   "outputs": [],
   "source": [
    "train_gen = tf.train.AdamOptimizer(learning_rate = 1e-4, beta1 = 0.5, beta2 = 0.9).minimize(-gen_loss, var_list = gen_vars)"
   ]
  },
  {
   "cell_type": "code",
   "execution_count": 104,
   "metadata": {
    "collapsed": true
   },
   "outputs": [],
   "source": [
    "sess.run(tf.global_variables_initializer())"
   ]
  },
  {
   "cell_type": "code",
   "execution_count": 105,
   "metadata": {
    "collapsed": false
   },
   "outputs": [
    {
     "name": "stdout",
     "output_type": "stream",
     "text": [
      "loss = [-0.00115647]\n",
      "loss = [-0.00228199]\n",
      "loss = [-0.00359826]\n",
      "loss = [-0.00412537]\n",
      "loss = [-0.00475239]\n",
      "loss = [-0.00629719]\n",
      "loss = [-0.00681953]\n",
      "loss = [-0.00727325]\n",
      "loss = [-0.00867371]\n",
      "loss = [-0.01009786]\n",
      "loss = [-0.01074145]\n",
      "loss = [-0.01015411]\n",
      "loss = [-0.01061453]\n",
      "loss = [-0.01143744]\n",
      "loss = [-0.014134]\n",
      "loss = [-0.01330374]\n",
      "loss = [-0.0156208]\n",
      "loss = [-0.0153648]\n",
      "loss = [-0.01542136]\n",
      "loss = [-0.01776487]\n"
     ]
    }
   ],
   "source": [
    "# prepare noise\n",
    "for i in range(20):\n",
    "    target = sess.run(targetdist.sample(100, 1))\n",
    "    target = np.expand_dims(target, axis = 1)\n",
    "    noise = np.random.uniform(low = 0.0, high = 1.0, size = (100, 2))\n",
    "    sess.run(train_EM, feed_dict = {noise_in: noise, target_in: target})\n",
    "\n",
    "    cur_gen_loss = sess.run(gen_loss, feed_dict = {noise_in: noise, target_in: target})\n",
    "    print(\"loss = {}\".format(cur_gen_loss))"
   ]
  },
  {
   "cell_type": "code",
   "execution_count": 106,
   "metadata": {
    "collapsed": true
   },
   "outputs": [],
   "source": [
    "# compare initial distributions\n",
    "target_test = sess.run(targetdist.sample(10000, 1))\n",
    "noise_test = np.random.uniform(low = 0.0, high = 1.0, size = (10000, 2))\n",
    "gen_output_test = sess.run(gen_out,  feed_dict = {noise_in: noise_test})"
   ]
  },
  {
   "cell_type": "code",
   "execution_count": 107,
   "metadata": {
    "collapsed": false
   },
   "outputs": [
    {
     "data": {
      "image/png": "[encoded data removed]",
      "text/plain": [
       "<Figure size 432x288 with 1 Axes>"
      ]
     },
     "metadata": {},
     "output_type": "display_data"
    }
   ],
   "source": [
    "plt.hist([np.squeeze(target_test), np.squeeze(gen_output_test)], label = ['target', 'generator'], histtype = 'step', density = True, bins = 50)\n",
    "plt.legend()\n",
    "plt.show()"
   ]
  },
  {
   "cell_type": "code",
   "execution_count": null,
   "metadata": {
    "collapsed": false
   },
   "outputs": [
    {
     "name": "stdout",
     "output_type": "stream",
     "text": [
      "W = [-1.1816311]\n",
      "critic loss = 0.07065153867006302\n",
      "W = [-1.2396996]\n",
      "critic loss = 0.05136694759130478\n",
      "W = [-1.2097734]\n",
      "critic loss = 0.05512624979019165\n",
      "W = [-1.15969]\n",
      "critic loss = 0.06745888292789459\n",
      "W = [-1.1838908]\n",
      "critic loss = 0.06474697589874268\n"
     ]
    }
   ],
   "source": [
    "for i in range(10):\n",
    "    # prepare noise\n",
    "    for i in range(5):\n",
    "        target = sess.run(targetdist.sample(1000, 1))\n",
    "        target = np.expand_dims(target, axis = 1)\n",
    "        noise = np.random.uniform(low = 0.0, high = 1.0, size = (1000, 2))\n",
    "        sess.run(train_EM, feed_dict = {noise_in: noise, target_in: target})\n",
    "    \n",
    "    target = sess.run(targetdist.sample(1000, 1))\n",
    "    target = np.expand_dims(target, axis = 1)\n",
    "    noise = np.random.uniform(low = 0.0, high = 1.0, size = (1000, 2))\n",
    "    sess.run(train_gen, feed_dict = {noise_in: noise, target_in: target})\n",
    "    cur_gen_loss = sess.run(gen_loss, feed_dict = {noise_in: noise, target_in: target})\n",
    "    critic_loss = sess.run(EM_loss, feed_dict = {noise_in: noise, target_in: target})\n",
    "    \n",
    "    print(\"W = {}\".format(cur_gen_loss))\n",
    "    print(\"critic loss = {}\".format(critic_loss))"
   ]
  },
  {
   "cell_type": "code",
   "execution_count": 145,
   "metadata": {
    "collapsed": true
   },
   "outputs": [],
   "source": [
    "# compare initial distributions\n",
    "target_test = sess.run(targetdist.sample(10000, 1))\n",
    "noise_test = np.random.uniform(low = 0.0, high = 1.0, size = (10000, 2))\n",
    "gen_output_test = sess.run(gen_out,  feed_dict = {noise_in: noise_test})"
   ]
  },
  {
   "cell_type": "code",
   "execution_count": 146,
   "metadata": {
    "collapsed": false
   },
   "outputs": [
    {
     "data": {
      "image/png": "[encoded data removed]",
      "text/plain": [
       "<Figure size 432x288 with 1 Axes>"
      ]
     },
     "metadata": {},
     "output_type": "display_data"
    }
   ],
   "source": [
    "plt.hist([np.squeeze(target_test), np.squeeze(gen_output_test)], label = ['target', 'generator'], histtype = 'step', density = True, bins = 50)\n",
    "plt.legend()\n",
    "plt.show()"
   ]
  },
  {
   "cell_type": "code",
   "execution_count": null,
   "metadata": {
    "collapsed": true
   },
   "outputs": [],
   "source": []
  }
 ],
 "metadata": {
  "kernelspec": {
   "display_name": "Python 3",
   "language": "python",
   "name": "python3"
  },
  "language_info": {
   "codemirror_mode": {
    "name": "ipython",
    "version": 3
   },
   "file_extension": ".py",
   "mimetype": "text/x-python",
   "name": "python",
   "nbconvert_exporter": "python",
   "pygments_lexer": "ipython3",
   "version": "3.5.3"
  }
 },
 "nbformat": 4,
 "nbformat_minor": 2
}
