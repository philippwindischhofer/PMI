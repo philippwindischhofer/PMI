{
 "cells": [
  {
   "cell_type": "code",
   "execution_count": 1,
   "metadata": {
    "collapsed": true
   },
   "outputs": [],
   "source": [
    "import numpy as np\n",
    "import matplotlib.pyplot as plt\n",
    "import copy\n",
    "from matplotlib.mlab import griddata"
   ]
  },
  {
   "cell_type": "code",
   "execution_count": 2,
   "metadata": {
    "collapsed": true
   },
   "outputs": [],
   "source": [
    "import tensorflow as tf\n",
    "import tensorflow.contrib.layers as layers\n",
    "config = tf.ConfigProto(intra_op_parallelism_threads=8, inter_op_parallelism_threads=8, \\\n",
    "                        allow_soft_placement=True, device_count = {'CPU': 8})\n",
    "sess = tf.InteractiveSession(config = config)"
   ]
  },
  {
   "cell_type": "code",
   "execution_count": 3,
   "metadata": {
    "collapsed": false
   },
   "outputs": [],
   "source": [
    "def EM_network(data, name, reuse = tf.AUTO_REUSE):\n",
    "    with tf.variable_scope(name, reuse = reuse):       \n",
    "        lay = layers.relu(data, 40)\n",
    "        lay = layers.relu(lay, 40)\n",
    "        lay = layers.relu(lay, 20)\n",
    "        outputs = layers.linear(lay, 1)\n",
    "        \n",
    "    these_vars = tf.get_collection(tf.GraphKeys.GLOBAL_VARIABLES, scope = name)\n",
    "    \n",
    "    return outputs, these_vars"
   ]
  },
  {
   "cell_type": "code",
   "execution_count": 4,
   "metadata": {
    "collapsed": true
   },
   "outputs": [],
   "source": [
    "def EM_loss(data_P, data_Q, name):\n",
    "    local_EM_network_name = name + \"_EM_net\"\n",
    "    \n",
    "    T_P, EM_vars = EM_network(data_P, name = local_EM_network_name)\n",
    "    T_Q, _ = EM_network(data_Q, name = local_EM_network_name)\n",
    "\n",
    "    EM_loss = tf.reduce_mean(T_P, axis = 0) - tf.reduce_mean(T_Q, axis = 0)\n",
    "    \n",
    "    batch_size_dyn = tf.cast(tf.shape(T_P)[0], tf.int32)\n",
    "    rand = tf.random.uniform(shape = (batch_size_dyn, 1), minval = 0.0, maxval = 1.0)\n",
    "    \n",
    "    # add gradient penalty\n",
    "    x_grad = tf.math.add(tf.math.multiply(rand, data_P),\n",
    "                         tf.math.multiply(tf.math.subtract(1.0, rand), data_Q))\n",
    "    x_grad_EM, _ = EM_network(x_grad, name = local_EM_network_name)\n",
    "    grad = tf.gradients(x_grad_EM, x_grad)[0]\n",
    "    \n",
    "    grad_pen = tf.reduce_mean(tf.square(tf.math.abs(grad) - 1.0), axis = 0)[0]\n",
    "\n",
    "    EM_loss_grad_pen = EM_loss[0] + 10 * grad_pen\n",
    "\n",
    "    return EM_loss_grad_pen, EM_vars, -EM_loss"
   ]
  },
  {
   "cell_type": "code",
   "execution_count": 5,
   "metadata": {
    "collapsed": true
   },
   "outputs": [],
   "source": [
    "# this sets up everything for Wasserstein information loss\n",
    "def WIE_loss(data_X, data_Y, name):\n",
    "    # data drawn from p_XY\n",
    "    data_P = tf.concat([data_X, data_Y], axis = 1)\n",
    "    \n",
    "    data_Y_shuffled = tf.random.shuffle(data_Y)\n",
    "    # data drawn from p_X * p_Y\n",
    "    data_Q = tf.concat([data_X, data_Y_shuffled], axis = 1)\n",
    "    \n",
    "    return EM_loss(data_P, data_Q, name)"
   ]
  },
  {
   "cell_type": "code",
   "execution_count": 16,
   "metadata": {
    "collapsed": true
   },
   "outputs": [],
   "source": [
    "data_X = np.random.normal(loc = 1, scale = 1, size = (50000))\n",
    "data_X = np.expand_dims(data_X, axis = 1)"
   ]
  },
  {
   "cell_type": "code",
   "execution_count": 17,
   "metadata": {
    "collapsed": true
   },
   "outputs": [],
   "source": [
    "#data_Y = np.random.normal(loc = 1, scale = 1, size = (10000))\n",
    "data_Y = np.multiply(data_X, data_X)\n",
    "#data_Y = np.expand_dims(data_Y, axis = 1)"
   ]
  },
  {
   "cell_type": "code",
   "execution_count": 18,
   "metadata": {
    "collapsed": false
   },
   "outputs": [
    {
     "data": {
      "image/png": "[encoded data removed]",
      "text/plain": [
       "<Figure size 432x288 with 1 Axes>"
      ]
     },
     "metadata": {},
     "output_type": "display_data"
    }
   ],
   "source": [
    "plt.scatter(data_X, data_Y)\n",
    "plt.show()"
   ]
  },
  {
   "cell_type": "code",
   "execution_count": 9,
   "metadata": {
    "collapsed": true
   },
   "outputs": [],
   "source": [
    "data_X_in = tf.placeholder(tf.float32, [None, 1], name = 'data_X_in')\n",
    "data_Y_in = tf.placeholder(tf.float32, [None, 1], name = 'data_Y_in')"
   ]
  },
  {
   "cell_type": "code",
   "execution_count": 10,
   "metadata": {
    "collapsed": false
   },
   "outputs": [],
   "source": [
    "EM_train_loss, EM_vars, EM_dist = WIE_loss(data_X_in, data_Y_in, name = \"WIE_loss\")"
   ]
  },
  {
   "cell_type": "code",
   "execution_count": 11,
   "metadata": {
    "collapsed": false
   },
   "outputs": [],
   "source": [
    "train_EM = tf.train.AdamOptimizer(learning_rate = 0.01, beta1 = 0.0, beta2 = 0.5).minimize(EM_train_loss, var_list = EM_vars)"
   ]
  },
  {
   "cell_type": "code",
   "execution_count": 12,
   "metadata": {
    "collapsed": true
   },
   "outputs": [],
   "source": [
    "EM_batches = 200"
   ]
  },
  {
   "cell_type": "code",
   "execution_count": 19,
   "metadata": {
    "collapsed": true
   },
   "outputs": [],
   "source": [
    "sess.run(tf.global_variables_initializer())"
   ]
  },
  {
   "cell_type": "code",
   "execution_count": 20,
   "metadata": {
    "collapsed": false
   },
   "outputs": [
    {
     "name": "stdout",
     "output_type": "stream",
     "text": [
      "EM_dist = [0.02572155]\n",
      "EM_dist = [0.0206809]\n",
      "EM_dist = [0.01873636]\n",
      "EM_dist = [0.04511046]\n",
      "EM_dist = [0.0663234]\n",
      "EM_dist = [0.1382556]\n",
      "EM_dist = [0.16799939]\n",
      "EM_dist = [0.17942631]\n",
      "EM_dist = [0.21425366]\n",
      "EM_dist = [0.2874416]\n",
      "EM_dist = [0.2305218]\n",
      "EM_dist = [0.35762966]\n",
      "EM_dist = [0.26632226]\n",
      "EM_dist = [0.36905766]\n",
      "EM_dist = [0.31594765]\n",
      "EM_dist = [0.29568756]\n",
      "EM_dist = [0.38188577]\n",
      "EM_dist = [0.381747]\n",
      "EM_dist = [0.40876126]\n",
      "EM_dist = [0.37738323]\n",
      "EM_dist = [0.44943643]\n",
      "EM_dist = [0.4135357]\n",
      "EM_dist = [0.48209953]\n",
      "EM_dist = [0.4777434]\n",
      "EM_dist = [0.51805544]\n",
      "EM_dist = [0.48364043]\n",
      "EM_dist = [0.56009793]\n",
      "EM_dist = [0.540444]\n",
      "EM_dist = [0.57006335]\n",
      "EM_dist = [0.54672766]\n",
      "EM_dist = [0.6198642]\n",
      "EM_dist = [0.6124518]\n",
      "EM_dist = [0.61051846]\n",
      "EM_dist = [0.64319277]\n",
      "EM_dist = [0.62619376]\n",
      "EM_dist = [0.6157663]\n",
      "EM_dist = [0.68179417]\n",
      "EM_dist = [0.6419823]\n",
      "EM_dist = [0.6656003]\n",
      "EM_dist = [0.6739335]\n",
      "EM_dist = [0.6711676]\n",
      "EM_dist = [0.66255784]\n",
      "EM_dist = [0.67593646]\n",
      "EM_dist = [0.68525124]\n",
      "EM_dist = [0.68496704]\n",
      "EM_dist = [0.62378144]\n",
      "EM_dist = [0.7415881]\n",
      "EM_dist = [0.61861944]\n",
      "EM_dist = [0.78990936]\n",
      "EM_dist = [0.55173945]\n",
      "EM_dist = [0.77059865]\n",
      "EM_dist = [0.59766054]\n",
      "EM_dist = [0.742085]\n",
      "EM_dist = [0.6300466]\n",
      "EM_dist = [0.8058202]\n",
      "EM_dist = [0.5666158]\n",
      "EM_dist = [0.7654071]\n",
      "EM_dist = [0.6262574]\n",
      "EM_dist = [0.7837703]\n",
      "EM_dist = [0.59537745]\n",
      "EM_dist = [0.7950988]\n",
      "EM_dist = [0.6309519]\n",
      "EM_dist = [0.7650683]\n",
      "EM_dist = [0.66644573]\n",
      "EM_dist = [0.69917727]\n",
      "EM_dist = [0.7051916]\n",
      "EM_dist = [0.69861865]\n",
      "EM_dist = [0.7190852]\n",
      "EM_dist = [0.7111795]\n",
      "EM_dist = [0.6829674]\n",
      "EM_dist = [0.7594397]\n",
      "EM_dist = [0.67770433]\n",
      "EM_dist = [0.77027273]\n",
      "EM_dist = [0.69542885]\n",
      "EM_dist = [0.6756685]\n",
      "EM_dist = [0.7628026]\n",
      "EM_dist = [0.67346144]\n",
      "EM_dist = [0.76327896]\n",
      "EM_dist = [0.6594138]\n",
      "EM_dist = [0.8377991]\n",
      "EM_dist = [0.57716465]\n",
      "EM_dist = [0.79162836]\n",
      "EM_dist = [0.69088554]\n",
      "EM_dist = [0.7692375]\n",
      "EM_dist = [0.7358179]\n",
      "EM_dist = [0.69731975]\n",
      "EM_dist = [0.7715392]\n",
      "EM_dist = [0.6777873]\n",
      "EM_dist = [0.81291914]\n",
      "EM_dist = [0.58649063]\n",
      "EM_dist = [0.8232384]\n",
      "EM_dist = [0.646466]\n",
      "EM_dist = [0.8195996]\n",
      "EM_dist = [0.6246908]\n",
      "EM_dist = [0.8367653]\n",
      "EM_dist = [0.63256645]\n",
      "EM_dist = [0.8223834]\n",
      "EM_dist = [0.64251995]\n",
      "EM_dist = [0.82753134]\n",
      "EM_dist = [0.63777685]\n",
      "EM_dist = [0.8253093]\n",
      "EM_dist = [0.65219307]\n",
      "EM_dist = [0.8245349]\n",
      "EM_dist = [0.64463425]\n",
      "EM_dist = [0.83385944]\n",
      "EM_dist = [0.6480489]\n",
      "EM_dist = [0.82535744]\n",
      "EM_dist = [0.64649916]\n",
      "EM_dist = [0.840518]\n",
      "EM_dist = [0.65146923]\n",
      "EM_dist = [0.8289666]\n",
      "EM_dist = [0.6532755]\n",
      "EM_dist = [0.8252039]\n",
      "EM_dist = [0.6544485]\n",
      "EM_dist = [0.8353586]\n",
      "EM_dist = [0.6605716]\n",
      "EM_dist = [0.8211818]\n",
      "EM_dist = [0.64718485]\n",
      "EM_dist = [0.8500552]\n",
      "EM_dist = [0.642354]\n",
      "EM_dist = [0.8381362]\n",
      "EM_dist = [0.6528549]\n",
      "EM_dist = [0.8344388]\n",
      "EM_dist = [0.6799698]\n",
      "EM_dist = [0.82575655]\n",
      "EM_dist = [0.63687515]\n",
      "EM_dist = [0.84907484]\n",
      "EM_dist = [0.6552]\n",
      "EM_dist = [0.8051138]\n",
      "EM_dist = [0.6646967]\n",
      "EM_dist = [0.81731176]\n",
      "EM_dist = [0.6955085]\n",
      "EM_dist = [0.82045555]\n",
      "EM_dist = [0.6333227]\n",
      "EM_dist = [0.8374138]\n",
      "EM_dist = [0.65592766]\n",
      "EM_dist = [0.82273006]\n",
      "EM_dist = [0.67383575]\n",
      "EM_dist = [0.83448267]\n",
      "EM_dist = [0.6828761]\n",
      "EM_dist = [0.84174633]\n",
      "EM_dist = [0.64429235]\n",
      "EM_dist = [0.82959795]\n",
      "EM_dist = [0.66494465]\n",
      "EM_dist = [0.8244543]\n",
      "EM_dist = [0.65642834]\n",
      "EM_dist = [0.83696985]\n",
      "EM_dist = [0.6836376]\n",
      "EM_dist = [0.8536434]\n",
      "EM_dist = [0.6556475]\n",
      "EM_dist = [0.8335147]\n",
      "EM_dist = [0.65722895]\n",
      "EM_dist = [0.85737133]\n",
      "EM_dist = [0.671005]\n",
      "EM_dist = [0.84149027]\n",
      "EM_dist = [0.65984654]\n",
      "EM_dist = [0.85062695]\n",
      "EM_dist = [0.6631758]\n",
      "EM_dist = [0.8347702]\n",
      "EM_dist = [0.653631]\n",
      "EM_dist = [0.84855413]\n",
      "EM_dist = [0.6608629]\n",
      "EM_dist = [0.8496547]\n",
      "EM_dist = [0.66146684]\n",
      "EM_dist = [0.84195423]\n",
      "EM_dist = [0.66607046]\n",
      "EM_dist = [0.8480005]\n",
      "EM_dist = [0.6516311]\n",
      "EM_dist = [0.827301]\n",
      "EM_dist = [0.69565153]\n",
      "EM_dist = [0.8314891]\n",
      "EM_dist = [0.65841985]\n",
      "EM_dist = [0.8620014]\n",
      "EM_dist = [0.6577618]\n",
      "EM_dist = [0.82745075]\n",
      "EM_dist = [0.6696024]\n",
      "EM_dist = [0.8489518]\n",
      "EM_dist = [0.67513657]\n",
      "EM_dist = [0.82920456]\n",
      "EM_dist = [0.6625776]\n",
      "EM_dist = [0.8454809]\n",
      "EM_dist = [0.6638458]\n",
      "EM_dist = [0.82488537]\n",
      "EM_dist = [0.6586423]\n",
      "EM_dist = [0.83048344]\n",
      "EM_dist = [0.6766939]\n",
      "EM_dist = [0.84990835]\n",
      "EM_dist = [0.6647308]\n",
      "EM_dist = [0.83754826]\n",
      "EM_dist = [0.67493725]\n",
      "EM_dist = [0.8243604]\n",
      "EM_dist = [0.67470646]\n",
      "EM_dist = [0.8502426]\n",
      "EM_dist = [0.66345406]\n",
      "EM_dist = [0.82987833]\n",
      "EM_dist = [0.6921458]\n",
      "EM_dist = [0.8473263]\n",
      "EM_dist = [0.68931055]\n",
      "EM_dist = [0.8062639]\n",
      "EM_dist = [0.68474054]\n"
     ]
    }
   ],
   "source": [
    "for batch in range(EM_batches):\n",
    "    sess.run(train_EM, feed_dict = {data_X_in: data_X, data_Y_in: data_Y})\n",
    "    EM_dist_val = sess.run(EM_dist, feed_dict = {data_X_in: data_X, data_Y_in: data_Y})\n",
    "    \n",
    "    print(\"EM_dist = {}\".format(EM_dist_val))"
   ]
  },
  {
   "cell_type": "code",
   "execution_count": null,
   "metadata": {
    "collapsed": true
   },
   "outputs": [],
   "source": []
  }
 ],
 "metadata": {
  "kernelspec": {
   "display_name": "Python 3",
   "language": "python",
   "name": "python3"
  },
  "language_info": {
   "codemirror_mode": {
    "name": "ipython",
    "version": 3
   },
   "file_extension": ".py",
   "mimetype": "text/x-python",
   "name": "python",
   "nbconvert_exporter": "python",
   "pygments_lexer": "ipython3",
   "version": "3.5.3"
  }
 },
 "nbformat": 4,
 "nbformat_minor": 2
}
