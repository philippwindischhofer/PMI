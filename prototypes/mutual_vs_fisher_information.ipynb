{
 "cells": [
  {
   "cell_type": "code",
   "execution_count": 3,
   "metadata": {
    "collapsed": false
   },
   "outputs": [],
   "source": [
    "import mutual_info"
   ]
  },
  {
   "cell_type": "code",
   "execution_count": 67,
   "metadata": {
    "collapsed": false
   },
   "outputs": [],
   "source": [
    "import numpy as np\n",
    "import matplotlib.pyplot as plt"
   ]
  },
  {
   "cell_type": "code",
   "execution_count": 143,
   "metadata": {
    "collapsed": true
   },
   "outputs": [],
   "source": [
    "def MLE_mutual_inf(sigma, theta_0):\n",
    "    theta_h = []\n",
    "\n",
    "    for cur in theta_0:\n",
    "        theta_h.append(np.random.normal(loc = cur, scale = sigma, size = 1))\n",
    "\n",
    "    theta_h = np.array(theta_h)\n",
    "    theta_0 = np.expand_dims(np.array(theta_0), axis = 1)\n",
    "    \n",
    "    # mutual information: amount of information obtained about one random variable through the observation of the other\n",
    "    return mutual_info.mutual_information((theta_0, theta_h), k = 10)"
   ]
  },
  {
   "cell_type": "code",
   "execution_count": 154,
   "metadata": {
    "collapsed": true
   },
   "outputs": [],
   "source": [
    "fisherinf = np.logspace(1, 2, 100)"
   ]
  },
  {
   "cell_type": "code",
   "execution_count": 155,
   "metadata": {
    "collapsed": false
   },
   "outputs": [],
   "source": [
    "theta_0_normal = np.random.normal(loc = 0, scale = 1, size = 10000)\n",
    "mutinf_normal = [MLE_mutual_inf(1 / np.sqrt(cur_fisherinf), theta_0_normal) for cur_fisherinf in fisherinf]    "
   ]
  },
  {
   "cell_type": "code",
   "execution_count": 157,
   "metadata": {
    "collapsed": true
   },
   "outputs": [],
   "source": [
    "theta_0_uniform = np.random.uniform(low = -2, high = 2, size = 10000)\n",
    "mutinf_uniform = [MLE_mutual_inf(1 / np.sqrt(cur_fisherinf), theta_0_uniform) for cur_fisherinf in fisherinf]  "
   ]
  },
  {
   "cell_type": "code",
   "execution_count": 159,
   "metadata": {
    "collapsed": false
   },
   "outputs": [
    {
     "data": {
      "image/png": "[encoded data removed]",
      "text/plain": [
       "<Figure size 432x288 with 1 Axes>"
      ]
     },
     "metadata": {},
     "output_type": "display_data"
    }
   ],
   "source": [
    "plt.scatter(np.log(fisherinf), mutinf_uniform, color = \"black\", marker = '.')\n",
    "plt.xlabel(\"log(Fisher information)\")\n",
    "plt.ylabel(\"mutual information\")\n",
    "plt.show()"
   ]
  },
  {
   "cell_type": "code",
   "execution_count": 160,
   "metadata": {
    "collapsed": false
   },
   "outputs": [],
   "source": [
    "plt.scatter(np.log(fisherinf), mutinf_normal, color = \"black\", marker = '.')\n",
    "plt.xlabel(\"log(Fisher information)\")\n",
    "plt.ylabel(\"mutual information\")\n",
    "plt.savefig(\"log.png\")\n",
    "#plt.show()"
   ]
  },
  {
   "cell_type": "code",
   "execution_count": null,
   "metadata": {
    "collapsed": true
   },
   "outputs": [],
   "source": []
  }
 ],
 "metadata": {
  "kernelspec": {
   "display_name": "Python 3",
   "language": "python",
   "name": "python3"
  },
  "language_info": {
   "codemirror_mode": {
    "name": "ipython",
    "version": 3
   },
   "file_extension": ".py",
   "mimetype": "text/x-python",
   "name": "python",
   "nbconvert_exporter": "python",
   "pygments_lexer": "ipython3",
   "version": "3.5.3"
  }
 },
 "nbformat": 4,
 "nbformat_minor": 2
}
