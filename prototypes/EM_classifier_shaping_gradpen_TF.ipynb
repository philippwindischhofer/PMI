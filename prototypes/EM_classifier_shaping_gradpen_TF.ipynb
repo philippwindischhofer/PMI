{
 "cells": [
  {
   "cell_type": "code",
   "execution_count": 1,
   "metadata": {
    "collapsed": true
   },
   "outputs": [],
   "source": [
    "import numpy as np\n",
    "import matplotlib.pyplot as plt\n",
    "import copy\n",
    "from matplotlib.mlab import griddata"
   ]
  },
  {
   "cell_type": "code",
   "execution_count": 2,
   "metadata": {
    "collapsed": false
   },
   "outputs": [],
   "source": [
    "import tensorflow as tf"
   ]
  },
  {
   "cell_type": "code",
   "execution_count": 3,
   "metadata": {
    "collapsed": true
   },
   "outputs": [],
   "source": [
    "import tensorflow.contrib.layers as layers\n",
    "import tensorflow.contrib.distributions as ds"
   ]
  },
  {
   "cell_type": "code",
   "execution_count": 4,
   "metadata": {
    "collapsed": false
   },
   "outputs": [],
   "source": [
    "config = tf.ConfigProto(intra_op_parallelism_threads=8, inter_op_parallelism_threads=8, \\\n",
    "                        allow_soft_placement=True, device_count = {'CPU': 8})\n",
    "sess = tf.InteractiveSession(config = config)"
   ]
  },
  {
   "cell_type": "code",
   "execution_count": 5,
   "metadata": {
    "collapsed": true
   },
   "outputs": [],
   "source": [
    "def prepare_data(n_samples):\n",
    "    data = []\n",
    "    labels = []\n",
    "    nuisances = []\n",
    "    \n",
    "    for i in range(n_samples):\n",
    "        sig_bkg = np.random.uniform(low = 0.0, high = 1.0, size = 1)\n",
    "        if sig_bkg > 0.5:\n",
    "            nuisance = np.random.uniform(low = 0.0, high = 2.0, size = 1)\n",
    "            data.append(np.random.multivariate_normal(mean = [0.0, nuisance], cov = np.array([[1, -0.5], [-0.5, 1]]), size = 1).flatten())\n",
    "            labels.append(1.0)\n",
    "        else:\n",
    "            nuisance = np.random.uniform(low = 0.0, high = 2.0, size = 1)\n",
    "            data.append(np.random.multivariate_normal(mean = [1.0, nuisance], cov = np.eye(2), size = 1).flatten())\n",
    "            labels.append(0.0)\n",
    "            \n",
    "        nuisances.append(nuisance)\n",
    "    data = np.array(data)\n",
    "    labels = np.array(labels)\n",
    "    nuisances = np.array(nuisances)\n",
    "    \n",
    "    return data, labels, nuisances.flatten()"
   ]
  },
  {
   "cell_type": "code",
   "execution_count": 6,
   "metadata": {
    "collapsed": false
   },
   "outputs": [],
   "source": [
    "num_samples = 100000\n",
    "data_train, labels_train, nuisances_train = prepare_data(num_samples)\n",
    "nuisances_train = np.expand_dims(nuisances_train, axis = 1)"
   ]
  },
  {
   "cell_type": "code",
   "execution_count": 7,
   "metadata": {
    "collapsed": true
   },
   "outputs": [],
   "source": [
    "data_in = tf.placeholder(tf.float32, [None, 2], name = 'data_in')\n",
    "nuisances_in = tf.placeholder(tf.float32, [None, 1], name = 'nuisances_in')\n",
    "labels_in = tf.placeholder(tf.int32, [None, ], name = 'labels_in')\n",
    "noise_in = tf.placeholder(tf.float32, [None, 2], name = 'noise_in')"
   ]
  },
  {
   "cell_type": "code",
   "execution_count": 8,
   "metadata": {
    "collapsed": true
   },
   "outputs": [],
   "source": [
    "def classifier(classifier_input, random_input):\n",
    "    with tf.variable_scope(\"classifier\"):\n",
    "        #lay = tf.concat([classifier_input, random_input], axis = 1)\n",
    "        lay = layers.relu(random_input, 50)\n",
    "        lay = layers.relu(lay, 50)\n",
    "        lay = layers.relu(lay, 20)\n",
    "        lay = layers.relu(lay, 2)\n",
    "        outputs = layers.softmax(lay)\n",
    "        \n",
    "    these_vars = tf.get_collection(tf.GraphKeys.GLOBAL_VARIABLES, scope = \"classifier\")\n",
    "\n",
    "    return outputs, these_vars"
   ]
  },
  {
   "cell_type": "code",
   "execution_count": 9,
   "metadata": {
    "collapsed": true
   },
   "outputs": [],
   "source": [
    "def EM_network(data, name, reuse = tf.AUTO_REUSE):\n",
    "    with tf.variable_scope(name, reuse = reuse):       \n",
    "        lay = layers.relu(data, 40)\n",
    "        lay = layers.relu(lay, 40)\n",
    "        lay = layers.relu(lay, 20)\n",
    "        outputs = layers.linear(lay, 1)\n",
    "        \n",
    "    these_vars = tf.get_collection(tf.GraphKeys.GLOBAL_VARIABLES, scope = name)\n",
    "    \n",
    "    return outputs, these_vars"
   ]
  },
  {
   "cell_type": "code",
   "execution_count": 10,
   "metadata": {
    "collapsed": true
   },
   "outputs": [],
   "source": [
    "def EM_loss(data_P, data_Q, name):\n",
    "    local_EM_network_name = name + \"_EM_net\"\n",
    "    \n",
    "    T_P, EM_vars = EM_network(data_P, name = local_EM_network_name)\n",
    "    T_Q, _ = EM_network(data_Q, name = local_EM_network_name)\n",
    "\n",
    "    EM_loss = tf.reduce_mean(T_P, axis = 0) - tf.reduce_mean(T_Q, axis = 0)\n",
    "    \n",
    "    batch_size_dyn = tf.cast(tf.shape(T_P)[0], tf.int32)\n",
    "    rand = tf.random.uniform(shape = (batch_size_dyn, 1), minval = 0.0, maxval = 1.0)\n",
    "    \n",
    "    # add gradient penalty\n",
    "    x_grad = tf.math.add(tf.math.multiply(rand, data_P),\n",
    "                         tf.math.multiply(tf.math.subtract(1.0, rand), data_Q))\n",
    "    x_grad_EM, _ = EM_network(x_grad, name = local_EM_network_name)\n",
    "    grad = tf.gradients(x_grad_EM, x_grad)[0]\n",
    "    \n",
    "    grad_pen = tf.reduce_mean(tf.square(tf.math.abs(grad) - 1.0), axis = 0)[0]\n",
    "\n",
    "    EM_loss_grad_pen = EM_loss[0] + 10 * grad_pen\n",
    "\n",
    "    return EM_loss_grad_pen, EM_vars, EM_loss"
   ]
  },
  {
   "cell_type": "code",
   "execution_count": 11,
   "metadata": {
    "collapsed": true
   },
   "outputs": [],
   "source": [
    "with tf.variable_scope('model_params'):\n",
    "    low = tf.Variable(0.3, 'low')\n",
    "    high = tf.Variable(0.03, 'high')\n",
    "\n",
    "model_vars = tf.get_collection(tf.GraphKeys.GLOBAL_VARIABLES, scope = 'model_params')"
   ]
  },
  {
   "cell_type": "code",
   "execution_count": 12,
   "metadata": {
    "collapsed": false
   },
   "outputs": [],
   "source": [
    "classifier_output, classifier_vars = classifier(data_in, noise_in)"
   ]
  },
  {
   "cell_type": "code",
   "execution_count": 13,
   "metadata": {
    "collapsed": false
   },
   "outputs": [],
   "source": [
    "classifier_output_expanded = tf.expand_dims(classifier_output[:,0], axis = 1)"
   ]
  },
  {
   "cell_type": "code",
   "execution_count": 14,
   "metadata": {
    "collapsed": false
   },
   "outputs": [],
   "source": [
    "bkg_indices = tf.where(tf.math.less(labels_in, 1))"
   ]
  },
  {
   "cell_type": "code",
   "execution_count": 15,
   "metadata": {
    "collapsed": true
   },
   "outputs": [],
   "source": [
    "classifier_bkg_input_samples = tf.gather_nd(data_in, bkg_indices)"
   ]
  },
  {
   "cell_type": "code",
   "execution_count": 16,
   "metadata": {
    "collapsed": true
   },
   "outputs": [],
   "source": [
    "classifier_bkg_samples = tf.gather_nd(classifier_output_expanded, bkg_indices)"
   ]
  },
  {
   "cell_type": "code",
   "execution_count": 17,
   "metadata": {
    "collapsed": false
   },
   "outputs": [],
   "source": [
    "model = ds.Normal(loc = low, scale = high)"
   ]
  },
  {
   "cell_type": "code",
   "execution_count": 18,
   "metadata": {
    "collapsed": false
   },
   "outputs": [],
   "source": [
    "#batch_size_dyn = tf.cast(tf.shape(classifier_bkg_samples)[0], tf.int32)\n",
    "samples_model = model.sample((5000, 1))"
   ]
  },
  {
   "cell_type": "code",
   "execution_count": 19,
   "metadata": {
    "collapsed": false
   },
   "outputs": [],
   "source": [
    "EM_lossval, EM_vars, critic = EM_loss(samples_model, classifier_output_expanded, 'EM_loss')"
   ]
  },
  {
   "cell_type": "code",
   "execution_count": 20,
   "metadata": {
    "collapsed": false
   },
   "outputs": [],
   "source": [
    "labels_one_hot = tf.one_hot(labels_in, depth = 2)"
   ]
  },
  {
   "cell_type": "code",
   "execution_count": 21,
   "metadata": {
    "collapsed": false
   },
   "outputs": [],
   "source": [
    "classification_loss = tf.losses.softmax_cross_entropy(onehot_labels = labels_one_hot, logits = classifier_output)"
   ]
  },
  {
   "cell_type": "code",
   "execution_count": 22,
   "metadata": {
    "collapsed": true
   },
   "outputs": [],
   "source": [
    "EM_regularized_loss = 10 * tf.math.square(critic) #classification_loss"
   ]
  },
  {
   "cell_type": "code",
   "execution_count": 23,
   "metadata": {
    "collapsed": false
   },
   "outputs": [],
   "source": [
    "train_regularized_classifier = tf.train.AdamOptimizer(learning_rate = 0.005, beta1 = 0.0, beta2 = 0.9).minimize(EM_regularized_loss, var_list = classifier_vars)"
   ]
  },
  {
   "cell_type": "code",
   "execution_count": 1,
   "metadata": {
    "collapsed": false
   },
   "outputs": [
    {
     "ename": "NameError",
     "evalue": "name 'tf' is not defined",
     "output_type": "error",
     "traceback": [
      "\u001b[0;31m---------------------------------------------------------------------------\u001b[0m",
      "\u001b[0;31mNameError\u001b[0m                                 Traceback (most recent call last)",
      "\u001b[0;32m<ipython-input-1-fb72b8647a46>\u001b[0m in \u001b[0;36m<module>\u001b[0;34m()\u001b[0m\n\u001b[0;32m----> 1\u001b[0;31m \u001b[0mtrain_EM\u001b[0m \u001b[0;34m=\u001b[0m \u001b[0mtf\u001b[0m\u001b[0;34m.\u001b[0m\u001b[0mtrain\u001b[0m\u001b[0;34m.\u001b[0m\u001b[0mAdamOptimizer\u001b[0m\u001b[0;34m(\u001b[0m\u001b[0mlearning_rate\u001b[0m \u001b[0;34m=\u001b[0m \u001b[0;36m0.01\u001b[0m\u001b[0;34m,\u001b[0m \u001b[0mbeta1\u001b[0m \u001b[0;34m=\u001b[0m \u001b[0;36m0.0\u001b[0m\u001b[0;34m,\u001b[0m \u001b[0mbeta2\u001b[0m \u001b[0;34m=\u001b[0m \u001b[0;36m0.5\u001b[0m\u001b[0;34m)\u001b[0m\u001b[0;34m.\u001b[0m\u001b[0mminimize\u001b[0m\u001b[0;34m(\u001b[0m\u001b[0mEM_lossval\u001b[0m\u001b[0;34m,\u001b[0m \u001b[0mvar_list\u001b[0m \u001b[0;34m=\u001b[0m \u001b[0mEM_vars\u001b[0m\u001b[0;34m)\u001b[0m\u001b[0;34m\u001b[0m\u001b[0m\n\u001b[0m",
      "\u001b[0;31mNameError\u001b[0m: name 'tf' is not defined"
     ]
    }
   ],
   "source": [
    "train_EM = tf.train.AdamOptimizer(learning_rate = 0.005, beta1 = 0.9, beta2 = 0.999).minimize(EM_lossval, var_list = EM_vars)"
   ]
  },
  {
   "cell_type": "code",
   "execution_count": 25,
   "metadata": {
    "collapsed": true
   },
   "outputs": [],
   "source": [
    "# combined training\n",
    "classification_loss_evolution = []\n",
    "MI_evolution = []\n",
    "number_batches = 200\n",
    "MINE_batches = 300"
   ]
  },
  {
   "cell_type": "code",
   "execution_count": 26,
   "metadata": {
    "collapsed": true
   },
   "outputs": [],
   "source": [
    "number_epochs = 10"
   ]
  },
  {
   "cell_type": "code",
   "execution_count": 27,
   "metadata": {
    "collapsed": false
   },
   "outputs": [],
   "source": [
    "sess.run(tf.global_variables_initializer())"
   ]
  },
  {
   "cell_type": "code",
   "execution_count": 28,
   "metadata": {
    "collapsed": true
   },
   "outputs": [],
   "source": [
    "train_bkg = labels_train == 0\n",
    "bkg_data_train = data_train[train_bkg]\n",
    "bkg_labels_train = labels_train[train_bkg]"
   ]
  },
  {
   "cell_type": "code",
   "execution_count": 29,
   "metadata": {
    "collapsed": true
   },
   "outputs": [],
   "source": [
    "train_sig = labels_train == 1\n",
    "sig_data_train = data_train[train_sig]\n",
    "sig_labels_train = labels_train[train_sig]"
   ]
  },
  {
   "cell_type": "code",
   "execution_count": 88,
   "metadata": {
    "collapsed": true
   },
   "outputs": [],
   "source": [
    "init_EM = tf.variables_initializer(var_list = EM_vars)"
   ]
  },
  {
   "cell_type": "code",
   "execution_count": 115,
   "metadata": {
    "collapsed": true
   },
   "outputs": [],
   "source": [
    "sess.run(init_EM)"
   ]
  },
  {
   "cell_type": "code",
   "execution_count": 116,
   "metadata": {
    "collapsed": false
   },
   "outputs": [
    {
     "name": "stdout",
     "output_type": "stream",
     "text": [
      "EM = [0.01991475]\n",
      "EM = [0.02873889]\n",
      "EM = [0.02897778]\n",
      "EM = [0.02995726]\n",
      "EM = [0.03145203]\n",
      "EM = [0.02846572]\n",
      "EM = [0.02944851]\n",
      "EM = [0.02947399]\n",
      "EM = [0.02930182]\n",
      "EM = [0.02982208]\n"
     ]
    }
   ],
   "source": [
    "# pre-train EM\n",
    "for batch in range(2000):\n",
    "    inds = np.random.choice(len(bkg_data_train), 5000)\n",
    "    bkg_batch_data = bkg_data_train[inds]\n",
    "    bkg_batch_labels = bkg_labels_train[inds]\n",
    "    noise_batch = np.random.uniform(low = 0.0, high = 1.0, size = (5000, 2))\n",
    "    \n",
    "    #a_cur, b_cur = sess.run([classifier_bkg_samples, samples_model], feed_dict = {data_in: bkg_batch_data, labels_in: bkg_batch_labels})\n",
    "    #a.append(a_cur)\n",
    "    #b.append(b_cur)\n",
    "    \n",
    "    sess.run([train_EM], feed_dict = {data_in: bkg_batch_data, labels_in: bkg_batch_labels, noise_in: noise_batch})\n",
    "    \n",
    "    if not batch % 200:\n",
    "        cur_EM = sess.run(critic, feed_dict = {data_in: bkg_batch_data, labels_in: bkg_batch_labels, noise_in: noise_batch})\n",
    "        print(\"EM = {}\".format(cur_EM))"
   ]
  },
  {
   "cell_type": "code",
   "execution_count": 31,
   "metadata": {
    "collapsed": false
   },
   "outputs": [
    {
     "name": "stdout",
     "output_type": "stream",
     "text": [
      "critic after pre-training = [-0.20149115]\n"
     ]
    }
   ],
   "source": [
    "cur_EM = sess.run(critic, feed_dict = {data_in: bkg_batch_data, labels_in: bkg_batch_labels, noise_in: noise_batch})\n",
    "print(\"critic after pre-training = {}\".format(cur_EM))"
   ]
  },
  {
   "cell_type": "code",
   "execution_count": 125,
   "metadata": {
    "collapsed": false
   },
   "outputs": [
    {
     "name": "stdout",
     "output_type": "stream",
     "text": [
      "epoch 0\n",
      "class_loss = 0.9265249967575073, critic = [-0.01098806], tot = [0.00088103]\n"
     ]
    }
   ],
   "source": [
    "for epoch in range(1):\n",
    "    print(\"epoch {}\".format(epoch))\n",
    "    \n",
    "    for batch in range(1):\n",
    "        \n",
    "        # update EM\n",
    "        for i in range(2000):\n",
    "            inds = np.random.choice(len(bkg_data_train), 5000)\n",
    "            bkg_batch_data = bkg_data_train[inds]\n",
    "            bkg_batch_labels = bkg_labels_train[inds]\n",
    "            noise_batch = np.random.uniform(low = 0.0, high = 1.0, size = (5000, 2))\n",
    "    \n",
    "            sess.run([train_EM], feed_dict = {data_in: bkg_batch_data, labels_in: bkg_batch_labels, noise_in: noise_batch})      \n",
    "    \n",
    "        # train regularized classifier on sig + bkg\n",
    "        inds_bkg = np.random.choice(len(bkg_data_train), 5000)\n",
    "        bkg_batch_data = bkg_data_train[inds_bkg]\n",
    "        bkg_batch_labels = bkg_labels_train[inds_bkg]\n",
    "        noise_batch = np.random.uniform(low = 0.0, high = 1.0, size = (5000, 2))\n",
    "\n",
    "        #inds_sig = np.random.choice(len(sig_data_train), 5000)\n",
    "        #sig_batch_data = sig_data_train[inds_sig]\n",
    "        #sig_batch_labels = sig_labels_train[inds_sig]\n",
    "\n",
    "        #data_batch = np.concatenate([sig_batch_data, bkg_batch_data])\n",
    "        #labels_batch = np.concatenate([sig_batch_labels, bkg_batch_labels])\n",
    "        \n",
    "        data_batch = bkg_batch_data\n",
    "        labels_batch = bkg_batch_labels\n",
    "        \n",
    "        #critic_val = sess.run(critic, feed_dict = {data_in: data_batch, labels_in: labels_batch})\n",
    "        #print(\"critic before training classifier = {}\".format(critic_val))\n",
    "        \n",
    "        sess.run(train_regularized_classifier, feed_dict = {data_in: data_batch, labels_in: labels_batch, noise_in: noise_batch})\n",
    "                \n",
    "        if not batch % 1:\n",
    "            critic_val = sess.run(critic, feed_dict = {data_in: data_batch, labels_in: labels_batch, noise_in: noise_batch})\n",
    "            class_loss = sess.run(classification_loss, feed_dict = {data_in: data_batch, labels_in: labels_batch, noise_in: noise_batch})\n",
    "            tot_loss = sess.run(EM_regularized_loss, feed_dict = {data_in: data_batch, labels_in: labels_batch, noise_in: noise_batch})\n",
    "            print(\"class_loss = {}, critic = {}, tot = {}\".format(class_loss, critic_val, tot_loss))"
   ]
  },
  {
   "cell_type": "code",
   "execution_count": 31,
   "metadata": {
    "collapsed": true
   },
   "outputs": [],
   "source": [
    "data_test = np.loadtxt(\"data_test.txt\")\n",
    "nuisances_test = np.loadtxt(\"nuisances_test.txt\")\n",
    "labels_test = np.loadtxt(\"labels_test.txt\")"
   ]
  },
  {
   "cell_type": "code",
   "execution_count": 107,
   "metadata": {
    "collapsed": false
   },
   "outputs": [],
   "source": [
    "sig = data_test[labels_test == 1]\n",
    "bkg = data_test[labels_test == 0]\n",
    "noise_sig = np.random.uniform(low = 0.0, high = 1.0, size = sig.shape)\n",
    "noise_bkg = np.random.uniform(low = 0.0, high = 1.0, size = bkg.shape)"
   ]
  },
  {
   "cell_type": "code",
   "execution_count": 126,
   "metadata": {
    "collapsed": false
   },
   "outputs": [],
   "source": [
    "pred_sig = sess.run(classifier_output, feed_dict = {data_in: sig, noise_in: noise_sig})\n",
    "pred_bkg = sess.run(classifier_output, feed_dict = {data_in: bkg, noise_in: noise_bkg})"
   ]
  },
  {
   "cell_type": "code",
   "execution_count": 127,
   "metadata": {
    "collapsed": true
   },
   "outputs": [],
   "source": [
    "target = [sess.run(samples_model) for i in range(10)]"
   ]
  },
  {
   "cell_type": "code",
   "execution_count": 128,
   "metadata": {
    "collapsed": false
   },
   "outputs": [
    {
     "data": {
      "image/png": "[encoded data removed]",
      "text/plain": [
       "<Figure size 432x288 with 1 Axes>"
      ]
     },
     "metadata": {},
     "output_type": "display_data"
    }
   ],
   "source": [
    "plt.hist([pred_sig[:,0], pred_bkg[:,0], target], label = ['sig', 'bkg', 'target bkg'], histtype = 'step', density = True, stacked = False, fill = False, bins = 50)\n",
    "plt.legend()\n",
    "plt.show()"
   ]
  },
  {
   "cell_type": "code",
   "execution_count": null,
   "metadata": {
    "collapsed": true
   },
   "outputs": [],
   "source": []
  }
 ],
 "metadata": {
  "kernelspec": {
   "display_name": "Python 3",
   "language": "python",
   "name": "python3"
  },
  "language_info": {
   "codemirror_mode": {
    "name": "ipython",
    "version": 3
   },
   "file_extension": ".py",
   "mimetype": "text/x-python",
   "name": "python",
   "nbconvert_exporter": "python",
   "pygments_lexer": "ipython3",
   "version": "3.5.3"
  }
 },
 "nbformat": 4,
 "nbformat_minor": 2
}
