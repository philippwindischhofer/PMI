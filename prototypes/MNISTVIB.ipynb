{
 "cells": [
  {
   "cell_type": "markdown",
   "metadata": {},
   "source": [
    "# MNIST VIB Example\n",
    "\n",
    "Here I demonstrate the Variational Information Bottleneck method on the MNIST dataset."
   ]
  },
  {
   "cell_type": "code",
   "execution_count": 1,
   "metadata": {
    "collapsed": true
   },
   "outputs": [],
   "source": [
    "import numpy as np\n",
    "import matplotlib.pyplot as plt\n",
    "%matplotlib inline\n",
    "import tensorflow as tf"
   ]
  },
  {
   "cell_type": "code",
   "execution_count": 4,
   "metadata": {
    "collapsed": false
   },
   "outputs": [],
   "source": [
    "tf.reset_default_graph()\n",
    "\n",
    "# Turn on xla optimization\n",
    "config = tf.ConfigProto()\n",
    "config.graph_options.optimizer_options.global_jit_level = tf.OptimizerOptions.ON_1\n",
    "sess = tf.InteractiveSession(config=config)"
   ]
  },
  {
   "cell_type": "code",
   "execution_count": 5,
   "metadata": {
    "collapsed": true
   },
   "outputs": [],
   "source": [
    "images = tf.placeholder(tf.float32, [None, 2], 'images')\n",
    "labels = tf.placeholder(tf.int64, [None], 'labels')\n",
    "one_hot_labels = tf.one_hot(labels, 2)"
   ]
  },
  {
   "cell_type": "code",
   "execution_count": 7,
   "metadata": {
    "collapsed": true
   },
   "outputs": [],
   "source": [
    "layers = tf.contrib.layers\n",
    "ds = tf.contrib.distributions\n",
    "\n",
    "def encoder(images):\n",
    "    net = layers.relu(2*images-1, 1024)\n",
    "    net = layers.relu(net, 1024)\n",
    "    params = layers.linear(net, 512)\n",
    "    mu, rho = params[:, :256], params[:, 256:]\n",
    "    encoding = ds.NormalWithSoftplusScale(mu, rho - 5.0)\n",
    "    return encoding\n",
    "\n",
    "\n",
    "def decoder(encoding_sample):\n",
    "    net = layers.linear(encoding_sample, 2)\n",
    "    return net\n",
    "\n",
    "prior = ds.Normal(0.0, 1.0)"
   ]
  },
  {
   "cell_type": "code",
   "execution_count": 8,
   "metadata": {
    "collapsed": true
   },
   "outputs": [],
   "source": [
    "import math\n",
    "\n",
    "with tf.variable_scope('encoder'):\n",
    "    encoding = encoder(images)\n",
    "    \n",
    "with tf.variable_scope('decoder'):\n",
    "    logits = decoder(encoding.sample())\n",
    "    \n",
    "with tf.variable_scope('decoder', reuse=True):\n",
    "    many_logits = decoder(encoding.sample(12))\n",
    "\n",
    "class_loss = tf.losses.softmax_cross_entropy(\n",
    "    logits=logits, onehot_labels=one_hot_labels) / math.log(2)\n",
    "\n",
    "BETA = 1e-3\n",
    "\n",
    "info_loss = tf.reduce_sum(tf.reduce_mean(\n",
    "    ds.kl_divergence(encoding, prior), 0)) / math.log(2)\n",
    "\n",
    "total_loss = class_loss + BETA * info_loss"
   ]
  },
  {
   "cell_type": "code",
   "execution_count": 9,
   "metadata": {
    "collapsed": true
   },
   "outputs": [],
   "source": [
    "accuracy = tf.reduce_mean(tf.cast(tf.equal(\n",
    "    tf.argmax(logits, 1), labels), tf.float32))\n",
    "avg_accuracy = tf.reduce_mean(tf.cast(tf.equal(\n",
    "    tf.argmax(tf.reduce_mean(tf.nn.softmax(many_logits), 0), 1), labels), tf.float32))\n",
    "IZY_bound = math.log(10, 2) - class_loss\n",
    "IZX_bound = info_loss "
   ]
  },
  {
   "cell_type": "code",
   "execution_count": 11,
   "metadata": {
    "collapsed": false
   },
   "outputs": [],
   "source": [
    "batch_size = 100\n",
    "steps_per_batch = 10"
   ]
  },
  {
   "cell_type": "code",
   "execution_count": 12,
   "metadata": {
    "collapsed": false
   },
   "outputs": [
    {
     "name": "stdout",
     "output_type": "stream",
     "text": [
      "WARNING:tensorflow:From <ipython-input-12-d5ea01812bfe>:1: get_or_create_global_step (from tensorflow.contrib.framework.python.ops.variables) is deprecated and will be removed in a future version.\n",
      "Instructions for updating:\n",
      "Please switch to tf.train.get_or_create_global_step\n"
     ]
    }
   ],
   "source": [
    "global_step = tf.contrib.framework.get_or_create_global_step()\n",
    "learning_rate = tf.train.exponential_decay(1e-4, global_step,\n",
    "                                           decay_steps=2*steps_per_batch,\n",
    "                                           decay_rate=0.97, staircase=True)\n",
    "opt = tf.train.AdamOptimizer(learning_rate, 0.5)\n",
    "\n",
    "ma = tf.train.ExponentialMovingAverage(0.999, zero_debias=True)\n",
    "ma_update = ma.apply(tf.model_variables())\n",
    "\n",
    "saver = tf.train.Saver()\n",
    "saver_polyak = tf.train.Saver(ma.variables_to_restore())\n",
    "\n",
    "train_tensor = tf.contrib.training.create_train_op(total_loss, opt,\n",
    "                                                   global_step,\n",
    "                                                   update_ops=[ma_update])"
   ]
  },
  {
   "cell_type": "code",
   "execution_count": 13,
   "metadata": {
    "collapsed": true
   },
   "outputs": [],
   "source": [
    "tf.global_variables_initializer().run()"
   ]
  },
  {
   "cell_type": "code",
   "execution_count": 17,
   "metadata": {
    "collapsed": true
   },
   "outputs": [],
   "source": [
    "def evaluate():\n",
    "    images_test, labels_test = prepare_data(1000)\n",
    "    IZY, IZX, acc, avg_acc = sess.run([IZY_bound, IZX_bound, accuracy, avg_accuracy],\n",
    "                             feed_dict={images: images_test, labels: labels_test})\n",
    "    return IZY, IZX, acc, avg_acc, 1-acc, 1-avg_acc"
   ]
  },
  {
   "cell_type": "code",
   "execution_count": 18,
   "metadata": {
    "collapsed": true
   },
   "outputs": [],
   "source": [
    "def prepare_data(n_samples):\n",
    "    data = []\n",
    "    labels = []\n",
    "    \n",
    "    for i in range(n_samples):\n",
    "        sig_bkg = np.random.uniform(low = 0.0, high = 1.0, size = 1)\n",
    "        if sig_bkg > 0.5:\n",
    "            data.append(np.random.multivariate_normal(mean = [0.0, 0.0], cov = np.array([[1, -0.5], [-0.5, 1]]), size = 1).flatten())\n",
    "            labels.append(1.0)\n",
    "        else:\n",
    "            #nuisance = np.random.uniform(low = 0.0, high = 2.0, size = 1)\n",
    "            nuisance = np.random.choice(3, 1)[0]\n",
    "            data.append(np.random.multivariate_normal(mean = [1.0, nuisance], cov = np.eye(2), size = 1).flatten())\n",
    "            labels.append(0.0)\n",
    "            \n",
    "    data = np.array(data)\n",
    "    labels = np.array(labels)\n",
    "    \n",
    "    return data, labels"
   ]
  },
  {
   "cell_type": "code",
   "execution_count": 19,
   "metadata": {
    "collapsed": false
   },
   "outputs": [
    {
     "name": "stdout",
     "output_type": "stream",
     "text": [
      "0: IZY=2.68\tIZX=1622.74\tacc=0.7990\tavg_acc=0.7990\terr=0.2010\tavg_err=0.2010\n",
      "1: IZY=2.64\tIZX=1589.42\tacc=0.7810\tavg_acc=0.7800\terr=0.2190\tavg_err=0.2200\n",
      "2: IZY=2.68\tIZX=1543.68\tacc=0.7940\tavg_acc=0.7930\terr=0.2060\tavg_err=0.2070\n",
      "3: IZY=2.67\tIZX=1469.87\tacc=0.7900\tavg_acc=0.7900\terr=0.2100\tavg_err=0.2100\n",
      "4: IZY=2.69\tIZX=1355.78\tacc=0.8030\tavg_acc=0.8020\terr=0.1970\tavg_err=0.1980\n",
      "5: IZY=2.69\tIZX=1209.48\tacc=0.7990\tavg_acc=0.7960\terr=0.2010\tavg_err=0.2040\n",
      "6: IZY=2.67\tIZX=1007.43\tacc=0.7980\tavg_acc=0.7980\terr=0.2020\tavg_err=0.2020\n",
      "7: IZY=2.63\tIZX=815.55\tacc=0.7620\tavg_acc=0.7670\terr=0.2380\tavg_err=0.2330\n",
      "8: IZY=2.61\tIZX=668.01\tacc=0.7730\tavg_acc=0.7870\terr=0.2270\tavg_err=0.2130\n",
      "9: IZY=2.62\tIZX=618.56\tacc=0.7710\tavg_acc=0.7850\terr=0.2290\tavg_err=0.2150\n",
      "10: IZY=2.58\tIZX=618.19\tacc=0.7700\tavg_acc=0.7840\terr=0.2300\tavg_err=0.2160\n",
      "11: IZY=2.62\tIZX=580.26\tacc=0.7880\tavg_acc=0.8050\terr=0.2120\tavg_err=0.1950\n",
      "12: IZY=2.54\tIZX=574.15\tacc=0.7540\tavg_acc=0.7690\terr=0.2460\tavg_err=0.2310\n",
      "13: IZY=2.62\tIZX=573.21\tacc=0.7700\tavg_acc=0.7860\terr=0.2300\tavg_err=0.2140\n",
      "14: IZY=2.61\tIZX=547.07\tacc=0.7830\tavg_acc=0.7860\terr=0.2170\tavg_err=0.2140\n",
      "15: IZY=2.59\tIZX=569.60\tacc=0.7830\tavg_acc=0.7900\terr=0.2170\tavg_err=0.2100\n",
      "16: IZY=2.62\tIZX=525.66\tacc=0.7920\tavg_acc=0.8080\terr=0.2080\tavg_err=0.1920\n",
      "17: IZY=2.59\tIZX=551.47\tacc=0.7400\tavg_acc=0.7600\terr=0.2600\tavg_err=0.2400\n",
      "18: IZY=2.57\tIZX=520.09\tacc=0.7620\tavg_acc=0.7780\terr=0.2380\tavg_err=0.2220\n",
      "19: IZY=2.61\tIZX=546.79\tacc=0.7780\tavg_acc=0.7950\terr=0.2220\tavg_err=0.2050\n",
      "20: IZY=2.54\tIZX=532.99\tacc=0.7640\tavg_acc=0.7670\terr=0.2360\tavg_err=0.2330\n",
      "21: IZY=2.65\tIZX=547.84\tacc=0.7890\tavg_acc=0.7980\terr=0.2110\tavg_err=0.2020\n",
      "22: IZY=2.62\tIZX=521.87\tacc=0.7920\tavg_acc=0.7990\terr=0.2080\tavg_err=0.2010\n",
      "23: IZY=2.57\tIZX=520.49\tacc=0.7540\tavg_acc=0.7680\terr=0.2460\tavg_err=0.2320\n",
      "24: IZY=2.64\tIZX=491.89\tacc=0.7770\tavg_acc=0.7850\terr=0.2230\tavg_err=0.2150\n",
      "25: IZY=2.63\tIZX=516.22\tacc=0.7670\tavg_acc=0.7770\terr=0.2330\tavg_err=0.2230\n",
      "26: IZY=2.65\tIZX=516.49\tacc=0.7860\tavg_acc=0.7840\terr=0.2140\tavg_err=0.2160\n",
      "27: IZY=2.63\tIZX=497.00\tacc=0.7890\tavg_acc=0.7960\terr=0.2110\tavg_err=0.2040\n",
      "28: IZY=2.57\tIZX=487.23\tacc=0.7790\tavg_acc=0.7880\terr=0.2210\tavg_err=0.2120\n",
      "29: IZY=2.59\tIZX=499.30\tacc=0.7750\tavg_acc=0.7760\terr=0.2250\tavg_err=0.2240\n",
      "30: IZY=2.67\tIZX=507.58\tacc=0.7870\tavg_acc=0.7950\terr=0.2130\tavg_err=0.2050\n",
      "31: IZY=2.61\tIZX=476.78\tacc=0.7840\tavg_acc=0.7930\terr=0.2160\tavg_err=0.2070\n",
      "32: IZY=2.58\tIZX=490.62\tacc=0.7620\tavg_acc=0.7830\terr=0.2380\tavg_err=0.2170\n",
      "33: IZY=2.62\tIZX=489.64\tacc=0.7680\tavg_acc=0.7720\terr=0.2320\tavg_err=0.2280\n",
      "34: IZY=2.57\tIZX=462.61\tacc=0.7500\tavg_acc=0.7740\terr=0.2500\tavg_err=0.2260\n",
      "35: IZY=2.64\tIZX=467.74\tacc=0.7740\tavg_acc=0.7910\terr=0.2260\tavg_err=0.2090\n",
      "36: IZY=2.61\tIZX=455.89\tacc=0.7630\tavg_acc=0.7750\terr=0.2370\tavg_err=0.2250\n",
      "37: IZY=2.55\tIZX=475.90\tacc=0.7600\tavg_acc=0.7630\terr=0.2400\tavg_err=0.2370\n",
      "38: IZY=2.61\tIZX=480.39\tacc=0.7800\tavg_acc=0.7950\terr=0.2200\tavg_err=0.2050\n",
      "39: IZY=2.58\tIZX=461.20\tacc=0.7570\tavg_acc=0.7770\terr=0.2430\tavg_err=0.2230\n",
      "40: IZY=2.57\tIZX=455.06\tacc=0.7680\tavg_acc=0.7720\terr=0.2320\tavg_err=0.2280\n",
      "41: IZY=2.64\tIZX=457.89\tacc=0.7890\tavg_acc=0.7960\terr=0.2110\tavg_err=0.2040\n",
      "42: IZY=2.61\tIZX=447.36\tacc=0.7860\tavg_acc=0.7970\terr=0.2140\tavg_err=0.2030\n",
      "43: IZY=2.61\tIZX=448.45\tacc=0.7750\tavg_acc=0.7820\terr=0.2250\tavg_err=0.2180\n",
      "44: IZY=2.61\tIZX=431.48\tacc=0.7850\tavg_acc=0.7910\terr=0.2150\tavg_err=0.2090\n",
      "45: IZY=2.59\tIZX=427.80\tacc=0.7550\tavg_acc=0.7760\terr=0.2450\tavg_err=0.2240\n",
      "46: IZY=2.61\tIZX=412.26\tacc=0.7660\tavg_acc=0.7750\terr=0.2340\tavg_err=0.2250\n",
      "47: IZY=2.62\tIZX=407.95\tacc=0.7710\tavg_acc=0.7950\terr=0.2290\tavg_err=0.2050\n",
      "48: IZY=2.61\tIZX=400.62\tacc=0.7760\tavg_acc=0.7860\terr=0.2240\tavg_err=0.2140\n",
      "49: IZY=2.57\tIZX=424.90\tacc=0.7570\tavg_acc=0.7730\terr=0.2430\tavg_err=0.2270\n",
      "50: IZY=2.56\tIZX=410.71\tacc=0.7710\tavg_acc=0.7740\terr=0.2290\tavg_err=0.2260\n",
      "51: IZY=2.58\tIZX=405.29\tacc=0.7500\tavg_acc=0.7650\terr=0.2500\tavg_err=0.2350\n",
      "52: IZY=2.59\tIZX=401.70\tacc=0.7830\tavg_acc=0.7980\terr=0.2170\tavg_err=0.2020\n",
      "53: IZY=2.60\tIZX=391.17\tacc=0.7770\tavg_acc=0.7890\terr=0.2230\tavg_err=0.2110\n",
      "54: IZY=2.66\tIZX=369.82\tacc=0.8090\tavg_acc=0.8170\terr=0.1910\tavg_err=0.1830\n",
      "55: IZY=2.58\tIZX=403.26\tacc=0.7610\tavg_acc=0.7770\terr=0.2390\tavg_err=0.2230\n",
      "56: IZY=2.61\tIZX=378.14\tacc=0.7690\tavg_acc=0.7850\terr=0.2310\tavg_err=0.2150\n",
      "57: IZY=2.65\tIZX=368.03\tacc=0.8000\tavg_acc=0.8080\terr=0.2000\tavg_err=0.1920\n",
      "58: IZY=2.62\tIZX=371.08\tacc=0.7850\tavg_acc=0.7980\terr=0.2150\tavg_err=0.2020\n",
      "59: IZY=2.59\tIZX=360.73\tacc=0.7570\tavg_acc=0.7730\terr=0.2430\tavg_err=0.2270\n",
      "60: IZY=2.57\tIZX=368.70\tacc=0.7590\tavg_acc=0.7680\terr=0.2410\tavg_err=0.2320\n",
      "61: IZY=2.61\tIZX=362.51\tacc=0.7690\tavg_acc=0.7890\terr=0.2310\tavg_err=0.2110\n",
      "62: IZY=2.65\tIZX=372.47\tacc=0.7860\tavg_acc=0.8000\terr=0.2140\tavg_err=0.2000\n",
      "63: IZY=2.67\tIZX=365.91\tacc=0.7850\tavg_acc=0.7930\terr=0.2150\tavg_err=0.2070\n",
      "64: IZY=2.67\tIZX=359.13\tacc=0.7810\tavg_acc=0.7990\terr=0.2190\tavg_err=0.2010\n",
      "65: IZY=2.64\tIZX=340.26\tacc=0.7760\tavg_acc=0.7920\terr=0.2240\tavg_err=0.2080\n",
      "66: IZY=2.59\tIZX=355.92\tacc=0.7480\tavg_acc=0.7640\terr=0.2520\tavg_err=0.2360\n",
      "67: IZY=2.56\tIZX=334.16\tacc=0.7450\tavg_acc=0.7670\terr=0.2550\tavg_err=0.2330\n",
      "68: IZY=2.63\tIZX=338.10\tacc=0.7630\tavg_acc=0.7810\terr=0.2370\tavg_err=0.2190\n",
      "69: IZY=2.59\tIZX=333.06\tacc=0.7740\tavg_acc=0.7910\terr=0.2260\tavg_err=0.2090\n",
      "70: IZY=2.62\tIZX=334.84\tacc=0.7740\tavg_acc=0.7840\terr=0.2260\tavg_err=0.2160\n",
      "71: IZY=2.67\tIZX=306.81\tacc=0.7960\tavg_acc=0.8050\terr=0.2040\tavg_err=0.1950\n",
      "72: IZY=2.60\tIZX=324.23\tacc=0.7690\tavg_acc=0.7960\terr=0.2310\tavg_err=0.2040\n",
      "73: IZY=2.64\tIZX=310.46\tacc=0.7870\tavg_acc=0.7890\terr=0.2130\tavg_err=0.2110\n",
      "74: IZY=2.60\tIZX=330.36\tacc=0.7740\tavg_acc=0.7990\terr=0.2260\tavg_err=0.2010\n",
      "75: IZY=2.57\tIZX=302.08\tacc=0.7670\tavg_acc=0.7780\terr=0.2330\tavg_err=0.2220\n",
      "76: IZY=2.64\tIZX=311.18\tacc=0.7860\tavg_acc=0.7880\terr=0.2140\tavg_err=0.2120\n",
      "77: IZY=2.58\tIZX=301.12\tacc=0.7750\tavg_acc=0.7740\terr=0.2250\tavg_err=0.2260\n",
      "78: IZY=2.60\tIZX=308.94\tacc=0.7620\tavg_acc=0.7660\terr=0.2380\tavg_err=0.2340\n",
      "79: IZY=2.54\tIZX=291.59\tacc=0.7590\tavg_acc=0.7600\terr=0.2410\tavg_err=0.2400\n",
      "80: IZY=2.62\tIZX=302.89\tacc=0.7760\tavg_acc=0.7990\terr=0.2240\tavg_err=0.2010\n",
      "81: IZY=2.60\tIZX=291.26\tacc=0.7770\tavg_acc=0.7900\terr=0.2230\tavg_err=0.2100\n",
      "82: IZY=2.60\tIZX=298.69\tacc=0.7600\tavg_acc=0.7780\terr=0.2400\tavg_err=0.2220\n",
      "83: IZY=2.61\tIZX=265.57\tacc=0.7700\tavg_acc=0.7880\terr=0.2300\tavg_err=0.2120\n",
      "84: IZY=2.64\tIZX=290.30\tacc=0.7820\tavg_acc=0.7960\terr=0.2180\tavg_err=0.2040\n",
      "85: IZY=2.61\tIZX=270.05\tacc=0.7720\tavg_acc=0.7870\terr=0.2280\tavg_err=0.2130\n",
      "86: IZY=2.60\tIZX=278.37\tacc=0.7760\tavg_acc=0.7860\terr=0.2240\tavg_err=0.2140\n",
      "87: IZY=2.60\tIZX=286.25\tacc=0.7590\tavg_acc=0.7720\terr=0.2410\tavg_err=0.2280\n",
      "88: IZY=2.60\tIZX=264.39\tacc=0.7600\tavg_acc=0.7760\terr=0.2400\tavg_err=0.2240\n",
      "89: IZY=2.59\tIZX=271.89\tacc=0.7800\tavg_acc=0.7810\terr=0.2200\tavg_err=0.2190\n",
      "90: IZY=2.63\tIZX=262.01\tacc=0.7770\tavg_acc=0.7830\terr=0.2230\tavg_err=0.2170\n",
      "91: IZY=2.62\tIZX=273.66\tacc=0.7620\tavg_acc=0.7810\terr=0.2380\tavg_err=0.2190\n",
      "92: IZY=2.56\tIZX=253.68\tacc=0.7490\tavg_acc=0.7680\terr=0.2510\tavg_err=0.2320\n",
      "93: IZY=2.64\tIZX=256.68\tacc=0.7870\tavg_acc=0.8000\terr=0.2130\tavg_err=0.2000\n",
      "94: IZY=2.62\tIZX=253.81\tacc=0.7670\tavg_acc=0.7860\terr=0.2330\tavg_err=0.2140\n",
      "95: IZY=2.56\tIZX=247.75\tacc=0.7560\tavg_acc=0.7650\terr=0.2440\tavg_err=0.2350\n",
      "96: IZY=2.63\tIZX=241.81\tacc=0.7740\tavg_acc=0.7900\terr=0.2260\tavg_err=0.2100\n",
      "97: IZY=2.63\tIZX=243.67\tacc=0.7920\tavg_acc=0.8010\terr=0.2080\tavg_err=0.1990\n",
      "98: IZY=2.61\tIZX=245.33\tacc=0.7680\tavg_acc=0.7850\terr=0.2320\tavg_err=0.2150\n",
      "99: IZY=2.59\tIZX=242.01\tacc=0.7780\tavg_acc=0.7830\terr=0.2220\tavg_err=0.2170\n",
      "100: IZY=2.61\tIZX=237.95\tacc=0.7690\tavg_acc=0.7710\terr=0.2310\tavg_err=0.2290\n",
      "101: IZY=2.65\tIZX=241.87\tacc=0.8030\tavg_acc=0.7970\terr=0.1970\tavg_err=0.2030\n",
      "102: IZY=2.63\tIZX=228.90\tacc=0.7860\tavg_acc=0.8110\terr=0.2140\tavg_err=0.1890\n",
      "103: IZY=2.61\tIZX=225.17\tacc=0.7600\tavg_acc=0.7800\terr=0.2400\tavg_err=0.2200\n",
      "104: IZY=2.59\tIZX=230.28\tacc=0.7650\tavg_acc=0.7840\terr=0.2350\tavg_err=0.2160\n",
      "105: IZY=2.64\tIZX=227.22\tacc=0.7900\tavg_acc=0.7960\terr=0.2100\tavg_err=0.2040\n",
      "106: IZY=2.62\tIZX=219.41\tacc=0.7590\tavg_acc=0.7630\terr=0.2410\tavg_err=0.2370\n",
      "107: IZY=2.63\tIZX=228.59\tacc=0.7900\tavg_acc=0.7980\terr=0.2100\tavg_err=0.2020\n",
      "108: IZY=2.60\tIZX=226.04\tacc=0.7760\tavg_acc=0.7870\terr=0.2240\tavg_err=0.2130\n",
      "109: IZY=2.66\tIZX=214.32\tacc=0.7850\tavg_acc=0.8060\terr=0.2150\tavg_err=0.1940\n",
      "110: IZY=2.64\tIZX=214.37\tacc=0.7820\tavg_acc=0.7830\terr=0.2180\tavg_err=0.2170\n",
      "111: IZY=2.54\tIZX=218.39\tacc=0.7370\tavg_acc=0.7560\terr=0.2630\tavg_err=0.2440\n",
      "112: IZY=2.53\tIZX=217.52\tacc=0.7370\tavg_acc=0.7540\terr=0.2630\tavg_err=0.2460\n",
      "113: IZY=2.59\tIZX=209.32\tacc=0.7670\tavg_acc=0.7710\terr=0.2330\tavg_err=0.2290\n",
      "114: IZY=2.61\tIZX=210.11\tacc=0.7740\tavg_acc=0.7740\terr=0.2260\tavg_err=0.2260\n",
      "115: IZY=2.62\tIZX=208.21\tacc=0.7710\tavg_acc=0.7730\terr=0.2290\tavg_err=0.2270\n",
      "116: IZY=2.56\tIZX=193.30\tacc=0.7580\tavg_acc=0.7770\terr=0.2420\tavg_err=0.2230\n",
      "117: IZY=2.60\tIZX=196.19\tacc=0.7760\tavg_acc=0.7890\terr=0.2240\tavg_err=0.2110\n",
      "118: IZY=2.63\tIZX=191.00\tacc=0.7770\tavg_acc=0.7850\terr=0.2230\tavg_err=0.2150\n",
      "119: IZY=2.62\tIZX=194.98\tacc=0.7820\tavg_acc=0.7970\terr=0.2180\tavg_err=0.2030\n",
      "120: IZY=2.61\tIZX=188.20\tacc=0.7750\tavg_acc=0.7820\terr=0.2250\tavg_err=0.2180\n",
      "121: IZY=2.56\tIZX=200.03\tacc=0.7580\tavg_acc=0.7670\terr=0.2420\tavg_err=0.2330\n",
      "122: IZY=2.58\tIZX=200.25\tacc=0.7600\tavg_acc=0.7790\terr=0.2400\tavg_err=0.2210\n",
      "123: IZY=2.67\tIZX=184.14\tacc=0.7830\tavg_acc=0.7990\terr=0.2170\tavg_err=0.2010\n",
      "124: IZY=2.58\tIZX=186.10\tacc=0.7610\tavg_acc=0.7830\terr=0.2390\tavg_err=0.2170\n",
      "125: IZY=2.61\tIZX=183.16\tacc=0.7770\tavg_acc=0.7910\terr=0.2230\tavg_err=0.2090\n",
      "126: IZY=2.57\tIZX=179.72\tacc=0.7650\tavg_acc=0.7770\terr=0.2350\tavg_err=0.2230\n",
      "127: IZY=2.61\tIZX=179.89\tacc=0.7780\tavg_acc=0.7950\terr=0.2220\tavg_err=0.2050\n",
      "128: IZY=2.62\tIZX=185.37\tacc=0.7710\tavg_acc=0.7960\terr=0.2290\tavg_err=0.2040\n",
      "129: IZY=2.64\tIZX=176.06\tacc=0.7790\tavg_acc=0.7980\terr=0.2210\tavg_err=0.2020\n",
      "130: IZY=2.62\tIZX=180.69\tacc=0.7650\tavg_acc=0.7950\terr=0.2350\tavg_err=0.2050\n",
      "131: IZY=2.60\tIZX=175.20\tacc=0.7860\tavg_acc=0.7930\terr=0.2140\tavg_err=0.2070\n",
      "132: IZY=2.63\tIZX=181.90\tacc=0.7760\tavg_acc=0.7980\terr=0.2240\tavg_err=0.2020\n",
      "133: IZY=2.57\tIZX=173.66\tacc=0.7550\tavg_acc=0.7720\terr=0.2450\tavg_err=0.2280\n",
      "134: IZY=2.65\tIZX=175.83\tacc=0.7850\tavg_acc=0.8070\terr=0.2150\tavg_err=0.1930\n",
      "135: IZY=2.64\tIZX=170.12\tacc=0.7740\tavg_acc=0.7880\terr=0.2260\tavg_err=0.2120\n",
      "136: IZY=2.60\tIZX=176.77\tacc=0.7550\tavg_acc=0.7810\terr=0.2450\tavg_err=0.2190\n",
      "137: IZY=2.60\tIZX=170.70\tacc=0.7600\tavg_acc=0.7650\terr=0.2400\tavg_err=0.2350\n",
      "138: IZY=2.62\tIZX=166.24\tacc=0.7720\tavg_acc=0.8000\terr=0.2280\tavg_err=0.2000\n",
      "139: IZY=2.63\tIZX=161.53\tacc=0.7730\tavg_acc=0.7840\terr=0.2270\tavg_err=0.2160\n",
      "140: IZY=2.56\tIZX=171.76\tacc=0.7530\tavg_acc=0.7800\terr=0.2470\tavg_err=0.2200\n",
      "141: IZY=2.66\tIZX=168.22\tacc=0.7850\tavg_acc=0.7970\terr=0.2150\tavg_err=0.2030\n",
      "142: IZY=2.66\tIZX=170.25\tacc=0.7890\tavg_acc=0.8040\terr=0.2110\tavg_err=0.1960\n",
      "143: IZY=2.65\tIZX=171.28\tacc=0.7800\tavg_acc=0.7990\terr=0.2200\tavg_err=0.2010\n",
      "144: IZY=2.57\tIZX=166.57\tacc=0.7590\tavg_acc=0.7610\terr=0.2410\tavg_err=0.2390\n",
      "145: IZY=2.63\tIZX=161.20\tacc=0.7710\tavg_acc=0.7910\terr=0.2290\tavg_err=0.2090\n",
      "146: IZY=2.62\tIZX=165.78\tacc=0.7560\tavg_acc=0.7940\terr=0.2440\tavg_err=0.2060\n",
      "147: IZY=2.58\tIZX=162.07\tacc=0.7510\tavg_acc=0.7740\terr=0.2490\tavg_err=0.2260\n",
      "148: IZY=2.60\tIZX=155.46\tacc=0.7600\tavg_acc=0.7920\terr=0.2400\tavg_err=0.2080\n",
      "149: IZY=2.63\tIZX=164.40\tacc=0.7790\tavg_acc=0.7760\terr=0.2210\tavg_err=0.2240\n",
      "150: IZY=2.57\tIZX=162.41\tacc=0.7530\tavg_acc=0.7790\terr=0.2470\tavg_err=0.2210\n",
      "151: IZY=2.68\tIZX=152.32\tacc=0.8030\tavg_acc=0.8090\terr=0.1970\tavg_err=0.1910\n",
      "152: IZY=2.61\tIZX=160.79\tacc=0.7710\tavg_acc=0.7800\terr=0.2290\tavg_err=0.2200\n",
      "153: IZY=2.66\tIZX=155.51\tacc=0.7800\tavg_acc=0.7970\terr=0.2200\tavg_err=0.2030\n",
      "154: IZY=2.67\tIZX=157.20\tacc=0.7920\tavg_acc=0.8000\terr=0.2080\tavg_err=0.2000\n",
      "155: IZY=2.64\tIZX=160.23\tacc=0.7790\tavg_acc=0.7940\terr=0.2210\tavg_err=0.2060\n",
      "156: IZY=2.63\tIZX=156.17\tacc=0.7780\tavg_acc=0.7900\terr=0.2220\tavg_err=0.2100\n",
      "157: IZY=2.61\tIZX=155.89\tacc=0.7790\tavg_acc=0.7830\terr=0.2210\tavg_err=0.2170\n",
      "158: IZY=2.63\tIZX=155.02\tacc=0.7630\tavg_acc=0.7910\terr=0.2370\tavg_err=0.2090\n",
      "159: IZY=2.64\tIZX=144.87\tacc=0.7780\tavg_acc=0.7860\terr=0.2220\tavg_err=0.2140\n",
      "160: IZY=2.65\tIZX=155.58\tacc=0.7850\tavg_acc=0.7870\terr=0.2150\tavg_err=0.2130\n",
      "161: IZY=2.66\tIZX=147.06\tacc=0.7980\tavg_acc=0.7960\terr=0.2020\tavg_err=0.2040\n",
      "162: IZY=2.62\tIZX=147.38\tacc=0.7790\tavg_acc=0.7820\terr=0.2210\tavg_err=0.2180\n",
      "163: IZY=2.61\tIZX=150.84\tacc=0.7600\tavg_acc=0.7860\terr=0.2400\tavg_err=0.2140\n",
      "164: IZY=2.65\tIZX=148.29\tacc=0.7740\tavg_acc=0.7850\terr=0.2260\tavg_err=0.2150\n",
      "165: IZY=2.64\tIZX=141.96\tacc=0.7720\tavg_acc=0.7740\terr=0.2280\tavg_err=0.2260\n",
      "166: IZY=2.61\tIZX=143.69\tacc=0.7700\tavg_acc=0.7820\terr=0.2300\tavg_err=0.2180\n",
      "167: IZY=2.61\tIZX=144.72\tacc=0.7850\tavg_acc=0.8000\terr=0.2150\tavg_err=0.2000\n",
      "168: IZY=2.57\tIZX=146.41\tacc=0.7600\tavg_acc=0.7720\terr=0.2400\tavg_err=0.2280\n",
      "169: IZY=2.60\tIZX=148.19\tacc=0.7690\tavg_acc=0.7790\terr=0.2310\tavg_err=0.2210\n",
      "170: IZY=2.57\tIZX=144.70\tacc=0.7420\tavg_acc=0.7510\terr=0.2580\tavg_err=0.2490\n",
      "171: IZY=2.63\tIZX=140.94\tacc=0.7930\tavg_acc=0.7940\terr=0.2070\tavg_err=0.2060\n",
      "172: IZY=2.64\tIZX=143.56\tacc=0.7770\tavg_acc=0.8040\terr=0.2230\tavg_err=0.1960\n",
      "173: IZY=2.57\tIZX=143.49\tacc=0.7590\tavg_acc=0.7650\terr=0.2410\tavg_err=0.2350\n",
      "174: IZY=2.64\tIZX=140.34\tacc=0.7660\tavg_acc=0.7830\terr=0.2340\tavg_err=0.2170\n",
      "175: IZY=2.55\tIZX=140.67\tacc=0.7490\tavg_acc=0.7710\terr=0.2510\tavg_err=0.2290\n",
      "176: IZY=2.69\tIZX=145.04\tacc=0.7970\tavg_acc=0.8230\terr=0.2030\tavg_err=0.1770\n",
      "177: IZY=2.62\tIZX=142.62\tacc=0.7960\tavg_acc=0.8060\terr=0.2040\tavg_err=0.1940\n",
      "178: IZY=2.62\tIZX=138.75\tacc=0.7800\tavg_acc=0.7890\terr=0.2200\tavg_err=0.2110\n",
      "179: IZY=2.60\tIZX=142.27\tacc=0.7750\tavg_acc=0.7810\terr=0.2250\tavg_err=0.2190\n",
      "180: IZY=2.60\tIZX=137.62\tacc=0.7720\tavg_acc=0.7730\terr=0.2280\tavg_err=0.2270\n",
      "181: IZY=2.59\tIZX=133.26\tacc=0.7630\tavg_acc=0.7800\terr=0.2370\tavg_err=0.2200\n",
      "182: IZY=2.64\tIZX=136.98\tacc=0.7880\tavg_acc=0.8090\terr=0.2120\tavg_err=0.1910\n",
      "183: IZY=2.67\tIZX=141.51\tacc=0.7940\tavg_acc=0.7900\terr=0.2060\tavg_err=0.2100\n",
      "184: IZY=2.63\tIZX=137.22\tacc=0.7700\tavg_acc=0.7930\terr=0.2300\tavg_err=0.2070\n",
      "185: IZY=2.64\tIZX=133.71\tacc=0.7840\tavg_acc=0.7950\terr=0.2160\tavg_err=0.2050\n",
      "186: IZY=2.66\tIZX=136.19\tacc=0.7830\tavg_acc=0.8020\terr=0.2170\tavg_err=0.1980\n",
      "187: IZY=2.67\tIZX=136.33\tacc=0.7980\tavg_acc=0.8110\terr=0.2020\tavg_err=0.1890\n",
      "188: IZY=2.61\tIZX=141.06\tacc=0.7790\tavg_acc=0.7950\terr=0.2210\tavg_err=0.2050\n",
      "189: IZY=2.58\tIZX=131.36\tacc=0.7550\tavg_acc=0.7780\terr=0.2450\tavg_err=0.2220\n",
      "190: IZY=2.64\tIZX=127.69\tacc=0.7750\tavg_acc=0.7920\terr=0.2250\tavg_err=0.2080\n",
      "191: IZY=2.60\tIZX=130.40\tacc=0.7600\tavg_acc=0.7850\terr=0.2400\tavg_err=0.2150\n",
      "192: IZY=2.64\tIZX=129.60\tacc=0.7900\tavg_acc=0.7850\terr=0.2100\tavg_err=0.2150\n",
      "193: IZY=2.60\tIZX=133.81\tacc=0.7650\tavg_acc=0.7720\terr=0.2350\tavg_err=0.2280\n",
      "194: IZY=2.57\tIZX=133.24\tacc=0.7540\tavg_acc=0.7700\terr=0.2460\tavg_err=0.2300\n",
      "195: IZY=2.59\tIZX=130.34\tacc=0.7620\tavg_acc=0.7890\terr=0.2380\tavg_err=0.2110\n",
      "196: IZY=2.58\tIZX=127.56\tacc=0.7700\tavg_acc=0.7730\terr=0.2300\tavg_err=0.2270\n",
      "197: IZY=2.63\tIZX=128.40\tacc=0.7710\tavg_acc=0.8000\terr=0.2290\tavg_err=0.2000\n",
      "198: IZY=2.63\tIZX=131.11\tacc=0.7620\tavg_acc=0.7790\terr=0.2380\tavg_err=0.2210\n",
      "199: IZY=2.65\tIZX=127.90\tacc=0.7770\tavg_acc=0.7920\terr=0.2230\tavg_err=0.2080\n"
     ]
    }
   ],
   "source": [
    "import sys\n",
    "\n",
    "for epoch in range(200):\n",
    "    for step in range(steps_per_batch):\n",
    "        im, ls = prepare_data(batch_size)\n",
    "        sess.run(train_tensor, feed_dict={images: im, labels: ls})\n",
    "    print(\"{}: IZY={:.2f}\\tIZX={:.2f}\\tacc={:.4f}\\tavg_acc={:.4f}\\terr={:.4f}\\tavg_err={:.4f}\".format(\n",
    "        epoch, *evaluate()))\n",
    "    sys.stdout.flush()\n",
    "    \n",
    "savepth = saver.save(sess, '/tmp/mnistvib', global_step)"
   ]
  },
  {
   "cell_type": "code",
   "execution_count": 20,
   "metadata": {
    "collapsed": true
   },
   "outputs": [],
   "source": [
    "# prepare test data\n",
    "data_test = np.random.uniform(low = -1, high = 2, size = [50000, 2])"
   ]
  },
  {
   "cell_type": "code",
   "execution_count": 22,
   "metadata": {
    "collapsed": false
   },
   "outputs": [],
   "source": [
    "pred = sess.run(logits, feed_dict = {images: data_test})"
   ]
  },
  {
   "cell_type": "code",
   "execution_count": 25,
   "metadata": {
    "collapsed": false
   },
   "outputs": [
    {
     "name": "stderr",
     "output_type": "stream",
     "text": [
      "/usr/lib/python3/dist-packages/ipykernel/__main__.py:5: MatplotlibDeprecationWarning: The griddata function was deprecated in Matplotlib 2.2 and will be removed in 3.1. Use scipy.interpolate.griddata instead.\n",
      "/home/philipp/.local/lib/python3.5/site-packages/matplotlib/contour.py:1000: UserWarning: The following kwargs were not used by contour: 'interp'\n",
      "  s)\n"
     ]
    },
    {
     "data": {
      "image/png": "[encoded data removed]",
      "text/plain": [
       "<Figure size 432x288 with 2 Axes>"
      ]
     },
     "metadata": {},
     "output_type": "display_data"
    }
   ],
   "source": [
    "# plot a contour map\n",
    "from matplotlib.mlab import griddata\n",
    "xi = np.linspace(-1, 2, 100)\n",
    "yi = np.linspace(-1, 2, 100)\n",
    "zi = griddata(data_test[:, 0], data_test[:, 1], pred[:, 0], xi, yi, interp = \"linear\")\n",
    "\n",
    "plt.contourf(xi, yi, zi, interp='linear', levels = 50)\n",
    "plt.xlabel('x')\n",
    "plt.ylabel('y')\n",
    "plt.colorbar()\n",
    "plt.show()"
   ]
  },
  {
   "cell_type": "code",
   "execution_count": null,
   "metadata": {
    "collapsed": true
   },
   "outputs": [],
   "source": []
  }
 ],
 "metadata": {
  "kernelspec": {
   "display_name": "Python 3",
   "language": "python",
   "name": "python3"
  },
  "language_info": {
   "codemirror_mode": {
    "name": "ipython",
    "version": 3
   },
   "file_extension": ".py",
   "mimetype": "text/x-python",
   "name": "python",
   "nbconvert_exporter": "python",
   "pygments_lexer": "ipython3",
   "version": "3.5.3"
  }
 },
 "nbformat": 4,
 "nbformat_minor": 2
}
