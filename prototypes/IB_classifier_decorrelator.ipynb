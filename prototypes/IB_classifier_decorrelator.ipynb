{
 "cells": [
  {
   "cell_type": "code",
   "execution_count": 1,
   "metadata": {
    "collapsed": true
   },
   "outputs": [],
   "source": [
    "import numpy as np\n",
    "import matplotlib.pyplot as plt\n",
    "import copy\n",
    "from matplotlib.mlab import griddata"
   ]
  },
  {
   "cell_type": "code",
   "execution_count": 2,
   "metadata": {
    "collapsed": true
   },
   "outputs": [],
   "source": [
    "def prepare_data(n_samples):\n",
    "    data = []\n",
    "    labels = []\n",
    "    nuisances = []\n",
    "    \n",
    "    for i in range(n_samples):\n",
    "        sig_bkg = np.random.uniform(low = 0.0, high = 1.0, size = 1)\n",
    "        if sig_bkg > 0.5:\n",
    "            nuisance = np.random.uniform(low = 0.0, high = 2.0, size = 1)\n",
    "            data.append(np.random.multivariate_normal(mean = [0.0, nuisance], cov = np.array([[1, -0.5], [-0.5, 1]]), size = 1).flatten())\n",
    "            labels.append(1.0)\n",
    "        else:\n",
    "            nuisance = np.random.uniform(low = 0.0, high = 2.0, size = 1)\n",
    "            data.append(np.random.multivariate_normal(mean = [1.0, nuisance], cov = np.eye(2), size = 1).flatten())\n",
    "            labels.append(0.0)\n",
    "            \n",
    "        nuisances.append(nuisance)\n",
    "    data = np.array(data)\n",
    "    labels = np.array(labels)\n",
    "    nuisances = np.array(nuisances)\n",
    "    \n",
    "    return data, labels, nuisances.flatten()"
   ]
  },
  {
   "cell_type": "code",
   "execution_count": 3,
   "metadata": {
    "collapsed": false
   },
   "outputs": [],
   "source": [
    "num_samples = 50000\n",
    "data_train, labels_train, nuisances_train = prepare_data(num_samples)\n",
    "nuisances_train = np.expand_dims(nuisances_train, axis = 1)"
   ]
  },
  {
   "cell_type": "code",
   "execution_count": 4,
   "metadata": {
    "collapsed": false
   },
   "outputs": [],
   "source": [
    "import tensorflow as tf"
   ]
  },
  {
   "cell_type": "code",
   "execution_count": 5,
   "metadata": {
    "collapsed": true
   },
   "outputs": [],
   "source": [
    "import tensorflow.contrib.layers as layers"
   ]
  },
  {
   "cell_type": "code",
   "execution_count": 6,
   "metadata": {
    "collapsed": false
   },
   "outputs": [],
   "source": [
    "config = tf.ConfigProto(intra_op_parallelism_threads=8, inter_op_parallelism_threads=8, \\\n",
    "                        allow_soft_placement=True, device_count = {'CPU': 8})\n",
    "sess = tf.InteractiveSession(config = config)"
   ]
  },
  {
   "cell_type": "code",
   "execution_count": 7,
   "metadata": {
    "collapsed": false
   },
   "outputs": [],
   "source": [
    "# batch size for evaluation of mutual entropy\n",
    "MINE_batch_size = num_samples\n",
    "\n",
    "# batch size for the training of the encoder / classifier pair\n",
    "batch_size = 200\n",
    "\n",
    "bottleneck_size = 2"
   ]
  },
  {
   "cell_type": "code",
   "execution_count": 8,
   "metadata": {
    "collapsed": true
   },
   "outputs": [],
   "source": [
    "data_in = tf.placeholder(tf.float32, [None, 2], name = 'data_in')\n",
    "nuisances_in = tf.placeholder(tf.float32, [None, 1], name = 'nuisances_in')\n",
    "labels_in = tf.placeholder(tf.int32, [None, ], name = 'labels_in')"
   ]
  },
  {
   "cell_type": "code",
   "execution_count": 9,
   "metadata": {
    "collapsed": true
   },
   "outputs": [],
   "source": [
    "def classifier(classifier_input):\n",
    "    with tf.variable_scope(\"classifier\"):\n",
    "        lay = layers.relu(encoder_input, 20)\n",
    "        lay = layers.relu(lay, 20)\n",
    "        outputs = layers.softmax(lay)\n",
    "        \n",
    "        these_vars = tf.get_collection(tf.GraphKeys.GLOBAL_VARIABLES, scope = \"encoder\")\n",
    "        \n",
    "    return outputs, these_vars"
   ]
  },
  {
   "cell_type": "code",
   "execution_count": 10,
   "metadata": {
    "collapsed": true
   },
   "outputs": [],
   "source": [
    "def decorrelator(decorrelator_input):\n",
    "    with tf.variable_scope(\"decorrelator\"):\n",
    "        lay = layers.relu(decorrelator_input, 20)\n",
    "        lay = layers.relu(lay, 20)\n",
    "        lay = layers.relu(lay, 20)\n",
    "        outputs = layers.linear(lay)\n",
    "        \n",
    "        these_vars = tf.get_collection(tf.GraphKeys.GLOBAL_VARIABLES, scope = \"classifier\")\n",
    "\n",
    "    return outputs, these_vars"
   ]
  },
  {
   "cell_type": "code",
   "execution_count": 11,
   "metadata": {
    "collapsed": true
   },
   "outputs": [],
   "source": [
    "def MINE_network(data):\n",
    "    with tf.variable_scope(\"MINE\"):\n",
    "        lay = layers.relu(data, 20)\n",
    "        lay = layers.relu(lay, 20)\n",
    "        outputs = layers.linear(lay, 1)\n",
    "        \n",
    "    these_vars = tf.get_collection(tf.GraphKeys.GLOBAL_VARIABLES, scope = \"MINE\")\n",
    "    \n",
    "    return outputs, these_vars"
   ]
  },
  {
   "cell_type": "code",
   "execution_count": 12,
   "metadata": {
    "collapsed": false
   },
   "outputs": [],
   "source": [
    "encoded, encoder_vars = encoder(data_in)"
   ]
  },
  {
   "cell_type": "code",
   "execution_count": 13,
   "metadata": {
    "collapsed": false
   },
   "outputs": [],
   "source": [
    "classifier_output, classifier_vars = classifier(encoded)"
   ]
  },
  {
   "cell_type": "code",
   "execution_count": 14,
   "metadata": {
    "collapsed": true
   },
   "outputs": [],
   "source": [
    "nuisances_shuffled = tf.random.shuffle(nuisances_in)"
   ]
  },
  {
   "cell_type": "code",
   "execution_count": 15,
   "metadata": {
    "collapsed": false
   },
   "outputs": [],
   "source": [
    "# prepare input for MINE\n",
    "#data_x_combined = tf.concat([encoded, encoded], axis = 0)\n",
    "data_x_combined = tf.concat([classifier_output, classifier_output], axis = 0)\n",
    "data_y_combined = tf.concat([nuisances_in, nuisances_shuffled], axis = 0)"
   ]
  },
  {
   "cell_type": "code",
   "execution_count": 16,
   "metadata": {
    "collapsed": false
   },
   "outputs": [],
   "source": [
    "data_combined = tf.concat([data_x_combined, data_y_combined], axis = 1)\n",
    "MINE_output, MINE_vars = MINE_network(data_combined)"
   ]
  },
  {
   "cell_type": "code",
   "execution_count": 17,
   "metadata": {
    "collapsed": true
   },
   "outputs": [],
   "source": [
    "batch_size_dyn = tf.cast(tf.math.divide(tf.shape(MINE_output)[0], 2), tf.int32)"
   ]
  },
  {
   "cell_type": "code",
   "execution_count": 18,
   "metadata": {
    "collapsed": true
   },
   "outputs": [],
   "source": [
    "T_xy = MINE_output[:batch_size_dyn,:]\n",
    "T_x_y = MINE_output[batch_size_dyn:,:]\n",
    "MINE_loss = -(tf.reduce_mean(T_xy, axis = 0) - tf.math.log(tf.reduce_mean(tf.math.exp(T_x_y), axis = 0)))\n",
    "MINE_loss = MINE_loss[0]"
   ]
  },
  {
   "cell_type": "code",
   "execution_count": 19,
   "metadata": {
    "collapsed": false
   },
   "outputs": [],
   "source": [
    "labels_one_hot = tf.one_hot(labels_in, depth = 2)"
   ]
  },
  {
   "cell_type": "code",
   "execution_count": 20,
   "metadata": {
    "collapsed": false
   },
   "outputs": [],
   "source": [
    "classification_loss = tf.losses.softmax_cross_entropy(onehot_labels = labels_one_hot, logits = classifier_output)"
   ]
  },
  {
   "cell_type": "code",
   "execution_count": 21,
   "metadata": {
    "collapsed": true
   },
   "outputs": [],
   "source": [
    "train_ec_pair = tf.train.AdamOptimizer(learning_rate = 0.005, beta1 = 0.9, beta2 = 0.999).minimize(classification_loss, var_list = classifier_vars + encoder_vars)\n",
    "#train_ec_pair = tf.train.GradientDescentOptimizer(learning_rate = 0.00001).minimize(classification_loss, var_list = classifier_vars + encoder_vars)"
   ]
  },
  {
   "cell_type": "code",
   "execution_count": 58,
   "metadata": {
    "collapsed": true
   },
   "outputs": [],
   "source": [
    "MINE_regularized_classification_loss = classification_loss - 8 * MINE_loss"
   ]
  },
  {
   "cell_type": "code",
   "execution_count": 59,
   "metadata": {
    "collapsed": true
   },
   "outputs": [],
   "source": [
    "train_ec_pair_MINE_regularized = tf.train.AdamOptimizer(learning_rate = 0.0001, beta1 = 0.3, beta2 = 0.5).minimize(MINE_regularized_classification_loss, var_list = classifier_vars + encoder_vars)\n",
    "#train_ec_pair_MINE_regularized = tf.train.GradientDescentOptimizer(learning_rate = 0.1).minimize(MINE_regularized_classification_loss, var_list = classifier_vars + encoder_vars)"
   ]
  },
  {
   "cell_type": "code",
   "execution_count": 60,
   "metadata": {
    "collapsed": false
   },
   "outputs": [],
   "source": [
    "init_MINE = tf.variables_initializer(var_list = MINE_vars)\n",
    "train_MINE = tf.train.AdamOptimizer(learning_rate = 0.01, beta1 = 0.3, beta2 = 0.5).minimize(MINE_loss, var_list = MINE_vars)"
   ]
  },
  {
   "cell_type": "code",
   "execution_count": 61,
   "metadata": {
    "collapsed": true
   },
   "outputs": [],
   "source": [
    "# combined training\n",
    "classification_loss_evolution = []\n",
    "MI_evolution = []\n",
    "number_batches = 200\n",
    "MINE_batches = 300"
   ]
  },
  {
   "cell_type": "code",
   "execution_count": 62,
   "metadata": {
    "collapsed": true
   },
   "outputs": [],
   "source": [
    "number_epochs = 20"
   ]
  },
  {
   "cell_type": "code",
   "execution_count": 63,
   "metadata": {
    "collapsed": true
   },
   "outputs": [],
   "source": [
    "sess.run(tf.global_variables_initializer())"
   ]
  },
  {
   "cell_type": "code",
   "execution_count": 64,
   "metadata": {
    "collapsed": false
   },
   "outputs": [
    {
     "name": "stdout",
     "output_type": "stream",
     "text": [
      "pre-training complete\n",
      "epoch 0\n",
      "MI = 5.245208740234375e-06, class_loss = 0.691006064414978, global_loss = 0.6910480260848999\n",
      "MI = -9.298324584960938e-06, class_loss = 0.6867256164550781, global_loss = 0.6866493225097656\n",
      "epoch 1\n",
      "MI = 0.0002422332763671875, class_loss = 0.6821479201316833, global_loss = 0.6843413710594177\n",
      "MI = 0.0011181831359863281, class_loss = 0.6809043884277344, global_loss = 0.6910324096679688\n",
      "epoch 2\n",
      "MI = 0.0001068115234375, class_loss = 0.6803831458091736, global_loss = 0.6794828772544861\n",
      "MI = -4.9114227294921875e-05, class_loss = 0.6759916543960571, global_loss = 0.675636887550354\n",
      "epoch 3\n",
      "MI = -8.487701416015625e-05, class_loss = 0.6713278889656067, global_loss = 0.6703742146492004\n",
      "MI = 0.0005464553833007812, class_loss = 0.669259786605835, global_loss = 0.6740739345550537\n",
      "epoch 4\n",
      "MI = 0.0005702972412109375, class_loss = 0.6675302386283875, global_loss = 0.6710931658744812\n",
      "MI = 0.000457763671875, class_loss = 0.6656282544136047, global_loss = 0.6696718335151672\n",
      "epoch 5\n",
      "MI = 6.4849853515625e-05, class_loss = 0.6632426381111145, global_loss = 0.6646693348884583\n",
      "MI = 0.00015163421630859375, class_loss = 0.6609068512916565, global_loss = 0.661624014377594\n",
      "epoch 6\n",
      "MI = 5.817413330078125e-05, class_loss = 0.6574538946151733, global_loss = 0.6579116582870483\n",
      "MI = 0.00020885467529296875, class_loss = 0.6527274250984192, global_loss = 0.6537192463874817\n",
      "epoch 7\n",
      "MI = 0.0001277923583984375, class_loss = 0.6472547650337219, global_loss = 0.6492841839790344\n",
      "MI = 0.000171661376953125, class_loss = 0.6416268944740295, global_loss = 0.6437631249427795\n",
      "epoch 8\n",
      "MI = 0.000202178955078125, class_loss = 0.6367811560630798, global_loss = 0.6382917761802673\n",
      "MI = 0.0004100799560546875, class_loss = 0.6323363184928894, global_loss = 0.6356474757194519\n",
      "epoch 9\n",
      "MI = -2.288818359375e-05, class_loss = 0.6289788484573364, global_loss = 0.6287194490432739\n",
      "MI = 0.0002193450927734375, class_loss = 0.624675989151001, global_loss = 0.623089075088501\n",
      "epoch 10\n",
      "MI = 0.0001354217529296875, class_loss = 0.6215288639068604, global_loss = 0.6219713687896729\n",
      "MI = 0.00038909912109375, class_loss = 0.6195509433746338, global_loss = 0.6220228672027588\n",
      "epoch 11\n",
      "MI = 0.00031280517578125, class_loss = 0.6171102523803711, global_loss = 0.6197042465209961\n",
      "MI = -0.0002727508544921875, class_loss = 0.6157374382019043, global_loss = 0.6135859489440918\n",
      "epoch 12\n",
      "MI = 0.0006389617919921875, class_loss = 0.6133855581283569, global_loss = 0.6163915395736694\n",
      "MI = 0.000339508056640625, class_loss = 0.612919270992279, global_loss = 0.6138805747032166\n",
      "epoch 13\n",
      "MI = 0.0001010894775390625, class_loss = 0.6112138032913208, global_loss = 0.6132737398147583\n",
      "MI = 0.000377655029296875, class_loss = 0.6093855500221252, global_loss = 0.6124220490455627\n",
      "epoch 14\n",
      "MI = 0.0004749298095703125, class_loss = 0.608411967754364, global_loss = 0.611372172832489\n",
      "MI = 0.0006427764892578125, class_loss = 0.6077942848205566, global_loss = 0.6113801002502441\n",
      "epoch 15\n",
      "MI = 0.00017547607421875, class_loss = 0.6067554950714111, global_loss = 0.6075489521026611\n",
      "MI = 0.000614166259765625, class_loss = 0.605859637260437, global_loss = 0.612512469291687\n",
      "epoch 16\n",
      "MI = 0.0009307861328125, class_loss = 0.6052432656288147, global_loss = 0.6123233437538147\n",
      "MI = 0.00061798095703125, class_loss = 0.6046580076217651, global_loss = 0.6108835935592651\n",
      "epoch 17\n",
      "MI = -0.0007781982421875, class_loss = 0.6036835312843323, global_loss = 0.5975494980812073\n",
      "MI = -0.000118255615234375, class_loss = 0.6029861569404602, global_loss = 0.6025589108467102\n",
      "epoch 18\n",
      "MI = -8.392333984375e-05, class_loss = 0.6025893688201904, global_loss = 0.6030166149139404\n",
      "MI = 0.000484466552734375, class_loss = 0.6019566655158997, global_loss = 0.6081822514533997\n",
      "epoch 19\n",
      "MI = -0.00072479248046875, class_loss = 0.6015687584877014, global_loss = 0.5981507897377014\n",
      "MI = -0.0002288818359375, class_loss = 0.601105809211731, global_loss = 0.599915623664856\n"
     ]
    }
   ],
   "source": [
    "# pre-train MINE\n",
    "sess.run(init_MINE)\n",
    "for batch in range(MINE_batches):\n",
    "    sess.run(train_MINE, feed_dict = {data_in: data_train, nuisances_in: nuisances_train})\n",
    "\n",
    "print(\"pre-training complete\")\n",
    "    \n",
    "for epoch in range(number_epochs):\n",
    "    print(\"epoch {}\".format(epoch))\n",
    "    # train new MINE on current encoder output\n",
    "    \n",
    "    for batch in range(number_batches):\n",
    "        # train classifier with MINE regularization\n",
    "        inds = np.random.choice(len(data_train), batch_size)\n",
    "        data_batch = data_train[inds]\n",
    "        labels_batch = labels_train[inds]\n",
    "        nuisances_batch = nuisances_train[inds]\n",
    "\n",
    "        sess.run(train_MINE, feed_dict = {data_in: data_train, nuisances_in: nuisances_train})\n",
    "        sess.run(train_ec_pair_MINE_regularized, feed_dict = {data_in: data_batch, nuisances_in: nuisances_batch, labels_in: labels_batch})\n",
    "    \n",
    "        if not batch % 100:\n",
    "            MI = -sess.run(MINE_loss, feed_dict = {data_in: data_train, nuisances_in: nuisances_train})\n",
    "            class_loss = sess.run(classification_loss, feed_dict = {data_in: data_train, nuisances_in: nuisances_train, labels_in: labels_train})\n",
    "            global_loss = sess.run(MINE_regularized_classification_loss, feed_dict = {data_in: data_train, nuisances_in: nuisances_train, labels_in: labels_train})\n",
    "\n",
    "            print(\"MI = {}, class_loss = {}, global_loss = {}\".format(MI, class_loss, global_loss))"
   ]
  },
  {
   "cell_type": "raw",
   "metadata": {
    "collapsed": true
   },
   "source": [
    "data_test = np.random.uniform(low = -6, high = 6, size = [50000, 2])"
   ]
  },
  {
   "cell_type": "code",
   "execution_count": 29,
   "metadata": {
    "collapsed": true
   },
   "outputs": [],
   "source": [
    "data_test = np.loadtxt(\"data_test.txt\")\n",
    "nuisances_test = np.loadtxt(\"nuisances_test.txt\")\n",
    "labels_test = np.loadtxt(\"labels_test.txt\")"
   ]
  },
  {
   "cell_type": "code",
   "execution_count": 65,
   "metadata": {
    "collapsed": false
   },
   "outputs": [],
   "source": [
    "pred = sess.run(classifier_output, feed_dict = {data_in: data_test})"
   ]
  },
  {
   "cell_type": "code",
   "execution_count": 85,
   "metadata": {
    "collapsed": false
   },
   "outputs": [
    {
     "name": "stderr",
     "output_type": "stream",
     "text": [
      "/usr/lib/python3/dist-packages/ipykernel/__main__.py:3: MatplotlibDeprecationWarning: The griddata function was deprecated in Matplotlib 2.2 and will be removed in 3.1. Use scipy.interpolate.griddata instead.\n",
      "  app.launch_new_instance()\n",
      "/home/philipp/.local/lib/python3.5/site-packages/matplotlib/contour.py:1000: UserWarning: The following kwargs were not used by contour: 'interp'\n",
      "  s)\n"
     ]
    }
   ],
   "source": [
    "xi = np.linspace(-4, 4, 1000)\n",
    "yi = np.linspace(-4, 6, 1000)\n",
    "zi = griddata(data_test[:, 0], data_test[:, 1], pred[:, 0], xi, yi, interp = \"linear\")\n",
    "\n",
    "plt.contourf(xi, yi, zi, interp='linear', levels = 20)\n",
    "plt.xlabel('x')\n",
    "plt.ylabel('y')\n",
    "plt.colorbar()\n",
    "plt.savefig(\"pivoting_classifier_MINE_contours.pdf\")\n",
    "#plt.show()"
   ]
  },
  {
   "cell_type": "code",
   "execution_count": 36,
   "metadata": {
    "collapsed": false
   },
   "outputs": [
    {
     "data": {
      "image/png": "[encoded data removed]",
      "text/plain": [
       "<Figure size 432x288 with 2 Axes>"
      ]
     },
     "metadata": {},
     "output_type": "display_data"
    }
   ],
   "source": [
    "plt.hexbin(x = data_train[:, 0], y = data_train[:, 1], bins = 'log', gridsize = 50)\n",
    "plt.colorbar()\n",
    "plt.show()"
   ]
  },
  {
   "cell_type": "code",
   "execution_count": 67,
   "metadata": {
    "collapsed": false
   },
   "outputs": [],
   "source": [
    "group1 = np.logical_and(nuisances_test > 0.0, nuisances_test < 0.5)\n",
    "group2 = np.logical_and(nuisances_test > 0.5, nuisances_test < 1.0)\n",
    "group3 = np.logical_and(nuisances_test > 1.0, nuisances_test < 1.5)\n",
    "group4 = np.logical_and(nuisances_test > 1.5, nuisances_test < 2.0)"
   ]
  },
  {
   "cell_type": "code",
   "execution_count": 68,
   "metadata": {
    "collapsed": false
   },
   "outputs": [],
   "source": [
    "pred1 = sess.run(classifier_output, feed_dict = {data_in: data_test[group1]})\n",
    "pred2 = sess.run(classifier_output, feed_dict = {data_in: data_test[group2]})\n",
    "pred3 = sess.run(classifier_output, feed_dict = {data_in: data_test[group3]})\n",
    "pred4 = sess.run(classifier_output, feed_dict = {data_in: data_test[group4]})"
   ]
  },
  {
   "cell_type": "code",
   "execution_count": 82,
   "metadata": {
    "collapsed": false
   },
   "outputs": [],
   "source": [
    "colors = ['red', 'tan', 'lime', 'green']\n",
    "plt.hist([pred1[:,1], pred2[:,1], pred3[:,1], pred4[:,1]], label = [r'$\\nu_1$', r'$\\nu_2$', r'$\\nu_3$', r'$\\nu_4$'], histtype = 'step', density = True, stacked = False, fill = False, bins = 40)\n",
    "plt.legend(loc = 'upper left')\n",
    "plt.savefig(\"pivoting_classifier_MINE.pdf\")\n",
    "#plt.show()"
   ]
  },
  {
   "cell_type": "code",
   "execution_count": 70,
   "metadata": {
    "collapsed": false
   },
   "outputs": [],
   "source": [
    "sig = data_test[labels_test == 1]\n",
    "bkg = data_test[labels_test == 0]"
   ]
  },
  {
   "cell_type": "code",
   "execution_count": 71,
   "metadata": {
    "collapsed": true
   },
   "outputs": [],
   "source": [
    "pred_sig = sess.run(classifier_output, feed_dict = {data_in: sig})\n",
    "pred_bkg = sess.run(classifier_output, feed_dict = {data_in: bkg})"
   ]
  },
  {
   "cell_type": "code",
   "execution_count": 72,
   "metadata": {
    "collapsed": false
   },
   "outputs": [
    {
     "data": {
      "image/png": "[encoded data removed]",
      "text/plain": [
       "<Figure size 432x288 with 1 Axes>"
      ]
     },
     "metadata": {},
     "output_type": "display_data"
    }
   ],
   "source": [
    "plt.hist([pred_sig[:,1], pred_bkg[:,1]], label = ['sig', 'bkg'], histtype = 'step', density = True, stacked = False, fill = False, bins = 10)\n",
    "plt.show()"
   ]
  },
  {
   "cell_type": "code",
   "execution_count": null,
   "metadata": {
    "collapsed": false
   },
   "outputs": [],
   "source": [
    "pred = sess.run(classifier_output, feed_dict = {data_in: data_test})"
   ]
  },
  {
   "cell_type": "code",
   "execution_count": 73,
   "metadata": {
    "collapsed": true
   },
   "outputs": [],
   "source": [
    "# plot ROC curves\n",
    "from sklearn import metrics"
   ]
  },
  {
   "cell_type": "code",
   "execution_count": 74,
   "metadata": {
    "collapsed": false
   },
   "outputs": [],
   "source": [
    "fpr, tpr, thresholds = metrics.roc_curve(labels_test, pred[:,1])"
   ]
  },
  {
   "cell_type": "code",
   "execution_count": 75,
   "metadata": {
    "collapsed": false
   },
   "outputs": [
    {
     "data": {
      "image/png": "[encoded data removed]",
      "text/plain": [
       "<Figure size 432x288 with 1 Axes>"
      ]
     },
     "metadata": {},
     "output_type": "display_data"
    }
   ],
   "source": [
    "plt.plot(fpr, tpr)\n",
    "plt.show()"
   ]
  },
  {
   "cell_type": "code",
   "execution_count": 76,
   "metadata": {
    "collapsed": false
   },
   "outputs": [
    {
     "data": {
      "text/plain": [
       "0.7634828323856084"
      ]
     },
     "execution_count": 76,
     "metadata": {},
     "output_type": "execute_result"
    }
   ],
   "source": [
    "metrics.roc_auc_score(labels_test, pred[:,1])"
   ]
  },
  {
   "cell_type": "raw",
   "metadata": {},
   "source": [
    "# save the test data values to disk\n",
    "np.savetxt(\"data_test.txt\", data_test)"
   ]
  },
  {
   "cell_type": "raw",
   "metadata": {},
   "source": [
    "np.savetxt(\"nuisances_test.txt\", nuisances_test)"
   ]
  },
  {
   "cell_type": "raw",
   "metadata": {},
   "source": [
    "np.savetxt(\"labels_test.txt\", labels_test)"
   ]
  },
  {
   "cell_type": "code",
   "execution_count": 77,
   "metadata": {
    "collapsed": false
   },
   "outputs": [],
   "source": [
    "# and load back the values of the (exact) ML estimator evaluated on them\n",
    "LL_pred = np.loadtxt(\"LL_evaluated.csv\")"
   ]
  },
  {
   "cell_type": "code",
   "execution_count": 78,
   "metadata": {
    "collapsed": false
   },
   "outputs": [],
   "source": [
    "fpr_LL, tpr_LL, thresholds_LL = metrics.roc_curve(labels_test, LL_pred)"
   ]
  },
  {
   "cell_type": "code",
   "execution_count": 79,
   "metadata": {
    "collapsed": false
   },
   "outputs": [
    {
     "data": {
      "image/png": "[encoded data removed]",
      "text/plain": [
       "<Figure size 432x288 with 1 Axes>"
      ]
     },
     "metadata": {},
     "output_type": "display_data"
    }
   ],
   "source": [
    "plt.plot(fpr_LL, tpr_LL)\n",
    "plt.show()"
   ]
  },
  {
   "cell_type": "code",
   "execution_count": 80,
   "metadata": {
    "collapsed": false
   },
   "outputs": [
    {
     "data": {
      "text/plain": [
       "0.7783846885778357"
      ]
     },
     "execution_count": 80,
     "metadata": {},
     "output_type": "execute_result"
    }
   ],
   "source": [
    "metrics.roc_auc_score(labels_test, LL_pred)"
   ]
  },
  {
   "cell_type": "code",
   "execution_count": 88,
   "metadata": {
    "collapsed": false
   },
   "outputs": [],
   "source": [
    "# plot both of them into the same graph\n",
    "fig, ax = plt.subplots()\n",
    "ax.plot(fpr, tpr, label = 'MI-regularized classifier', c = 'red')\n",
    "ax.plot(fpr_LL, tpr_LL, label = 'analytic likelihood', c = 'black', ls = 'dashed')\n",
    "leg = ax.legend(loc = 'lower right')\n",
    "plt.xlabel(\"false positive rate\")\n",
    "plt.ylabel(\"true positive rate\")\n",
    "plt.show()\n",
    "#plt.savefig(\"MI_regularized_ROC.pdf\")"
   ]
  },
  {
   "cell_type": "code",
   "execution_count": null,
   "metadata": {
    "collapsed": true
   },
   "outputs": [],
   "source": []
  }
 ],
 "metadata": {
  "kernelspec": {
   "display_name": "Python 3",
   "language": "python",
   "name": "python3"
  },
  "language_info": {
   "codemirror_mode": {
    "name": "ipython",
    "version": 3
   },
   "file_extension": ".py",
   "mimetype": "text/x-python",
   "name": "python",
   "nbconvert_exporter": "python",
   "pygments_lexer": "ipython3",
   "version": "3.5.3"
  }
 },
 "nbformat": 4,
 "nbformat_minor": 2
}
