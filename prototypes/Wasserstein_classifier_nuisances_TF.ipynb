{
 "cells": [
  {
   "cell_type": "code",
   "execution_count": 1,
   "metadata": {
    "collapsed": true
   },
   "outputs": [],
   "source": [
    "import numpy as np\n",
    "import matplotlib.pyplot as plt\n",
    "import copy\n",
    "from matplotlib.mlab import griddata"
   ]
  },
  {
   "cell_type": "code",
   "execution_count": 2,
   "metadata": {
    "collapsed": true
   },
   "outputs": [],
   "source": [
    "def prepare_data(n_samples):\n",
    "    data = []\n",
    "    labels = []\n",
    "    nuisances = []\n",
    "    \n",
    "    for i in range(n_samples):\n",
    "        sig_bkg = np.random.uniform(low = 0.0, high = 1.0, size = 1)\n",
    "        if sig_bkg > 0.5:\n",
    "            nuisance = np.random.uniform(low = 0.0, high = 2.0, size = 1)\n",
    "            data.append(np.random.multivariate_normal(mean = [0.0, nuisance], cov = np.array([[1, -0.5], [-0.5, 1]]), size = 1).flatten())\n",
    "            labels.append(1.0)\n",
    "        else:\n",
    "            nuisance = np.random.uniform(low = 0.0, high = 2.0, size = 1)\n",
    "            data.append(np.random.multivariate_normal(mean = [1.0, nuisance], cov = np.eye(2), size = 1).flatten())\n",
    "            labels.append(0.0)\n",
    "            \n",
    "        nuisances.append(nuisance)\n",
    "    data = np.array(data)\n",
    "    labels = np.array(labels)\n",
    "    nuisances = np.array(nuisances)\n",
    "    \n",
    "    return data, labels, nuisances.flatten()"
   ]
  },
  {
   "cell_type": "code",
   "execution_count": 3,
   "metadata": {
    "collapsed": false
   },
   "outputs": [],
   "source": [
    "num_samples = 50000\n",
    "data_train, labels_train, nuisances_train = prepare_data(num_samples)\n",
    "nuisances_train = np.expand_dims(nuisances_train, axis = 1)"
   ]
  },
  {
   "cell_type": "code",
   "execution_count": 4,
   "metadata": {
    "collapsed": false
   },
   "outputs": [],
   "source": [
    "import tensorflow as tf"
   ]
  },
  {
   "cell_type": "code",
   "execution_count": 5,
   "metadata": {
    "collapsed": true
   },
   "outputs": [],
   "source": [
    "import tensorflow.contrib.layers as layers"
   ]
  },
  {
   "cell_type": "code",
   "execution_count": 6,
   "metadata": {
    "collapsed": false
   },
   "outputs": [],
   "source": [
    "config = tf.ConfigProto(intra_op_parallelism_threads=8, inter_op_parallelism_threads=8, \\\n",
    "                        allow_soft_placement=True, device_count = {'CPU': 8})\n",
    "sess = tf.InteractiveSession(config = config)"
   ]
  },
  {
   "cell_type": "code",
   "execution_count": 7,
   "metadata": {
    "collapsed": false
   },
   "outputs": [],
   "source": [
    "# batch size for evaluation of mutual entropy\n",
    "EM_batch_size = num_samples\n",
    "\n",
    "# batch size for the training of the encoder / classifier pair\n",
    "batch_size = 200"
   ]
  },
  {
   "cell_type": "code",
   "execution_count": 8,
   "metadata": {
    "collapsed": true
   },
   "outputs": [],
   "source": [
    "data_in = tf.placeholder(tf.float32, [None, 2], name = 'data_in')\n",
    "nuisances_in = tf.placeholder(tf.float32, [None, 1], name = 'nuisances_in')\n",
    "labels_in = tf.placeholder(tf.int32, [None, ], name = 'labels_in')"
   ]
  },
  {
   "cell_type": "code",
   "execution_count": 9,
   "metadata": {
    "collapsed": true
   },
   "outputs": [],
   "source": [
    "labels_one_hot = tf.one_hot(labels_in, depth = 2)"
   ]
  },
  {
   "cell_type": "code",
   "execution_count": 10,
   "metadata": {
    "collapsed": true
   },
   "outputs": [],
   "source": [
    "def EM_network(data, name, reuse = tf.AUTO_REUSE):\n",
    "    with tf.variable_scope(name, reuse = reuse):       \n",
    "        lay = layers.relu(data, 40)\n",
    "        lay = layers.relu(lay, 40)\n",
    "        lay = layers.relu(lay, 20)\n",
    "        outputs = layers.linear(lay, 1)\n",
    "        \n",
    "    these_vars = tf.get_collection(tf.GraphKeys.GLOBAL_VARIABLES, scope = name)\n",
    "    \n",
    "    return outputs, these_vars"
   ]
  },
  {
   "cell_type": "code",
   "execution_count": 11,
   "metadata": {
    "collapsed": true
   },
   "outputs": [],
   "source": [
    "def EM_loss(data_P, data_Q, name):\n",
    "    local_EM_network_name = name + \"_EM_net\"\n",
    "    \n",
    "    T_P, EM_vars = EM_network(data_P, name = local_EM_network_name)\n",
    "    T_Q, _ = EM_network(data_Q, name = local_EM_network_name)\n",
    "\n",
    "    EM_loss = tf.reduce_mean(T_P, axis = 0) - tf.reduce_mean(T_Q, axis = 0)\n",
    "    \n",
    "    batch_size_dyn = tf.cast(tf.shape(T_P)[0], tf.int32)\n",
    "    rand = tf.random.uniform(shape = (batch_size_dyn, 1), minval = 0.0, maxval = 1.0)\n",
    "    \n",
    "    # add gradient penalty\n",
    "    x_grad = tf.math.add(tf.math.multiply(rand, data_P),\n",
    "                         tf.math.multiply(tf.math.subtract(1.0, rand), data_Q))\n",
    "    x_grad_EM, _ = EM_network(x_grad, name = local_EM_network_name)\n",
    "    grad = tf.gradients(x_grad_EM, x_grad)[0]\n",
    "    \n",
    "    grad_pen = tf.reduce_mean(tf.square(tf.math.abs(grad) - 1.0), axis = 0)[0]\n",
    "\n",
    "    EM_loss_grad_pen = EM_loss[0] + 10 * grad_pen\n",
    "\n",
    "    return EM_loss_grad_pen, EM_vars, -EM_loss"
   ]
  },
  {
   "cell_type": "code",
   "execution_count": 12,
   "metadata": {
    "collapsed": true
   },
   "outputs": [],
   "source": [
    "# this sets up everything for Wasserstein information loss\n",
    "def WIE_loss(data_X, data_Y, name):\n",
    "    # data drawn from p_XY\n",
    "    data_P = tf.concat([data_X, data_Y], axis = 1)\n",
    "    \n",
    "    data_Y_shuffled = tf.random.shuffle(data_Y)\n",
    "    # data drawn from p_X * p_Y\n",
    "    data_Q = tf.concat([data_X, data_Y_shuffled], axis = 1)\n",
    "    \n",
    "    return EM_loss(data_P, data_Q, name), data_Q"
   ]
  },
  {
   "cell_type": "code",
   "execution_count": 13,
   "metadata": {
    "collapsed": true
   },
   "outputs": [],
   "source": [
    "def classifier(classifier_input):\n",
    "    with tf.variable_scope(\"classifier\"):\n",
    "        lay = layers.relu(classifier_input, 40)\n",
    "        lay = layers.relu(lay, 40)\n",
    "        lay = layers.relu(lay, 2)\n",
    "        outputs = layers.softmax(lay)\n",
    "        \n",
    "        these_vars = tf.get_collection(tf.GraphKeys.GLOBAL_VARIABLES, scope = \"classifier\")\n",
    "\n",
    "    return outputs, these_vars"
   ]
  },
  {
   "cell_type": "code",
   "execution_count": 14,
   "metadata": {
    "collapsed": false
   },
   "outputs": [],
   "source": [
    "classifier_output, classifier_vars = classifier(data_in)"
   ]
  },
  {
   "cell_type": "code",
   "execution_count": 15,
   "metadata": {
    "collapsed": false
   },
   "outputs": [],
   "source": [
    "classification_loss = tf.losses.softmax_cross_entropy(onehot_labels = labels_one_hot, logits = classifier_output)"
   ]
  },
  {
   "cell_type": "code",
   "execution_count": 16,
   "metadata": {
    "collapsed": false
   },
   "outputs": [],
   "source": [
    "class_out_single = tf.expand_dims(classifier_output[:,1], axis = 1)"
   ]
  },
  {
   "cell_type": "code",
   "execution_count": 17,
   "metadata": {
    "collapsed": false
   },
   "outputs": [],
   "source": [
    "(EM_train_loss, EM_vars, EM_dist), dbg = WIE_loss(class_out_single, nuisances_in, name = \"WIE_loss\")"
   ]
  },
  {
   "cell_type": "code",
   "execution_count": 18,
   "metadata": {
    "collapsed": true
   },
   "outputs": [],
   "source": [
    "EM_regularized_classification_loss = classification_loss + 100 * EM_dist"
   ]
  },
  {
   "cell_type": "code",
   "execution_count": 19,
   "metadata": {
    "collapsed": true
   },
   "outputs": [],
   "source": [
    "train_classifier = tf.train.AdamOptimizer(learning_rate = 0.001, beta1 = 0.9, beta2 = 0.999).minimize(classification_loss, var_list = classifier_vars)"
   ]
  },
  {
   "cell_type": "code",
   "execution_count": 20,
   "metadata": {
    "collapsed": true
   },
   "outputs": [],
   "source": [
    "train_EM = tf.train.AdamOptimizer(learning_rate = 0.01, beta1 = 0.0, beta2 = 0.5).minimize(EM_train_loss, var_list = EM_vars)"
   ]
  },
  {
   "cell_type": "code",
   "execution_count": 21,
   "metadata": {
    "collapsed": false
   },
   "outputs": [],
   "source": [
    "train_EM_classifier = tf.train.AdamOptimizer(learning_rate = 0.001, beta1 = 0.3, beta2 = 0.5).minimize(EM_regularized_classification_loss, var_list = EM_vars + classifier_vars)"
   ]
  },
  {
   "cell_type": "code",
   "execution_count": 22,
   "metadata": {
    "collapsed": false
   },
   "outputs": [],
   "source": [
    "init_EM = tf.variables_initializer(var_list = EM_vars)"
   ]
  },
  {
   "cell_type": "code",
   "execution_count": 23,
   "metadata": {
    "collapsed": true
   },
   "outputs": [],
   "source": [
    "# combined training\n",
    "classification_loss_evolution = []\n",
    "MI_evolution = []\n",
    "number_batches = 20\n",
    "EM_batches = 300"
   ]
  },
  {
   "cell_type": "code",
   "execution_count": 24,
   "metadata": {
    "collapsed": true
   },
   "outputs": [],
   "source": [
    "number_epochs = 200"
   ]
  },
  {
   "cell_type": "code",
   "execution_count": 30,
   "metadata": {
    "collapsed": true
   },
   "outputs": [],
   "source": [
    "sess.run(tf.global_variables_initializer())"
   ]
  },
  {
   "cell_type": "code",
   "execution_count": 33,
   "metadata": {
    "collapsed": false
   },
   "outputs": [
    {
     "data": {
      "image/png": "[encoded data removed]",
      "text/plain": [
       "<Figure size 432x288 with 1 Axes>"
      ]
     },
     "metadata": {},
     "output_type": "display_data"
    }
   ],
   "source": [
    "data_X = sess.run(class_out_single, feed_dict = {data_in: data_train, nuisances_in: nuisances_train})\n",
    "data_Y = sess.run(nuisances_in, feed_dict = {data_in: data_train, nuisances_in: nuisances_train})\n",
    "plt.scatter(data_X, data_Y)\n",
    "plt.show()"
   ]
  },
  {
   "cell_type": "code",
   "execution_count": 34,
   "metadata": {
    "collapsed": false,
    "scrolled": true
   },
   "outputs": [
    {
     "name": "stdout",
     "output_type": "stream",
     "text": [
      "EM_dist = [0.00046879]\n",
      "EM_dist = [0.0029034]\n",
      "EM_dist = [0.00865757]\n",
      "EM_dist = [0.00717309]\n",
      "EM_dist = [0.01042414]\n",
      "EM_dist = [0.00903457]\n",
      "EM_dist = [0.01203233]\n",
      "EM_dist = [0.0083074]\n",
      "EM_dist = [0.01218265]\n",
      "EM_dist = [0.00981647]\n",
      "EM_dist = [0.01288843]\n",
      "EM_dist = [0.00825813]\n",
      "EM_dist = [0.01134443]\n",
      "EM_dist = [0.00814304]\n",
      "EM_dist = [0.01107836]\n",
      "EM_dist = [0.00850827]\n",
      "EM_dist = [0.01151901]\n",
      "EM_dist = [0.00640029]\n",
      "EM_dist = [0.01063532]\n",
      "EM_dist = [0.00574332]\n",
      "EM_dist = [0.00972033]\n",
      "EM_dist = [0.00501525]\n",
      "EM_dist = [0.00862563]\n",
      "EM_dist = [0.00389206]\n",
      "EM_dist = [0.00712502]\n",
      "EM_dist = [0.00370443]\n",
      "EM_dist = [0.00721657]\n",
      "EM_dist = [0.00363469]\n",
      "EM_dist = [0.00669146]\n",
      "EM_dist = [0.00374824]\n",
      "EM_dist = [0.00557578]\n",
      "EM_dist = [0.00307971]\n",
      "EM_dist = [0.00654936]\n",
      "EM_dist = [0.00346386]\n",
      "EM_dist = [0.00573099]\n",
      "EM_dist = [0.00346386]\n",
      "EM_dist = [0.00555778]\n",
      "EM_dist = [0.00240916]\n",
      "EM_dist = [0.00481248]\n",
      "EM_dist = [0.00310922]\n",
      "EM_dist = [0.00500381]\n",
      "EM_dist = [0.00224185]\n",
      "EM_dist = [0.00444973]\n",
      "EM_dist = [0.00215864]\n",
      "EM_dist = [0.00447142]\n",
      "EM_dist = [0.00272906]\n",
      "EM_dist = [0.0042696]\n",
      "EM_dist = [0.0019682]\n",
      "EM_dist = [0.00433588]\n",
      "EM_dist = [0.00291407]\n",
      "EM_dist = [0.00432086]\n",
      "EM_dist = [0.00170314]\n",
      "EM_dist = [0.00392544]\n",
      "EM_dist = [0.00296521]\n",
      "EM_dist = [0.00421154]\n",
      "EM_dist = [0.00168645]\n",
      "EM_dist = [0.003883]\n",
      "EM_dist = [0.00278318]\n",
      "EM_dist = [0.00372326]\n",
      "EM_dist = [0.00160372]\n",
      "EM_dist = [0.00373912]\n",
      "EM_dist = [0.00272107]\n",
      "EM_dist = [0.00344157]\n",
      "EM_dist = [0.00117731]\n",
      "EM_dist = [0.00325251]\n",
      "EM_dist = [0.00265884]\n",
      "EM_dist = [0.00338399]\n",
      "EM_dist = [0.00152075]\n",
      "EM_dist = [0.00306821]\n",
      "EM_dist = [0.00227463]\n",
      "EM_dist = [0.00324738]\n",
      "EM_dist = [0.00156868]\n",
      "EM_dist = [0.00305974]\n",
      "EM_dist = [0.00230706]\n",
      "EM_dist = [0.00298381]\n",
      "EM_dist = [0.00181818]\n",
      "EM_dist = [0.00307369]\n",
      "EM_dist = [0.00269425]\n",
      "EM_dist = [0.00316107]\n",
      "EM_dist = [0.00137877]\n",
      "EM_dist = [0.00302148]\n",
      "EM_dist = [0.00225294]\n",
      "EM_dist = [0.00289249]\n",
      "EM_dist = [0.0014714]\n",
      "EM_dist = [0.00260222]\n",
      "EM_dist = [0.00193071]\n",
      "EM_dist = [0.0028609]\n",
      "EM_dist = [0.00118673]\n",
      "EM_dist = [0.00261652]\n",
      "EM_dist = [0.00193417]\n",
      "EM_dist = [0.00272179]\n",
      "EM_dist = [0.00124943]\n",
      "EM_dist = [0.00239313]\n",
      "EM_dist = [0.00180137]\n",
      "EM_dist = [0.00212061]\n",
      "EM_dist = [0.00120926]\n",
      "EM_dist = [0.00223351]\n",
      "EM_dist = [0.00190341]\n",
      "EM_dist = [0.00238943]\n",
      "EM_dist = [0.00112319]\n",
      "EM_dist = [0.00213778]\n",
      "EM_dist = [0.0014081]\n",
      "EM_dist = [0.00191879]\n",
      "EM_dist = [0.00102532]\n",
      "EM_dist = [0.00227141]\n",
      "EM_dist = [0.00146842]\n",
      "EM_dist = [0.00241864]\n",
      "EM_dist = [0.00127149]\n",
      "EM_dist = [0.00233114]\n",
      "EM_dist = [0.00161028]\n",
      "EM_dist = [0.00226545]\n",
      "EM_dist = [0.00096273]\n",
      "EM_dist = [0.00146246]\n",
      "EM_dist = [0.00142753]\n",
      "EM_dist = [0.00202382]\n",
      "EM_dist = [0.00123405]\n",
      "EM_dist = [0.00223505]\n",
      "EM_dist = [0.00134087]\n",
      "EM_dist = [0.00223243]\n",
      "EM_dist = [0.00136673]\n",
      "EM_dist = [0.00213408]\n",
      "EM_dist = [0.00115275]\n",
      "EM_dist = [0.00169373]\n",
      "EM_dist = [0.00124788]\n",
      "EM_dist = [0.00183249]\n",
      "EM_dist = [0.00099838]\n",
      "EM_dist = [0.00221717]\n",
      "EM_dist = [0.00151885]\n",
      "EM_dist = [0.00206399]\n",
      "EM_dist = [0.00105643]\n",
      "EM_dist = [0.00168061]\n",
      "EM_dist = [0.0010711]\n",
      "EM_dist = [0.00159621]\n",
      "EM_dist = [0.00119984]\n",
      "EM_dist = [0.00218546]\n",
      "EM_dist = [0.00086844]\n",
      "EM_dist = [0.00198174]\n",
      "EM_dist = [0.0012176]\n",
      "EM_dist = [0.00215578]\n",
      "EM_dist = [0.00080013]\n",
      "EM_dist = [0.00185037]\n",
      "EM_dist = [0.0013113]\n",
      "EM_dist = [0.00170374]\n",
      "EM_dist = [0.00087917]\n",
      "EM_dist = [0.00156248]\n",
      "EM_dist = [0.00121486]\n",
      "EM_dist = [0.00152576]\n",
      "EM_dist = [0.00058389]\n",
      "EM_dist = [0.00105798]\n",
      "EM_dist = [0.00124562]\n",
      "EM_dist = [0.0015713]\n",
      "EM_dist = [0.00058532]\n",
      "EM_dist = [0.00119972]\n",
      "EM_dist = [0.00111425]\n",
      "EM_dist = [0.00141466]\n",
      "EM_dist = [0.00055194]\n",
      "EM_dist = [0.0013113]\n",
      "EM_dist = [0.00117683]\n",
      "EM_dist = [0.00154984]\n",
      "EM_dist = [0.0006597]\n",
      "EM_dist = [0.00095212]\n",
      "EM_dist = [0.00108445]\n",
      "EM_dist = [0.00140727]\n",
      "EM_dist = [0.00067115]\n",
      "EM_dist = [0.00141597]\n",
      "EM_dist = [0.0011797]\n",
      "EM_dist = [0.00136256]\n",
      "EM_dist = [0.00059199]\n",
      "EM_dist = [0.00121808]\n",
      "EM_dist = [0.00085092]\n",
      "EM_dist = [0.00128567]\n",
      "EM_dist = [0.00058699]\n",
      "EM_dist = [0.00118816]\n",
      "EM_dist = [0.00125623]\n",
      "EM_dist = [0.00143266]\n",
      "EM_dist = [0.00055909]\n",
      "EM_dist = [0.00138223]\n",
      "EM_dist = [0.00109088]\n",
      "EM_dist = [0.00133431]\n",
      "EM_dist = [0.00043869]\n",
      "EM_dist = [0.0009104]\n",
      "EM_dist = [0.00115037]\n",
      "EM_dist = [0.0014168]\n",
      "EM_dist = [0.00060439]\n",
      "EM_dist = [0.00121081]\n",
      "EM_dist = [0.00099099]\n",
      "EM_dist = [0.00132203]\n",
      "EM_dist = [0.00072062]\n",
      "EM_dist = [0.00146198]\n",
      "EM_dist = [0.000898]\n",
      "EM_dist = [0.00137055]\n",
      "EM_dist = [0.00067401]\n",
      "EM_dist = [0.00113666]\n",
      "EM_dist = [0.00118399]\n",
      "EM_dist = [0.00135171]\n",
      "EM_dist = [0.00063336]\n",
      "EM_dist = [0.00124371]\n",
      "EM_dist = [0.001019]\n",
      "EM_dist = [0.00126171]\n",
      "EM_dist = [0.00045705]\n",
      "EM_dist = [0.00118792]\n",
      "EM_dist = [0.0011493]\n",
      "EM_dist = [0.00137115]\n",
      "EM_dist = [0.00071275]\n",
      "EM_dist = [0.00116539]\n",
      "EM_dist = [0.00103867]\n",
      "EM_dist = [0.00139749]\n",
      "EM_dist = [0.0005917]\n",
      "EM_dist = [0.00149906]\n",
      "EM_dist = [0.00113893]\n",
      "EM_dist = [0.0013454]\n",
      "EM_dist = [0.00069302]\n",
      "EM_dist = [0.00099134]\n",
      "EM_dist = [0.00122511]\n",
      "EM_dist = [0.00169432]\n",
      "EM_dist = [0.00095826]\n",
      "EM_dist = [0.00175738]\n",
      "EM_dist = [0.00192583]\n",
      "EM_dist = [0.00236237]\n",
      "EM_dist = [0.0014503]\n",
      "EM_dist = [0.002473]\n",
      "EM_dist = [0.00231147]\n",
      "EM_dist = [0.00275362]\n",
      "EM_dist = [0.00181288]\n",
      "EM_dist = [0.00242054]\n",
      "EM_dist = [0.00244343]\n",
      "EM_dist = [0.00296676]\n",
      "EM_dist = [0.00187993]\n",
      "EM_dist = [0.00283635]\n",
      "EM_dist = [0.00201303]\n",
      "EM_dist = [0.00284767]\n",
      "EM_dist = [0.00157338]\n",
      "EM_dist = [0.00304496]\n",
      "EM_dist = [0.00249815]\n",
      "EM_dist = [0.0030365]\n",
      "EM_dist = [0.00198382]\n",
      "EM_dist = [0.0029093]\n",
      "EM_dist = [0.00194907]\n",
      "EM_dist = [0.00290096]\n",
      "EM_dist = [0.00178385]\n",
      "EM_dist = [0.00258458]\n",
      "EM_dist = [0.00209498]\n",
      "EM_dist = [0.00276828]\n",
      "EM_dist = [0.00170249]\n",
      "EM_dist = [0.00209963]\n",
      "EM_dist = [0.0018872]\n",
      "EM_dist = [0.00257838]\n",
      "EM_dist = [0.00136328]\n",
      "EM_dist = [0.00239921]\n",
      "EM_dist = [0.00161296]\n",
      "EM_dist = [0.002267]\n",
      "EM_dist = [0.00138956]\n",
      "EM_dist = [0.00224984]\n",
      "EM_dist = [0.0014807]\n",
      "EM_dist = [0.00219393]\n",
      "EM_dist = [0.00139439]\n",
      "EM_dist = [0.00200307]\n",
      "EM_dist = [0.00136852]\n",
      "EM_dist = [0.00218093]\n",
      "EM_dist = [0.00138938]\n",
      "EM_dist = [0.00209796]\n",
      "EM_dist = [0.00134766]\n",
      "EM_dist = [0.00193405]\n",
      "EM_dist = [0.00115478]\n",
      "EM_dist = [0.0019269]\n",
      "EM_dist = [0.00133049]\n",
      "EM_dist = [0.00183523]\n",
      "EM_dist = [0.0008471]\n",
      "EM_dist = [0.00171077]\n",
      "EM_dist = [0.00150383]\n",
      "EM_dist = [0.00191522]\n",
      "EM_dist = [0.00086093]\n",
      "EM_dist = [0.0012548]\n",
      "EM_dist = [0.0013566]\n",
      "EM_dist = [0.00155497]\n",
      "EM_dist = [0.00075674]\n",
      "EM_dist = [0.00103259]\n",
      "EM_dist = [0.00122225]\n",
      "EM_dist = [0.00158072]\n",
      "EM_dist = [0.00063372]\n",
      "EM_dist = [0.00154233]\n",
      "EM_dist = [0.00110519]\n",
      "EM_dist = [0.00140357]\n",
      "EM_dist = [0.00106931]\n",
      "EM_dist = [0.00182927]\n",
      "EM_dist = [0.00080907]\n",
      "EM_dist = [0.0015645]\n",
      "EM_dist = [0.00119114]\n",
      "EM_dist = [0.00162983]\n",
      "EM_dist = [0.00078928]\n",
      "EM_dist = [0.00143635]\n",
      "EM_dist = [0.00107706]\n",
      "EM_dist = [0.00159693]\n",
      "EM_dist = [0.00074601]\n",
      "EM_dist = [0.00107622]\n",
      "EM_dist = [0.00118458]\n",
      "EM_dist = [0.00146985]\n",
      "EM_dist = [0.00063902]\n",
      "EM_dist = [0.00156772]\n",
      "EM_dist = [0.000898]\n"
     ]
    }
   ],
   "source": [
    "for batch in range(EM_batches):\n",
    "    sess.run(train_EM, feed_dict = {data_in: data_train, nuisances_in: nuisances_train})\n",
    "    EM_dist_val = sess.run(EM_dist, feed_dict = {data_in: data_train, nuisances_in: nuisances_train})\n",
    "    \n",
    "    print(\"EM_dist = {}\".format(EM_dist_val))"
   ]
  },
  {
   "cell_type": "code",
   "execution_count": 32,
   "metadata": {
    "collapsed": false
   },
   "outputs": [
    {
     "name": "stdout",
     "output_type": "stream",
     "text": [
      "epoch 0\n",
      "EM_dist = [0.00072059], class_loss = 0.7107006311416626\n",
      "epoch 1\n",
      "EM_dist = [0.00069515], class_loss = 0.6659150123596191\n",
      "epoch 2\n",
      "EM_dist = [0.00073905], class_loss = 0.6554555296897888\n",
      "epoch 3\n",
      "EM_dist = [0.00115566], class_loss = 0.641711950302124\n",
      "epoch 4\n",
      "EM_dist = [-2.0749867e-05], class_loss = 0.6080396771430969\n",
      "epoch 5\n",
      "EM_dist = [-0.00036281], class_loss = 0.5990521311759949\n",
      "epoch 6\n",
      "EM_dist = [-0.00099085], class_loss = 0.5947334170341492\n",
      "epoch 7\n",
      "EM_dist = [-0.0010418], class_loss = 0.5932551026344299\n",
      "epoch 8\n",
      "EM_dist = [-0.00128306], class_loss = 0.591707706451416\n",
      "epoch 9\n",
      "EM_dist = [-0.00130179], class_loss = 0.5908865332603455\n",
      "epoch 10\n",
      "EM_dist = [-0.00147161], class_loss = 0.5918871760368347\n",
      "epoch 11\n",
      "EM_dist = [-0.00143285], class_loss = 0.5901516675949097\n",
      "epoch 12\n",
      "EM_dist = [-0.00150973], class_loss = 0.5907160639762878\n",
      "epoch 13\n",
      "EM_dist = [-0.00123955], class_loss = 0.5911017060279846\n",
      "epoch 14\n",
      "EM_dist = [-0.00136029], class_loss = 0.5895605087280273\n",
      "epoch 15\n",
      "EM_dist = [-0.00128032], class_loss = 0.5896461009979248\n",
      "epoch 16\n",
      "EM_dist = [-0.00163373], class_loss = 0.5892579555511475\n",
      "epoch 17\n",
      "EM_dist = [-0.00157132], class_loss = 0.5892305374145508\n",
      "epoch 18\n",
      "EM_dist = [-0.00155923], class_loss = 0.5893338322639465\n",
      "epoch 19\n",
      "EM_dist = [-0.00141018], class_loss = 0.5890406370162964\n",
      "epoch 20\n",
      "EM_dist = [-0.00137345], class_loss = 0.5898422002792358\n",
      "epoch 21\n",
      "EM_dist = [-0.0010932], class_loss = 0.5894453525543213\n",
      "epoch 22\n",
      "EM_dist = [-0.00147829], class_loss = 0.5890271067619324\n",
      "epoch 23\n",
      "EM_dist = [-0.00168562], class_loss = 0.5894436836242676\n",
      "epoch 24\n",
      "EM_dist = [-0.00162161], class_loss = 0.5889161825180054\n",
      "epoch 25\n",
      "EM_dist = [-0.00152222], class_loss = 0.5889606475830078\n",
      "epoch 26\n",
      "EM_dist = [-0.00153723], class_loss = 0.5888407230377197\n",
      "epoch 27\n",
      "EM_dist = [-0.00147826], class_loss = 0.588970959186554\n",
      "epoch 28\n",
      "EM_dist = [-0.00156514], class_loss = 0.5888698697090149\n",
      "epoch 29\n",
      "EM_dist = [-0.00151005], class_loss = 0.5892782211303711\n",
      "epoch 30\n",
      "EM_dist = [-0.00169653], class_loss = 0.5908373594284058\n",
      "epoch 31\n",
      "EM_dist = [-0.0013745], class_loss = 0.5897659659385681\n",
      "epoch 32\n",
      "EM_dist = [-0.00153832], class_loss = 0.5890437960624695\n",
      "epoch 33\n",
      "EM_dist = [-0.00161228], class_loss = 0.588872492313385\n",
      "epoch 34\n",
      "EM_dist = [-0.00173208], class_loss = 0.5889805555343628\n",
      "epoch 35\n",
      "EM_dist = [-0.00164118], class_loss = 0.5886696577072144\n",
      "epoch 36\n",
      "EM_dist = [-0.00163455], class_loss = 0.5886828303337097\n",
      "epoch 37\n",
      "EM_dist = [-0.00167824], class_loss = 0.5889930725097656\n",
      "epoch 38\n",
      "EM_dist = [-0.00160652], class_loss = 0.5887754559516907\n",
      "epoch 39\n",
      "EM_dist = [-0.00136283], class_loss = 0.5890109539031982\n",
      "epoch 40\n",
      "EM_dist = [-0.00151119], class_loss = 0.5887210369110107\n",
      "epoch 41\n",
      "EM_dist = [-0.00164837], class_loss = 0.5885618329048157\n",
      "epoch 42\n",
      "EM_dist = [-0.00166886], class_loss = 0.5885546207427979\n",
      "epoch 43\n",
      "EM_dist = [-0.00184896], class_loss = 0.5892922878265381\n",
      "epoch 44\n",
      "EM_dist = [-0.0017072], class_loss = 0.588739275932312\n",
      "epoch 45\n",
      "EM_dist = [-0.00163534], class_loss = 0.5887216925621033\n",
      "epoch 46\n",
      "EM_dist = [-0.00161903], class_loss = 0.5886947512626648\n",
      "epoch 47\n",
      "EM_dist = [-0.00158459], class_loss = 0.5888245105743408\n",
      "epoch 48\n",
      "EM_dist = [-0.00156803], class_loss = 0.5887764692306519\n",
      "epoch 49\n",
      "EM_dist = [-0.00152709], class_loss = 0.5895602107048035\n",
      "epoch 50\n",
      "EM_dist = [-0.00141248], class_loss = 0.5885961055755615\n",
      "epoch 51\n",
      "EM_dist = [-0.00164227], class_loss = 0.5883117318153381\n",
      "epoch 52\n",
      "EM_dist = [-0.00158485], class_loss = 0.5883520841598511\n",
      "epoch 53\n",
      "EM_dist = [-0.00166174], class_loss = 0.5883324146270752\n",
      "epoch 54\n",
      "EM_dist = [-0.00164469], class_loss = 0.5885564684867859\n",
      "epoch 55\n",
      "EM_dist = [-0.0016526], class_loss = 0.5892074108123779\n",
      "epoch 56\n",
      "EM_dist = [-0.00148286], class_loss = 0.5897298455238342\n",
      "epoch 57\n",
      "EM_dist = [-0.00152936], class_loss = 0.5891101956367493\n",
      "epoch 58\n",
      "EM_dist = [-0.00198157], class_loss = 0.588679850101471\n",
      "epoch 59\n",
      "EM_dist = [-0.00181331], class_loss = 0.588860809803009\n",
      "epoch 60\n",
      "EM_dist = [-0.00157655], class_loss = 0.5882745981216431\n",
      "epoch 61\n",
      "EM_dist = [-0.00164291], class_loss = 0.5881170034408569\n",
      "epoch 62\n",
      "EM_dist = [-0.00162184], class_loss = 0.5882661938667297\n",
      "epoch 63\n",
      "EM_dist = [-0.00153393], class_loss = 0.5883632302284241\n",
      "epoch 64\n",
      "EM_dist = [-0.0016707], class_loss = 0.5887401700019836\n",
      "epoch 65\n",
      "EM_dist = [-0.00163619], class_loss = 0.5883254408836365\n",
      "epoch 66\n",
      "EM_dist = [-0.00154781], class_loss = 0.5883461833000183\n",
      "epoch 67\n",
      "EM_dist = [-0.00185411], class_loss = 0.5888500213623047\n",
      "epoch 68\n",
      "EM_dist = [-0.00157654], class_loss = 0.5880935788154602\n",
      "epoch 69\n",
      "EM_dist = [-0.00147744], class_loss = 0.5880507230758667\n",
      "epoch 70\n",
      "EM_dist = [-0.00144741], class_loss = 0.5880820155143738\n",
      "epoch 71\n",
      "EM_dist = [-0.00140533], class_loss = 0.5880001187324524\n",
      "epoch 72\n",
      "EM_dist = [-0.00153702], class_loss = 0.5883543491363525\n",
      "epoch 73\n",
      "EM_dist = [-0.00181404], class_loss = 0.5885465741157532\n",
      "epoch 74\n",
      "EM_dist = [-0.00144424], class_loss = 0.5884434580802917\n",
      "epoch 75\n",
      "EM_dist = [-0.00164112], class_loss = 0.5881427526473999\n",
      "epoch 76\n",
      "EM_dist = [-0.00174148], class_loss = 0.5880304574966431\n",
      "epoch 77\n",
      "EM_dist = [-0.00155444], class_loss = 0.5879464745521545\n",
      "epoch 78\n",
      "EM_dist = [-0.00143926], class_loss = 0.5888251066207886\n",
      "epoch 79\n",
      "EM_dist = [-0.00099136], class_loss = 0.5898183584213257\n",
      "epoch 80\n",
      "EM_dist = [-0.00144386], class_loss = 0.5880671739578247\n",
      "epoch 81\n",
      "EM_dist = [-0.00162977], class_loss = 0.5889951586723328\n",
      "epoch 82\n",
      "EM_dist = [-0.0016152], class_loss = 0.5893281102180481\n",
      "epoch 83\n",
      "EM_dist = [-0.00154404], class_loss = 0.5882518887519836\n",
      "epoch 84\n",
      "EM_dist = [-0.00156701], class_loss = 0.5880293846130371\n",
      "epoch 85\n",
      "EM_dist = [-0.00136852], class_loss = 0.5878089666366577\n",
      "epoch 86\n",
      "EM_dist = [-0.00139621], class_loss = 0.5882062315940857\n",
      "epoch 87\n",
      "EM_dist = [-0.00164103], class_loss = 0.5878331661224365\n",
      "epoch 88\n",
      "EM_dist = [-0.00143962], class_loss = 0.5879477858543396\n",
      "epoch 89\n",
      "EM_dist = [-0.0013895], class_loss = 0.5879223942756653\n",
      "epoch 90\n",
      "EM_dist = [-0.00127174], class_loss = 0.5882382988929749\n",
      "epoch 91\n",
      "EM_dist = [-0.00164666], class_loss = 0.587924063205719\n",
      "epoch 92\n",
      "EM_dist = [-0.00170927], class_loss = 0.5889409184455872\n",
      "epoch 93\n",
      "EM_dist = [-0.00149205], class_loss = 0.5895149111747742\n",
      "epoch 94\n",
      "EM_dist = [-0.00140585], class_loss = 0.5881547927856445\n",
      "epoch 95\n",
      "EM_dist = [-0.00155712], class_loss = 0.5880330801010132\n",
      "epoch 96\n",
      "EM_dist = [-0.00154029], class_loss = 0.587709903717041\n",
      "epoch 97\n",
      "EM_dist = [-0.00167271], class_loss = 0.5877665877342224\n",
      "epoch 98\n",
      "EM_dist = [-0.0014845], class_loss = 0.5876314043998718\n",
      "epoch 99\n",
      "EM_dist = [-0.00142961], class_loss = 0.587756335735321\n",
      "epoch 100\n",
      "EM_dist = [-0.00138476], class_loss = 0.587699830532074\n",
      "epoch 101\n",
      "EM_dist = [-0.00154012], class_loss = 0.5876187682151794\n",
      "epoch 102\n",
      "EM_dist = [-0.00177558], class_loss = 0.587906539440155\n",
      "epoch 103\n",
      "EM_dist = [-0.00158453], class_loss = 0.5891770124435425\n",
      "epoch 104\n",
      "EM_dist = [-0.00158501], class_loss = 0.5879080295562744\n",
      "epoch 105\n",
      "EM_dist = [-0.00145771], class_loss = 0.5876893997192383\n",
      "epoch 106\n",
      "EM_dist = [-0.0013622], class_loss = 0.5880632996559143\n",
      "epoch 107\n",
      "EM_dist = [-0.00116935], class_loss = 0.5882565379142761\n",
      "epoch 108\n",
      "EM_dist = [-0.00109269], class_loss = 0.588478147983551\n",
      "epoch 109\n",
      "EM_dist = [-0.0012283], class_loss = 0.5878201723098755\n",
      "epoch 110\n",
      "EM_dist = [-0.00132297], class_loss = 0.5877885818481445\n",
      "epoch 111\n",
      "EM_dist = [-0.00148789], class_loss = 0.5875847339630127\n",
      "epoch 112\n",
      "EM_dist = [-0.00139469], class_loss = 0.5877783298492432\n",
      "epoch 113\n",
      "EM_dist = [-0.0015064], class_loss = 0.5877697467803955\n",
      "epoch 114\n",
      "EM_dist = [-0.00168239], class_loss = 0.5883875489234924\n",
      "epoch 115\n",
      "EM_dist = [-0.00150152], class_loss = 0.5881946682929993\n",
      "epoch 116\n",
      "EM_dist = [-0.00164283], class_loss = 0.5877922773361206\n",
      "epoch 117\n",
      "EM_dist = [-0.00157417], class_loss = 0.5874772071838379\n",
      "epoch 118\n",
      "EM_dist = [-0.0014642], class_loss = 0.587568461894989\n",
      "epoch 119\n",
      "EM_dist = [-0.00155255], class_loss = 0.5876356959342957\n",
      "epoch 120\n",
      "EM_dist = [-0.00148654], class_loss = 0.5876094698905945\n",
      "epoch 121\n",
      "EM_dist = [-0.00138216], class_loss = 0.5876488089561462\n",
      "epoch 122\n",
      "EM_dist = [-0.00156772], class_loss = 0.5880445837974548\n",
      "epoch 123\n",
      "EM_dist = [-0.00152797], class_loss = 0.5876241326332092\n",
      "epoch 124\n",
      "EM_dist = [-0.00151509], class_loss = 0.587876558303833\n",
      "epoch 125\n",
      "EM_dist = [-0.00155727], class_loss = 0.5877386927604675\n",
      "epoch 126\n",
      "EM_dist = [-0.00137772], class_loss = 0.5877823829650879\n",
      "epoch 127\n",
      "EM_dist = [-0.00121351], class_loss = 0.5888658165931702\n",
      "epoch 128\n",
      "EM_dist = [-0.00137408], class_loss = 0.5876826643943787\n",
      "epoch 129\n",
      "EM_dist = [-0.00157039], class_loss = 0.5878182053565979\n",
      "epoch 130\n",
      "EM_dist = [-0.00167009], class_loss = 0.5882999897003174\n",
      "epoch 131\n",
      "EM_dist = [-0.00150905], class_loss = 0.587393581867218\n",
      "epoch 132\n",
      "EM_dist = [-0.00142676], class_loss = 0.5874840617179871\n",
      "epoch 133\n",
      "EM_dist = [-0.0015606], class_loss = 0.5875333547592163\n",
      "epoch 134\n",
      "EM_dist = [-0.00155621], class_loss = 0.5873781442642212\n",
      "epoch 135\n",
      "EM_dist = [-0.00174752], class_loss = 0.587704062461853\n",
      "epoch 136\n",
      "EM_dist = [-0.00166158], class_loss = 0.5874220132827759\n",
      "epoch 137\n",
      "EM_dist = [-0.00150292], class_loss = 0.5874125957489014\n",
      "epoch 138\n",
      "EM_dist = [-0.00143065], class_loss = 0.5873984098434448\n",
      "epoch 139\n",
      "EM_dist = [-0.00145589], class_loss = 0.5874923467636108\n",
      "epoch 140\n",
      "EM_dist = [-0.00135459], class_loss = 0.587598443031311\n",
      "epoch 141\n",
      "EM_dist = [-0.0015889], class_loss = 0.5882424712181091\n",
      "epoch 142\n",
      "EM_dist = [-0.0018152], class_loss = 0.5879074335098267\n",
      "epoch 143\n",
      "EM_dist = [-0.00151525], class_loss = 0.5873222947120667\n",
      "epoch 144\n",
      "EM_dist = [-0.00141886], class_loss = 0.5877691507339478\n",
      "epoch 145\n",
      "EM_dist = [-0.00144172], class_loss = 0.5873497128486633\n",
      "epoch 146\n",
      "EM_dist = [-0.00147595], class_loss = 0.5875266790390015\n",
      "epoch 147\n",
      "EM_dist = [-0.00147051], class_loss = 0.5873453617095947\n",
      "epoch 148\n",
      "EM_dist = [-0.00151957], class_loss = 0.5872790813446045\n",
      "epoch 149\n",
      "EM_dist = [-0.00142977], class_loss = 0.5875051617622375\n",
      "epoch 150\n",
      "EM_dist = [-0.00153537], class_loss = 0.5875643491744995\n",
      "epoch 151\n",
      "EM_dist = [-0.00171325], class_loss = 0.5873779058456421\n",
      "epoch 152\n",
      "EM_dist = [-0.00132616], class_loss = 0.5879170894622803\n",
      "epoch 153\n",
      "EM_dist = [-0.00160389], class_loss = 0.587539792060852\n",
      "epoch 154\n",
      "EM_dist = [-0.00164939], class_loss = 0.5875282883644104\n",
      "epoch 155\n",
      "EM_dist = [-0.00129444], class_loss = 0.5875386595726013\n",
      "epoch 156\n",
      "EM_dist = [-0.00137767], class_loss = 0.5883311629295349\n",
      "epoch 157\n",
      "EM_dist = [-0.00158324], class_loss = 0.5872267484664917\n",
      "epoch 158\n",
      "EM_dist = [-0.00150029], class_loss = 0.5874833464622498\n",
      "epoch 159\n",
      "EM_dist = [-0.00146067], class_loss = 0.5892002582550049\n",
      "epoch 160\n",
      "EM_dist = [-0.00146358], class_loss = 0.5872993469238281\n",
      "epoch 161\n",
      "EM_dist = [-0.00129212], class_loss = 0.5873075127601624\n",
      "epoch 162\n",
      "EM_dist = [-0.00149591], class_loss = 0.5871835350990295\n",
      "epoch 163\n",
      "EM_dist = [-0.00152902], class_loss = 0.5874367952346802\n",
      "epoch 164\n",
      "EM_dist = [-0.00154488], class_loss = 0.5873845815658569\n",
      "epoch 165\n",
      "EM_dist = [-0.0016192], class_loss = 0.5874991416931152\n",
      "epoch 166\n",
      "EM_dist = [-0.0013952], class_loss = 0.587257444858551\n",
      "epoch 167\n",
      "EM_dist = [-0.00132065], class_loss = 0.5875358581542969\n",
      "epoch 168\n",
      "EM_dist = [-0.00112262], class_loss = 0.5877851843833923\n",
      "epoch 169\n",
      "EM_dist = [-0.00139241], class_loss = 0.5871933102607727\n",
      "epoch 170\n",
      "EM_dist = [-0.00153255], class_loss = 0.5872722864151001\n",
      "epoch 171\n",
      "EM_dist = [-0.00151127], class_loss = 0.5872517824172974\n",
      "epoch 172\n",
      "EM_dist = [-0.00157025], class_loss = 0.5877651572227478\n",
      "epoch 173\n",
      "EM_dist = [-0.00142296], class_loss = 0.5873833298683167\n",
      "epoch 174\n",
      "EM_dist = [-0.00137976], class_loss = 0.5880288481712341\n",
      "epoch 175\n",
      "EM_dist = [-0.00144406], class_loss = 0.5874379873275757\n",
      "epoch 176\n",
      "EM_dist = [-0.00169274], class_loss = 0.5881106853485107\n",
      "epoch 177\n",
      "EM_dist = [-0.00160504], class_loss = 0.5873165726661682\n",
      "epoch 178\n",
      "EM_dist = [-0.00135894], class_loss = 0.5872377753257751\n",
      "epoch 179\n",
      "EM_dist = [-0.00131881], class_loss = 0.5877410173416138\n",
      "epoch 180\n",
      "EM_dist = [-0.0014127], class_loss = 0.5872745513916016\n",
      "epoch 181\n",
      "EM_dist = [-0.00139903], class_loss = 0.5875111818313599\n",
      "epoch 182\n",
      "EM_dist = [-0.00161726], class_loss = 0.588336706161499\n",
      "epoch 183\n",
      "EM_dist = [-0.00169263], class_loss = 0.5872542858123779\n",
      "epoch 184\n",
      "EM_dist = [-0.00164435], class_loss = 0.5873128771781921\n",
      "epoch 185\n",
      "EM_dist = [-0.00148273], class_loss = 0.5872067213058472\n",
      "epoch 186\n",
      "EM_dist = [-0.00153991], class_loss = 0.5871961712837219\n",
      "epoch 187\n",
      "EM_dist = [-0.00164277], class_loss = 0.5873763561248779\n",
      "epoch 188\n",
      "EM_dist = [-0.00166917], class_loss = 0.5872563123703003\n",
      "epoch 189\n",
      "EM_dist = [-0.0014049], class_loss = 0.5871967077255249\n",
      "epoch 190\n",
      "EM_dist = [-0.00129531], class_loss = 0.5874547362327576\n",
      "epoch 191\n",
      "EM_dist = [-0.00132978], class_loss = 0.5875869393348694\n",
      "epoch 192\n",
      "EM_dist = [-0.00125983], class_loss = 0.5876561999320984\n",
      "epoch 193\n",
      "EM_dist = [-0.00149389], class_loss = 0.5871851444244385\n",
      "epoch 194\n",
      "EM_dist = [-0.00134856], class_loss = 0.5872534513473511\n",
      "epoch 195\n",
      "EM_dist = [-0.00122582], class_loss = 0.5871906280517578\n",
      "epoch 196\n",
      "EM_dist = [-0.00128525], class_loss = 0.5872918963432312\n",
      "epoch 197\n",
      "EM_dist = [-0.0013155], class_loss = 0.5873053669929504\n",
      "epoch 198\n",
      "EM_dist = [-0.00128751], class_loss = 0.5873211622238159\n",
      "epoch 199\n",
      "EM_dist = [-0.00149297], class_loss = 0.5879160761833191\n"
     ]
    }
   ],
   "source": [
    "for epoch in range(number_epochs):\n",
    "    print(\"epoch {}\".format(epoch))\n",
    "\n",
    "    #for epoch_EM in range(20):\n",
    "    #    sess.run(train_EM, feed_dict = {data_in: data_train, nuisances_in: nuisances_train})\n",
    "    \n",
    "    for batch in range(number_batches):\n",
    "        inds = np.random.choice(len(data_train), batch_size)\n",
    "        data_batch = data_train[inds]\n",
    "        labels_batch = labels_train[inds]\n",
    "        nuisances_batch = nuisances_train[inds]\n",
    "\n",
    "        sess.run(train_classifier, feed_dict = {data_in: data_batch, nuisances_in: nuisances_batch, labels_in: labels_batch})\n",
    "    \n",
    "        if not batch % 1000:\n",
    "            EM_dist_val = sess.run(EM_dist, feed_dict = {data_in: data_train, nuisances_in: nuisances_train})\n",
    "            class_loss = sess.run(classification_loss, feed_dict = {data_in: data_train, nuisances_in: nuisances_train, labels_in: labels_train})\n",
    "            \n",
    "            print(\"EM_dist = {}, class_loss = {}\".format(EM_dist_val, class_loss))"
   ]
  },
  {
   "cell_type": "raw",
   "metadata": {
    "collapsed": true
   },
   "source": [
    "data_test = np.random.uniform(low = -6, high = 6, size = [50000, 2])"
   ]
  },
  {
   "cell_type": "code",
   "execution_count": 25,
   "metadata": {
    "collapsed": true
   },
   "outputs": [],
   "source": [
    "data_test = np.loadtxt(\"data_test.txt\")\n",
    "nuisances_test = np.loadtxt(\"nuisances_test.txt\")\n",
    "labels_test = np.loadtxt(\"labels_test.txt\")"
   ]
  },
  {
   "cell_type": "code",
   "execution_count": 48,
   "metadata": {
    "collapsed": false
   },
   "outputs": [],
   "source": [
    "pred = sess.run(classifier_output, feed_dict = {data_in: data_test})"
   ]
  },
  {
   "cell_type": "code",
   "execution_count": 49,
   "metadata": {
    "collapsed": false
   },
   "outputs": [
    {
     "name": "stderr",
     "output_type": "stream",
     "text": [
      "/usr/lib/python3/dist-packages/ipykernel/__main__.py:3: MatplotlibDeprecationWarning: The griddata function was deprecated in Matplotlib 2.2 and will be removed in 3.1. Use scipy.interpolate.griddata instead.\n",
      "  app.launch_new_instance()\n",
      "/home/philipp/.local/lib/python3.5/site-packages/matplotlib/contour.py:1000: UserWarning: The following kwargs were not used by contour: 'interp'\n",
      "  s)\n"
     ]
    },
    {
     "data": {
      "image/png": "[encoded data removed]",
      "text/plain": [
       "<Figure size 432x288 with 2 Axes>"
      ]
     },
     "metadata": {},
     "output_type": "display_data"
    }
   ],
   "source": [
    "xi = np.linspace(-4, 4, 500)\n",
    "yi = np.linspace(-4, 6, 500)\n",
    "zi = griddata(data_test[:, 0], data_test[:, 1], pred[:, 0], xi, yi, interp = \"linear\")\n",
    "\n",
    "plt.contourf(xi, yi, zi, interp='linear', levels = 20)\n",
    "plt.xlabel('x')\n",
    "plt.ylabel('y')\n",
    "plt.colorbar()\n",
    "plt.show()"
   ]
  },
  {
   "cell_type": "code",
   "execution_count": 73,
   "metadata": {
    "collapsed": false
   },
   "outputs": [
    {
     "data": {
      "image/png": "[encoded data removed]",
      "text/plain": [
       "<Figure size 432x288 with 2 Axes>"
      ]
     },
     "metadata": {},
     "output_type": "display_data"
    }
   ],
   "source": [
    "plt.hexbin(x = data_train[:, 0], y = data_train[:, 1], bins = 'log', gridsize = 50)\n",
    "plt.colorbar()\n",
    "plt.show()"
   ]
  },
  {
   "cell_type": "code",
   "execution_count": 67,
   "metadata": {
    "collapsed": false
   },
   "outputs": [],
   "source": [
    "group1 = np.logical_and(nuisances_test > 0.0, nuisances_test < 0.5)\n",
    "group2 = np.logical_and(nuisances_test > 0.5, nuisances_test < 1.0)\n",
    "group3 = np.logical_and(nuisances_test > 1.0, nuisances_test < 1.5)\n",
    "group4 = np.logical_and(nuisances_test > 1.5, nuisances_test < 2.0)"
   ]
  },
  {
   "cell_type": "code",
   "execution_count": 68,
   "metadata": {
    "collapsed": false
   },
   "outputs": [],
   "source": [
    "pred1 = sess.run(classifier_output, feed_dict = {data_in: data_test[group1]})\n",
    "pred2 = sess.run(classifier_output, feed_dict = {data_in: data_test[group2]})\n",
    "pred3 = sess.run(classifier_output, feed_dict = {data_in: data_test[group3]})\n",
    "pred4 = sess.run(classifier_output, feed_dict = {data_in: data_test[group4]})"
   ]
  },
  {
   "cell_type": "code",
   "execution_count": 82,
   "metadata": {
    "collapsed": false
   },
   "outputs": [],
   "source": [
    "colors = ['red', 'tan', 'lime', 'green']\n",
    "plt.hist([pred1[:,1], pred2[:,1], pred3[:,1], pred4[:,1]], label = [r'$\\nu_1$', r'$\\nu_2$', r'$\\nu_3$', r'$\\nu_4$'], histtype = 'step', density = True, stacked = False, fill = False, bins = 40)\n",
    "plt.legend(loc = 'upper left')\n",
    "plt.savefig(\"pivoting_classifier_MINE.pdf\")\n",
    "#plt.show()"
   ]
  },
  {
   "cell_type": "code",
   "execution_count": 70,
   "metadata": {
    "collapsed": false
   },
   "outputs": [],
   "source": [
    "sig = data_test[labels_test == 1]\n",
    "bkg = data_test[labels_test == 0]"
   ]
  },
  {
   "cell_type": "code",
   "execution_count": 71,
   "metadata": {
    "collapsed": true
   },
   "outputs": [],
   "source": [
    "pred_sig = sess.run(classifier_output, feed_dict = {data_in: sig})\n",
    "pred_bkg = sess.run(classifier_output, feed_dict = {data_in: bkg})"
   ]
  },
  {
   "cell_type": "code",
   "execution_count": 72,
   "metadata": {
    "collapsed": false
   },
   "outputs": [
    {
     "data": {
      "image/png": "[encoded data removed]",
      "text/plain": [
       "<Figure size 432x288 with 1 Axes>"
      ]
     },
     "metadata": {},
     "output_type": "display_data"
    }
   ],
   "source": [
    "plt.hist([pred_sig[:,1], pred_bkg[:,1]], label = ['sig', 'bkg'], histtype = 'step', density = True, stacked = False, fill = False, bins = 10)\n",
    "plt.show()"
   ]
  },
  {
   "cell_type": "code",
   "execution_count": 32,
   "metadata": {
    "collapsed": false
   },
   "outputs": [],
   "source": [
    "pred = sess.run(classifier_output, feed_dict = {data_in: data_test})"
   ]
  },
  {
   "cell_type": "code",
   "execution_count": 33,
   "metadata": {
    "collapsed": true
   },
   "outputs": [],
   "source": [
    "# plot ROC curves\n",
    "from sklearn import metrics"
   ]
  },
  {
   "cell_type": "code",
   "execution_count": 34,
   "metadata": {
    "collapsed": false
   },
   "outputs": [],
   "source": [
    "fpr, tpr, thresholds = metrics.roc_curve(labels_test, pred[:,1])"
   ]
  },
  {
   "cell_type": "code",
   "execution_count": 35,
   "metadata": {
    "collapsed": false
   },
   "outputs": [
    {
     "data": {
      "image/png": "[encoded data removed]",
      "text/plain": [
       "<Figure size 432x288 with 1 Axes>"
      ]
     },
     "metadata": {},
     "output_type": "display_data"
    }
   ],
   "source": [
    "plt.plot(fpr, tpr)\n",
    "plt.show()"
   ]
  },
  {
   "cell_type": "code",
   "execution_count": 76,
   "metadata": {
    "collapsed": false
   },
   "outputs": [
    {
     "data": {
      "text/plain": [
       "0.7634828323856084"
      ]
     },
     "execution_count": 76,
     "metadata": {},
     "output_type": "execute_result"
    }
   ],
   "source": [
    "metrics.roc_auc_score(labels_test, pred[:,1])"
   ]
  },
  {
   "cell_type": "raw",
   "metadata": {},
   "source": [
    "# save the test data values to disk\n",
    "np.savetxt(\"data_test.txt\", data_test)"
   ]
  },
  {
   "cell_type": "raw",
   "metadata": {},
   "source": [
    "np.savetxt(\"nuisances_test.txt\", nuisances_test)"
   ]
  },
  {
   "cell_type": "raw",
   "metadata": {},
   "source": [
    "np.savetxt(\"labels_test.txt\", labels_test)"
   ]
  },
  {
   "cell_type": "code",
   "execution_count": 77,
   "metadata": {
    "collapsed": false
   },
   "outputs": [],
   "source": [
    "# and load back the values of the (exact) ML estimator evaluated on them\n",
    "LL_pred = np.loadtxt(\"LL_evaluated.csv\")"
   ]
  },
  {
   "cell_type": "code",
   "execution_count": 78,
   "metadata": {
    "collapsed": false
   },
   "outputs": [],
   "source": [
    "fpr_LL, tpr_LL, thresholds_LL = metrics.roc_curve(labels_test, LL_pred)"
   ]
  },
  {
   "cell_type": "code",
   "execution_count": 79,
   "metadata": {
    "collapsed": false
   },
   "outputs": [
    {
     "data": {
      "image/png": "[encoded data removed]",
      "text/plain": [
       "<Figure size 432x288 with 1 Axes>"
      ]
     },
     "metadata": {},
     "output_type": "display_data"
    }
   ],
   "source": [
    "plt.plot(fpr_LL, tpr_LL)\n",
    "plt.show()"
   ]
  },
  {
   "cell_type": "code",
   "execution_count": 80,
   "metadata": {
    "collapsed": false
   },
   "outputs": [
    {
     "data": {
      "text/plain": [
       "0.7783846885778357"
      ]
     },
     "execution_count": 80,
     "metadata": {},
     "output_type": "execute_result"
    }
   ],
   "source": [
    "metrics.roc_auc_score(labels_test, LL_pred)"
   ]
  },
  {
   "cell_type": "code",
   "execution_count": 88,
   "metadata": {
    "collapsed": false
   },
   "outputs": [],
   "source": [
    "# plot both of them into the same graph\n",
    "fig, ax = plt.subplots()\n",
    "ax.plot(fpr, tpr, label = 'MI-regularized classifier', c = 'red')\n",
    "ax.plot(fpr_LL, tpr_LL, label = 'analytic likelihood', c = 'black', ls = 'dashed')\n",
    "leg = ax.legend(loc = 'lower right')\n",
    "plt.xlabel(\"false positive rate\")\n",
    "plt.ylabel(\"true positive rate\")\n",
    "plt.show()\n",
    "#plt.savefig(\"MI_regularized_ROC.pdf\")"
   ]
  },
  {
   "cell_type": "code",
   "execution_count": null,
   "metadata": {
    "collapsed": true
   },
   "outputs": [],
   "source": []
  }
 ],
 "metadata": {
  "kernelspec": {
   "display_name": "Python 3",
   "language": "python",
   "name": "python3"
  },
  "language_info": {
   "codemirror_mode": {
    "name": "ipython",
    "version": 3
   },
   "file_extension": ".py",
   "mimetype": "text/x-python",
   "name": "python",
   "nbconvert_exporter": "python",
   "pygments_lexer": "ipython3",
   "version": "3.5.3"
  }
 },
 "nbformat": 4,
 "nbformat_minor": 2
}
