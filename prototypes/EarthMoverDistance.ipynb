{
 "cells": [
  {
   "cell_type": "code",
   "execution_count": 1,
   "metadata": {
    "collapsed": false
   },
   "outputs": [],
   "source": [
    "import tensorflow as tf\n",
    "import tensorflow.contrib.layers as layers\n",
    "config = tf.ConfigProto(intra_op_parallelism_threads=8, inter_op_parallelism_threads=8, \\\n",
    "                        allow_soft_placement=True, device_count = {'CPU': 8})\n",
    "sess = tf.InteractiveSession(config = config)"
   ]
  },
  {
   "cell_type": "code",
   "execution_count": 2,
   "metadata": {
    "collapsed": true
   },
   "outputs": [],
   "source": [
    "import numpy as np"
   ]
  },
  {
   "cell_type": "code",
   "execution_count": 3,
   "metadata": {
    "collapsed": false
   },
   "outputs": [],
   "source": [
    "def EM_network(data_P, data_Q, name):\n",
    "    with tf.variable_scope(name):  \n",
    "        data_combined = tf.concat([data_P, data_Q], axis = 0)\n",
    "        \n",
    "        lay = layers.relu(data_combined, 20)\n",
    "        lay = layers.relu(lay, 20)\n",
    "        outputs = layers.linear(lay, 1)\n",
    "        \n",
    "    these_vars = tf.get_collection(tf.GraphKeys.GLOBAL_VARIABLES, scope = name)\n",
    "    \n",
    "    return outputs, these_vars"
   ]
  },
  {
   "cell_type": "code",
   "execution_count": 4,
   "metadata": {
    "collapsed": true
   },
   "outputs": [],
   "source": [
    "def EM_loss(KL_output, name):\n",
    "    with tf.variable_scope(name):\n",
    "        batch_size_dyn = tf.cast(tf.math.divide(tf.shape(KL_output)[0], 2), tf.int32)\n",
    "        \n",
    "        T_P = KL_output[:batch_size_dyn,:]\n",
    "        T_Q = KL_output[batch_size_dyn:,:]\n",
    "        \n",
    "        EM_loss = tf.reduce_mean(T_P, axis = 0) - tf.reduce_mean(T_Q, axis = 0)\n",
    "        \n",
    "        EM_loss = EM_loss[0]\n",
    "        \n",
    "    return EM_loss"
   ]
  },
  {
   "cell_type": "code",
   "execution_count": 5,
   "metadata": {
    "collapsed": true
   },
   "outputs": [],
   "source": [
    "data_P_in = tf.placeholder(tf.float32, [None, 1], name = 'data_P_in')\n",
    "data_Q_in = tf.placeholder(tf.float32, [None, 1], name = 'data_Q_in')"
   ]
  },
  {
   "cell_type": "code",
   "execution_count": 6,
   "metadata": {
    "collapsed": false
   },
   "outputs": [],
   "source": [
    "EM_output, EM_vars = EM_network(data_P_in, data_Q_in, name = 'EM')"
   ]
  },
  {
   "cell_type": "code",
   "execution_count": 7,
   "metadata": {
    "collapsed": true
   },
   "outputs": [],
   "source": [
    "EM_lossval = EM_loss(EM_output, 'EM_loss')"
   ]
  },
  {
   "cell_type": "code",
   "execution_count": 8,
   "metadata": {
    "collapsed": true
   },
   "outputs": [],
   "source": [
    "train_EM = tf.train.AdamOptimizer(learning_rate = 0.005, beta1 = 0.3, beta2 = 0.5).minimize(-EM_lossval, var_list = EM_vars)"
   ]
  },
  {
   "cell_type": "code",
   "execution_count": 36,
   "metadata": {
    "collapsed": true
   },
   "outputs": [],
   "source": [
    "clipval = 0.2"
   ]
  },
  {
   "cell_type": "code",
   "execution_count": 70,
   "metadata": {
    "collapsed": true
   },
   "outputs": [],
   "source": [
    "clip_EM_network = [var.assign(tf.clip_by_value(var, -clipval, clipval)) for var in EM_vars]"
   ]
  },
  {
   "cell_type": "code",
   "execution_count": 80,
   "metadata": {
    "collapsed": true
   },
   "outputs": [],
   "source": [
    "sess.run(tf.global_variables_initializer())"
   ]
  },
  {
   "cell_type": "raw",
   "metadata": {
    "collapsed": true
   },
   "source": [
    "data_Q_train = np.random.normal(loc = 0, scale = 1, size = 50000)\n",
    "data_P_train = np.random.normal(loc = 1, scale = 1, size = 50000)"
   ]
  },
  {
   "cell_type": "code",
   "execution_count": 81,
   "metadata": {
    "collapsed": true
   },
   "outputs": [],
   "source": [
    "data_Q_train = np.loadtxt(\"cls_bkg.txt\")\n",
    "data_P_train = np.loadtxt(\"target_bkg.txt\")"
   ]
  },
  {
   "cell_type": "code",
   "execution_count": 82,
   "metadata": {
    "collapsed": true
   },
   "outputs": [],
   "source": [
    "data_Q_train = np.expand_dims(data_Q_train, axis = 1)\n",
    "data_P_train = np.expand_dims(data_P_train, axis = 1)"
   ]
  },
  {
   "cell_type": "code",
   "execution_count": 83,
   "metadata": {
    "collapsed": false
   },
   "outputs": [
    {
     "name": "stdout",
     "output_type": "stream",
     "text": [
      "epoch 0: loss = -9.894371032714844e-06\n",
      "epoch 200: loss = 0.0002510547637939453\n",
      "epoch 400: loss = 0.0035764575004577637\n",
      "epoch 600: loss = 0.006959319114685059\n",
      "epoch 800: loss = 0.0064705610275268555\n"
     ]
    }
   ],
   "source": [
    "for epoch in range(900):\n",
    "    sess.run([train_EM, clip_EM_network], feed_dict = {data_P_in: data_P_train, data_Q_in: data_Q_train})\n",
    "    loss = sess.run(EM_lossval, feed_dict = {data_P_in: data_P_train, data_Q_in: data_Q_train})\n",
    "    \n",
    "    if not epoch % 200:\n",
    "        print(\"epoch {}: loss = {}\".format(epoch, loss))"
   ]
  },
  {
   "cell_type": "code",
   "execution_count": null,
   "metadata": {
    "collapsed": true
   },
   "outputs": [],
   "source": []
  },
  {
   "cell_type": "code",
   "execution_count": null,
   "metadata": {
    "collapsed": true
   },
   "outputs": [],
   "source": []
  }
 ],
 "metadata": {
  "kernelspec": {
   "display_name": "Python 3",
   "language": "python",
   "name": "python3"
  },
  "language_info": {
   "codemirror_mode": {
    "name": "ipython",
    "version": 3
   },
   "file_extension": ".py",
   "mimetype": "text/x-python",
   "name": "python",
   "nbconvert_exporter": "python",
   "pygments_lexer": "ipython3",
   "version": "3.5.3"
  }
 },
 "nbformat": 4,
 "nbformat_minor": 2
}
