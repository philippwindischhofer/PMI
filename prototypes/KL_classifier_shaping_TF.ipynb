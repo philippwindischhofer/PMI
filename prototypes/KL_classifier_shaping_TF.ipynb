{
 "cells": [
  {
   "cell_type": "code",
   "execution_count": 1,
   "metadata": {
    "collapsed": true
   },
   "outputs": [],
   "source": [
    "import numpy as np\n",
    "import matplotlib.pyplot as plt\n",
    "import copy\n",
    "from matplotlib.mlab import griddata"
   ]
  },
  {
   "cell_type": "code",
   "execution_count": 2,
   "metadata": {
    "collapsed": true
   },
   "outputs": [],
   "source": [
    "import tensorflow.contrib.distributions as ds"
   ]
  },
  {
   "cell_type": "code",
   "execution_count": 3,
   "metadata": {
    "collapsed": true
   },
   "outputs": [],
   "source": [
    "def prepare_data(n_samples):\n",
    "    data = []\n",
    "    labels = []\n",
    "    nuisances = []\n",
    "    \n",
    "    for i in range(n_samples):\n",
    "        sig_bkg = np.random.uniform(low = 0.0, high = 1.0, size = 1)\n",
    "        if sig_bkg > 0.5:\n",
    "            nuisance = np.random.uniform(low = 0.0, high = 2.0, size = 1)\n",
    "            data.append(np.random.multivariate_normal(mean = [0.0, nuisance], cov = np.array([[1, -0.5], [-0.5, 1]]), size = 1).flatten())\n",
    "            labels.append(1.0)\n",
    "        else:\n",
    "            nuisance = np.random.uniform(low = 0.0, high = 2.0, size = 1)\n",
    "            data.append(np.random.multivariate_normal(mean = [1.0, nuisance], cov = np.eye(2), size = 1).flatten())\n",
    "            labels.append(0.0)\n",
    "            \n",
    "        nuisances.append(nuisance)\n",
    "    data = np.array(data)\n",
    "    labels = np.array(labels)\n",
    "    nuisances = np.array(nuisances)\n",
    "    \n",
    "    return data, labels, nuisances.flatten()"
   ]
  },
  {
   "cell_type": "code",
   "execution_count": 4,
   "metadata": {
    "collapsed": false
   },
   "outputs": [],
   "source": [
    "num_samples = 100000\n",
    "data_train, labels_train, nuisances_train = prepare_data(num_samples)\n",
    "nuisances_train = np.expand_dims(nuisances_train, axis = 1)"
   ]
  },
  {
   "cell_type": "code",
   "execution_count": 5,
   "metadata": {
    "collapsed": false
   },
   "outputs": [],
   "source": [
    "import tensorflow as tf"
   ]
  },
  {
   "cell_type": "code",
   "execution_count": 6,
   "metadata": {
    "collapsed": true
   },
   "outputs": [],
   "source": [
    "import tensorflow.contrib.layers as layers"
   ]
  },
  {
   "cell_type": "code",
   "execution_count": 7,
   "metadata": {
    "collapsed": false
   },
   "outputs": [],
   "source": [
    "config = tf.ConfigProto(intra_op_parallelism_threads=8, inter_op_parallelism_threads=8, \\\n",
    "                        allow_soft_placement=True, device_count = {'CPU': 8})\n",
    "sess = tf.InteractiveSession(config = config)"
   ]
  },
  {
   "cell_type": "code",
   "execution_count": 8,
   "metadata": {
    "collapsed": false
   },
   "outputs": [],
   "source": [
    "# batch size for evaluation of mutual entropy\n",
    "MINE_batch_size = num_samples\n",
    "\n",
    "# batch size for the training of the encoder / classifier pair\n",
    "batch_size = 200\n",
    "\n",
    "bottleneck_size = 2"
   ]
  },
  {
   "cell_type": "code",
   "execution_count": 9,
   "metadata": {
    "collapsed": true
   },
   "outputs": [],
   "source": [
    "data_in = tf.placeholder(tf.float32, [None, 2], name = 'data_in')\n",
    "nuisances_in = tf.placeholder(tf.float32, [None, 1], name = 'nuisances_in')\n",
    "labels_in = tf.placeholder(tf.int32, [None, ], name = 'labels_in')"
   ]
  },
  {
   "cell_type": "code",
   "execution_count": 10,
   "metadata": {
    "collapsed": true
   },
   "outputs": [],
   "source": [
    "def classifier(classifier_input):\n",
    "    with tf.variable_scope(\"classifier\"):\n",
    "        lay = layers.relu(classifier_input, 20)\n",
    "        lay = layers.relu(lay, 20)\n",
    "        lay = layers.relu(lay, 2)\n",
    "        outputs = layers.softmax(lay)\n",
    "        \n",
    "        these_vars = tf.get_collection(tf.GraphKeys.GLOBAL_VARIABLES, scope = \"classifier\")\n",
    "\n",
    "    return outputs, these_vars"
   ]
  },
  {
   "cell_type": "code",
   "execution_count": 11,
   "metadata": {
    "collapsed": true
   },
   "outputs": [],
   "source": [
    "# computes the KL divergence D_KL(P||Q) between the distributions of P and Q, \n",
    "# given an equal number of samples drawn from them\n",
    "def KL_network(data_P, data_Q, name):\n",
    "    with tf.variable_scope(name):  \n",
    "        data_combined = tf.concat([data_P, data_Q], axis = 0)\n",
    "        \n",
    "        lay = layers.relu(data_combined, 20)\n",
    "        lay = layers.relu(lay, 20)\n",
    "        outputs = layers.linear(lay, 1)\n",
    "        \n",
    "    these_vars = tf.get_collection(tf.GraphKeys.GLOBAL_VARIABLES, scope = name)\n",
    "    \n",
    "    return outputs, these_vars"
   ]
  },
  {
   "cell_type": "code",
   "execution_count": 12,
   "metadata": {
    "collapsed": true
   },
   "outputs": [],
   "source": [
    "def KL_loss(KL_output, name):\n",
    "    with tf.variable_scope(name):\n",
    "        batch_size_dyn = tf.cast(tf.math.divide(tf.shape(KL_output)[0], 2), tf.int32)\n",
    "        \n",
    "        T_P = KL_output[:batch_size_dyn,:]\n",
    "        T_Q = KL_output[batch_size_dyn:,:]\n",
    "        \n",
    "        TF_loss = -(tf.reduce_mean(T_P, axis = 0) - tf.math.log(tf.reduce_mean(tf.math.exp(T_Q), axis = 0)))\n",
    "        \n",
    "        TF_loss = TF_loss[0]\n",
    "        \n",
    "    return TF_loss"
   ]
  },
  {
   "cell_type": "code",
   "execution_count": 13,
   "metadata": {
    "collapsed": true
   },
   "outputs": [],
   "source": [
    "with tf.variable_scope('model_params'):\n",
    "    low = tf.Variable(0.0, 'low')\n",
    "    high = tf.Variable(1.0, 'high')\n",
    "\n",
    "model_vars = tf.get_collection(tf.GraphKeys.GLOBAL_VARIABLES, scope = 'model_params')"
   ]
  },
  {
   "cell_type": "code",
   "execution_count": 14,
   "metadata": {
    "collapsed": false
   },
   "outputs": [],
   "source": [
    "model = ds.Uniform(low = low, high = high)"
   ]
  },
  {
   "cell_type": "code",
   "execution_count": 15,
   "metadata": {
    "collapsed": false
   },
   "outputs": [],
   "source": [
    "samples_model = model.sample((50000,1))"
   ]
  },
  {
   "cell_type": "code",
   "execution_count": 16,
   "metadata": {
    "collapsed": false
   },
   "outputs": [],
   "source": [
    "classifier_output, classifier_vars = classifier(data_in)"
   ]
  },
  {
   "cell_type": "code",
   "execution_count": 17,
   "metadata": {
    "collapsed": false
   },
   "outputs": [],
   "source": [
    "classifier_output_expanded = tf.expand_dims(classifier_output[:,0], axis = 1)"
   ]
  },
  {
   "cell_type": "code",
   "execution_count": 18,
   "metadata": {
    "collapsed": false
   },
   "outputs": [],
   "source": [
    "KL_output, KL_vars = KL_network(classifier_output_expanded, samples_model, name = 'KL')"
   ]
  },
  {
   "cell_type": "code",
   "execution_count": 19,
   "metadata": {
    "collapsed": true
   },
   "outputs": [],
   "source": [
    "KL_lossval = KL_loss(KL_output, 'KL_loss')"
   ]
  },
  {
   "cell_type": "code",
   "execution_count": 20,
   "metadata": {
    "collapsed": false
   },
   "outputs": [],
   "source": [
    "labels_one_hot = tf.one_hot(labels_in, depth = 2)"
   ]
  },
  {
   "cell_type": "code",
   "execution_count": 21,
   "metadata": {
    "collapsed": false
   },
   "outputs": [],
   "source": [
    "classification_loss = tf.losses.softmax_cross_entropy(onehot_labels = labels_one_hot, logits = classifier_output)"
   ]
  },
  {
   "cell_type": "code",
   "execution_count": 22,
   "metadata": {
    "collapsed": true
   },
   "outputs": [],
   "source": [
    "KL_regularized_loss = classification_loss - KL_lossval"
   ]
  },
  {
   "cell_type": "code",
   "execution_count": 33,
   "metadata": {
    "collapsed": true
   },
   "outputs": [],
   "source": [
    "train_classifier = tf.train.AdamOptimizer(learning_rate = 0.0005, beta1 = 0.9, beta2 = 0.999).minimize(classification_loss, var_list = classifier_vars)"
   ]
  },
  {
   "cell_type": "code",
   "execution_count": 34,
   "metadata": {
    "collapsed": true
   },
   "outputs": [],
   "source": [
    "train_regularized_classifier = tf.train.AdamOptimizer(learning_rate = 0.0005, beta1 = 0.9, beta2 = 0.999).minimize(KL_regularized_loss, var_list = classifier_vars)"
   ]
  },
  {
   "cell_type": "code",
   "execution_count": 35,
   "metadata": {
    "collapsed": true
   },
   "outputs": [],
   "source": [
    "train_KL = tf.train.AdamOptimizer(learning_rate = 0.01, beta1 = 0.9, beta2 = 0.999).minimize(KL_lossval, var_list = KL_vars)"
   ]
  },
  {
   "cell_type": "code",
   "execution_count": 36,
   "metadata": {
    "collapsed": true
   },
   "outputs": [],
   "source": [
    "# combined training\n",
    "classification_loss_evolution = []\n",
    "MI_evolution = []\n",
    "number_batches = 200\n",
    "MINE_batches = 300"
   ]
  },
  {
   "cell_type": "code",
   "execution_count": 37,
   "metadata": {
    "collapsed": true
   },
   "outputs": [],
   "source": [
    "number_epochs = 10"
   ]
  },
  {
   "cell_type": "code",
   "execution_count": 43,
   "metadata": {
    "collapsed": true
   },
   "outputs": [],
   "source": [
    "sess.run(tf.global_variables_initializer())"
   ]
  },
  {
   "cell_type": "code",
   "execution_count": 44,
   "metadata": {
    "collapsed": true
   },
   "outputs": [],
   "source": [
    "train_bkg = labels_train == 0\n",
    "bkg = data_train[train_bkg]"
   ]
  },
  {
   "cell_type": "code",
   "execution_count": 45,
   "metadata": {
    "collapsed": false
   },
   "outputs": [
    {
     "name": "stdout",
     "output_type": "stream",
     "text": [
      "KL = 0.005061395466327667\n",
      "KL = 1.5067826509475708\n",
      "KL = 1.7006685733795166\n",
      "KL = 1.7273335456848145\n",
      "KL = 1.7815920114517212\n"
     ]
    }
   ],
   "source": [
    "# pre-train KL\n",
    "for batch in range(500):\n",
    "    inds = np.random.choice(len(bkg), 50000)\n",
    "    bkg_train = bkg[inds]\n",
    "    \n",
    "    sess.run(train_KL, feed_dict = {data_in: bkg_train})\n",
    "    \n",
    "    if not batch % 100:\n",
    "        cur_KL = -sess.run(KL_lossval, feed_dict = {data_in: bkg})\n",
    "        print(\"KL = {}\".format(cur_KL))"
   ]
  },
  {
   "cell_type": "code",
   "execution_count": 46,
   "metadata": {
    "collapsed": false
   },
   "outputs": [
    {
     "name": "stdout",
     "output_type": "stream",
     "text": [
      "KL after pre-training = 1.911511778831482\n"
     ]
    }
   ],
   "source": [
    "cur_KL = -sess.run(KL_lossval, feed_dict = {data_in: bkg})\n",
    "print(\"KL after pre-training = {}\".format(cur_KL))"
   ]
  },
  {
   "cell_type": "code",
   "execution_count": 47,
   "metadata": {
    "collapsed": false
   },
   "outputs": [
    {
     "name": "stdout",
     "output_type": "stream",
     "text": [
      "epoch 0\n",
      "class_loss = 0.6947744488716125, KL = 1.918702483177185\n",
      "class_loss = 0.6653884649276733, KL = 1.067345142364502\n",
      "epoch 1\n",
      "class_loss = 0.6621788144111633, KL = 0.9554462432861328\n",
      "class_loss = 0.6605706214904785, KL = 0.873809814453125\n"
     ]
    }
   ],
   "source": [
    "for epoch in range(2):\n",
    "    print(\"epoch {}\".format(epoch))\n",
    "    \n",
    "    for batch in range(number_batches):\n",
    "        # train classifier on sig + bkg\n",
    "        inds = np.random.choice(len(data_train), batch_size)\n",
    "        data_batch = data_train[inds]\n",
    "        labels_batch = labels_train[inds]\n",
    "        nuisances_batch = nuisances_train[inds]\n",
    "        sess.run(train_classifier, feed_dict = {data_in: data_batch, labels_in: labels_batch})\n",
    "        \n",
    "        # update KL\n",
    "        for i in range(20):\n",
    "            inds = np.random.choice(len(bkg), 50000)\n",
    "            bkg_train = bkg[inds]\n",
    "            sess.run(train_KL, feed_dict = {data_in: bkg_train})\n",
    "        \n",
    "        # train regularized classifier on bkg only\n",
    "        bkg = data_train[train_bkg]\n",
    "        labels_bkg = labels_train[train_bkg]\n",
    "        inds = np.random.choice(len(bkg), 50000)\n",
    "        bkg_train = bkg[inds]\n",
    "        labels_bkg_train = labels_bkg[inds]\n",
    "        sess.run(train_regularized_classifier, feed_dict = {data_in: bkg_train, labels_in: labels_bkg_train})\n",
    "        \n",
    "        if not batch % 100:\n",
    "            cur_KL = -sess.run(KL_lossval, feed_dict = {data_in: bkg})\n",
    "            class_loss = sess.run(classification_loss, feed_dict = {data_in: data_train, labels_in: labels_train})\n",
    "            print(\"class_loss = {}, KL = {}\".format(class_loss, cur_KL))"
   ]
  },
  {
   "cell_type": "code",
   "execution_count": 48,
   "metadata": {
    "collapsed": true
   },
   "outputs": [],
   "source": [
    "data_test = np.loadtxt(\"data_test.txt\")\n",
    "nuisances_test = np.loadtxt(\"nuisances_test.txt\")\n",
    "labels_test = np.loadtxt(\"labels_test.txt\")"
   ]
  },
  {
   "cell_type": "code",
   "execution_count": 49,
   "metadata": {
    "collapsed": false
   },
   "outputs": [],
   "source": [
    "pred = sess.run(classifier_output, feed_dict = {data_in: data_test})"
   ]
  },
  {
   "cell_type": "code",
   "execution_count": 50,
   "metadata": {
    "collapsed": false
   },
   "outputs": [
    {
     "data": {
      "text/plain": [
       "array([[0.5       , 0.5       ],\n",
       "       [0.28263924, 0.71736073],\n",
       "       [0.2658787 , 0.73412126],\n",
       "       ...,\n",
       "       [0.42714542, 0.5728546 ],\n",
       "       [0.4402663 , 0.5597337 ],\n",
       "       [0.48735985, 0.5126401 ]], dtype=float32)"
      ]
     },
     "execution_count": 50,
     "metadata": {},
     "output_type": "execute_result"
    }
   ],
   "source": [
    "pred"
   ]
  },
  {
   "cell_type": "code",
   "execution_count": null,
   "metadata": {
    "collapsed": false
   },
   "outputs": [],
   "source": [
    "xi = np.linspace(-4, 4, 1000)\n",
    "yi = np.linspace(-4, 6, 1000)\n",
    "zi = griddata(data_test[:, 0], data_test[:, 1], pred[:, 0], xi, yi, interp = \"linear\")\n",
    "\n",
    "plt.contourf(xi, yi, zi, interp='linear', levels = 20)\n",
    "plt.xlabel('x')\n",
    "plt.ylabel('y')\n",
    "plt.colorbar()\n",
    "plt.show()"
   ]
  },
  {
   "cell_type": "code",
   "execution_count": null,
   "metadata": {
    "collapsed": false
   },
   "outputs": [],
   "source": [
    "plt.hexbin(x = data_train[:, 0], y = data_train[:, 1], bins = 'log', gridsize = 50)\n",
    "plt.colorbar()\n",
    "plt.show()"
   ]
  },
  {
   "cell_type": "code",
   "execution_count": 51,
   "metadata": {
    "collapsed": false
   },
   "outputs": [],
   "source": [
    "sig = data_test[labels_test == 1]\n",
    "bkg = data_test[labels_test == 0]"
   ]
  },
  {
   "cell_type": "code",
   "execution_count": 52,
   "metadata": {
    "collapsed": true
   },
   "outputs": [],
   "source": [
    "pred_sig = sess.run(classifier_output, feed_dict = {data_in: sig})\n",
    "pred_bkg = sess.run(classifier_output, feed_dict = {data_in: bkg})"
   ]
  },
  {
   "cell_type": "code",
   "execution_count": 53,
   "metadata": {
    "collapsed": false
   },
   "outputs": [
    {
     "data": {
      "image/png": "[encoded data removed]",
      "text/plain": [
       "<Figure size 432x288 with 1 Axes>"
      ]
     },
     "metadata": {},
     "output_type": "display_data"
    }
   ],
   "source": [
    "plt.hist([pred_sig[:,1], pred_bkg[:,1]], label = ['sig', 'bkg'], histtype = 'step', density = True, stacked = False, fill = False, bins = 50)\n",
    "plt.legend()\n",
    "plt.show()"
   ]
  },
  {
   "cell_type": "code",
   "execution_count": null,
   "metadata": {
    "collapsed": true
   },
   "outputs": [],
   "source": [
    "# plot ROC curves\n",
    "from sklearn import metrics"
   ]
  },
  {
   "cell_type": "code",
   "execution_count": null,
   "metadata": {
    "collapsed": false
   },
   "outputs": [],
   "source": [
    "fpr, tpr, thresholds = metrics.roc_curve(labels_test, pred[:,1])"
   ]
  },
  {
   "cell_type": "code",
   "execution_count": null,
   "metadata": {
    "collapsed": false
   },
   "outputs": [],
   "source": [
    "metrics.roc_auc_score(labels_test, pred[:,1])"
   ]
  },
  {
   "cell_type": "code",
   "execution_count": null,
   "metadata": {
    "collapsed": false
   },
   "outputs": [],
   "source": [
    "# and load back the values of the (exact) ML estimator evaluated on them\n",
    "LL_pred = np.loadtxt(\"LL_evaluated.csv\")"
   ]
  },
  {
   "cell_type": "code",
   "execution_count": null,
   "metadata": {
    "collapsed": false
   },
   "outputs": [],
   "source": [
    "fpr_LL, tpr_LL, thresholds_LL = metrics.roc_curve(labels_test, LL_pred)"
   ]
  },
  {
   "cell_type": "code",
   "execution_count": null,
   "metadata": {
    "collapsed": false
   },
   "outputs": [],
   "source": [
    "metrics.roc_auc_score(labels_test, LL_pred)"
   ]
  },
  {
   "cell_type": "code",
   "execution_count": null,
   "metadata": {
    "collapsed": false
   },
   "outputs": [],
   "source": [
    "# plot both of them into the same graph\n",
    "fig, ax = plt.subplots()\n",
    "ax.plot(fpr, tpr, label = 'shaped classifier', c = 'red')\n",
    "ax.plot(fpr_LL, tpr_LL, label = 'analytic likelihood', c = 'black', ls = 'dashed')\n",
    "leg = ax.legend(loc = 'lower right')\n",
    "plt.xlabel(\"false positive rate\")\n",
    "plt.ylabel(\"true positive rate\")\n",
    "plt.show()"
   ]
  },
  {
   "cell_type": "code",
   "execution_count": null,
   "metadata": {
    "collapsed": true
   },
   "outputs": [],
   "source": []
  }
 ],
 "metadata": {
  "kernelspec": {
   "display_name": "Python 3",
   "language": "python",
   "name": "python3"
  },
  "language_info": {
   "codemirror_mode": {
    "name": "ipython",
    "version": 3
   },
   "file_extension": ".py",
   "mimetype": "text/x-python",
   "name": "python",
   "nbconvert_exporter": "python",
   "pygments_lexer": "ipython3",
   "version": "3.5.3"
  }
 },
 "nbformat": 4,
 "nbformat_minor": 2
}
