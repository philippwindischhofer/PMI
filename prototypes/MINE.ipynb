{
 "cells": [
  {
   "cell_type": "code",
   "execution_count": 3,
   "metadata": {
    "collapsed": true
   },
   "outputs": [],
   "source": [
    "import numpy as np\n",
    "import matplotlib.pyplot as plt"
   ]
  },
  {
   "cell_type": "code",
   "execution_count": 240,
   "metadata": {
    "collapsed": true
   },
   "outputs": [],
   "source": [
    "# prepare pairs of random variables to estimate the mutual information\n",
    "num_samples = 10000\n",
    "x = np.random.normal(loc = 0, scale = 1, size = num_samples)\n",
    "y = x + np.random.normal(loc = 0, scale = 0.9, size = num_samples)"
   ]
  },
  {
   "cell_type": "code",
   "execution_count": 241,
   "metadata": {
    "collapsed": false
   },
   "outputs": [
    {
     "data": {
      "image/png": "[encoded data removed]",
      "text/plain": [
       "<Figure size 432x288 with 1 Axes>"
      ]
     },
     "metadata": {},
     "output_type": "display_data"
    }
   ],
   "source": [
    "plt.scatter(x, y)\n",
    "plt.show()"
   ]
  },
  {
   "cell_type": "code",
   "execution_count": 243,
   "metadata": {
    "collapsed": false
   },
   "outputs": [],
   "source": [
    "# prepare the statistical network\n",
    "from keras.models import Model\n",
    "from keras.layers import Input, Dense\n",
    "from keras.optimizers import Adam, SGD\n",
    "import keras.backend as K"
   ]
  },
  {
   "cell_type": "code",
   "execution_count": 244,
   "metadata": {
    "collapsed": true
   },
   "outputs": [],
   "source": [
    "def build_MINE(inputs):\n",
    "    lay = Dense(20, activation = \"relu\")(inputs)\n",
    "    lay = Dense(20, activation = \"relu\")(lay)\n",
    "    outputs = Dense(1, activation = \"linear\")(lay)\n",
    "    \n",
    "    MINE_network = Model(inputs = [inputs], outputs = [outputs])\n",
    "    return MINE_network"
   ]
  },
  {
   "cell_type": "code",
   "execution_count": 245,
   "metadata": {
    "collapsed": true
   },
   "outputs": [],
   "source": [
    "batch_size = 10000"
   ]
  },
  {
   "cell_type": "code",
   "execution_count": 246,
   "metadata": {
    "collapsed": true
   },
   "outputs": [],
   "source": [
    "MINE_input = Input(shape = (2,), name = 'MINE_input')"
   ]
  },
  {
   "cell_type": "code",
   "execution_count": 247,
   "metadata": {
    "collapsed": true
   },
   "outputs": [],
   "source": [
    "MINE_network = build_MINE(MINE_input)"
   ]
  },
  {
   "cell_type": "code",
   "execution_count": 248,
   "metadata": {
    "collapsed": false
   },
   "outputs": [],
   "source": [
    "MINE_opt = Adam(lr = 0.01, beta_1 = 0.4, beta_2 = 0.6, epsilon = K.epsilon(), decay = 0.1)\n",
    "#MINE_opt = SGD(lr = 0.1, momentum = 1e-6, decay = 1e-6)"
   ]
  },
  {
   "cell_type": "code",
   "execution_count": 249,
   "metadata": {
    "collapsed": true
   },
   "outputs": [],
   "source": [
    "def MINE_loss(y_true, y_pred):\n",
    "    T_xy = y_pred[:batch_size,:]\n",
    "    T_x_y = y_pred[batch_size:,:]\n",
    "    loss = K.mean(T_xy, axis = 0) - K.log(K.mean(K.exp(T_x_y), axis = 0))\n",
    "    return -loss"
   ]
  },
  {
   "cell_type": "code",
   "execution_count": 250,
   "metadata": {
    "collapsed": true
   },
   "outputs": [],
   "source": [
    "MINE_network.compile(loss = MINE_loss, optimizer = MINE_opt, metrics = [])"
   ]
  },
  {
   "cell_type": "code",
   "execution_count": 251,
   "metadata": {
    "collapsed": true
   },
   "outputs": [],
   "source": [
    "num_batches = 100"
   ]
  },
  {
   "cell_type": "code",
   "execution_count": 252,
   "metadata": {
    "collapsed": false
   },
   "outputs": [],
   "source": [
    "loss_curve = []\n",
    "\n",
    "for i in range(num_batches):\n",
    "    inds = np.random.choice(len(x), batch_size)\n",
    "    batch_x = x[inds]\n",
    "    batch_y = y[inds]\n",
    "    batch_y_shuffled = y[inds]\n",
    "    np.random.shuffle(batch_y_shuffled)\n",
    "    \n",
    "    batch_data_xy = np.stack([batch_x, batch_y], axis = 1)\n",
    "    batch_data_x_y = np.stack([batch_x, batch_y_shuffled], axis = 1)\n",
    "\n",
    "    batch_data = np.concatenate((batch_data_xy, batch_data_x_y), axis = 0)\n",
    "    target = np.zeros((2 * batch_size, 1))\n",
    "    loss = MINE_network.train_on_batch(batch_data, target)\n",
    "    \n",
    "    loss_curve.append(-loss)"
   ]
  },
  {
   "cell_type": "code",
   "execution_count": 253,
   "metadata": {
    "collapsed": false
   },
   "outputs": [
    {
     "data": {
      "image/png": "[encoded data removed]",
      "text/plain": [
       "<Figure size 432x288 with 1 Axes>"
      ]
     },
     "metadata": {},
     "output_type": "display_data"
    }
   ],
   "source": [
    "plt.plot(loss_curve)\n",
    "plt.show()"
   ]
  },
  {
   "cell_type": "code",
   "execution_count": 238,
   "metadata": {
    "collapsed": true
   },
   "outputs": [],
   "source": [
    "import mutual_info"
   ]
  },
  {
   "cell_type": "code",
   "execution_count": 242,
   "metadata": {
    "collapsed": false
   },
   "outputs": [
    {
     "data": {
      "text/plain": [
       "0.40984727933564"
      ]
     },
     "execution_count": 242,
     "metadata": {},
     "output_type": "execute_result"
    }
   ],
   "source": [
    "mutual_info.mutual_information((np.expand_dims(x, axis = 1), np.expand_dims(y, axis = 1)), k = 50)"
   ]
  },
  {
   "cell_type": "code",
   "execution_count": null,
   "metadata": {
    "collapsed": true
   },
   "outputs": [],
   "source": []
  }
 ],
 "metadata": {
  "kernelspec": {
   "display_name": "Python 3",
   "language": "python",
   "name": "python3"
  },
  "language_info": {
   "codemirror_mode": {
    "name": "ipython",
    "version": 3
   },
   "file_extension": ".py",
   "mimetype": "text/x-python",
   "name": "python",
   "nbconvert_exporter": "python",
   "pygments_lexer": "ipython3",
   "version": "3.5.3"
  }
 },
 "nbformat": 4,
 "nbformat_minor": 2
}
