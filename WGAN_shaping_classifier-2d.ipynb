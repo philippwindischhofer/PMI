{
 "cells": [
  {
   "cell_type": "code",
   "execution_count": 1,
   "metadata": {
    "collapsed": true
   },
   "outputs": [],
   "source": [
    "import tensorflow as tf\n",
    "import tensorflow.contrib.layers as layers\n",
    "import tensorflow.contrib.distributions as ds"
   ]
  },
  {
   "cell_type": "code",
   "execution_count": 2,
   "metadata": {
    "collapsed": true
   },
   "outputs": [],
   "source": [
    "import numpy as np\n",
    "import matplotlib.pyplot as plt"
   ]
  },
  {
   "cell_type": "code",
   "execution_count": 3,
   "metadata": {
    "collapsed": true
   },
   "outputs": [],
   "source": [
    "import seaborn as sns"
   ]
  },
  {
   "cell_type": "code",
   "execution_count": 4,
   "metadata": {
    "collapsed": false
   },
   "outputs": [],
   "source": [
    "config = tf.ConfigProto(intra_op_parallelism_threads=8, inter_op_parallelism_threads=8, \\\n",
    "                        allow_soft_placement=True, device_count = {'CPU': 8})\n",
    "sess = tf.InteractiveSession(config = config)"
   ]
  },
  {
   "cell_type": "code",
   "execution_count": 5,
   "metadata": {
    "collapsed": true
   },
   "outputs": [],
   "source": [
    "target_loc = -0.25\n",
    "target_scale = 0.05"
   ]
  },
  {
   "cell_type": "code",
   "execution_count": 6,
   "metadata": {
    "collapsed": true
   },
   "outputs": [],
   "source": [
    "eps = 1e-10"
   ]
  },
  {
   "cell_type": "code",
   "execution_count": 7,
   "metadata": {
    "collapsed": true
   },
   "outputs": [],
   "source": [
    "batch_size = 3000"
   ]
  },
  {
   "cell_type": "code",
   "execution_count": 8,
   "metadata": {
    "collapsed": true
   },
   "outputs": [],
   "source": [
    "def prepare_data(n_samples):\n",
    "    data = []\n",
    "    labels = []\n",
    "    nuisances = []\n",
    "    \n",
    "    for i in range(n_samples):\n",
    "        sig_bkg = np.random.uniform(low = 0.0, high = 1.0, size = 1)\n",
    "        if sig_bkg > 0.5:\n",
    "            nuisance = np.random.uniform(low = 0.0, high = 2.0, size = 1)\n",
    "            data.append(np.random.multivariate_normal(mean = [0.0, nuisance], cov = 0.1 * np.array([[1, -0.5], [-0.5, 1]]), size = 1).flatten())\n",
    "            labels.append(1.0)\n",
    "        else:\n",
    "            nuisance = np.random.uniform(low = 0.0, high = 2.0, size = 1)\n",
    "            data.append(np.random.multivariate_normal(mean = [1.0, nuisance], cov = 0.1 * np.eye(2), size = 1).flatten())\n",
    "            labels.append(0.0)\n",
    "            \n",
    "        nuisances.append(nuisance)\n",
    "    data = np.array(data)\n",
    "    labels = np.array(labels)\n",
    "    nuisances = np.array(nuisances)\n",
    "    \n",
    "    return data, labels, nuisances.flatten()"
   ]
  },
  {
   "cell_type": "code",
   "execution_count": 41,
   "metadata": {
    "collapsed": true
   },
   "outputs": [],
   "source": [
    "def make_target(nsamples):    \n",
    "    target_y = np.random.uniform(low = 0.0, high = 2.0, size = (nsamples, 1))\n",
    "    target_x = np.random.normal(loc = target_loc, scale = target_scale, size = (nsamples, 1))\n",
    "    \n",
    "    target_x = np.multiply(target_x, 1 + (target_y - 1) / 3)\n",
    "    \n",
    "    return np.concatenate([target_x, target_y], axis = 1)"
   ]
  },
  {
   "cell_type": "code",
   "execution_count": 10,
   "metadata": {
    "collapsed": false
   },
   "outputs": [],
   "source": [
    "num_samples = 100000\n",
    "data_train, labels_train, nuisances_train = prepare_data(num_samples)\n",
    "nuisances_train = np.expand_dims(nuisances_train, axis = 1)\n",
    "labels_train = np.expand_dims(labels_train, axis = 1)"
   ]
  },
  {
   "cell_type": "code",
   "execution_count": 11,
   "metadata": {
    "collapsed": false
   },
   "outputs": [],
   "source": [
    "train_bkg = labels_train == 0\n",
    "bkg_data_train = data_train[train_bkg.flatten()]\n",
    "bkg_labels_train = labels_train[train_bkg.flatten()]\n",
    "bkg_nuisances_train = nuisances_train[train_bkg.flatten()]"
   ]
  },
  {
   "cell_type": "code",
   "execution_count": 12,
   "metadata": {
    "collapsed": false
   },
   "outputs": [],
   "source": [
    "train_sig = labels_train == 1\n",
    "sig_data_train = data_train[train_sig.flatten()]\n",
    "sig_labels_train = labels_train[train_sig.flatten()]\n",
    "sig_nuisances_train = nuisances_train[train_sig.flatten()]"
   ]
  },
  {
   "cell_type": "code",
   "execution_count": 13,
   "metadata": {
    "collapsed": true
   },
   "outputs": [],
   "source": [
    "def classifier(data_in, name):\n",
    "    with tf.variable_scope(name, reuse = tf.AUTO_REUSE):\n",
    "        lay = layers.relu(data_in, 40)\n",
    "        lay = layers.relu(lay, 40)\n",
    "        lay = layers.relu(lay, 20)\n",
    "        outputs = layers.linear(lay, 2)\n",
    "        normalized_outputs = layers.softmax(outputs)\n",
    "\n",
    "    these_vars = tf.get_collection(tf.GraphKeys.GLOBAL_VARIABLES, scope = name)\n",
    "\n",
    "    return outputs, normalized_outputs, these_vars"
   ]
  },
  {
   "cell_type": "code",
   "execution_count": 14,
   "metadata": {
    "collapsed": true
   },
   "outputs": [],
   "source": [
    "def EM_network(data, name):\n",
    "    with tf.variable_scope(name, reuse = tf.AUTO_REUSE):       \n",
    "        lay = layers.relu(data, 40)\n",
    "        lay = layers.relu(lay, 40)\n",
    "        lay = layers.relu(lay, 20)\n",
    "        outputs = layers.linear(lay, 1)\n",
    "        \n",
    "    these_vars = tf.get_collection(tf.GraphKeys.GLOBAL_VARIABLES, scope = name)\n",
    "    \n",
    "    return outputs, these_vars"
   ]
  },
  {
   "cell_type": "code",
   "execution_count": 15,
   "metadata": {
    "collapsed": true
   },
   "outputs": [],
   "source": [
    "def make_EM_loss(data_P, data_Q, name):\n",
    "    local_EM_network_name = name + \"_EM_net\"\n",
    "    \n",
    "    # generator output\n",
    "    T_P, EM_vars = EM_network(data_P, name = local_EM_network_name)\n",
    "    \n",
    "    # target\n",
    "    T_Q, _ = EM_network(data_Q, name = local_EM_network_name)\n",
    "\n",
    "    EM_loss = tf.reduce_mean(T_P, axis = 0) - tf.reduce_mean(T_Q, axis = 0)\n",
    "    \n",
    "    batch_size_dyn = tf.cast(tf.shape(T_P)[0], tf.int32)\n",
    "    rand = tf.random.uniform(shape = (batch_size_dyn, 1), minval = 0.0, maxval = 1.0)\n",
    "    \n",
    "    # add gradient penalty\n",
    "    x_grad = tf.math.add(tf.math.multiply(rand, data_P),\n",
    "                         tf.math.multiply(tf.math.subtract(1.0, rand), data_Q))\n",
    "    x_grad_EM, _ = EM_network(x_grad, name = local_EM_network_name)\n",
    "    grad = tf.gradients(x_grad_EM, x_grad)[0]\n",
    "    \n",
    "    grad_norm = tf.math.sqrt(tf.reduce_sum(tf.math.square(grad), axis = 1) + eps)\n",
    "    \n",
    "    grad_pen = tf.reduce_mean(tf.math.square(grad_norm - 1.0))\n",
    "\n",
    "    EM_loss_grad_pen = EM_loss[0] + 10 * grad_pen\n",
    "\n",
    "    return EM_loss_grad_pen, EM_vars, -EM_loss"
   ]
  },
  {
   "cell_type": "code",
   "execution_count": 59,
   "metadata": {
    "collapsed": false
   },
   "outputs": [],
   "source": [
    "def make_plots():\n",
    "    batch_size_test = 100000\n",
    "    xrange = [-0.5, 0.2]\n",
    "    yrange = [0, 2]\n",
    "    \n",
    "    target_test = make_target(batch_size_test)\n",
    "        \n",
    "    inds_bkg = np.random.choice(len(bkg_data_train), int(batch_size_test))\n",
    "    bkg_batch_data = bkg_data_train[inds_bkg]\n",
    "    bkg_batch_labels = bkg_labels_train[inds_bkg]\n",
    "    bkg_batch_nuisances = bkg_nuisances_train[inds_bkg]\n",
    "\n",
    "    inds_sig = np.random.choice(len(sig_data_train), int(batch_size_test))\n",
    "    sig_batch_data = sig_data_train[inds_sig]\n",
    "    sig_batch_labels = sig_labels_train[inds_sig]\n",
    "    sig_batch_nuisances = sig_nuisances_train[inds_sig]\n",
    "    \n",
    "    class_pred_bkg = sess.run(class_out_single, feed_dict = {data_in: bkg_batch_data, labels_in: bkg_batch_labels, nuisance_in: bkg_batch_nuisances})\n",
    "    class_pred_sig = sess.run(class_out_single, feed_dict = {data_in: sig_batch_data, labels_in: sig_batch_labels, nuisance_in: sig_batch_nuisances})\n",
    "        \n",
    "    f, axarr = plt.subplots(3)\n",
    "    axarr[0].hexbin(x = target_test[:, 0], y = target_test[:, 1], gridsize = 100, bins = 'log')\n",
    "    axarr[0].set_xlim(xrange)\n",
    "    axarr[0].set_ylim(yrange)\n",
    "    axarr[0].set_title(\"target\")\n",
    "    \n",
    "    axarr[1].hexbin(x = class_pred_bkg, y = bkg_batch_nuisances, gridsize = 100, bins = 'log')\n",
    "    axarr[1].set_xlim(xrange)\n",
    "    axarr[1].set_ylim(yrange)\n",
    "    axarr[1].set_title(\"background\")\n",
    "    \n",
    "    axarr[2].hexbin(x = class_pred_sig, y = sig_batch_nuisances, gridsize = 100, bins = 'log')\n",
    "    axarr[2].set_xlim(xrange)\n",
    "    axarr[2].set_ylim(yrange)\n",
    "    axarr[2].set_title(\"signal\")\n",
    "        "
   ]
  },
  {
   "cell_type": "code",
   "execution_count": 92,
   "metadata": {
    "collapsed": true
   },
   "outputs": [],
   "source": [
    "def make_plots_marginal():\n",
    "    batch_size_test = 100000\n",
    "    #batch_size_test = 100\n",
    "    xrange = [-0.5, 0.2]\n",
    "    yrange = [0, 2]\n",
    "    \n",
    "    target_test = make_target(batch_size_test)\n",
    "        \n",
    "    inds_bkg = np.random.choice(len(bkg_data_train), int(batch_size_test))\n",
    "    bkg_batch_data = bkg_data_train[inds_bkg]\n",
    "    bkg_batch_labels = bkg_labels_train[inds_bkg]\n",
    "    bkg_batch_nuisances = bkg_nuisances_train[inds_bkg]\n",
    "\n",
    "    inds_sig = np.random.choice(len(sig_data_train), int(batch_size_test))\n",
    "    sig_batch_data = sig_data_train[inds_sig]\n",
    "    sig_batch_labels = sig_labels_train[inds_sig]\n",
    "    sig_batch_nuisances = sig_nuisances_train[inds_sig]\n",
    "    \n",
    "    class_pred_bkg = sess.run(class_out_single, feed_dict = {data_in: bkg_batch_data, labels_in: bkg_batch_labels, nuisance_in: bkg_batch_nuisances})\n",
    "    class_pred_sig = sess.run(class_out_single, feed_dict = {data_in: sig_batch_data, labels_in: sig_batch_labels, nuisance_in: sig_batch_nuisances})\n",
    "\n",
    "    target_ax = sns.jointplot(x = target_test[:, 0], y=target_test[:, 1], kind='kde', xlim = xrange, ylim = yrange)\n",
    "    bkg_ax = sns.jointplot(x = class_pred_bkg, y=bkg_batch_nuisances, kind='kde', xlim = xrange, ylim = yrange)\n",
    "    sig_ax = sns.jointplot(x = class_pred_sig, y=sig_batch_nuisances, kind='kde', xlim = xrange, ylim = yrange)\n",
    "    \n",
    "    target_ax.set_axis_labels(xlabel = 'classifier output', ylabel = 'nuisance')\n",
    "    bkg_ax.set_axis_labels(xlabel = 'classifier output', ylabel = 'nuisance')\n",
    "    sig_ax.set_axis_labels(xlabel = 'classifier output', ylabel = 'nuisance')\n",
    "    \n",
    "    target_ax.savefig(\"2d_bkg_target.pdf\")\n",
    "    bkg_ax.savefig(\"2d_bkg_distrib.pdf\")\n",
    "    sig_ax.savefig(\"2d_sig_distrib.pdf\")"
   ]
  },
  {
   "cell_type": "code",
   "execution_count": 18,
   "metadata": {
    "collapsed": true
   },
   "outputs": [],
   "source": [
    "data_in = tf.placeholder(tf.float32, [None, 2], name = 'data_in')\n",
    "target_in = tf.placeholder(tf.float32, [None, 2], name = 'target_in')\n",
    "labels_in = tf.placeholder(tf.float32, [None, 1], name = 'labels_in')\n",
    "nuisance_in = tf.placeholder(tf.float32, [None, 1], name = 'nuisance_in')"
   ]
  },
  {
   "cell_type": "code",
   "execution_count": 19,
   "metadata": {
    "collapsed": false
   },
   "outputs": [],
   "source": [
    "class_out, norm_class_out, gen_vars = classifier(data_in, \"gen\")"
   ]
  },
  {
   "cell_type": "code",
   "execution_count": 20,
   "metadata": {
    "collapsed": false
   },
   "outputs": [],
   "source": [
    "labels_one_hot = tf.squeeze(tf.one_hot(tf.dtypes.cast(labels_in, tf.int32), depth = 2))"
   ]
  },
  {
   "cell_type": "code",
   "execution_count": 21,
   "metadata": {
    "collapsed": false
   },
   "outputs": [],
   "source": [
    "classification_loss = tf.losses.softmax_cross_entropy(onehot_labels = labels_one_hot, logits = norm_class_out)"
   ]
  },
  {
   "cell_type": "code",
   "execution_count": 22,
   "metadata": {
    "collapsed": true
   },
   "outputs": [],
   "source": [
    "bkg_truth = tf.where(tf.math.less(labels_in, 1))"
   ]
  },
  {
   "cell_type": "code",
   "execution_count": 23,
   "metadata": {
    "collapsed": true
   },
   "outputs": [],
   "source": [
    "class_out_single = tf.expand_dims(class_out[:,1], axis = 1)"
   ]
  },
  {
   "cell_type": "code",
   "execution_count": 24,
   "metadata": {
    "collapsed": false
   },
   "outputs": [],
   "source": [
    "class_out_bkg = tf.gather_nd(class_out_single, bkg_truth)\n",
    "class_out_bkg = tf.expand_dims(class_out_bkg, axis = 1)"
   ]
  },
  {
   "cell_type": "code",
   "execution_count": 25,
   "metadata": {
    "collapsed": true
   },
   "outputs": [],
   "source": [
    "nuisance_in_bkg = tf.gather_nd(nuisance_in, bkg_truth)\n",
    "nuisance_in_bkg = tf.expand_dims(nuisance_in_bkg, axis = 1)"
   ]
  },
  {
   "cell_type": "code",
   "execution_count": 26,
   "metadata": {
    "collapsed": true
   },
   "outputs": [],
   "source": [
    "output_dist = tf.concat([class_out_bkg, nuisance_in_bkg], axis = 1)"
   ]
  },
  {
   "cell_type": "code",
   "execution_count": 27,
   "metadata": {
    "collapsed": false
   },
   "outputs": [],
   "source": [
    "EM_lossval, EM_vars, EM_dist = make_EM_loss(output_dist, target_in, \"EM_loss_obj\")"
   ]
  },
  {
   "cell_type": "code",
   "execution_count": 28,
   "metadata": {
    "collapsed": false
   },
   "outputs": [],
   "source": [
    "total_loss = classification_loss + EM_dist"
   ]
  },
  {
   "cell_type": "code",
   "execution_count": 29,
   "metadata": {
    "collapsed": false
   },
   "outputs": [],
   "source": [
    "train_EM = tf.train.AdamOptimizer(learning_rate = 5e-3, beta1 = 0.0, beta2 = 0.5).minimize(EM_lossval, var_list = EM_vars)"
   ]
  },
  {
   "cell_type": "code",
   "execution_count": 30,
   "metadata": {
    "collapsed": true
   },
   "outputs": [],
   "source": [
    "train_gen = tf.train.AdamOptimizer(learning_rate = 1e-4, beta1 = 0.0, beta2 = 0.5).minimize(EM_dist, var_list = gen_vars)"
   ]
  },
  {
   "cell_type": "code",
   "execution_count": 31,
   "metadata": {
    "collapsed": true
   },
   "outputs": [],
   "source": [
    "train_class_total_loss = tf.train.AdamOptimizer(learning_rate = 1e-4, beta1 = 0.0, beta2 = 0.5).minimize(total_loss, var_list = gen_vars)"
   ]
  },
  {
   "cell_type": "code",
   "execution_count": 32,
   "metadata": {
    "collapsed": true
   },
   "outputs": [],
   "source": [
    "train_class = tf.train.AdamOptimizer(learning_rate = 1e-4, beta1 = 0.0, beta2 = 0.5).minimize(classification_loss, var_list = gen_vars)"
   ]
  },
  {
   "cell_type": "code",
   "execution_count": 43,
   "metadata": {
    "collapsed": true
   },
   "outputs": [],
   "source": [
    "sess.run(tf.global_variables_initializer())"
   ]
  },
  {
   "cell_type": "code",
   "execution_count": 34,
   "metadata": {
    "collapsed": true
   },
   "outputs": [],
   "source": [
    "init_critic = tf.variables_initializer(EM_vars)"
   ]
  },
  {
   "cell_type": "code",
   "execution_count": 35,
   "metadata": {
    "collapsed": true
   },
   "outputs": [],
   "source": [
    "sess.run(init_critic)"
   ]
  },
  {
   "cell_type": "code",
   "execution_count": 36,
   "metadata": {
    "collapsed": false
   },
   "outputs": [
    {
     "name": "stdout",
     "output_type": "stream",
     "text": [
      "EM_dist = [0.00677881]\n",
      "EM_dist = [0.01233868]\n",
      "EM_dist = [0.01749785]\n",
      "EM_dist = [0.02050589]\n",
      "EM_dist = [0.02116984]\n",
      "EM_dist = [0.03525642]\n",
      "EM_dist = [0.02927518]\n",
      "EM_dist = [0.03912655]\n",
      "EM_dist = [0.03796235]\n",
      "EM_dist = [0.03467873]\n",
      "EM_dist = [0.03426638]\n",
      "EM_dist = [0.02499874]\n",
      "EM_dist = [0.03280947]\n",
      "EM_dist = [0.03549093]\n",
      "EM_dist = [0.03563178]\n",
      "EM_dist = [0.03156975]\n",
      "EM_dist = [0.03551668]\n",
      "EM_dist = [0.03143331]\n",
      "EM_dist = [0.03114557]\n",
      "EM_dist = [0.03228763]\n",
      "EM_dist = [0.03480628]\n",
      "EM_dist = [0.02903356]\n",
      "EM_dist = [0.03877085]\n",
      "EM_dist = [0.02966404]\n",
      "EM_dist = [0.03488606]\n",
      "EM_dist = [0.03508812]\n",
      "EM_dist = [0.02883682]\n",
      "EM_dist = [0.02893621]\n",
      "EM_dist = [0.03548959]\n",
      "EM_dist = [0.03237721]\n",
      "EM_dist = [0.03784221]\n",
      "EM_dist = [0.02936591]\n",
      "EM_dist = [0.03704455]\n",
      "EM_dist = [0.03175125]\n",
      "EM_dist = [0.03764972]\n",
      "EM_dist = [0.03288415]\n",
      "EM_dist = [0.03459373]\n",
      "EM_dist = [0.02924608]\n",
      "EM_dist = [0.03414613]\n",
      "EM_dist = [0.03102152]\n",
      "EM_dist = [0.03435895]\n",
      "EM_dist = [0.02689666]\n",
      "EM_dist = [0.03615198]\n",
      "EM_dist = [0.02764456]\n",
      "EM_dist = [0.04254746]\n",
      "EM_dist = [0.03105232]\n",
      "EM_dist = [0.03889948]\n",
      "EM_dist = [0.03389406]\n",
      "EM_dist = [0.03739554]\n",
      "EM_dist = [0.0305955]\n",
      "EM_dist = [0.0362179]\n",
      "EM_dist = [0.03411201]\n",
      "EM_dist = [0.03395092]\n",
      "EM_dist = [0.03214335]\n",
      "EM_dist = [0.03951329]\n",
      "EM_dist = [0.03020261]\n",
      "EM_dist = [0.03880489]\n",
      "EM_dist = [0.03509268]\n",
      "EM_dist = [0.03548229]\n",
      "EM_dist = [0.03035842]\n",
      "EM_dist = [0.03721538]\n",
      "EM_dist = [0.03177238]\n",
      "EM_dist = [0.03597772]\n",
      "EM_dist = [0.02913508]\n",
      "EM_dist = [0.03873801]\n",
      "EM_dist = [0.02942377]\n",
      "EM_dist = [0.03588277]\n",
      "EM_dist = [0.03309114]\n",
      "EM_dist = [0.03588194]\n",
      "EM_dist = [0.0309577]\n",
      "EM_dist = [0.03294837]\n",
      "EM_dist = [0.03037469]\n",
      "EM_dist = [0.03898136]\n",
      "EM_dist = [0.02992938]\n",
      "EM_dist = [0.03603193]\n",
      "EM_dist = [0.03187251]\n",
      "EM_dist = [0.03666314]\n",
      "EM_dist = [0.03385544]\n",
      "EM_dist = [0.03809533]\n",
      "EM_dist = [0.02899766]\n",
      "EM_dist = [0.03650115]\n",
      "EM_dist = [0.03076197]\n",
      "EM_dist = [0.03707686]\n",
      "EM_dist = [0.03250381]\n",
      "EM_dist = [0.03681639]\n",
      "EM_dist = [0.0291699]\n",
      "EM_dist = [0.04306716]\n",
      "EM_dist = [0.0306451]\n",
      "EM_dist = [0.03869359]\n",
      "EM_dist = [0.03101134]\n",
      "EM_dist = [0.03661436]\n",
      "EM_dist = [0.03124854]\n",
      "EM_dist = [0.03466889]\n",
      "EM_dist = [0.02870476]\n",
      "EM_dist = [0.03779596]\n",
      "EM_dist = [0.02962446]\n",
      "EM_dist = [0.03382306]\n",
      "EM_dist = [0.0309149]\n",
      "EM_dist = [0.03513476]\n",
      "EM_dist = [0.03216484]\n",
      "EM_dist = [0.03780127]\n",
      "EM_dist = [0.03129457]\n",
      "EM_dist = [0.04000977]\n",
      "EM_dist = [0.03053869]\n",
      "EM_dist = [0.03635794]\n",
      "EM_dist = [0.03310765]\n",
      "EM_dist = [0.03064002]\n",
      "EM_dist = [0.03254735]\n",
      "EM_dist = [0.03535086]\n",
      "EM_dist = [0.03150566]\n",
      "EM_dist = [0.04051229]\n",
      "EM_dist = [0.03393173]\n",
      "EM_dist = [0.04090238]\n",
      "EM_dist = [0.03472584]\n",
      "EM_dist = [0.03990611]\n",
      "EM_dist = [0.03332148]\n",
      "EM_dist = [0.04047203]\n",
      "EM_dist = [0.03170413]\n",
      "EM_dist = [0.03471151]\n",
      "EM_dist = [0.0368104]\n",
      "EM_dist = [0.03445217]\n",
      "EM_dist = [0.04085481]\n",
      "EM_dist = [0.03226167]\n",
      "EM_dist = [0.0317497]\n",
      "EM_dist = [0.03287521]\n",
      "EM_dist = [0.03862506]\n",
      "EM_dist = [0.03228456]\n",
      "EM_dist = [0.04119745]\n",
      "EM_dist = [0.02937585]\n",
      "EM_dist = [0.03870448]\n",
      "EM_dist = [0.03438738]\n",
      "EM_dist = [0.03601947]\n",
      "EM_dist = [0.02972187]\n",
      "EM_dist = [0.03529736]\n",
      "EM_dist = [0.0306173]\n",
      "EM_dist = [0.03340998]\n",
      "EM_dist = [0.02834649]\n",
      "EM_dist = [0.04291847]\n",
      "EM_dist = [0.0305244]\n",
      "EM_dist = [0.03909865]\n",
      "EM_dist = [0.03371572]\n",
      "EM_dist = [0.03697491]\n",
      "EM_dist = [0.03098002]\n",
      "EM_dist = [0.03862163]\n",
      "EM_dist = [0.03287236]\n",
      "EM_dist = [0.03530955]\n",
      "EM_dist = [0.03659993]\n",
      "EM_dist = [0.04026452]\n",
      "EM_dist = [0.03281398]\n",
      "EM_dist = [0.03626275]\n",
      "EM_dist = [0.03209317]\n",
      "EM_dist = [0.03731608]\n",
      "EM_dist = [0.02914229]\n",
      "EM_dist = [0.03558797]\n",
      "EM_dist = [0.02943939]\n",
      "EM_dist = [0.03539786]\n",
      "EM_dist = [0.03148563]\n",
      "EM_dist = [0.03985912]\n",
      "EM_dist = [0.03241566]\n",
      "EM_dist = [0.03688556]\n",
      "EM_dist = [0.03349614]\n",
      "EM_dist = [0.0393073]\n",
      "EM_dist = [0.03148594]\n",
      "EM_dist = [0.03633893]\n",
      "EM_dist = [0.0282061]\n",
      "EM_dist = [0.03629944]\n",
      "EM_dist = [0.03613725]\n",
      "EM_dist = [0.04132614]\n",
      "EM_dist = [0.02889556]\n",
      "EM_dist = [0.03708789]\n",
      "EM_dist = [0.03291726]\n",
      "EM_dist = [0.03584459]\n",
      "EM_dist = [0.03263979]\n",
      "EM_dist = [0.03800894]\n",
      "EM_dist = [0.03473929]\n",
      "EM_dist = [0.0355483]\n",
      "EM_dist = [0.03043801]\n",
      "EM_dist = [0.03823093]\n",
      "EM_dist = [0.03341055]\n",
      "EM_dist = [0.03738484]\n",
      "EM_dist = [0.02940288]\n",
      "EM_dist = [0.03576976]\n",
      "EM_dist = [0.0319311]\n",
      "EM_dist = [0.03657162]\n",
      "EM_dist = [0.03187972]\n",
      "EM_dist = [0.03971565]\n",
      "EM_dist = [0.03341931]\n",
      "EM_dist = [0.03711611]\n",
      "EM_dist = [0.02944717]\n",
      "EM_dist = [0.03733322]\n",
      "EM_dist = [0.02830195]\n",
      "EM_dist = [0.03913078]\n",
      "EM_dist = [0.03188759]\n",
      "EM_dist = [0.03664878]\n",
      "EM_dist = [0.03146318]\n",
      "EM_dist = [0.03608543]\n",
      "EM_dist = [0.0327183]\n",
      "EM_dist = [0.04024488]\n",
      "EM_dist = [0.03192374]\n",
      "EM_dist = [0.03771973]\n"
     ]
    }
   ],
   "source": [
    "for i in range(200):\n",
    "    target = make_target(batch_size)\n",
    "    inds = np.random.choice(len(bkg_data_train), batch_size)\n",
    "    data_batch = bkg_data_train[inds]\n",
    "    labels_batch = bkg_labels_train[inds]\n",
    "    nuisances_batch = bkg_nuisances_train[inds]\n",
    "    \n",
    "    sess.run(train_EM, feed_dict = {data_in: data_batch, target_in: target, labels_in: labels_batch,\n",
    "                                    nuisance_in: nuisances_batch})\n",
    "\n",
    "    EM_dist_val = sess.run(EM_dist, feed_dict = {data_in: data_batch, target_in: target, labels_in: labels_batch,\n",
    "                                                nuisance_in: nuisances_batch})\n",
    "    print(\"EM_dist = {}\".format(EM_dist_val))"
   ]
  },
  {
   "cell_type": "code",
   "execution_count": 42,
   "metadata": {
    "collapsed": false
   },
   "outputs": [
    {
     "data": {
      "image/png": "[encoded data removed]",
      "text/plain": [
       "<Figure size 432x432 with 3 Axes>"
      ]
     },
     "metadata": {},
     "output_type": "display_data"
    },
    {
     "data": {
      "image/png": "[encoded data removed]",
      "text/plain": [
       "<Figure size 432x432 with 3 Axes>"
      ]
     },
     "metadata": {},
     "output_type": "display_data"
    },
    {
     "data": {
      "image/png": "[encoded data removed]",
      "text/plain": [
       "<Figure size 432x432 with 3 Axes>"
      ]
     },
     "metadata": {},
     "output_type": "display_data"
    }
   ],
   "source": [
    "make_plots_marginal()\n",
    "plt.show()"
   ]
  },
  {
   "cell_type": "code",
   "execution_count": 37,
   "metadata": {
    "collapsed": false,
    "scrolled": true
   },
   "outputs": [],
   "source": [
    "def perform_training(training_op, epochs, ME_epochs):\n",
    "    for i in range(0, epochs):\n",
    "        # prepare noise\n",
    "        for j in range(ME_epochs):\n",
    "            target = make_target(batch_size)\n",
    "            inds = np.random.choice(len(bkg_data_train), batch_size)\n",
    "            bkg_batch_data = bkg_data_train[inds]\n",
    "            bkg_batch_labels = bkg_labels_train[inds]\n",
    "            bkg_batch_nuisances = bkg_nuisances_train[inds]\n",
    "\n",
    "            sess.run(train_EM, feed_dict = {data_in: bkg_batch_data, target_in: target, labels_in: bkg_batch_labels,\n",
    "                                           nuisance_in: bkg_batch_nuisances})\n",
    "\n",
    "        target = make_target(int(batch_size / 2))\n",
    "        inds = np.random.choice(len(data_train), batch_size)\n",
    "        data_batch = data_train[inds]\n",
    "\n",
    "        inds_bkg = np.random.choice(len(bkg_data_train), int(batch_size / 2))\n",
    "        bkg_batch_data = bkg_data_train[inds_bkg]\n",
    "        bkg_batch_labels = bkg_labels_train[inds_bkg]\n",
    "        bkg_batch_nuisances = bkg_nuisances_train[inds_bkg]\n",
    "\n",
    "        inds_sig = np.random.choice(len(sig_data_train), int(batch_size / 2))\n",
    "        sig_batch_data = sig_data_train[inds_sig]\n",
    "        sig_batch_labels = sig_labels_train[inds_sig]\n",
    "        sig_batch_nuisances = sig_nuisances_train[inds_sig]\n",
    "\n",
    "        data_batch = np.concatenate([sig_batch_data, bkg_batch_data])\n",
    "        labels_batch = np.concatenate([sig_batch_labels, bkg_batch_labels])\n",
    "        nuisances_batch = np.concatenate([sig_batch_nuisances, bkg_batch_nuisances])\n",
    "                    \n",
    "        sess.run(training_op, feed_dict = {data_in: data_batch, target_in: target, labels_in: labels_batch,\n",
    "                                          nuisance_in: nuisances_batch})\n",
    "        EM_dist_val = sess.run(EM_dist, feed_dict = {data_in: data_batch, target_in: target, labels_in: labels_batch,\n",
    "                                          nuisance_in: nuisances_batch})\n",
    "        critic_loss = sess.run(EM_lossval, feed_dict = {data_in: data_batch, target_in: target, labels_in: labels_batch,\n",
    "                                          nuisance_in: nuisances_batch})\n",
    "        class_lossval = sess.run(classification_loss, feed_dict = {data_in: data_batch, target_in: target, labels_in: labels_batch,\n",
    "                                          nuisance_in: nuisances_batch})\n",
    "\n",
    "        print(\"W = {}\".format(EM_dist_val))\n",
    "        print(\"critic loss = {}\".format(critic_loss))\n",
    "        print(\"class loss = {}\".format(class_lossval))"
   ]
  },
  {
   "cell_type": "code",
   "execution_count": 73,
   "metadata": {
    "collapsed": false,
    "scrolled": true
   },
   "outputs": [
    {
     "name": "stdout",
     "output_type": "stream",
     "text": [
      "W = [0.00326192]\n",
      "critic loss = 0.04665343463420868\n",
      "class loss = 0.5854750871658325\n",
      "W = [0.00750512]\n",
      "critic loss = 0.016884896904230118\n",
      "class loss = 0.5822113156318665\n",
      "W = [0.00332189]\n",
      "critic loss = 0.010732795111835003\n",
      "class loss = 0.5833885669708252\n",
      "W = [0.01109862]\n",
      "critic loss = 0.013152765110135078\n",
      "class loss = 0.5809934139251709\n",
      "W = [-0.00869918]\n",
      "critic loss = 0.03146695718169212\n",
      "class loss = 0.5828244686126709\n",
      "W = [-0.03311872]\n",
      "critic loss = 0.044397756457328796\n",
      "class loss = 0.582675039768219\n",
      "W = [-0.01993334]\n",
      "critic loss = 0.0378730371594429\n",
      "class loss = 0.582073986530304\n",
      "W = [-0.00549161]\n",
      "critic loss = 0.017769835889339447\n",
      "class loss = 0.582277774810791\n",
      "W = [-0.04630494]\n",
      "critic loss = 0.05437536537647247\n",
      "class loss = 0.5798627734184265\n",
      "W = [-0.00353217]\n",
      "critic loss = 0.011721711605787277\n",
      "class loss = 0.5807074904441833\n",
      "W = [0.03892565]\n",
      "critic loss = -0.027923833578824997\n",
      "class loss = 0.5825458765029907\n",
      "W = [-0.0029434]\n",
      "critic loss = 0.013426339253783226\n",
      "class loss = 0.5819016695022583\n",
      "W = [0.02975488]\n",
      "critic loss = -0.016845498234033585\n",
      "class loss = 0.5812336206436157\n",
      "W = [-0.02045]\n",
      "critic loss = 0.030525559559464455\n",
      "class loss = 0.5800401568412781\n",
      "W = [0.01720834]\n",
      "critic loss = -0.007485906593501568\n",
      "class loss = 0.579958438873291\n",
      "W = [0.00883198]\n",
      "critic loss = 0.001117904670536518\n",
      "class loss = 0.5779129266738892\n",
      "W = [-0.01085055]\n",
      "critic loss = 0.020105954259634018\n",
      "class loss = 0.581611156463623\n",
      "W = [-0.02745771]\n",
      "critic loss = 0.035329919308423996\n",
      "class loss = 0.5803412795066833\n",
      "W = [0.00570381]\n",
      "critic loss = 0.002005518414080143\n",
      "class loss = 0.5773191452026367\n",
      "W = [0.01578271]\n",
      "critic loss = -0.00877951830625534\n",
      "class loss = 0.5780751705169678\n",
      "W = [0.00095069]\n",
      "critic loss = 0.006581497844308615\n",
      "class loss = 0.5764296650886536\n",
      "W = [0.01152003]\n",
      "critic loss = -0.0051882010884583\n",
      "class loss = 0.5767828226089478\n",
      "W = [0.02198696]\n",
      "critic loss = -0.013226982206106186\n",
      "class loss = 0.5755141377449036\n",
      "W = [-0.0193311]\n",
      "critic loss = 0.027638455852866173\n",
      "class loss = 0.575942873954773\n",
      "W = [-0.00958252]\n",
      "critic loss = 0.015018034726381302\n",
      "class loss = 0.574041485786438\n",
      "W = [0.01102209]\n",
      "critic loss = -0.003781692124903202\n",
      "class loss = 0.5748253464698792\n",
      "W = [0.02960062]\n",
      "critic loss = -0.022913407534360886\n",
      "class loss = 0.5769106149673462\n",
      "W = [0.030007]\n",
      "critic loss = -0.023244082927703857\n",
      "class loss = 0.5746206641197205\n",
      "W = [-0.00619459]\n",
      "critic loss = 0.013363119214773178\n",
      "class loss = 0.5732567310333252\n",
      "W = [0.0009923]\n",
      "critic loss = 0.005287309642881155\n",
      "class loss = 0.5755337476730347\n",
      "W = [-0.04917479]\n",
      "critic loss = 0.05653680860996246\n",
      "class loss = 0.5732059478759766\n",
      "W = [-0.00574946]\n",
      "critic loss = 0.012682117521762848\n",
      "class loss = 0.5725592970848083\n",
      "W = [-0.04196656]\n",
      "critic loss = 0.04874584078788757\n",
      "class loss = 0.5703644752502441\n",
      "W = [0.00577772]\n",
      "critic loss = 0.0011632703244686127\n",
      "class loss = 0.5703960657119751\n",
      "W = [-0.00320315]\n",
      "critic loss = 0.008500883355736732\n",
      "class loss = 0.5708945393562317\n",
      "W = [0.033638]\n",
      "critic loss = -0.02642376534640789\n",
      "class loss = 0.571341872215271\n",
      "W = [0.01751029]\n",
      "critic loss = 0.0103116724640131\n",
      "class loss = 0.5678166151046753\n",
      "W = [0.01780307]\n",
      "critic loss = -0.010241536423563957\n",
      "class loss = 0.5709848403930664\n",
      "W = [-0.02854109]\n",
      "critic loss = 0.03589332476258278\n",
      "class loss = 0.569894015789032\n",
      "W = [-0.02258861]\n",
      "critic loss = 0.030794229358434677\n",
      "class loss = 0.5729877352714539\n",
      "W = [0.00775158]\n",
      "critic loss = -0.0014197593554854393\n",
      "class loss = 0.5671364068984985\n",
      "W = [-0.00875401]\n",
      "critic loss = 0.013585859909653664\n",
      "class loss = 0.5722773671150208\n",
      "W = [0.02847874]\n",
      "critic loss = -0.017106536775827408\n",
      "class loss = 0.5688915252685547\n",
      "W = [-0.00098038]\n",
      "critic loss = 0.009083673357963562\n",
      "class loss = 0.5687288641929626\n",
      "W = [0.01513863]\n",
      "critic loss = -0.006716268137097359\n",
      "class loss = 0.5679880976676941\n",
      "W = [-0.01732254]\n",
      "critic loss = 0.02486288547515869\n",
      "class loss = 0.5696637630462646\n",
      "W = [0.02586818]\n",
      "critic loss = -0.018456973135471344\n",
      "class loss = 0.5688356161117554\n",
      "W = [0.03813303]\n",
      "critic loss = -0.03150276467204094\n",
      "class loss = 0.5660095810890198\n",
      "W = [-0.02842128]\n",
      "critic loss = 0.042281314730644226\n",
      "class loss = 0.5676253437995911\n",
      "W = [-0.01693368]\n",
      "critic loss = 0.024481240659952164\n",
      "class loss = 0.5690973401069641\n"
     ]
    }
   ],
   "source": [
    "perform_training(train_class_total_loss, epochs = 50, ME_epochs = 300)"
   ]
  },
  {
   "cell_type": "code",
   "execution_count": 49,
   "metadata": {
    "collapsed": false,
    "scrolled": true
   },
   "outputs": [
    {
     "name": "stdout",
     "output_type": "stream",
     "text": [
      "W = [0.06741034]\n",
      "critic loss = 0.05419546365737915\n",
      "class loss = 0.6635038256645203\n",
      "W = [0.07567039]\n",
      "critic loss = -0.011059902608394623\n",
      "class loss = 0.662321150302887\n",
      "W = [0.06168412]\n",
      "critic loss = 0.012437783181667328\n",
      "class loss = 0.6623720526695251\n",
      "W = [0.06675598]\n",
      "critic loss = 0.07583649456501007\n",
      "class loss = 0.6620627641677856\n",
      "W = [0.06127748]\n",
      "critic loss = -0.004885386675596237\n",
      "class loss = 0.6622549891471863\n",
      "W = [0.06528799]\n",
      "critic loss = 0.005816817283630371\n",
      "class loss = 0.6611390113830566\n",
      "W = [0.05703522]\n",
      "critic loss = 0.0454607754945755\n",
      "class loss = 0.6610068082809448\n",
      "W = [0.06318625]\n",
      "critic loss = 0.029916442930698395\n",
      "class loss = 0.6603392362594604\n",
      "W = [0.05657855]\n",
      "critic loss = 0.03058898076415062\n",
      "class loss = 0.6594169735908508\n",
      "W = [0.06367145]\n",
      "critic loss = 0.04806746542453766\n",
      "class loss = 0.6593428254127502\n",
      "W = [0.0438107]\n",
      "critic loss = 0.05654453486204147\n",
      "class loss = 0.6589368581771851\n",
      "W = [0.05358963]\n",
      "critic loss = 0.05855053663253784\n",
      "class loss = 0.6587125658988953\n",
      "W = [0.04662816]\n",
      "critic loss = 0.060094982385635376\n",
      "class loss = 0.6583794951438904\n",
      "W = [0.05132656]\n",
      "critic loss = 0.08550499379634857\n",
      "class loss = 0.6572645902633667\n",
      "W = [0.05246123]\n",
      "critic loss = 0.03113718330860138\n",
      "class loss = 0.6573434472084045\n",
      "W = [0.04316209]\n",
      "critic loss = -0.003580234944820404\n",
      "class loss = 0.6567021608352661\n",
      "W = [0.04287499]\n",
      "critic loss = 0.09258107841014862\n",
      "class loss = 0.6558871865272522\n",
      "W = [0.03651316]\n",
      "critic loss = 0.028184711933135986\n",
      "class loss = 0.6549609303474426\n",
      "W = [0.03515737]\n",
      "critic loss = 0.08714538812637329\n",
      "class loss = 0.6546999216079712\n",
      "W = [0.02965531]\n",
      "critic loss = 0.05149232596158981\n",
      "class loss = 0.6547911167144775\n",
      "W = [0.03479235]\n",
      "critic loss = 0.052903175354003906\n",
      "class loss = 0.6535009145736694\n",
      "W = [0.03622621]\n",
      "critic loss = -0.017760243266820908\n",
      "class loss = 0.6542829275131226\n",
      "W = [0.0415394]\n",
      "critic loss = 0.10395993292331696\n",
      "class loss = 0.6541629433631897\n",
      "W = [0.02408104]\n",
      "critic loss = 0.036848485469818115\n",
      "class loss = 0.6535870432853699\n",
      "W = [0.01298171]\n",
      "critic loss = 0.04079955443739891\n",
      "class loss = 0.6519240736961365\n",
      "W = [0.01897806]\n",
      "critic loss = 0.06182430684566498\n",
      "class loss = 0.6525293588638306\n",
      "W = [0.01818913]\n",
      "critic loss = 0.0457819327712059\n",
      "class loss = 0.6512411236763\n",
      "W = [0.012328]\n",
      "critic loss = 0.07009624689817429\n",
      "class loss = 0.6507946848869324\n",
      "W = [0.01931164]\n",
      "critic loss = 0.04777258634567261\n",
      "class loss = 0.6507008075714111\n",
      "W = [0.019945]\n",
      "critic loss = 0.021638333797454834\n",
      "class loss = 0.6499897241592407\n",
      "W = [0.01712555]\n",
      "critic loss = 0.07257013767957687\n",
      "class loss = 0.6497943997383118\n",
      "W = [0.01353742]\n",
      "critic loss = 0.05959835648536682\n",
      "class loss = 0.64886075258255\n",
      "W = [0.01626059]\n",
      "critic loss = 0.03788294643163681\n",
      "class loss = 0.6485531330108643\n",
      "W = [0.00630516]\n",
      "critic loss = 0.07178957760334015\n",
      "class loss = 0.6488932967185974\n",
      "W = [0.01090661]\n",
      "critic loss = 0.06067139655351639\n",
      "class loss = 0.6479001641273499\n",
      "W = [0.00766084]\n",
      "critic loss = 0.06591743230819702\n",
      "class loss = 0.6468930840492249\n",
      "W = [0.00793543]\n",
      "critic loss = 0.04893363267183304\n",
      "class loss = 0.6471898555755615\n",
      "W = [0.00912622]\n",
      "critic loss = 0.14808806777000427\n",
      "class loss = 0.6463401913642883\n",
      "W = [0.00570944]\n",
      "critic loss = 0.06802980601787567\n",
      "class loss = 0.6462762355804443\n",
      "W = [0.00302759]\n",
      "critic loss = 0.0875045657157898\n",
      "class loss = 0.6457495093345642\n",
      "W = [0.00128503]\n",
      "critic loss = 0.07281433790922165\n",
      "class loss = 0.6462429165840149\n",
      "W = [0.00142074]\n",
      "critic loss = 0.10050736367702484\n",
      "class loss = 0.6453448534011841\n",
      "W = [-0.00284019]\n",
      "critic loss = 0.1275249421596527\n",
      "class loss = 0.6451270580291748\n",
      "W = [-0.00239646]\n",
      "critic loss = 0.09210703521966934\n",
      "class loss = 0.6436989903450012\n",
      "W = [-0.0017823]\n",
      "critic loss = 0.16225630044937134\n",
      "class loss = 0.6440963745117188\n",
      "W = [-0.00659779]\n",
      "critic loss = 0.15433931350708008\n",
      "class loss = 0.6426306366920471\n",
      "W = [-0.00725457]\n",
      "critic loss = 0.11551747471094131\n",
      "class loss = 0.642893373966217\n",
      "W = [-0.00766307]\n",
      "critic loss = 0.1992594599723816\n",
      "class loss = 0.6429234743118286\n",
      "W = [-0.0078958]\n",
      "critic loss = 0.14205104112625122\n",
      "class loss = 0.6421085596084595\n",
      "W = [-0.00634068]\n",
      "critic loss = 0.09608177840709686\n",
      "class loss = 0.6417098045349121\n"
     ]
    }
   ],
   "source": [
    "perform_training(train_class, epochs = 50, ME_epochs = 3)"
   ]
  },
  {
   "cell_type": "code",
   "execution_count": 129,
   "metadata": {
    "collapsed": true
   },
   "outputs": [
    {
     "name": "stdout",
     "output_type": "stream",
     "text": [
      "W = [0.00723767]\n",
      "critic loss = -0.004893305245786905\n",
      "class loss = 0.5939866304397583\n",
      "W = [0.02289891]\n",
      "critic loss = -0.020109614357352257\n",
      "class loss = 0.5914429426193237\n",
      "W = [-0.01040506]\n",
      "critic loss = 0.014557728543877602\n",
      "class loss = 0.5950588583946228\n",
      "W = [0.00352573]\n",
      "critic loss = -0.0005295283626765013\n",
      "class loss = 0.6071353554725647\n",
      "W = [-0.00444913]\n",
      "critic loss = 0.007093672174960375\n",
      "class loss = 0.6092406511306763\n",
      "W = [-0.03821063]\n",
      "critic loss = 0.04058222100138664\n",
      "class loss = 0.5993581414222717\n",
      "W = [0.02276063]\n",
      "critic loss = -0.020358571782708168\n",
      "class loss = 0.5916091799736023\n",
      "W = [0.03695107]\n",
      "critic loss = -0.034920498728752136\n",
      "class loss = 0.5998755693435669\n",
      "W = [0.02502179]\n",
      "critic loss = -0.023170428350567818\n",
      "class loss = 0.6025210022926331\n",
      "W = [-0.00441515]\n",
      "critic loss = 0.0069176191464066505\n",
      "class loss = 0.5990334749221802\n",
      "W = [0.00284243]\n",
      "critic loss = -0.00010973075404763222\n",
      "class loss = 0.5882115364074707\n",
      "W = [0.04406381]\n",
      "critic loss = -0.04233521595597267\n",
      "class loss = 0.6062193512916565\n",
      "W = [0.0436852]\n",
      "critic loss = -0.041986726224422455\n",
      "class loss = 0.603666365146637\n",
      "W = [-0.0141387]\n",
      "critic loss = 0.016098547726869583\n",
      "class loss = 0.6019114851951599\n",
      "W = [-0.001436]\n",
      "critic loss = 0.004308091010898352\n",
      "class loss = 0.5955743193626404\n",
      "W = [-0.00336671]\n",
      "critic loss = 0.00612112320959568\n",
      "class loss = 0.5929203033447266\n",
      "W = [0.01180315]\n",
      "critic loss = -0.009688490070402622\n",
      "class loss = 0.5985974669456482\n",
      "W = [-0.00472856]\n",
      "critic loss = 0.007312006317079067\n",
      "class loss = 0.5989041924476624\n",
      "W = [0.0024457]\n",
      "critic loss = -0.00037020444869995117\n",
      "class loss = 0.6025723814964294\n",
      "W = [0.00883293]\n",
      "critic loss = -0.006568890064954758\n",
      "class loss = 0.5935618281364441\n",
      "W = [-0.00361943]\n",
      "critic loss = 0.00532070267945528\n",
      "class loss = 0.5912925601005554\n",
      "W = [0.00541592]\n",
      "critic loss = -0.00288535188883543\n",
      "class loss = 0.5998112559318542\n",
      "W = [-0.01677537]\n",
      "critic loss = 0.018370145931839943\n",
      "class loss = 0.5979164838790894\n",
      "W = [-0.04199505]\n",
      "critic loss = 0.04432779178023338\n",
      "class loss = 0.6033605933189392\n",
      "W = [-0.01846337]\n",
      "critic loss = 0.02095242775976658\n",
      "class loss = 0.5913107991218567\n",
      "W = [0.00021076]\n",
      "critic loss = 0.001565550803206861\n",
      "class loss = 0.5944042205810547\n",
      "W = [-0.0153861]\n",
      "critic loss = 0.01758953556418419\n",
      "class loss = 0.604570746421814\n",
      "W = [-0.00587988]\n",
      "critic loss = 0.007526889443397522\n",
      "class loss = 0.5995462536811829\n",
      "W = [-0.00601268]\n",
      "critic loss = 0.008196679875254631\n",
      "class loss = 0.6083570122718811\n",
      "W = [0.02722597]\n",
      "critic loss = -0.024947596713900566\n",
      "class loss = 0.5931636095046997\n",
      "W = [0.01998901]\n",
      "critic loss = -0.01778162643313408\n",
      "class loss = 0.5994381904602051\n",
      "W = [0.00749183]\n",
      "critic loss = -0.005405292846262455\n",
      "class loss = 0.6032360792160034\n",
      "W = [0.02288651]\n",
      "critic loss = -0.020362433046102524\n",
      "class loss = 0.5959176421165466\n",
      "W = [-0.00501275]\n",
      "critic loss = 0.006987514439970255\n",
      "class loss = 0.6043563485145569\n",
      "W = [-0.03713918]\n",
      "critic loss = 0.03930749371647835\n",
      "class loss = 0.59537273645401\n",
      "W = [8.583069e-06]\n",
      "critic loss = 0.001868578139692545\n",
      "class loss = 0.5915201306343079\n",
      "W = [0.04107189]\n",
      "critic loss = -0.038942717015743256\n",
      "class loss = 0.6027937531471252\n",
      "W = [0.01573992]\n",
      "critic loss = -0.013257843442261219\n",
      "class loss = 0.602394700050354\n",
      "W = [0.01151299]\n",
      "critic loss = -0.00952359288930893\n",
      "class loss = 0.599597156047821\n",
      "W = [-0.00356102]\n",
      "critic loss = 0.00553474947810173\n",
      "class loss = 0.5935479998588562\n",
      "W = [0.04696941]\n",
      "critic loss = -0.044953495264053345\n",
      "class loss = 0.5889502167701721\n",
      "W = [0.00071168]\n",
      "critic loss = 0.0009927349165081978\n",
      "class loss = 0.5938029885292053\n",
      "W = [-0.00498867]\n",
      "critic loss = 0.0069696055725216866\n",
      "class loss = 0.5990965962409973\n",
      "W = [-0.03906369]\n",
      "critic loss = 0.041204359382390976\n",
      "class loss = 0.6011956930160522\n",
      "W = [-0.01073694]\n",
      "critic loss = 0.012602591887116432\n",
      "class loss = 0.5998143553733826\n",
      "W = [-0.01838398]\n",
      "critic loss = 0.020398005843162537\n",
      "class loss = 0.5949397683143616\n",
      "W = [0.00379705]\n",
      "critic loss = -0.0019136180635541677\n",
      "class loss = 0.5951031446456909\n",
      "W = [-0.00379062]\n",
      "critic loss = 0.005827442742884159\n",
      "class loss = 0.6020222902297974\n",
      "W = [-0.02445149]\n",
      "critic loss = 0.026683824136853218\n",
      "class loss = 0.6005601286888123\n",
      "W = [-0.01360369]\n",
      "critic loss = 0.015511980280280113\n",
      "class loss = 0.5959389805793762\n"
     ]
    }
   ],
   "source": [
    "perform_training(train_gen, epochs = 50, ME_epochs = 600)"
   ]
  },
  {
   "cell_type": "code",
   "execution_count": 74,
   "metadata": {
    "collapsed": false
   },
   "outputs": [
    {
     "data": {
      "image/png": "[encoded data removed]",
      "text/plain": [
       "<Figure size 432x288 with 3 Axes>"
      ]
     },
     "metadata": {},
     "output_type": "display_data"
    }
   ],
   "source": [
    "make_plots()\n",
    "plt.show()\n",
    "#plt.savefig(\"shaped_classifier.pdf\")"
   ]
  },
  {
   "cell_type": "code",
   "execution_count": 93,
   "metadata": {
    "collapsed": false
   },
   "outputs": [],
   "source": [
    "make_plots_marginal()"
   ]
  },
  {
   "cell_type": "code",
   "execution_count": null,
   "metadata": {
    "collapsed": false
   },
   "outputs": [],
   "source": [
    "plt.show()"
   ]
  },
  {
   "cell_type": "code",
   "execution_count": 156,
   "metadata": {
    "collapsed": true
   },
   "outputs": [],
   "source": [
    "data_test = np.loadtxt(\"data_test.txt\")\n",
    "labels_test = np.loadtxt(\"labels_test.txt\")"
   ]
  },
  {
   "cell_type": "code",
   "execution_count": 172,
   "metadata": {
    "collapsed": true
   },
   "outputs": [],
   "source": [
    "pred = sess.run(class_out_single, feed_dict = {data_in: data_test})"
   ]
  },
  {
   "cell_type": "code",
   "execution_count": 173,
   "metadata": {
    "collapsed": true
   },
   "outputs": [],
   "source": [
    "from sklearn import metrics"
   ]
  },
  {
   "cell_type": "code",
   "execution_count": 174,
   "metadata": {
    "collapsed": false
   },
   "outputs": [],
   "source": [
    "fpr, tpr, thresholds = metrics.roc_curve(labels_test, pred)"
   ]
  },
  {
   "cell_type": "code",
   "execution_count": 175,
   "metadata": {
    "collapsed": true
   },
   "outputs": [],
   "source": [
    "LL_pred = np.loadtxt(\"LL_evaluated.csv\")"
   ]
  },
  {
   "cell_type": "code",
   "execution_count": 176,
   "metadata": {
    "collapsed": true
   },
   "outputs": [],
   "source": [
    "fpr_LL, tpr_LL, thresholds_LL = metrics.roc_curve(labels_test, LL_pred)"
   ]
  },
  {
   "cell_type": "code",
   "execution_count": 177,
   "metadata": {
    "collapsed": false
   },
   "outputs": [
    {
     "data": {
      "image/png": "[encoded data removed]",
      "text/plain": [
       "<Figure size 432x288 with 1 Axes>"
      ]
     },
     "metadata": {},
     "output_type": "display_data"
    }
   ],
   "source": [
    "# plot both of them into the same graph\n",
    "fig, ax = plt.subplots()\n",
    "ax.plot(fpr, tpr, label = 'shaped classifier', c = 'red')\n",
    "ax.plot(fpr_LL, tpr_LL, label = 'analytic likelihood', c = 'black', ls = 'dashed')\n",
    "leg = ax.legend(loc = 'lower right')\n",
    "plt.xlabel(\"false positive rate\")\n",
    "plt.ylabel(\"true positive rate\")\n",
    "plt.show()\n",
    "#plt.savefig(\"shaped_classifier_ROC.pdf\")"
   ]
  },
  {
   "cell_type": "code",
   "execution_count": 144,
   "metadata": {
    "collapsed": false
   },
   "outputs": [
    {
     "data": {
      "text/plain": [
       "0.46547404941485976"
      ]
     },
     "execution_count": 144,
     "metadata": {},
     "output_type": "execute_result"
    }
   ],
   "source": [
    "metrics.roc_auc_score(labels_test, pred)"
   ]
  },
  {
   "cell_type": "code",
   "execution_count": 145,
   "metadata": {
    "collapsed": false
   },
   "outputs": [
    {
     "data": {
      "text/plain": [
       "0.7783846885778357"
      ]
     },
     "execution_count": 145,
     "metadata": {},
     "output_type": "execute_result"
    }
   ],
   "source": [
    "metrics.roc_auc_score(labels_test, LL_pred)"
   ]
  },
  {
   "cell_type": "code",
   "execution_count": null,
   "metadata": {
    "collapsed": true
   },
   "outputs": [],
   "source": []
  }
 ],
 "metadata": {
  "kernelspec": {
   "display_name": "Python 3",
   "language": "python",
   "name": "python3"
  },
  "language_info": {
   "codemirror_mode": {
    "name": "ipython",
    "version": 3
   },
   "file_extension": ".py",
   "mimetype": "text/x-python",
   "name": "python",
   "nbconvert_exporter": "python",
   "pygments_lexer": "ipython3",
   "version": "3.5.3"
  }
 },
 "nbformat": 4,
 "nbformat_minor": 2
}
