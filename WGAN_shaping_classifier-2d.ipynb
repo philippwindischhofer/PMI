{
 "cells": [
  {
   "cell_type": "code",
   "execution_count": 1,
   "metadata": {
    "collapsed": true
   },
   "outputs": [],
   "source": [
    "import tensorflow as tf\n",
    "import tensorflow.contrib.layers as layers\n",
    "import tensorflow.contrib.distributions as ds"
   ]
  },
  {
   "cell_type": "code",
   "execution_count": 2,
   "metadata": {
    "collapsed": true
   },
   "outputs": [],
   "source": [
    "import numpy as np\n",
    "import matplotlib.pyplot as plt"
   ]
  },
  {
   "cell_type": "code",
   "execution_count": 3,
   "metadata": {
    "collapsed": true
   },
   "outputs": [],
   "source": [
    "import seaborn as sns"
   ]
  },
  {
   "cell_type": "code",
   "execution_count": 4,
   "metadata": {
    "collapsed": false
   },
   "outputs": [],
   "source": [
    "config = tf.ConfigProto(intra_op_parallelism_threads=8, inter_op_parallelism_threads=8, \\\n",
    "                        allow_soft_placement=True, device_count = {'CPU': 8})\n",
    "sess = tf.InteractiveSession(config = config)"
   ]
  },
  {
   "cell_type": "code",
   "execution_count": 5,
   "metadata": {
    "collapsed": true
   },
   "outputs": [],
   "source": [
    "target_loc = -0.25\n",
    "target_scale = 0.05"
   ]
  },
  {
   "cell_type": "code",
   "execution_count": 6,
   "metadata": {
    "collapsed": true
   },
   "outputs": [],
   "source": [
    "eps = 1e-10"
   ]
  },
  {
   "cell_type": "code",
   "execution_count": 7,
   "metadata": {
    "collapsed": true
   },
   "outputs": [],
   "source": [
    "batch_size = 3000"
   ]
  },
  {
   "cell_type": "code",
   "execution_count": 8,
   "metadata": {
    "collapsed": true
   },
   "outputs": [],
   "source": [
    "def prepare_data(n_samples):\n",
    "    data = []\n",
    "    labels = []\n",
    "    nuisances = []\n",
    "    \n",
    "    for i in range(n_samples):\n",
    "        sig_bkg = np.random.uniform(low = 0.0, high = 1.0, size = 1)\n",
    "        if sig_bkg > 0.5:\n",
    "            nuisance = np.random.uniform(low = 0.0, high = 2.0, size = 1)\n",
    "            data.append(np.random.multivariate_normal(mean = [0.0, nuisance], cov = np.array([[1, -0.5], [-0.5, 1]]), size = 1).flatten())\n",
    "            labels.append(1.0)\n",
    "        else:\n",
    "            nuisance = np.random.uniform(low = 0.0, high = 2.0, size = 1)\n",
    "            data.append(np.random.multivariate_normal(mean = [1.0, nuisance], cov = np.eye(2), size = 1).flatten())\n",
    "            labels.append(0.0)\n",
    "            \n",
    "        nuisances.append(nuisance)\n",
    "    data = np.array(data)\n",
    "    labels = np.array(labels)\n",
    "    nuisances = np.array(nuisances)\n",
    "    \n",
    "    return data, labels, nuisances.flatten()"
   ]
  },
  {
   "cell_type": "code",
   "execution_count": 9,
   "metadata": {
    "collapsed": true
   },
   "outputs": [],
   "source": [
    "def make_target(nsamples):    \n",
    "    target_y = np.random.uniform(low = 0.0, high = 2.0, size = (nsamples, 1))\n",
    "    target_x = np.random.normal(loc = target_loc, scale = target_scale, size = (nsamples, 1))\n",
    "    \n",
    "    target_x = np.multiply(target_x, 1 + (target_y - 1) / 3)\n",
    "    \n",
    "    return np.concatenate([target_x, target_y], axis = 1)"
   ]
  },
  {
   "cell_type": "code",
   "execution_count": 10,
   "metadata": {
    "collapsed": false
   },
   "outputs": [],
   "source": [
    "num_samples = 100000\n",
    "data_train, labels_train, nuisances_train = prepare_data(num_samples)\n",
    "nuisances_train = np.expand_dims(nuisances_train, axis = 1)\n",
    "labels_train = np.expand_dims(labels_train, axis = 1)"
   ]
  },
  {
   "cell_type": "code",
   "execution_count": 11,
   "metadata": {
    "collapsed": false
   },
   "outputs": [],
   "source": [
    "train_bkg = labels_train == 0\n",
    "bkg_data_train = data_train[train_bkg.flatten()]\n",
    "bkg_labels_train = labels_train[train_bkg.flatten()]\n",
    "bkg_nuisances_train = nuisances_train[train_bkg.flatten()]"
   ]
  },
  {
   "cell_type": "code",
   "execution_count": 12,
   "metadata": {
    "collapsed": false
   },
   "outputs": [],
   "source": [
    "train_sig = labels_train == 1\n",
    "sig_data_train = data_train[train_sig.flatten()]\n",
    "sig_labels_train = labels_train[train_sig.flatten()]\n",
    "sig_nuisances_train = nuisances_train[train_sig.flatten()]"
   ]
  },
  {
   "cell_type": "code",
   "execution_count": 13,
   "metadata": {
    "collapsed": true
   },
   "outputs": [],
   "source": [
    "def classifier(data_in, name):\n",
    "    with tf.variable_scope(name, reuse = tf.AUTO_REUSE):\n",
    "        lay = layers.relu(data_in, 40)\n",
    "        lay = layers.relu(lay, 40)\n",
    "        lay = layers.relu(lay, 20)\n",
    "        outputs = layers.linear(lay, 2)\n",
    "        normalized_outputs = layers.softmax(outputs)\n",
    "\n",
    "    these_vars = tf.get_collection(tf.GraphKeys.GLOBAL_VARIABLES, scope = name)\n",
    "\n",
    "    return outputs, normalized_outputs, these_vars"
   ]
  },
  {
   "cell_type": "code",
   "execution_count": 14,
   "metadata": {
    "collapsed": true
   },
   "outputs": [],
   "source": [
    "def EM_network(data, name):\n",
    "    with tf.variable_scope(name, reuse = tf.AUTO_REUSE):       \n",
    "        lay = layers.relu(data, 40)\n",
    "        lay = layers.relu(lay, 40)\n",
    "        lay = layers.relu(lay, 20)\n",
    "        outputs = layers.linear(lay, 1)\n",
    "        \n",
    "    these_vars = tf.get_collection(tf.GraphKeys.GLOBAL_VARIABLES, scope = name)\n",
    "    \n",
    "    return outputs, these_vars"
   ]
  },
  {
   "cell_type": "code",
   "execution_count": 15,
   "metadata": {
    "collapsed": true
   },
   "outputs": [],
   "source": [
    "def make_EM_loss(data_P, data_Q, name):\n",
    "    local_EM_network_name = name + \"_EM_net\"\n",
    "    \n",
    "    # generator output\n",
    "    T_P, EM_vars = EM_network(data_P, name = local_EM_network_name)\n",
    "    \n",
    "    # target\n",
    "    T_Q, _ = EM_network(data_Q, name = local_EM_network_name)\n",
    "\n",
    "    EM_loss = tf.reduce_mean(T_P, axis = 0) - tf.reduce_mean(T_Q, axis = 0)\n",
    "    \n",
    "    batch_size_dyn = tf.cast(tf.shape(T_P)[0], tf.int32)\n",
    "    rand = tf.random.uniform(shape = (batch_size_dyn, 1), minval = 0.0, maxval = 1.0)\n",
    "    \n",
    "    # add gradient penalty\n",
    "    x_grad = tf.math.add(tf.math.multiply(rand, data_P),\n",
    "                         tf.math.multiply(tf.math.subtract(1.0, rand), data_Q))\n",
    "    x_grad_EM, _ = EM_network(x_grad, name = local_EM_network_name)\n",
    "    grad = tf.gradients(x_grad_EM, x_grad)[0]\n",
    "    \n",
    "    grad_norm = tf.math.sqrt(tf.reduce_sum(tf.math.square(grad), axis = 1) + eps)\n",
    "    \n",
    "    grad_pen = tf.reduce_mean(tf.math.square(grad_norm - 1.0))\n",
    "\n",
    "    EM_loss_grad_pen = EM_loss[0] + 10 * grad_pen\n",
    "\n",
    "    return EM_loss_grad_pen, EM_vars, -EM_loss"
   ]
  },
  {
   "cell_type": "code",
   "execution_count": 16,
   "metadata": {
    "collapsed": false
   },
   "outputs": [],
   "source": [
    "def make_plots():\n",
    "    batch_size_test = 100000\n",
    "    xrange = [-0.5, 0.0]\n",
    "    yrange = [0, 2]\n",
    "    \n",
    "    target_test = make_target(batch_size_test)\n",
    "        \n",
    "    inds_bkg = np.random.choice(len(bkg_data_train), int(batch_size_test))\n",
    "    bkg_batch_data = bkg_data_train[inds_bkg]\n",
    "    bkg_batch_labels = bkg_labels_train[inds_bkg]\n",
    "    bkg_batch_nuisances = bkg_nuisances_train[inds_bkg]\n",
    "\n",
    "    inds_sig = np.random.choice(len(sig_data_train), int(batch_size_test))\n",
    "    sig_batch_data = sig_data_train[inds_sig]\n",
    "    sig_batch_labels = sig_labels_train[inds_sig]\n",
    "    sig_batch_nuisances = sig_nuisances_train[inds_sig]\n",
    "    \n",
    "    class_pred_bkg = sess.run(class_out_single, feed_dict = {data_in: bkg_batch_data, labels_in: bkg_batch_labels, nuisance_in: bkg_batch_nuisances})\n",
    "    class_pred_sig = sess.run(class_out_single, feed_dict = {data_in: sig_batch_data, labels_in: sig_batch_labels, nuisance_in: sig_batch_nuisances})\n",
    "        \n",
    "    f, axarr = plt.subplots(3)\n",
    "    axarr[0].hexbin(x = target_test[:, 0], y = target_test[:, 1], gridsize = 100, bins = 'log')\n",
    "    axarr[0].set_xlim(xrange)\n",
    "    axarr[0].set_ylim(yrange)\n",
    "    axarr[0].set_title(\"target\")\n",
    "    \n",
    "    axarr[1].hexbin(x = class_pred_bkg, y = bkg_batch_nuisances, gridsize = 100, bins = 'log')\n",
    "    axarr[1].set_xlim(xrange)\n",
    "    axarr[1].set_ylim(yrange)\n",
    "    axarr[1].set_title(\"background\")\n",
    "    \n",
    "    axarr[2].hexbin(x = class_pred_sig, y = sig_batch_nuisances, gridsize = 100, bins = 'log')\n",
    "    axarr[2].set_xlim(xrange)\n",
    "    axarr[2].set_ylim(yrange)\n",
    "    axarr[2].set_title(\"signal\")\n",
    "        "
   ]
  },
  {
   "cell_type": "code",
   "execution_count": 17,
   "metadata": {
    "collapsed": true
   },
   "outputs": [],
   "source": [
    "def make_plots_marginal():\n",
    "    batch_size_test = 100000\n",
    "    xrange = [-0.5, 0.0]\n",
    "    yrange = [0, 2]\n",
    "    \n",
    "    target_test = make_target(batch_size_test)\n",
    "        \n",
    "    inds_bkg = np.random.choice(len(bkg_data_train), int(batch_size_test))\n",
    "    bkg_batch_data = bkg_data_train[inds_bkg]\n",
    "    bkg_batch_labels = bkg_labels_train[inds_bkg]\n",
    "    bkg_batch_nuisances = bkg_nuisances_train[inds_bkg]\n",
    "\n",
    "    inds_sig = np.random.choice(len(sig_data_train), int(batch_size_test))\n",
    "    sig_batch_data = sig_data_train[inds_sig]\n",
    "    sig_batch_labels = sig_labels_train[inds_sig]\n",
    "    sig_batch_nuisances = sig_nuisances_train[inds_sig]\n",
    "    \n",
    "    class_pred_bkg = sess.run(class_out_single, feed_dict = {data_in: bkg_batch_data, labels_in: bkg_batch_labels, nuisance_in: bkg_batch_nuisances})\n",
    "    class_pred_sig = sess.run(class_out_single, feed_dict = {data_in: sig_batch_data, labels_in: sig_batch_labels, nuisance_in: sig_batch_nuisances})\n",
    "\n",
    "    sns.jointplot(x = target_test[:, 0], y=target_test[:, 1], kind='kde', xlim = xrange, ylim = yrange)\n",
    "    sns.jointplot(x = class_pred_bkg, y=bkg_batch_nuisances, kind='kde', xlim = xrange, ylim = yrange)\n",
    "    sns.jointplot(x = class_pred_sig, y=sig_batch_nuisances, kind='kde', xlim = xrange, ylim = yrange)"
   ]
  },
  {
   "cell_type": "code",
   "execution_count": 18,
   "metadata": {
    "collapsed": true
   },
   "outputs": [],
   "source": [
    "data_in = tf.placeholder(tf.float32, [None, 2], name = 'data_in')\n",
    "target_in = tf.placeholder(tf.float32, [None, 2], name = 'target_in')\n",
    "labels_in = tf.placeholder(tf.float32, [None, 1], name = 'labels_in')\n",
    "nuisance_in = tf.placeholder(tf.float32, [None, 1], name = 'nuisance_in')"
   ]
  },
  {
   "cell_type": "code",
   "execution_count": 19,
   "metadata": {
    "collapsed": false
   },
   "outputs": [],
   "source": [
    "class_out, norm_class_out, gen_vars = classifier(data_in, \"gen\")"
   ]
  },
  {
   "cell_type": "code",
   "execution_count": 20,
   "metadata": {
    "collapsed": false
   },
   "outputs": [],
   "source": [
    "labels_one_hot = tf.squeeze(tf.one_hot(tf.dtypes.cast(labels_in, tf.int32), depth = 2))"
   ]
  },
  {
   "cell_type": "code",
   "execution_count": 21,
   "metadata": {
    "collapsed": false
   },
   "outputs": [],
   "source": [
    "classification_loss = tf.losses.softmax_cross_entropy(onehot_labels = labels_one_hot, logits = norm_class_out)"
   ]
  },
  {
   "cell_type": "code",
   "execution_count": 22,
   "metadata": {
    "collapsed": true
   },
   "outputs": [],
   "source": [
    "bkg_truth = tf.where(tf.math.less(labels_in, 1))"
   ]
  },
  {
   "cell_type": "code",
   "execution_count": 23,
   "metadata": {
    "collapsed": true
   },
   "outputs": [],
   "source": [
    "class_out_single = tf.expand_dims(class_out[:,1], axis = 1)"
   ]
  },
  {
   "cell_type": "code",
   "execution_count": 24,
   "metadata": {
    "collapsed": false
   },
   "outputs": [],
   "source": [
    "class_out_bkg = tf.gather_nd(class_out_single, bkg_truth)\n",
    "class_out_bkg = tf.expand_dims(class_out_bkg, axis = 1)"
   ]
  },
  {
   "cell_type": "code",
   "execution_count": 25,
   "metadata": {
    "collapsed": true
   },
   "outputs": [],
   "source": [
    "nuisance_in_bkg = tf.gather_nd(nuisance_in, bkg_truth)\n",
    "nuisance_in_bkg = tf.expand_dims(nuisance_in_bkg, axis = 1)"
   ]
  },
  {
   "cell_type": "code",
   "execution_count": 26,
   "metadata": {
    "collapsed": true
   },
   "outputs": [],
   "source": [
    "output_dist = tf.concat([class_out_bkg, nuisance_in_bkg], axis = 1)"
   ]
  },
  {
   "cell_type": "code",
   "execution_count": 27,
   "metadata": {
    "collapsed": false
   },
   "outputs": [],
   "source": [
    "EM_lossval, EM_vars, EM_dist = make_EM_loss(output_dist, target_in, \"EM_loss_obj\")"
   ]
  },
  {
   "cell_type": "code",
   "execution_count": 28,
   "metadata": {
    "collapsed": false
   },
   "outputs": [],
   "source": [
    "total_loss = classification_loss + EM_dist"
   ]
  },
  {
   "cell_type": "code",
   "execution_count": 29,
   "metadata": {
    "collapsed": false
   },
   "outputs": [],
   "source": [
    "train_EM = tf.train.AdamOptimizer(learning_rate = 5e-3, beta1 = 0.0, beta2 = 0.5).minimize(EM_lossval, var_list = EM_vars)"
   ]
  },
  {
   "cell_type": "code",
   "execution_count": 30,
   "metadata": {
    "collapsed": true
   },
   "outputs": [],
   "source": [
    "train_gen = tf.train.AdamOptimizer(learning_rate = 1e-4, beta1 = 0.0, beta2 = 0.5).minimize(EM_dist, var_list = gen_vars)"
   ]
  },
  {
   "cell_type": "code",
   "execution_count": 31,
   "metadata": {
    "collapsed": true
   },
   "outputs": [],
   "source": [
    "train_class_total_loss = tf.train.AdamOptimizer(learning_rate = 1e-4, beta1 = 0.0, beta2 = 0.5).minimize(total_loss, var_list = gen_vars)"
   ]
  },
  {
   "cell_type": "code",
   "execution_count": 32,
   "metadata": {
    "collapsed": true
   },
   "outputs": [],
   "source": [
    "train_class = tf.train.AdamOptimizer(learning_rate = 1e-4, beta1 = 0.0, beta2 = 0.5).minimize(classification_loss, var_list = gen_vars)"
   ]
  },
  {
   "cell_type": "code",
   "execution_count": 33,
   "metadata": {
    "collapsed": true
   },
   "outputs": [],
   "source": [
    "sess.run(tf.global_variables_initializer())"
   ]
  },
  {
   "cell_type": "code",
   "execution_count": 34,
   "metadata": {
    "collapsed": true
   },
   "outputs": [],
   "source": [
    "init_critic = tf.variables_initializer(EM_vars)"
   ]
  },
  {
   "cell_type": "code",
   "execution_count": 35,
   "metadata": {
    "collapsed": true
   },
   "outputs": [],
   "source": [
    "sess.run(init_critic)"
   ]
  },
  {
   "cell_type": "code",
   "execution_count": 36,
   "metadata": {
    "collapsed": false
   },
   "outputs": [
    {
     "name": "stdout",
     "output_type": "stream",
     "text": [
      "EM_dist = [-0.00511573]\n",
      "EM_dist = [-0.00943919]\n",
      "EM_dist = [-0.00741716]\n",
      "EM_dist = [-0.02248943]\n",
      "EM_dist = [-0.01996875]\n",
      "EM_dist = [-0.02264547]\n",
      "EM_dist = [-0.03289339]\n",
      "EM_dist = [-0.04041475]\n",
      "EM_dist = [-0.01671994]\n",
      "EM_dist = [0.01603353]\n",
      "EM_dist = [-0.01179504]\n",
      "EM_dist = [0.02020067]\n",
      "EM_dist = [0.04005444]\n",
      "EM_dist = [0.05276775]\n",
      "EM_dist = [0.04447484]\n",
      "EM_dist = [0.05415809]\n",
      "EM_dist = [0.04595196]\n",
      "EM_dist = [0.05920553]\n",
      "EM_dist = [0.06394827]\n",
      "EM_dist = [0.10391581]\n",
      "EM_dist = [0.06950992]\n",
      "EM_dist = [0.09314561]\n",
      "EM_dist = [0.0549801]\n",
      "EM_dist = [0.12441623]\n",
      "EM_dist = [0.06735015]\n",
      "EM_dist = [0.10041046]\n",
      "EM_dist = [0.08499378]\n",
      "EM_dist = [0.10263515]\n",
      "EM_dist = [0.09880352]\n",
      "EM_dist = [0.10832989]\n",
      "EM_dist = [0.07718438]\n",
      "EM_dist = [0.11474061]\n",
      "EM_dist = [0.09385908]\n",
      "EM_dist = [0.10926044]\n",
      "EM_dist = [0.10701215]\n",
      "EM_dist = [0.12216949]\n",
      "EM_dist = [0.07874542]\n",
      "EM_dist = [0.10719061]\n",
      "EM_dist = [0.08329034]\n",
      "EM_dist = [0.09920275]\n",
      "EM_dist = [0.08163226]\n",
      "EM_dist = [0.11426389]\n",
      "EM_dist = [0.08504945]\n",
      "EM_dist = [0.11224914]\n",
      "EM_dist = [0.07572114]\n",
      "EM_dist = [0.10447872]\n",
      "EM_dist = [0.09350169]\n",
      "EM_dist = [0.1200254]\n",
      "EM_dist = [0.10149139]\n",
      "EM_dist = [0.11546636]\n",
      "EM_dist = [0.09687811]\n",
      "EM_dist = [0.11641586]\n",
      "EM_dist = [0.0906167]\n",
      "EM_dist = [0.10031676]\n",
      "EM_dist = [0.09443212]\n",
      "EM_dist = [0.12986696]\n",
      "EM_dist = [0.08517849]\n",
      "EM_dist = [0.12033153]\n",
      "EM_dist = [0.10665834]\n",
      "EM_dist = [0.11456239]\n",
      "EM_dist = [0.08721989]\n",
      "EM_dist = [0.13020682]\n",
      "EM_dist = [0.09140527]\n",
      "EM_dist = [0.12559986]\n",
      "EM_dist = [0.09077489]\n",
      "EM_dist = [0.12048352]\n",
      "EM_dist = [0.08709276]\n",
      "EM_dist = [0.124547]\n",
      "EM_dist = [0.09562296]\n",
      "EM_dist = [0.11181855]\n",
      "EM_dist = [0.11550087]\n",
      "EM_dist = [0.11943471]\n",
      "EM_dist = [0.10034913]\n",
      "EM_dist = [0.11547017]\n",
      "EM_dist = [0.10099572]\n",
      "EM_dist = [0.12814975]\n",
      "EM_dist = [0.09696698]\n",
      "EM_dist = [0.1237638]\n",
      "EM_dist = [0.10812145]\n",
      "EM_dist = [0.115574]\n",
      "EM_dist = [0.11231792]\n",
      "EM_dist = [0.12242639]\n",
      "EM_dist = [0.09725845]\n",
      "EM_dist = [0.10838902]\n",
      "EM_dist = [0.1186446]\n",
      "EM_dist = [0.11149895]\n",
      "EM_dist = [0.10171252]\n",
      "EM_dist = [0.13769841]\n",
      "EM_dist = [0.08952481]\n",
      "EM_dist = [0.13616836]\n",
      "EM_dist = [0.10533464]\n",
      "EM_dist = [0.1224519]\n",
      "EM_dist = [0.09449631]\n",
      "EM_dist = [0.1291821]\n",
      "EM_dist = [0.10142678]\n",
      "EM_dist = [0.13066477]\n",
      "EM_dist = [0.09515202]\n",
      "EM_dist = [0.12026656]\n",
      "EM_dist = [0.10938102]\n",
      "EM_dist = [0.13777447]\n",
      "EM_dist = [0.10144013]\n",
      "EM_dist = [0.11304224]\n",
      "EM_dist = [0.10837042]\n",
      "EM_dist = [0.13352656]\n",
      "EM_dist = [0.09820259]\n",
      "EM_dist = [0.12564206]\n",
      "EM_dist = [0.09702539]\n",
      "EM_dist = [0.13765955]\n",
      "EM_dist = [0.11064959]\n",
      "EM_dist = [0.14097714]\n",
      "EM_dist = [0.11002529]\n",
      "EM_dist = [0.12459302]\n",
      "EM_dist = [0.09936631]\n",
      "EM_dist = [0.11721098]\n",
      "EM_dist = [0.11023974]\n",
      "EM_dist = [0.12157571]\n",
      "EM_dist = [0.10345942]\n",
      "EM_dist = [0.12365401]\n",
      "EM_dist = [0.10849893]\n",
      "EM_dist = [0.12303162]\n",
      "EM_dist = [0.10078633]\n",
      "EM_dist = [0.13356638]\n",
      "EM_dist = [0.10831702]\n",
      "EM_dist = [0.13189137]\n",
      "EM_dist = [0.09574032]\n",
      "EM_dist = [0.13126075]\n",
      "EM_dist = [0.10298401]\n",
      "EM_dist = [0.13286519]\n",
      "EM_dist = [0.1026358]\n",
      "EM_dist = [0.1302563]\n",
      "EM_dist = [0.10305727]\n",
      "EM_dist = [0.12614322]\n",
      "EM_dist = [0.11074442]\n",
      "EM_dist = [0.13370967]\n",
      "EM_dist = [0.10077971]\n",
      "EM_dist = [0.13488412]\n",
      "EM_dist = [0.10898155]\n",
      "EM_dist = [0.12707508]\n",
      "EM_dist = [0.11026931]\n",
      "EM_dist = [0.13218796]\n",
      "EM_dist = [0.11388105]\n",
      "EM_dist = [0.1256597]\n",
      "EM_dist = [0.10035855]\n",
      "EM_dist = [0.12799597]\n",
      "EM_dist = [0.10116714]\n",
      "EM_dist = [0.13018012]\n",
      "EM_dist = [0.11096436]\n",
      "EM_dist = [0.13275766]\n",
      "EM_dist = [0.10791206]\n",
      "EM_dist = [0.12220764]\n",
      "EM_dist = [0.10985023]\n",
      "EM_dist = [0.12744367]\n",
      "EM_dist = [0.11233455]\n",
      "EM_dist = [0.13605082]\n",
      "EM_dist = [0.10728401]\n",
      "EM_dist = [0.12816668]\n",
      "EM_dist = [0.10632211]\n",
      "EM_dist = [0.1255132]\n",
      "EM_dist = [0.10863596]\n",
      "EM_dist = [0.14164352]\n",
      "EM_dist = [0.10791892]\n",
      "EM_dist = [0.1323967]\n",
      "EM_dist = [0.1079092]\n",
      "EM_dist = [0.12729907]\n",
      "EM_dist = [0.11064118]\n",
      "EM_dist = [0.12068725]\n",
      "EM_dist = [0.10623634]\n",
      "EM_dist = [0.12731647]\n",
      "EM_dist = [0.10726428]\n",
      "EM_dist = [0.13755333]\n",
      "EM_dist = [0.1032849]\n",
      "EM_dist = [0.12731528]\n",
      "EM_dist = [0.12808621]\n",
      "EM_dist = [0.12672639]\n",
      "EM_dist = [0.10485232]\n",
      "EM_dist = [0.1299594]\n",
      "EM_dist = [0.11641359]\n",
      "EM_dist = [0.12990487]\n",
      "EM_dist = [0.11578751]\n",
      "EM_dist = [0.13070297]\n",
      "EM_dist = [0.11500841]\n",
      "EM_dist = [0.13112998]\n",
      "EM_dist = [0.10948312]\n",
      "EM_dist = [0.1238116]\n",
      "EM_dist = [0.11083096]\n",
      "EM_dist = [0.12371457]\n",
      "EM_dist = [0.11271214]\n",
      "EM_dist = [0.12834299]\n",
      "EM_dist = [0.11285561]\n",
      "EM_dist = [0.12483561]\n",
      "EM_dist = [0.10580182]\n",
      "EM_dist = [0.13314426]\n",
      "EM_dist = [0.10913974]\n",
      "EM_dist = [0.13955176]\n",
      "EM_dist = [0.1210196]\n",
      "EM_dist = [0.12945855]\n",
      "EM_dist = [0.11313343]\n",
      "EM_dist = [0.13525045]\n",
      "EM_dist = [0.11152858]\n",
      "EM_dist = [0.13588238]\n"
     ]
    }
   ],
   "source": [
    "for i in range(200):\n",
    "    target = make_target(batch_size)\n",
    "    inds = np.random.choice(len(bkg_data_train), batch_size)\n",
    "    data_batch = bkg_data_train[inds]\n",
    "    labels_batch = bkg_labels_train[inds]\n",
    "    nuisances_batch = bkg_nuisances_train[inds]\n",
    "    \n",
    "    sess.run(train_EM, feed_dict = {data_in: data_batch, target_in: target, labels_in: labels_batch,\n",
    "                                    nuisance_in: nuisances_batch})\n",
    "\n",
    "    EM_dist_val = sess.run(EM_dist, feed_dict = {data_in: data_batch, target_in: target, labels_in: labels_batch,\n",
    "                                                nuisance_in: nuisances_batch})\n",
    "    print(\"EM_dist = {}\".format(EM_dist_val))"
   ]
  },
  {
   "cell_type": "code",
   "execution_count": 42,
   "metadata": {
    "collapsed": false
   },
   "outputs": [
    {
     "data": {
      "image/png": "[encoded data removed]",
      "text/plain": [
       "<Figure size 432x432 with 3 Axes>"
      ]
     },
     "metadata": {},
     "output_type": "display_data"
    },
    {
     "data": {
      "image/png": "[encoded data removed]",
      "text/plain": [
       "<Figure size 432x432 with 3 Axes>"
      ]
     },
     "metadata": {},
     "output_type": "display_data"
    },
    {
     "data": {
      "image/png": "[encoded data removed]",
      "text/plain": [
       "<Figure size 432x432 with 3 Axes>"
      ]
     },
     "metadata": {},
     "output_type": "display_data"
    }
   ],
   "source": [
    "make_plots_marginal()\n",
    "plt.show()"
   ]
  },
  {
   "cell_type": "code",
   "execution_count": 38,
   "metadata": {
    "collapsed": false,
    "scrolled": true
   },
   "outputs": [],
   "source": [
    "def perform_training(training_op, epochs, ME_epochs):\n",
    "    for i in range(0, epochs):\n",
    "        # prepare noise\n",
    "        for j in range(ME_epochs):\n",
    "            target = make_target(batch_size)\n",
    "            inds = np.random.choice(len(bkg_data_train), batch_size)\n",
    "            bkg_batch_data = bkg_data_train[inds]\n",
    "            bkg_batch_labels = bkg_labels_train[inds]\n",
    "            bkg_batch_nuisances = bkg_nuisances_train[inds]\n",
    "\n",
    "            sess.run(train_EM, feed_dict = {data_in: bkg_batch_data, target_in: target, labels_in: bkg_batch_labels,\n",
    "                                           nuisance_in: bkg_batch_nuisances})\n",
    "\n",
    "        target = make_target(int(batch_size / 2))\n",
    "        inds = np.random.choice(len(data_train), batch_size)\n",
    "        data_batch = data_train[inds]\n",
    "\n",
    "        inds_bkg = np.random.choice(len(bkg_data_train), int(batch_size / 2))\n",
    "        bkg_batch_data = bkg_data_train[inds_bkg]\n",
    "        bkg_batch_labels = bkg_labels_train[inds_bkg]\n",
    "        bkg_batch_nuisances = bkg_nuisances_train[inds_bkg]\n",
    "\n",
    "        inds_sig = np.random.choice(len(sig_data_train), int(batch_size / 2))\n",
    "        sig_batch_data = sig_data_train[inds_sig]\n",
    "        sig_batch_labels = sig_labels_train[inds_sig]\n",
    "        sig_batch_nuisances = sig_nuisances_train[inds_sig]\n",
    "\n",
    "        data_batch = np.concatenate([sig_batch_data, bkg_batch_data])\n",
    "        labels_batch = np.concatenate([sig_batch_labels, bkg_batch_labels])\n",
    "        nuisances_batch = np.concatenate([sig_batch_nuisances, bkg_batch_nuisances])\n",
    "                    \n",
    "        sess.run(training_op, feed_dict = {data_in: data_batch, target_in: target, labels_in: labels_batch,\n",
    "                                          nuisance_in: nuisances_batch})\n",
    "        EM_dist_val = sess.run(EM_dist, feed_dict = {data_in: data_batch, target_in: target, labels_in: labels_batch,\n",
    "                                          nuisance_in: nuisances_batch})\n",
    "        critic_loss = sess.run(EM_lossval, feed_dict = {data_in: data_batch, target_in: target, labels_in: labels_batch,\n",
    "                                          nuisance_in: nuisances_batch})\n",
    "        class_lossval = sess.run(classification_loss, feed_dict = {data_in: data_batch, target_in: target, labels_in: labels_batch,\n",
    "                                          nuisance_in: nuisances_batch})\n",
    "\n",
    "        print(\"W = {}\".format(EM_dist_val))\n",
    "        print(\"critic loss = {}\".format(critic_loss))\n",
    "        print(\"class loss = {}\".format(class_lossval))"
   ]
  },
  {
   "cell_type": "code",
   "execution_count": 170,
   "metadata": {
    "collapsed": false,
    "scrolled": true
   },
   "outputs": [
    {
     "name": "stdout",
     "output_type": "stream",
     "text": [
      "W = [0.01141238]\n",
      "critic loss = -0.00975062232464552\n",
      "class loss = 0.5844731330871582\n",
      "W = [0.00496125]\n",
      "critic loss = -0.0026402128860354424\n",
      "class loss = 0.5994795560836792\n",
      "W = [0.00030327]\n",
      "critic loss = 0.0017341312486678362\n",
      "class loss = 0.5864571332931519\n",
      "W = [-0.02070975]\n",
      "critic loss = 0.022482354193925858\n",
      "class loss = 0.5970187783241272\n",
      "W = [-0.01175141]\n",
      "critic loss = 0.013720822520554066\n",
      "class loss = 0.5939788222312927\n",
      "W = [0.01779747]\n",
      "critic loss = -0.015936927869915962\n",
      "class loss = 0.5897777676582336\n",
      "W = [0.02778292]\n",
      "critic loss = -0.026142077520489693\n",
      "class loss = 0.5988855957984924\n",
      "W = [-0.03340411]\n",
      "critic loss = 0.03553162142634392\n",
      "class loss = 0.5954754948616028\n",
      "W = [0.00459886]\n",
      "critic loss = -0.002334783785045147\n",
      "class loss = 0.5976170301437378\n",
      "W = [-0.01260543]\n",
      "critic loss = 0.014576741494238377\n",
      "class loss = 0.5984808206558228\n",
      "W = [0.00433469]\n",
      "critic loss = -0.002361629158258438\n",
      "class loss = 0.5996381640434265\n",
      "W = [-0.03391457]\n",
      "critic loss = 0.035690054297447205\n",
      "class loss = 0.5919041633605957\n",
      "W = [-0.01413321]\n",
      "critic loss = 0.01589915156364441\n",
      "class loss = 0.601548433303833\n",
      "W = [0.03908372]\n",
      "critic loss = -0.03732544183731079\n",
      "class loss = 0.5965117812156677\n",
      "W = [-0.00118303]\n",
      "critic loss = 0.002949097892269492\n",
      "class loss = 0.5941868424415588\n",
      "W = [0.03372049]\n",
      "critic loss = -0.03146914020180702\n",
      "class loss = 0.593049943447113\n",
      "W = [0.02668905]\n",
      "critic loss = -0.024760879576206207\n",
      "class loss = 0.5983337759971619\n",
      "W = [-0.00808597]\n",
      "critic loss = 0.010438229888677597\n",
      "class loss = 0.5961107611656189\n",
      "W = [0.02814317]\n",
      "critic loss = -0.026378780603408813\n",
      "class loss = 0.5942206382751465\n",
      "W = [-0.00977015]\n",
      "critic loss = 0.011738895438611507\n",
      "class loss = 0.5980433225631714\n",
      "W = [-0.00742316]\n",
      "critic loss = 0.009251423180103302\n",
      "class loss = 0.5924323797225952\n",
      "W = [0.00438511]\n",
      "critic loss = -0.002507099648937583\n",
      "class loss = 0.5944923758506775\n",
      "W = [-0.00742364]\n",
      "critic loss = 0.009174996986985207\n",
      "class loss = 0.593559980392456\n",
      "W = [0.03847015]\n",
      "critic loss = -0.03668275848031044\n",
      "class loss = 0.6011337637901306\n",
      "W = [-0.01588607]\n",
      "critic loss = 0.01752791553735733\n",
      "class loss = 0.600039541721344\n",
      "W = [-0.01453924]\n",
      "critic loss = 0.01611073687672615\n",
      "class loss = 0.6016826033592224\n",
      "W = [0.01880956]\n",
      "critic loss = -0.017056996002793312\n",
      "class loss = 0.6016178131103516\n",
      "W = [-0.02533984]\n",
      "critic loss = 0.029139602556824684\n",
      "class loss = 0.5938460826873779\n",
      "W = [0.02540636]\n",
      "critic loss = -0.021566689014434814\n",
      "class loss = 0.6033188700675964\n",
      "W = [0.02624083]\n",
      "critic loss = -0.008276741951704025\n",
      "class loss = 0.5895258188247681\n",
      "W = [0.03021049]\n",
      "critic loss = -0.02983047254383564\n",
      "class loss = 0.5959856510162354\n",
      "W = [0.01384044]\n",
      "critic loss = -0.0013457965105772018\n",
      "class loss = 0.5975027084350586\n",
      "W = [0.01475477]\n",
      "critic loss = -0.0018586330115795135\n",
      "class loss = 0.5974515080451965\n",
      "W = [0.02784085]\n",
      "critic loss = -0.02567972242832184\n",
      "class loss = 0.6008251905441284\n",
      "W = [0.02121234]\n",
      "critic loss = -0.014500197023153305\n",
      "class loss = 0.5843768119812012\n",
      "W = [0.01963568]\n",
      "critic loss = -0.0007734168320894241\n",
      "class loss = 0.5976320505142212\n",
      "W = [0.02715683]\n",
      "critic loss = -0.0023716986179351807\n",
      "class loss = 0.5860931277275085\n",
      "W = [0.00541544]\n",
      "critic loss = 0.019315283745527267\n",
      "class loss = 0.5897716283798218\n",
      "W = [0.00869703]\n",
      "critic loss = 0.00326728168874979\n",
      "class loss = 0.5866664052009583\n",
      "W = [0.01775932]\n",
      "critic loss = 0.005842022597789764\n",
      "class loss = 0.5902936458587646\n",
      "W = [0.01646805]\n",
      "critic loss = -0.0005480721592903137\n",
      "class loss = 0.5944108963012695\n",
      "W = [0.00911713]\n",
      "critic loss = 0.011649111285805702\n",
      "class loss = 0.5829373598098755\n",
      "W = [0.01657891]\n",
      "critic loss = 0.0053994134068489075\n",
      "class loss = 0.5944745540618896\n",
      "W = [0.01614809]\n",
      "critic loss = -0.009655381552875042\n",
      "class loss = 0.602390468120575\n",
      "W = [0.0221355]\n",
      "critic loss = -0.004059262573719025\n",
      "class loss = 0.5931068658828735\n",
      "W = [0.02590895]\n",
      "critic loss = -0.010521335527300835\n",
      "class loss = 0.5894181728363037\n",
      "W = [0.01428008]\n",
      "critic loss = -0.004601302556693554\n",
      "class loss = 0.590052604675293\n",
      "W = [0.02226925]\n",
      "critic loss = -0.008417882025241852\n",
      "class loss = 0.5933615565299988\n",
      "W = [0.00942326]\n",
      "critic loss = 0.012767937034368515\n",
      "class loss = 0.6011047959327698\n",
      "W = [0.00327325]\n",
      "critic loss = 0.014172051101922989\n",
      "class loss = 0.5956413745880127\n"
     ]
    }
   ],
   "source": [
    "perform_training(train_class_total_loss, epochs = 50, ME_epochs = 300)"
   ]
  },
  {
   "cell_type": "code",
   "execution_count": 54,
   "metadata": {
    "collapsed": false,
    "scrolled": true
   },
   "outputs": [
    {
     "name": "stdout",
     "output_type": "stream",
     "text": [
      "W = [0.740524]\n",
      "critic loss = -0.7004272937774658\n",
      "class loss = 0.5924535989761353\n",
      "W = [0.741903]\n",
      "critic loss = -0.6789568662643433\n",
      "class loss = 0.5899330377578735\n",
      "W = [0.7136431]\n",
      "critic loss = -0.693335235118866\n",
      "class loss = 0.5975931882858276\n",
      "W = [0.7514902]\n",
      "critic loss = -0.7078405618667603\n",
      "class loss = 0.6028761267662048\n",
      "W = [0.72976136]\n",
      "critic loss = -0.7079591155052185\n",
      "class loss = 0.6010083556175232\n",
      "W = [0.783775]\n",
      "critic loss = -0.6883407831192017\n",
      "class loss = 0.5955287218093872\n",
      "W = [0.77654636]\n",
      "critic loss = -0.6840565800666809\n",
      "class loss = 0.5845597982406616\n",
      "W = [0.7332183]\n",
      "critic loss = -0.7241467833518982\n",
      "class loss = 0.5844658017158508\n",
      "W = [0.7999653]\n",
      "critic loss = -0.7192981243133545\n",
      "class loss = 0.595791757106781\n",
      "W = [0.7631415]\n",
      "critic loss = -0.7249404788017273\n",
      "class loss = 0.5872820019721985\n",
      "W = [0.78414375]\n",
      "critic loss = -0.7332260012626648\n",
      "class loss = 0.5879320502281189\n",
      "W = [0.7211541]\n",
      "critic loss = -0.7158477306365967\n",
      "class loss = 0.6000116467475891\n",
      "W = [0.7901815]\n",
      "critic loss = -0.7213540077209473\n",
      "class loss = 0.5901373624801636\n",
      "W = [0.7661882]\n",
      "critic loss = -0.7262749671936035\n",
      "class loss = 0.5918266773223877\n",
      "W = [0.79028034]\n",
      "critic loss = -0.7432361841201782\n",
      "class loss = 0.5857464075088501\n",
      "W = [0.75688434]\n",
      "critic loss = -0.7386960387229919\n",
      "class loss = 0.5906513333320618\n",
      "W = [0.7694659]\n",
      "critic loss = -0.7094025611877441\n",
      "class loss = 0.6009084582328796\n",
      "W = [0.75338686]\n",
      "critic loss = -0.7325407862663269\n",
      "class loss = 0.5907469987869263\n",
      "W = [0.792375]\n",
      "critic loss = -0.7053577899932861\n",
      "class loss = 0.5853043794631958\n",
      "W = [0.73661435]\n",
      "critic loss = -0.7274487018585205\n",
      "class loss = 0.5947202444076538\n",
      "W = [0.78339356]\n",
      "critic loss = -0.7107150554656982\n",
      "class loss = 0.5913892984390259\n",
      "W = [0.76153255]\n",
      "critic loss = -0.733767032623291\n",
      "class loss = 0.584169864654541\n",
      "W = [0.80780953]\n",
      "critic loss = -0.7457277774810791\n",
      "class loss = 0.5819276571273804\n",
      "W = [0.7429615]\n",
      "critic loss = -0.7324650287628174\n",
      "class loss = 0.597581148147583\n",
      "W = [0.8270966]\n",
      "critic loss = -0.7775365710258484\n",
      "class loss = 0.5912559628486633\n",
      "W = [0.7420075]\n",
      "critic loss = -0.7032704949378967\n",
      "class loss = 0.5865246057510376\n",
      "W = [0.778001]\n",
      "critic loss = -0.724617600440979\n",
      "class loss = 0.5860586762428284\n",
      "W = [0.75573003]\n",
      "critic loss = -0.7399506568908691\n",
      "class loss = 0.5958240628242493\n",
      "W = [0.7909706]\n",
      "critic loss = -0.7563821077346802\n",
      "class loss = 0.585720956325531\n",
      "W = [0.77071977]\n",
      "critic loss = -0.7200113534927368\n",
      "class loss = 0.591939389705658\n",
      "W = [0.7796389]\n",
      "critic loss = -0.7395902872085571\n",
      "class loss = 0.5844107866287231\n",
      "W = [0.7891862]\n",
      "critic loss = -0.7452247738838196\n",
      "class loss = 0.5846062898635864\n",
      "W = [0.7817716]\n",
      "critic loss = -0.7570102214813232\n",
      "class loss = 0.5920143723487854\n",
      "W = [0.81839466]\n",
      "critic loss = -0.7372255325317383\n",
      "class loss = 0.5925492644309998\n",
      "W = [0.7304363]\n",
      "critic loss = -0.7173713445663452\n",
      "class loss = 0.5900247693061829\n",
      "W = [0.76004124]\n",
      "critic loss = -0.7241536378860474\n",
      "class loss = 0.5929262638092041\n",
      "W = [0.7967097]\n",
      "critic loss = -0.7236880660057068\n",
      "class loss = 0.5867211818695068\n",
      "W = [0.7554134]\n",
      "critic loss = -0.7396183609962463\n",
      "class loss = 0.5843125581741333\n",
      "W = [0.7982004]\n",
      "critic loss = -0.7483395338058472\n",
      "class loss = 0.5931412577629089\n",
      "W = [0.7779732]\n",
      "critic loss = -0.7660409808158875\n",
      "class loss = 0.5884731411933899\n",
      "W = [0.8340597]\n",
      "critic loss = -0.754726231098175\n",
      "class loss = 0.5852206349372864\n",
      "W = [0.76221144]\n",
      "critic loss = -0.7259835004806519\n",
      "class loss = 0.5967509746551514\n",
      "W = [0.821415]\n",
      "critic loss = -0.7764877080917358\n",
      "class loss = 0.5872840881347656\n",
      "W = [0.73964494]\n",
      "critic loss = -0.7250987887382507\n",
      "class loss = 0.5887067914009094\n",
      "W = [0.81961536]\n",
      "critic loss = -0.7492011785507202\n",
      "class loss = 0.5941469073295593\n",
      "W = [0.7887406]\n",
      "critic loss = -0.7625494003295898\n",
      "class loss = 0.5984735488891602\n",
      "W = [0.83000225]\n",
      "critic loss = -0.7129805684089661\n",
      "class loss = 0.5896965861320496\n",
      "W = [0.80511117]\n",
      "critic loss = -0.7029970288276672\n",
      "class loss = 0.5928622484207153\n",
      "W = [0.7881174]\n",
      "critic loss = -0.7748023867607117\n",
      "class loss = 0.5953673720359802\n",
      "W = [0.84553957]\n",
      "critic loss = -0.7508706450462341\n",
      "class loss = 0.5797654390335083\n",
      "W = [0.7947343]\n",
      "critic loss = -0.773414671421051\n",
      "class loss = 0.588943362236023\n",
      "W = [0.75492406]\n",
      "critic loss = -0.7311115860939026\n",
      "class loss = 0.5933119058609009\n",
      "W = [0.78511125]\n",
      "critic loss = -0.7409029006958008\n",
      "class loss = 0.5889125466346741\n",
      "W = [0.7730228]\n",
      "critic loss = -0.7236468195915222\n",
      "class loss = 0.5904439091682434\n",
      "W = [0.8286134]\n",
      "critic loss = -0.7729535102844238\n",
      "class loss = 0.591206967830658\n",
      "W = [0.7568326]\n",
      "critic loss = -0.7501675486564636\n",
      "class loss = 0.5916498899459839\n",
      "W = [0.8130227]\n",
      "critic loss = -0.7438565492630005\n",
      "class loss = 0.5898099541664124\n",
      "W = [0.75776577]\n",
      "critic loss = -0.6926085352897644\n",
      "class loss = 0.5916142463684082\n",
      "W = [0.8094598]\n",
      "critic loss = -0.7718488574028015\n",
      "class loss = 0.5897912383079529\n",
      "W = [0.7749076]\n",
      "critic loss = -0.7563042640686035\n",
      "class loss = 0.5894150137901306\n",
      "W = [0.84848595]\n",
      "critic loss = -0.7643385529518127\n",
      "class loss = 0.5855013132095337\n",
      "W = [0.78378415]\n",
      "critic loss = -0.774714469909668\n",
      "class loss = 0.5798498392105103\n",
      "W = [0.8123083]\n",
      "critic loss = -0.7497076988220215\n",
      "class loss = 0.5930579304695129\n",
      "W = [0.8039433]\n",
      "critic loss = -0.7832705974578857\n",
      "class loss = 0.5838939547538757\n",
      "W = [0.8150749]\n",
      "critic loss = -0.7581485509872437\n",
      "class loss = 0.5972971320152283\n",
      "W = [0.7965894]\n",
      "critic loss = -0.7679169178009033\n",
      "class loss = 0.589455246925354\n",
      "W = [0.85662043]\n",
      "critic loss = -0.7751269340515137\n",
      "class loss = 0.5925478339195251\n",
      "W = [0.74914503]\n",
      "critic loss = -0.7306323647499084\n",
      "class loss = 0.5985631346702576\n",
      "W = [0.8166083]\n",
      "critic loss = -0.7745225429534912\n",
      "class loss = 0.6002292037010193\n",
      "W = [0.8717432]\n",
      "critic loss = -0.8161973357200623\n",
      "class loss = 0.5889865756034851\n",
      "W = [0.77902484]\n",
      "critic loss = -0.7741299271583557\n",
      "class loss = 0.592943012714386\n",
      "W = [0.8456142]\n",
      "critic loss = -0.7706103920936584\n",
      "class loss = 0.5902669429779053\n",
      "W = [0.7742007]\n",
      "critic loss = -0.7702811360359192\n",
      "class loss = 0.5957663059234619\n",
      "W = [0.8164803]\n",
      "critic loss = -0.7430474758148193\n",
      "class loss = 0.5837124586105347\n",
      "W = [0.7992978]\n",
      "critic loss = -0.7744175791740417\n",
      "class loss = 0.5920796990394592\n",
      "W = [0.83813584]\n",
      "critic loss = -0.7854661345481873\n",
      "class loss = 0.5837801098823547\n",
      "W = [0.78776634]\n",
      "critic loss = -0.7477461695671082\n",
      "class loss = 0.5886613130569458\n",
      "W = [0.8178209]\n",
      "critic loss = -0.7502628564834595\n",
      "class loss = 0.5873781442642212\n",
      "W = [0.79641414]\n",
      "critic loss = -0.7640520334243774\n",
      "class loss = 0.5904189348220825\n",
      "W = [0.8175467]\n",
      "critic loss = -0.788292646408081\n",
      "class loss = 0.5955935716629028\n",
      "W = [0.7710738]\n",
      "critic loss = -0.7538059949874878\n",
      "class loss = 0.5947757363319397\n",
      "W = [0.8330889]\n",
      "critic loss = -0.7454203963279724\n",
      "class loss = 0.5931654572486877\n",
      "W = [0.81912553]\n",
      "critic loss = -0.8063744902610779\n",
      "class loss = 0.576125979423523\n",
      "W = [0.8341527]\n",
      "critic loss = -0.7821127772331238\n",
      "class loss = 0.5890682935714722\n",
      "W = [0.791065]\n",
      "critic loss = -0.7686076164245605\n",
      "class loss = 0.5968648195266724\n",
      "W = [0.8648646]\n",
      "critic loss = -0.7963413596153259\n",
      "class loss = 0.5813522338867188\n",
      "W = [0.7895309]\n",
      "critic loss = -0.7811034321784973\n",
      "class loss = 0.5855156183242798\n",
      "W = [0.8933314]\n",
      "critic loss = -0.8149234652519226\n",
      "class loss = 0.5823694467544556\n",
      "W = [0.80477047]\n",
      "critic loss = -0.7722602486610413\n",
      "class loss = 0.598340630531311\n",
      "W = [0.83390844]\n",
      "critic loss = -0.792241096496582\n",
      "class loss = 0.5920836925506592\n",
      "W = [0.76813304]\n",
      "critic loss = -0.7534394264221191\n",
      "class loss = 0.5831687450408936\n",
      "W = [0.85698795]\n",
      "critic loss = -0.7958940267562866\n",
      "class loss = 0.579428493976593\n",
      "W = [0.8397424]\n",
      "critic loss = -0.8024330735206604\n",
      "class loss = 0.5835266709327698\n",
      "W = [0.8352314]\n",
      "critic loss = -0.8030969500541687\n",
      "class loss = 0.5930561423301697\n",
      "W = [0.80377245]\n",
      "critic loss = -0.7812721729278564\n",
      "class loss = 0.5837194919586182\n",
      "W = [0.8606399]\n",
      "critic loss = -0.8032617568969727\n",
      "class loss = 0.5869855284690857\n",
      "W = [0.78720665]\n",
      "critic loss = -0.7783964276313782\n",
      "class loss = 0.5951040387153625\n",
      "W = [0.80200326]\n",
      "critic loss = -0.7638565897941589\n",
      "class loss = 0.5886078476905823\n",
      "W = [0.8290533]\n",
      "critic loss = -0.7778797149658203\n",
      "class loss = 0.5860779881477356\n",
      "W = [0.8163676]\n",
      "critic loss = -0.790490448474884\n",
      "class loss = 0.5895795226097107\n"
     ]
    }
   ],
   "source": [
    "perform_training(train_class, epochs = 100, ME_epochs = 3)"
   ]
  },
  {
   "cell_type": "code",
   "execution_count": 129,
   "metadata": {
    "collapsed": false,
    "scrolled": true
   },
   "outputs": [
    {
     "name": "stdout",
     "output_type": "stream",
     "text": [
      "W = [0.00723767]\n",
      "critic loss = -0.004893305245786905\n",
      "class loss = 0.5939866304397583\n",
      "W = [0.02289891]\n",
      "critic loss = -0.020109614357352257\n",
      "class loss = 0.5914429426193237\n",
      "W = [-0.01040506]\n",
      "critic loss = 0.014557728543877602\n",
      "class loss = 0.5950588583946228\n",
      "W = [0.00352573]\n",
      "critic loss = -0.0005295283626765013\n",
      "class loss = 0.6071353554725647\n",
      "W = [-0.00444913]\n",
      "critic loss = 0.007093672174960375\n",
      "class loss = 0.6092406511306763\n",
      "W = [-0.03821063]\n",
      "critic loss = 0.04058222100138664\n",
      "class loss = 0.5993581414222717\n",
      "W = [0.02276063]\n",
      "critic loss = -0.020358571782708168\n",
      "class loss = 0.5916091799736023\n",
      "W = [0.03695107]\n",
      "critic loss = -0.034920498728752136\n",
      "class loss = 0.5998755693435669\n",
      "W = [0.02502179]\n",
      "critic loss = -0.023170428350567818\n",
      "class loss = 0.6025210022926331\n",
      "W = [-0.00441515]\n",
      "critic loss = 0.0069176191464066505\n",
      "class loss = 0.5990334749221802\n",
      "W = [0.00284243]\n",
      "critic loss = -0.00010973075404763222\n",
      "class loss = 0.5882115364074707\n",
      "W = [0.04406381]\n",
      "critic loss = -0.04233521595597267\n",
      "class loss = 0.6062193512916565\n",
      "W = [0.0436852]\n",
      "critic loss = -0.041986726224422455\n",
      "class loss = 0.603666365146637\n",
      "W = [-0.0141387]\n",
      "critic loss = 0.016098547726869583\n",
      "class loss = 0.6019114851951599\n",
      "W = [-0.001436]\n",
      "critic loss = 0.004308091010898352\n",
      "class loss = 0.5955743193626404\n",
      "W = [-0.00336671]\n",
      "critic loss = 0.00612112320959568\n",
      "class loss = 0.5929203033447266\n",
      "W = [0.01180315]\n",
      "critic loss = -0.009688490070402622\n",
      "class loss = 0.5985974669456482\n",
      "W = [-0.00472856]\n",
      "critic loss = 0.007312006317079067\n",
      "class loss = 0.5989041924476624\n",
      "W = [0.0024457]\n",
      "critic loss = -0.00037020444869995117\n",
      "class loss = 0.6025723814964294\n",
      "W = [0.00883293]\n",
      "critic loss = -0.006568890064954758\n",
      "class loss = 0.5935618281364441\n",
      "W = [-0.00361943]\n",
      "critic loss = 0.00532070267945528\n",
      "class loss = 0.5912925601005554\n",
      "W = [0.00541592]\n",
      "critic loss = -0.00288535188883543\n",
      "class loss = 0.5998112559318542\n",
      "W = [-0.01677537]\n",
      "critic loss = 0.018370145931839943\n",
      "class loss = 0.5979164838790894\n",
      "W = [-0.04199505]\n",
      "critic loss = 0.04432779178023338\n",
      "class loss = 0.6033605933189392\n",
      "W = [-0.01846337]\n",
      "critic loss = 0.02095242775976658\n",
      "class loss = 0.5913107991218567\n",
      "W = [0.00021076]\n",
      "critic loss = 0.001565550803206861\n",
      "class loss = 0.5944042205810547\n",
      "W = [-0.0153861]\n",
      "critic loss = 0.01758953556418419\n",
      "class loss = 0.604570746421814\n",
      "W = [-0.00587988]\n",
      "critic loss = 0.007526889443397522\n",
      "class loss = 0.5995462536811829\n",
      "W = [-0.00601268]\n",
      "critic loss = 0.008196679875254631\n",
      "class loss = 0.6083570122718811\n",
      "W = [0.02722597]\n",
      "critic loss = -0.024947596713900566\n",
      "class loss = 0.5931636095046997\n",
      "W = [0.01998901]\n",
      "critic loss = -0.01778162643313408\n",
      "class loss = 0.5994381904602051\n",
      "W = [0.00749183]\n",
      "critic loss = -0.005405292846262455\n",
      "class loss = 0.6032360792160034\n",
      "W = [0.02288651]\n",
      "critic loss = -0.020362433046102524\n",
      "class loss = 0.5959176421165466\n",
      "W = [-0.00501275]\n",
      "critic loss = 0.006987514439970255\n",
      "class loss = 0.6043563485145569\n",
      "W = [-0.03713918]\n",
      "critic loss = 0.03930749371647835\n",
      "class loss = 0.59537273645401\n",
      "W = [8.583069e-06]\n",
      "critic loss = 0.001868578139692545\n",
      "class loss = 0.5915201306343079\n",
      "W = [0.04107189]\n",
      "critic loss = -0.038942717015743256\n",
      "class loss = 0.6027937531471252\n",
      "W = [0.01573992]\n",
      "critic loss = -0.013257843442261219\n",
      "class loss = 0.602394700050354\n",
      "W = [0.01151299]\n",
      "critic loss = -0.00952359288930893\n",
      "class loss = 0.599597156047821\n",
      "W = [-0.00356102]\n",
      "critic loss = 0.00553474947810173\n",
      "class loss = 0.5935479998588562\n",
      "W = [0.04696941]\n",
      "critic loss = -0.044953495264053345\n",
      "class loss = 0.5889502167701721\n",
      "W = [0.00071168]\n",
      "critic loss = 0.0009927349165081978\n",
      "class loss = 0.5938029885292053\n",
      "W = [-0.00498867]\n",
      "critic loss = 0.0069696055725216866\n",
      "class loss = 0.5990965962409973\n",
      "W = [-0.03906369]\n",
      "critic loss = 0.041204359382390976\n",
      "class loss = 0.6011956930160522\n",
      "W = [-0.01073694]\n",
      "critic loss = 0.012602591887116432\n",
      "class loss = 0.5998143553733826\n",
      "W = [-0.01838398]\n",
      "critic loss = 0.020398005843162537\n",
      "class loss = 0.5949397683143616\n",
      "W = [0.00379705]\n",
      "critic loss = -0.0019136180635541677\n",
      "class loss = 0.5951031446456909\n",
      "W = [-0.00379062]\n",
      "critic loss = 0.005827442742884159\n",
      "class loss = 0.6020222902297974\n",
      "W = [-0.02445149]\n",
      "critic loss = 0.026683824136853218\n",
      "class loss = 0.6005601286888123\n",
      "W = [-0.01360369]\n",
      "critic loss = 0.015511980280280113\n",
      "class loss = 0.5959389805793762\n"
     ]
    }
   ],
   "source": [
    "perform_training(train_gen, epochs = 50, ME_epochs = 600)"
   ]
  },
  {
   "cell_type": "code",
   "execution_count": 171,
   "metadata": {
    "collapsed": false
   },
   "outputs": [
    {
     "data": {
      "image/png": "[encoded data removed]",
      "text/plain": [
       "<Figure size 432x288 with 3 Axes>"
      ]
     },
     "metadata": {},
     "output_type": "display_data"
    }
   ],
   "source": [
    "make_plots()\n",
    "plt.show()\n",
    "#plt.savefig(\"shaped_classifier.pdf\")"
   ]
  },
  {
   "cell_type": "code",
   "execution_count": 107,
   "metadata": {
    "collapsed": true
   },
   "outputs": [],
   "source": [
    "make_plots_marginal()"
   ]
  },
  {
   "cell_type": "code",
   "execution_count": 108,
   "metadata": {
    "collapsed": false
   },
   "outputs": [
    {
     "data": {
      "image/png": "[encoded data removed]",
      "text/plain": [
       "<Figure size 432x432 with 3 Axes>"
      ]
     },
     "metadata": {},
     "output_type": "display_data"
    },
    {
     "data": {
      "image/png": "[encoded data removed]",
      "text/plain": [
       "<Figure size 432x432 with 3 Axes>"
      ]
     },
     "metadata": {},
     "output_type": "display_data"
    },
    {
     "data": {
      "image/png": "[encoded data removed]",
      "text/plain": [
       "<Figure size 432x432 with 3 Axes>"
      ]
     },
     "metadata": {},
     "output_type": "display_data"
    }
   ],
   "source": [
    "plt.show()"
   ]
  },
  {
   "cell_type": "code",
   "execution_count": 156,
   "metadata": {
    "collapsed": true
   },
   "outputs": [],
   "source": [
    "data_test = np.loadtxt(\"data_test.txt\")\n",
    "labels_test = np.loadtxt(\"labels_test.txt\")"
   ]
  },
  {
   "cell_type": "code",
   "execution_count": 172,
   "metadata": {
    "collapsed": true
   },
   "outputs": [],
   "source": [
    "pred = sess.run(class_out_single, feed_dict = {data_in: data_test})"
   ]
  },
  {
   "cell_type": "code",
   "execution_count": 173,
   "metadata": {
    "collapsed": true
   },
   "outputs": [],
   "source": [
    "from sklearn import metrics"
   ]
  },
  {
   "cell_type": "code",
   "execution_count": 174,
   "metadata": {
    "collapsed": false
   },
   "outputs": [],
   "source": [
    "fpr, tpr, thresholds = metrics.roc_curve(labels_test, pred)"
   ]
  },
  {
   "cell_type": "code",
   "execution_count": 175,
   "metadata": {
    "collapsed": true
   },
   "outputs": [],
   "source": [
    "LL_pred = np.loadtxt(\"LL_evaluated.csv\")"
   ]
  },
  {
   "cell_type": "code",
   "execution_count": 176,
   "metadata": {
    "collapsed": true
   },
   "outputs": [],
   "source": [
    "fpr_LL, tpr_LL, thresholds_LL = metrics.roc_curve(labels_test, LL_pred)"
   ]
  },
  {
   "cell_type": "code",
   "execution_count": 177,
   "metadata": {
    "collapsed": false
   },
   "outputs": [
    {
     "data": {
      "image/png": "[encoded data removed]",
      "text/plain": [
       "<Figure size 432x288 with 1 Axes>"
      ]
     },
     "metadata": {},
     "output_type": "display_data"
    }
   ],
   "source": [
    "# plot both of them into the same graph\n",
    "fig, ax = plt.subplots()\n",
    "ax.plot(fpr, tpr, label = 'shaped classifier', c = 'red')\n",
    "ax.plot(fpr_LL, tpr_LL, label = 'analytic likelihood', c = 'black', ls = 'dashed')\n",
    "leg = ax.legend(loc = 'lower right')\n",
    "plt.xlabel(\"false positive rate\")\n",
    "plt.ylabel(\"true positive rate\")\n",
    "plt.show()\n",
    "#plt.savefig(\"shaped_classifier_ROC.pdf\")"
   ]
  },
  {
   "cell_type": "code",
   "execution_count": 144,
   "metadata": {
    "collapsed": false
   },
   "outputs": [
    {
     "data": {
      "text/plain": [
       "0.46547404941485976"
      ]
     },
     "execution_count": 144,
     "metadata": {},
     "output_type": "execute_result"
    }
   ],
   "source": [
    "metrics.roc_auc_score(labels_test, pred)"
   ]
  },
  {
   "cell_type": "code",
   "execution_count": 145,
   "metadata": {
    "collapsed": false
   },
   "outputs": [
    {
     "data": {
      "text/plain": [
       "0.7783846885778357"
      ]
     },
     "execution_count": 145,
     "metadata": {},
     "output_type": "execute_result"
    }
   ],
   "source": [
    "metrics.roc_auc_score(labels_test, LL_pred)"
   ]
  },
  {
   "cell_type": "code",
   "execution_count": null,
   "metadata": {
    "collapsed": true
   },
   "outputs": [],
   "source": []
  }
 ],
 "metadata": {
  "kernelspec": {
   "display_name": "Python 3",
   "language": "python",
   "name": "python3"
  },
  "language_info": {
   "codemirror_mode": {
    "name": "ipython",
    "version": 3
   },
   "file_extension": ".py",
   "mimetype": "text/x-python",
   "name": "python",
   "nbconvert_exporter": "python",
   "pygments_lexer": "ipython3",
   "version": "3.5.3"
  }
 },
 "nbformat": 4,
 "nbformat_minor": 2
}
