{
 "cells": [
  {
   "cell_type": "code",
   "execution_count": 1,
   "metadata": {
    "collapsed": true
   },
   "outputs": [],
   "source": [
    "import numpy as np\n",
    "import matplotlib.pyplot as plt\n",
    "import copy\n",
    "from matplotlib.mlab import griddata"
   ]
  },
  {
   "cell_type": "code",
   "execution_count": 2,
   "metadata": {
    "collapsed": true
   },
   "outputs": [],
   "source": [
    "def prepare_data(n_samples):\n",
    "    data = []\n",
    "    labels = []\n",
    "    nuisances = []\n",
    "    \n",
    "    for i in range(n_samples):\n",
    "        sig_bkg = np.random.uniform(low = 0.0, high = 1.0, size = 1)\n",
    "        if sig_bkg > 0.5:\n",
    "            nuisance = np.random.uniform(low = 0.0, high = 2.0, size = 1)\n",
    "            data.append(np.random.multivariate_normal(mean = [0.0, nuisance], cov = np.array([[1, -0.5], [-0.5, 1]]), size = 1).flatten())\n",
    "            labels.append(1.0)\n",
    "        else:\n",
    "            nuisance = np.random.uniform(low = 0.0, high = 2.0, size = 1)\n",
    "            data.append(np.random.multivariate_normal(mean = [1.0, nuisance], cov = np.eye(2), size = 1).flatten())\n",
    "            labels.append(0.0)\n",
    "            \n",
    "        nuisances.append(nuisance)\n",
    "    data = np.array(data)\n",
    "    labels = np.array(labels)\n",
    "    nuisances = np.array(nuisances)\n",
    "    \n",
    "    return data, labels, nuisances.flatten()"
   ]
  },
  {
   "cell_type": "code",
   "execution_count": 3,
   "metadata": {
    "collapsed": true
   },
   "outputs": [],
   "source": [
    "num_samples = 50000\n",
    "data_train, labels_train, nuisances_train = prepare_data(num_samples)\n",
    "nuisances_train = np.expand_dims(nuisances_train, axis = 1)"
   ]
  },
  {
   "cell_type": "code",
   "execution_count": 4,
   "metadata": {
    "collapsed": false
   },
   "outputs": [],
   "source": [
    "import tensorflow as tf"
   ]
  },
  {
   "cell_type": "code",
   "execution_count": 5,
   "metadata": {
    "collapsed": true
   },
   "outputs": [],
   "source": [
    "import tensorflow.contrib.layers as layers"
   ]
  },
  {
   "cell_type": "code",
   "execution_count": 6,
   "metadata": {
    "collapsed": false
   },
   "outputs": [],
   "source": [
    "config = tf.ConfigProto(intra_op_parallelism_threads=8, inter_op_parallelism_threads=8, \\\n",
    "                        allow_soft_placement=True, device_count = {'CPU': 8})\n",
    "sess = tf.InteractiveSession(config = config)"
   ]
  },
  {
   "cell_type": "code",
   "execution_count": 7,
   "metadata": {
    "collapsed": false
   },
   "outputs": [],
   "source": [
    "# batch size for evaluation of mutual entropy\n",
    "MINE_batch_size = num_samples\n",
    "\n",
    "# batch size for the training of the encoder / classifier pair\n",
    "batch_size = 200\n",
    "\n",
    "bottleneck_size = 2"
   ]
  },
  {
   "cell_type": "code",
   "execution_count": 8,
   "metadata": {
    "collapsed": true
   },
   "outputs": [],
   "source": [
    "data_in = tf.placeholder(tf.float32, [None, 2], name = 'data_in')\n",
    "nuisances_in = tf.placeholder(tf.float32, [None, 1], name = 'nuisances_in')\n",
    "labels_in = tf.placeholder(tf.int32, [None, ], name = 'labels_in')"
   ]
  },
  {
   "cell_type": "code",
   "execution_count": 9,
   "metadata": {
    "collapsed": true
   },
   "outputs": [],
   "source": [
    "def encoder(encoder_input):\n",
    "    with tf.variable_scope(\"encoder\"):\n",
    "        lay = layers.relu(encoder_input, 20)\n",
    "        lay = layers.relu(lay, 20)\n",
    "        outputs = layers.linear(lay, bottleneck_size)\n",
    "        \n",
    "        these_vars = tf.get_collection(tf.GraphKeys.GLOBAL_VARIABLES, scope = \"encoder\")\n",
    "        \n",
    "    return outputs, these_vars"
   ]
  },
  {
   "cell_type": "code",
   "execution_count": 10,
   "metadata": {
    "collapsed": true
   },
   "outputs": [],
   "source": [
    "def classifier(classifier_input):\n",
    "    with tf.variable_scope(\"classifier\"):\n",
    "        lay = layers.relu(classifier_input, 5)\n",
    "        lay = layers.relu(lay, 5)\n",
    "        lay = layers.relu(lay, 2)\n",
    "        outputs = layers.softmax(lay)\n",
    "        \n",
    "        these_vars = tf.get_collection(tf.GraphKeys.GLOBAL_VARIABLES, scope = \"classifier\")\n",
    "\n",
    "    return outputs, these_vars"
   ]
  },
  {
   "cell_type": "code",
   "execution_count": 11,
   "metadata": {
    "collapsed": true
   },
   "outputs": [],
   "source": [
    "def MINE_network(data):\n",
    "    with tf.variable_scope(\"MINE\"):\n",
    "        lay = layers.relu(data, 20)\n",
    "        lay = layers.relu(lay, 20)\n",
    "        outputs = layers.linear(lay, 1)\n",
    "        \n",
    "    these_vars = tf.get_collection(tf.GraphKeys.GLOBAL_VARIABLES, scope = \"MINE\")\n",
    "    \n",
    "    return outputs, these_vars"
   ]
  },
  {
   "cell_type": "code",
   "execution_count": 12,
   "metadata": {
    "collapsed": false
   },
   "outputs": [],
   "source": [
    "encoded, encoder_vars = encoder(data_in)"
   ]
  },
  {
   "cell_type": "code",
   "execution_count": 13,
   "metadata": {
    "collapsed": false
   },
   "outputs": [],
   "source": [
    "classifier_output, classifier_vars = classifier(encoded)"
   ]
  },
  {
   "cell_type": "code",
   "execution_count": 14,
   "metadata": {
    "collapsed": true
   },
   "outputs": [],
   "source": [
    "nuisances_shuffled = tf.random.shuffle(nuisances_in)"
   ]
  },
  {
   "cell_type": "code",
   "execution_count": 15,
   "metadata": {
    "collapsed": false
   },
   "outputs": [],
   "source": [
    "# prepare input for MINE\n",
    "#data_x_combined = tf.concat([encoded, encoded], axis = 0)\n",
    "data_x_combined = tf.concat([classifier_output, classifier_output], axis = 0)\n",
    "data_y_combined = tf.concat([nuisances_in, nuisances_shuffled], axis = 0)"
   ]
  },
  {
   "cell_type": "code",
   "execution_count": 16,
   "metadata": {
    "collapsed": false
   },
   "outputs": [],
   "source": [
    "data_combined = tf.concat([data_x_combined, data_y_combined], axis = 1)\n",
    "MINE_output, MINE_vars = MINE_network(data_combined)"
   ]
  },
  {
   "cell_type": "code",
   "execution_count": 17,
   "metadata": {
    "collapsed": true
   },
   "outputs": [],
   "source": [
    "batch_size_dyn = tf.cast(tf.math.divide(tf.shape(MINE_output)[0], 2), tf.int32)"
   ]
  },
  {
   "cell_type": "code",
   "execution_count": 18,
   "metadata": {
    "collapsed": true
   },
   "outputs": [],
   "source": [
    "T_xy = MINE_output[:batch_size_dyn,:]\n",
    "T_x_y = MINE_output[batch_size_dyn:,:]\n",
    "MINE_loss = -(tf.reduce_mean(T_xy, axis = 0) - tf.math.log(tf.reduce_mean(tf.math.exp(T_x_y), axis = 0)))\n",
    "MINE_loss = MINE_loss[0]"
   ]
  },
  {
   "cell_type": "code",
   "execution_count": 19,
   "metadata": {
    "collapsed": false
   },
   "outputs": [],
   "source": [
    "labels_one_hot = tf.one_hot(labels_in, depth = 2)"
   ]
  },
  {
   "cell_type": "code",
   "execution_count": 20,
   "metadata": {
    "collapsed": false
   },
   "outputs": [],
   "source": [
    "classification_loss = tf.losses.softmax_cross_entropy(onehot_labels = labels_one_hot, logits = classifier_output)"
   ]
  },
  {
   "cell_type": "code",
   "execution_count": 21,
   "metadata": {
    "collapsed": true
   },
   "outputs": [],
   "source": [
    "train_ec_pair = tf.train.AdamOptimizer(learning_rate = 0.005, beta1 = 0.9, beta2 = 0.999).minimize(classification_loss, var_list = classifier_vars + encoder_vars)\n",
    "#train_ec_pair = tf.train.GradientDescentOptimizer(learning_rate = 0.00001).minimize(classification_loss, var_list = classifier_vars + encoder_vars)"
   ]
  },
  {
   "cell_type": "code",
   "execution_count": 22,
   "metadata": {
    "collapsed": true
   },
   "outputs": [],
   "source": [
    "MINE_regularized_classification_loss = classification_loss - 2 * MINE_loss"
   ]
  },
  {
   "cell_type": "code",
   "execution_count": 23,
   "metadata": {
    "collapsed": true
   },
   "outputs": [],
   "source": [
    "train_ec_pair_MINE_regularized = tf.train.AdamOptimizer(learning_rate = 0.0001, beta1 = 0.3, beta2 = 0.5).minimize(MINE_regularized_classification_loss, var_list = classifier_vars + encoder_vars)\n",
    "#train_ec_pair_MINE_regularized = tf.train.GradientDescentOptimizer(learning_rate = 0.1).minimize(MINE_regularized_classification_loss, var_list = classifier_vars + encoder_vars)"
   ]
  },
  {
   "cell_type": "code",
   "execution_count": 24,
   "metadata": {
    "collapsed": false
   },
   "outputs": [],
   "source": [
    "init_MINE = tf.variables_initializer(var_list = MINE_vars)\n",
    "train_MINE = tf.train.AdamOptimizer(learning_rate = 0.01, beta1 = 0.3, beta2 = 0.5).minimize(MINE_loss, var_list = MINE_vars)"
   ]
  },
  {
   "cell_type": "code",
   "execution_count": 25,
   "metadata": {
    "collapsed": true
   },
   "outputs": [],
   "source": [
    "# combined training\n",
    "classification_loss_evolution = []\n",
    "MI_evolution = []\n",
    "number_batches = 200\n",
    "MINE_batches = 300"
   ]
  },
  {
   "cell_type": "code",
   "execution_count": 26,
   "metadata": {
    "collapsed": true
   },
   "outputs": [],
   "source": [
    "number_epochs = 20"
   ]
  },
  {
   "cell_type": "code",
   "execution_count": 27,
   "metadata": {
    "collapsed": true
   },
   "outputs": [],
   "source": [
    "sess.run(tf.global_variables_initializer())"
   ]
  },
  {
   "cell_type": "code",
   "execution_count": 28,
   "metadata": {
    "collapsed": false
   },
   "outputs": [
    {
     "name": "stdout",
     "output_type": "stream",
     "text": [
      "pre-training complete\n",
      "epoch 0\n",
      "MI = 0.002652406692504883, class_loss = 0.694687008857727, global_loss = 0.7010351419448853\n",
      "MI = 0.0018537044525146484, class_loss = 0.6945602893829346, global_loss = 0.698415994644165\n",
      "epoch 1\n",
      "MI = 0.002700328826904297, class_loss = 0.6942140460014343, global_loss = 0.6988498568534851\n",
      "MI = 5.8650970458984375e-05, class_loss = 0.6934043765068054, global_loss = 0.6936771273612976\n",
      "epoch 2\n",
      "MI = 0.00022220611572265625, class_loss = 0.6929191946983337, global_loss = 0.6933388113975525\n",
      "MI = 0.00018978118896484375, class_loss = 0.6923614144325256, global_loss = 0.6927257180213928\n",
      "epoch 3\n",
      "MI = -0.004952430725097656, class_loss = 0.691214382648468, global_loss = 0.6803634762763977\n",
      "MI = 7.62939453125e-06, class_loss = 0.6894504427909851, global_loss = 0.6896564364433289\n",
      "epoch 4\n",
      "MI = 0.0002002716064453125, class_loss = 0.687949538230896, global_loss = 0.6884187459945679\n",
      "MI = -1.9073486328125e-05, class_loss = 0.6868038177490234, global_loss = 0.6868629455566406\n",
      "epoch 5\n",
      "MI = -0.005576133728027344, class_loss = 0.6854270100593567, global_loss = 0.6738532185554504\n",
      "MI = -3.147125244140625e-05, class_loss = 0.6840456128120422, global_loss = 0.6841409802436829\n",
      "epoch 6\n",
      "MI = 0.0001678466796875, class_loss = 0.6826055645942688, global_loss = 0.6830385327339172\n",
      "MI = 0.000156402587890625, class_loss = 0.6812906265258789, global_loss = 0.6816530227661133\n",
      "epoch 7\n",
      "MI = 0.0002765655517578125, class_loss = 0.6790212392807007, global_loss = 0.6793721914291382\n",
      "MI = 0.0003108978271484375, class_loss = 0.6769086718559265, global_loss = 0.677442729473114\n",
      "epoch 8\n",
      "MI = 0.000209808349609375, class_loss = 0.6745328307151794, global_loss = 0.6749295592308044\n",
      "MI = 0.000179290771484375, class_loss = 0.67242032289505, global_loss = 0.6728704571723938\n",
      "epoch 9\n",
      "MI = 0.0001697540283203125, class_loss = 0.6699259281158447, global_loss = 0.6704866886138916\n",
      "MI = 0.0002918243408203125, class_loss = 0.6670228242874146, global_loss = 0.6673814058303833\n",
      "epoch 10\n",
      "MI = 0.00011444091796875, class_loss = 0.6640589833259583, global_loss = 0.6646693348884583\n",
      "MI = 0.0002346038818359375, class_loss = 0.660786509513855, global_loss = 0.6612938642501831\n",
      "epoch 11\n",
      "MI = 0.0002574920654296875, class_loss = 0.657308042049408, global_loss = 0.6577467322349548\n",
      "MI = 0.00018310546875, class_loss = 0.6536881923675537, global_loss = 0.6542565822601318\n",
      "epoch 12\n",
      "MI = 0.000518798828125, class_loss = 0.6500740051269531, global_loss = 0.6509284973144531\n",
      "MI = 0.0001964569091796875, class_loss = 0.6466464996337891, global_loss = 0.6473560333251953\n",
      "epoch 13\n",
      "MI = 0.0002422332763671875, class_loss = 0.643262505531311, global_loss = 0.6439872980117798\n",
      "MI = 0.0002841949462890625, class_loss = 0.6398018598556519, global_loss = 0.6406983137130737\n",
      "epoch 14\n",
      "MI = 0.0002193450927734375, class_loss = 0.6367957592010498, global_loss = 0.6372230052947998\n",
      "MI = 3.814697265625e-05, class_loss = 0.6336404085159302, global_loss = 0.6334573030471802\n",
      "epoch 15\n",
      "MI = 0.0006237030029296875, class_loss = 0.6304900646209717, global_loss = 0.6313331127166748\n",
      "MI = 0.00034332275390625, class_loss = 0.6275816559791565, global_loss = 0.6282225251197815\n",
      "epoch 16\n",
      "MI = 0.0005283355712890625, class_loss = 0.6250775456428528, global_loss = 0.626611053943634\n",
      "MI = 0.0002899169921875, class_loss = 0.6227134466171265, global_loss = 0.6242698431015015\n",
      "epoch 17\n",
      "MI = 0.0006103515625, class_loss = 0.620232880115509, global_loss = 0.6211712956428528\n",
      "MI = 0.00037384033203125, class_loss = 0.617713212966919, global_loss = 0.618933916091919\n",
      "epoch 18\n",
      "MI = -1.52587890625e-05, class_loss = 0.6156898140907288, global_loss = 0.6160483956336975\n",
      "MI = 0.000408172607421875, class_loss = 0.6133130192756653, global_loss = 0.6141751408576965\n",
      "epoch 19\n",
      "MI = 0.000255584716796875, class_loss = 0.6113945245742798, global_loss = 0.611646294593811\n",
      "MI = 0.000560760498046875, class_loss = 0.609446108341217, global_loss = 0.6107049584388733\n"
     ]
    }
   ],
   "source": [
    "# pre-train MINE\n",
    "sess.run(init_MINE)\n",
    "for batch in range(MINE_batches):\n",
    "    sess.run(train_MINE, feed_dict = {data_in: data_train, nuisances_in: nuisances_train})\n",
    "\n",
    "print(\"pre-training complete\")\n",
    "    \n",
    "for epoch in range(number_epochs):\n",
    "    print(\"epoch {}\".format(epoch))\n",
    "    # train new MINE on current encoder output\n",
    "    \n",
    "    for batch in range(number_batches):\n",
    "        # train classifier with MINE regularization\n",
    "        inds = np.random.choice(len(data_train), batch_size)\n",
    "        data_batch = data_train[inds]\n",
    "        labels_batch = labels_train[inds]\n",
    "        nuisances_batch = nuisances_train[inds]\n",
    "\n",
    "        sess.run(train_MINE, feed_dict = {data_in: data_train, nuisances_in: nuisances_train})\n",
    "        sess.run(train_ec_pair_MINE_regularized, feed_dict = {data_in: data_batch, nuisances_in: nuisances_batch, labels_in: labels_batch})\n",
    "    \n",
    "        if not batch % 100:\n",
    "            MI = -sess.run(MINE_loss, feed_dict = {data_in: data_train, nuisances_in: nuisances_train})\n",
    "            class_loss = sess.run(classification_loss, feed_dict = {data_in: data_train, nuisances_in: nuisances_train, labels_in: labels_train})\n",
    "            global_loss = sess.run(MINE_regularized_classification_loss, feed_dict = {data_in: data_train, nuisances_in: nuisances_train, labels_in: labels_train})\n",
    "\n",
    "            print(\"MI = {}, class_loss = {}, global_loss = {}\".format(MI, class_loss, global_loss))"
   ]
  },
  {
   "cell_type": "code",
   "execution_count": 29,
   "metadata": {
    "collapsed": true
   },
   "outputs": [],
   "source": [
    "data_test = np.random.uniform(low = -6, high = 6, size = [50000, 2])"
   ]
  },
  {
   "cell_type": "code",
   "execution_count": 30,
   "metadata": {
    "collapsed": false
   },
   "outputs": [],
   "source": [
    "pred = sess.run(classifier_output, feed_dict = {data_in: data_test})"
   ]
  },
  {
   "cell_type": "code",
   "execution_count": 31,
   "metadata": {
    "collapsed": false
   },
   "outputs": [
    {
     "name": "stderr",
     "output_type": "stream",
     "text": [
      "/usr/lib/python3/dist-packages/ipykernel/__main__.py:3: MatplotlibDeprecationWarning: The griddata function was deprecated in Matplotlib 2.2 and will be removed in 3.1. Use scipy.interpolate.griddata instead.\n",
      "  app.launch_new_instance()\n",
      "/home/philipp/.local/lib/python3.5/site-packages/matplotlib/contour.py:1000: UserWarning: The following kwargs were not used by contour: 'interp'\n",
      "  s)\n"
     ]
    },
    {
     "data": {
      "image/png": "[encoded data removed]",
      "text/plain": [
       "<Figure size 432x288 with 2 Axes>"
      ]
     },
     "metadata": {},
     "output_type": "display_data"
    }
   ],
   "source": [
    "xi = np.linspace(-4, 4, 1000)\n",
    "yi = np.linspace(-4, 6, 1000)\n",
    "zi = griddata(data_test[:, 0], data_test[:, 1], pred[:, 0], xi, yi, interp = \"linear\")\n",
    "\n",
    "plt.contourf(xi, yi, zi, interp='linear', levels = 100)\n",
    "plt.xlabel('x')\n",
    "plt.ylabel('y')\n",
    "plt.colorbar()\n",
    "plt.show()"
   ]
  },
  {
   "cell_type": "code",
   "execution_count": 32,
   "metadata": {
    "collapsed": false
   },
   "outputs": [
    {
     "data": {
      "image/png": "[encoded data removed]",
      "text/plain": [
       "<Figure size 432x288 with 2 Axes>"
      ]
     },
     "metadata": {},
     "output_type": "display_data"
    }
   ],
   "source": [
    "plt.hexbin(x = data_train[:, 0], y = data_train[:, 1], bins = 'log', gridsize = 50)\n",
    "plt.colorbar()\n",
    "plt.show()"
   ]
  },
  {
   "cell_type": "code",
   "execution_count": 33,
   "metadata": {
    "collapsed": false
   },
   "outputs": [],
   "source": [
    "# check for pivoting property\n",
    "data_test, labels_test, nuisances_test = prepare_data(500000)"
   ]
  },
  {
   "cell_type": "code",
   "execution_count": 34,
   "metadata": {
    "collapsed": false
   },
   "outputs": [],
   "source": [
    "group1 = np.logical_and(nuisances_test > 0.0, nuisances_test < 0.5)\n",
    "group2 = np.logical_and(nuisances_test > 0.5, nuisances_test < 1.0)\n",
    "group3 = np.logical_and(nuisances_test > 1.0, nuisances_test < 1.5)\n",
    "group4 = np.logical_and(nuisances_test > 1.5, nuisances_test < 2.0)"
   ]
  },
  {
   "cell_type": "code",
   "execution_count": 35,
   "metadata": {
    "collapsed": false
   },
   "outputs": [],
   "source": [
    "pred1 = sess.run(classifier_output, feed_dict = {data_in: data_test[group1]})\n",
    "pred2 = sess.run(classifier_output, feed_dict = {data_in: data_test[group2]})\n",
    "pred3 = sess.run(classifier_output, feed_dict = {data_in: data_test[group3]})\n",
    "pred4 = sess.run(classifier_output, feed_dict = {data_in: data_test[group4]})"
   ]
  },
  {
   "cell_type": "code",
   "execution_count": 36,
   "metadata": {
    "collapsed": false
   },
   "outputs": [
    {
     "data": {
      "image/png": "[encoded data removed]",
      "text/plain": [
       "<Figure size 432x288 with 1 Axes>"
      ]
     },
     "metadata": {},
     "output_type": "display_data"
    }
   ],
   "source": [
    "colors = ['red', 'tan', 'lime', 'green']\n",
    "plt.hist([pred1[:,1], pred2[:,1], pred3[:,1], pred4[:,1]], label = [r'$\\nu_1$', r'$\\nu_2$', r'$\\nu_3$', r'$\\nu_4$'], histtype = 'step', density = True, stacked = False, fill = False, bins = 20)\n",
    "plt.legend(loc = 'upper left')\n",
    "plt.show()"
   ]
  },
  {
   "cell_type": "code",
   "execution_count": 37,
   "metadata": {
    "collapsed": false
   },
   "outputs": [],
   "source": [
    "sig = data_test[labels_test == 1]\n",
    "bkg = data_test[labels_test == 0]"
   ]
  },
  {
   "cell_type": "code",
   "execution_count": 38,
   "metadata": {
    "collapsed": true
   },
   "outputs": [],
   "source": [
    "pred_sig = sess.run(classifier_output, feed_dict = {data_in: sig})\n",
    "pred_bkg = sess.run(classifier_output, feed_dict = {data_in: bkg})"
   ]
  },
  {
   "cell_type": "code",
   "execution_count": 39,
   "metadata": {
    "collapsed": false
   },
   "outputs": [
    {
     "data": {
      "image/png": "[encoded data removed]",
      "text/plain": [
       "<Figure size 432x288 with 1 Axes>"
      ]
     },
     "metadata": {},
     "output_type": "display_data"
    }
   ],
   "source": [
    "plt.hist([pred_sig[:,1], pred_bkg[:,1]], label = ['sig', 'bkg'], histtype = 'step', density = True, stacked = False, fill = False, bins = 10)\n",
    "plt.show()"
   ]
  },
  {
   "cell_type": "code",
   "execution_count": 40,
   "metadata": {
    "collapsed": false
   },
   "outputs": [],
   "source": [
    "pred = sess.run(classifier_output, feed_dict = {data_in: data_test})"
   ]
  },
  {
   "cell_type": "code",
   "execution_count": 41,
   "metadata": {
    "collapsed": true
   },
   "outputs": [],
   "source": [
    "# plot ROC curves\n",
    "from sklearn import metrics"
   ]
  },
  {
   "cell_type": "code",
   "execution_count": 42,
   "metadata": {
    "collapsed": false
   },
   "outputs": [],
   "source": [
    "fpr, tpr, thresholds = metrics.roc_curve(labels_test, pred[:,1])"
   ]
  },
  {
   "cell_type": "code",
   "execution_count": 43,
   "metadata": {
    "collapsed": false
   },
   "outputs": [
    {
     "data": {
      "image/png": "[encoded data removed]",
      "text/plain": [
       "<Figure size 432x288 with 1 Axes>"
      ]
     },
     "metadata": {},
     "output_type": "display_data"
    }
   ],
   "source": [
    "plt.plot(fpr, tpr)\n",
    "plt.show()"
   ]
  },
  {
   "cell_type": "code",
   "execution_count": 44,
   "metadata": {
    "collapsed": false
   },
   "outputs": [
    {
     "data": {
      "text/plain": [
       "0.76412764917655"
      ]
     },
     "execution_count": 44,
     "metadata": {},
     "output_type": "execute_result"
    }
   ],
   "source": [
    "metrics.roc_auc_score(labels_test, pred[:,1])"
   ]
  },
  {
   "cell_type": "code",
   "execution_count": 47,
   "metadata": {
    "collapsed": false
   },
   "outputs": [],
   "source": [
    "# save the test data values to disk\n",
    "np.savetxt(\"data_test.txt\", data_test)"
   ]
  },
  {
   "cell_type": "code",
   "execution_count": 64,
   "metadata": {
    "collapsed": true
   },
   "outputs": [],
   "source": [
    "np.savetxt(\"nuisances_test.txt\", nuisances_test)"
   ]
  },
  {
   "cell_type": "code",
   "execution_count": 65,
   "metadata": {
    "collapsed": true
   },
   "outputs": [],
   "source": [
    "np.savetxt(\"labels_test.txt\", labels_test)"
   ]
  },
  {
   "cell_type": "code",
   "execution_count": 53,
   "metadata": {
    "collapsed": false
   },
   "outputs": [],
   "source": [
    "# and load back the values of the (exact) ML estimator evaluated on them\n",
    "LL_pred = np.loadtxt(\"LL_evaluated.csv\")"
   ]
  },
  {
   "cell_type": "code",
   "execution_count": 54,
   "metadata": {
    "collapsed": false
   },
   "outputs": [],
   "source": [
    "fpr_LL, tpr_LL, thresholds_LL = metrics.roc_curve(labels_test, LL_pred)"
   ]
  },
  {
   "cell_type": "code",
   "execution_count": 55,
   "metadata": {
    "collapsed": false
   },
   "outputs": [
    {
     "data": {
      "image/png": "[encoded data removed]",
      "text/plain": [
       "<Figure size 432x288 with 1 Axes>"
      ]
     },
     "metadata": {},
     "output_type": "display_data"
    }
   ],
   "source": [
    "plt.plot(fpr_LL, tpr_LL)\n",
    "plt.show()"
   ]
  },
  {
   "cell_type": "code",
   "execution_count": 56,
   "metadata": {
    "collapsed": false
   },
   "outputs": [
    {
     "data": {
      "text/plain": [
       "0.7783846885778357"
      ]
     },
     "execution_count": 56,
     "metadata": {},
     "output_type": "execute_result"
    }
   ],
   "source": [
    "metrics.roc_auc_score(labels_test, LL_pred)"
   ]
  },
  {
   "cell_type": "code",
   "execution_count": 71,
   "metadata": {
    "collapsed": false
   },
   "outputs": [],
   "source": [
    "# plot both of them into the same graph\n",
    "fig, ax = plt.subplots()\n",
    "ax.plot(fpr, tpr, label = 'MI-regularized classifier', c = 'red')\n",
    "ax.plot(fpr_LL, tpr_LL, label = 'analytic likelihood', c = 'black', ls = 'dashed')\n",
    "leg = ax.legend(loc = 'lower right')\n",
    "plt.xlabel(\"false positive rate\")\n",
    "plt.ylabel(\"true positive rate\")\n",
    "#plt.show()\n",
    "plt.savefig(\"MI_regularized_ROC.pdf\")"
   ]
  },
  {
   "cell_type": "code",
   "execution_count": null,
   "metadata": {
    "collapsed": true
   },
   "outputs": [],
   "source": []
  }
 ],
 "metadata": {
  "kernelspec": {
   "display_name": "Python 3",
   "language": "python",
   "name": "python3"
  },
  "language_info": {
   "codemirror_mode": {
    "name": "ipython",
    "version": 3
   },
   "file_extension": ".py",
   "mimetype": "text/x-python",
   "name": "python",
   "nbconvert_exporter": "python",
   "pygments_lexer": "ipython3",
   "version": "3.5.3"
  }
 },
 "nbformat": 4,
 "nbformat_minor": 2
}
