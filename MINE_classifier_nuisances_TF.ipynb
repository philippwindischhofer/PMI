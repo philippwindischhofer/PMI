{
 "cells": [
  {
   "cell_type": "code",
   "execution_count": 1,
   "metadata": {
    "collapsed": true
   },
   "outputs": [],
   "source": [
    "import numpy as np\n",
    "import matplotlib.pyplot as plt\n",
    "import copy\n",
    "from matplotlib.mlab import griddata"
   ]
  },
  {
   "cell_type": "code",
   "execution_count": 2,
   "metadata": {
    "collapsed": true
   },
   "outputs": [],
   "source": [
    "def prepare_data(n_samples):\n",
    "    data = []\n",
    "    labels = []\n",
    "    nuisances = []\n",
    "    \n",
    "    for i in range(n_samples):\n",
    "        sig_bkg = np.random.uniform(low = 0.0, high = 1.0, size = 1)\n",
    "        if sig_bkg > 0.5:\n",
    "            nuisance = np.random.uniform(low = 0.0, high = 2.0, size = 1)\n",
    "            data.append(np.random.multivariate_normal(mean = [0.0, nuisance], cov = np.array([[1, -0.5], [-0.5, 1]]), size = 1).flatten())\n",
    "            labels.append(1.0)\n",
    "        else:\n",
    "            nuisance = np.random.uniform(low = 0.0, high = 2.0, size = 1)\n",
    "            data.append(np.random.multivariate_normal(mean = [1.0, nuisance], cov = np.eye(2), size = 1).flatten())\n",
    "            labels.append(0.0)\n",
    "            \n",
    "        nuisances.append(nuisance)\n",
    "    data = np.array(data)\n",
    "    labels = np.array(labels)\n",
    "    nuisances = np.array(nuisances)\n",
    "    \n",
    "    return data, labels, nuisances.flatten()"
   ]
  },
  {
   "cell_type": "code",
   "execution_count": 3,
   "metadata": {
    "collapsed": true
   },
   "outputs": [],
   "source": [
    "num_samples = 50000\n",
    "data_train, labels_train, nuisances_train = prepare_data(num_samples)\n",
    "nuisances_train = np.expand_dims(nuisances_train, axis = 1)"
   ]
  },
  {
   "cell_type": "code",
   "execution_count": 4,
   "metadata": {
    "collapsed": false
   },
   "outputs": [],
   "source": [
    "import tensorflow as tf"
   ]
  },
  {
   "cell_type": "code",
   "execution_count": 5,
   "metadata": {
    "collapsed": true
   },
   "outputs": [],
   "source": [
    "import tensorflow.contrib.layers as layers"
   ]
  },
  {
   "cell_type": "code",
   "execution_count": 6,
   "metadata": {
    "collapsed": false
   },
   "outputs": [],
   "source": [
    "config = tf.ConfigProto(intra_op_parallelism_threads=8, inter_op_parallelism_threads=8, \\\n",
    "                        allow_soft_placement=True, device_count = {'CPU': 8})\n",
    "sess = tf.InteractiveSession(config = config)"
   ]
  },
  {
   "cell_type": "code",
   "execution_count": 7,
   "metadata": {
    "collapsed": false
   },
   "outputs": [],
   "source": [
    "# batch size for evaluation of mutual entropy\n",
    "MINE_batch_size = num_samples\n",
    "\n",
    "# batch size for the training of the encoder / classifier pair\n",
    "batch_size = 200\n",
    "\n",
    "bottleneck_size = 2"
   ]
  },
  {
   "cell_type": "code",
   "execution_count": 8,
   "metadata": {
    "collapsed": true
   },
   "outputs": [],
   "source": [
    "data_in = tf.placeholder(tf.float32, [None, 2], name = 'data_in')\n",
    "nuisances_in = tf.placeholder(tf.float32, [None, 1], name = 'nuisances_in')\n",
    "labels_in = tf.placeholder(tf.int32, [None, ], name = 'labels_in')"
   ]
  },
  {
   "cell_type": "code",
   "execution_count": 9,
   "metadata": {
    "collapsed": true
   },
   "outputs": [],
   "source": [
    "def encoder(encoder_input):\n",
    "    with tf.variable_scope(\"encoder\"):\n",
    "        lay = layers.relu(encoder_input, 20)\n",
    "        lay = layers.relu(lay, 20)\n",
    "        outputs = layers.linear(lay, bottleneck_size)\n",
    "        \n",
    "        these_vars = tf.get_collection(tf.GraphKeys.GLOBAL_VARIABLES, scope = \"encoder\")\n",
    "        \n",
    "    return outputs, these_vars"
   ]
  },
  {
   "cell_type": "code",
   "execution_count": 10,
   "metadata": {
    "collapsed": true
   },
   "outputs": [],
   "source": [
    "def classifier(classifier_input):\n",
    "    with tf.variable_scope(\"classifier\"):\n",
    "        lay = layers.relu(classifier_input, 5)\n",
    "        lay = layers.relu(lay, 5)\n",
    "        lay = layers.relu(lay, 2)\n",
    "        outputs = layers.softmax(lay)\n",
    "        \n",
    "        these_vars = tf.get_collection(tf.GraphKeys.GLOBAL_VARIABLES, scope = \"classifier\")\n",
    "\n",
    "    return outputs, these_vars"
   ]
  },
  {
   "cell_type": "code",
   "execution_count": 11,
   "metadata": {
    "collapsed": true
   },
   "outputs": [],
   "source": [
    "def MINE_network(data):\n",
    "    with tf.variable_scope(\"MINE\"):\n",
    "        lay = layers.relu(data, 20)\n",
    "        lay = layers.relu(lay, 20)\n",
    "        outputs = layers.linear(lay, 1)\n",
    "        \n",
    "    these_vars = tf.get_collection(tf.GraphKeys.GLOBAL_VARIABLES, scope = \"MINE\")\n",
    "    \n",
    "    return outputs, these_vars"
   ]
  },
  {
   "cell_type": "code",
   "execution_count": 12,
   "metadata": {
    "collapsed": false
   },
   "outputs": [],
   "source": [
    "encoded, encoder_vars = encoder(data_in)"
   ]
  },
  {
   "cell_type": "code",
   "execution_count": 13,
   "metadata": {
    "collapsed": false
   },
   "outputs": [],
   "source": [
    "classifier_output, classifier_vars = classifier(encoded)"
   ]
  },
  {
   "cell_type": "code",
   "execution_count": 14,
   "metadata": {
    "collapsed": true
   },
   "outputs": [],
   "source": [
    "nuisances_shuffled = tf.random.shuffle(nuisances_in)"
   ]
  },
  {
   "cell_type": "code",
   "execution_count": 15,
   "metadata": {
    "collapsed": false
   },
   "outputs": [],
   "source": [
    "# prepare input for MINE\n",
    "#data_x_combined = tf.concat([encoded, encoded], axis = 0)\n",
    "data_x_combined = tf.concat([classifier_output, classifier_output], axis = 0)\n",
    "data_y_combined = tf.concat([nuisances_in, nuisances_shuffled], axis = 0)"
   ]
  },
  {
   "cell_type": "code",
   "execution_count": 16,
   "metadata": {
    "collapsed": false
   },
   "outputs": [],
   "source": [
    "data_combined = tf.concat([data_x_combined, data_y_combined], axis = 1)\n",
    "MINE_output, MINE_vars = MINE_network(data_combined)"
   ]
  },
  {
   "cell_type": "code",
   "execution_count": 17,
   "metadata": {
    "collapsed": true
   },
   "outputs": [],
   "source": [
    "batch_size_dyn = tf.cast(tf.math.divide(tf.shape(MINE_output)[0], 2), tf.int32)"
   ]
  },
  {
   "cell_type": "code",
   "execution_count": 18,
   "metadata": {
    "collapsed": true
   },
   "outputs": [],
   "source": [
    "T_xy = MINE_output[:batch_size_dyn,:]\n",
    "T_x_y = MINE_output[batch_size_dyn:,:]\n",
    "MINE_loss = -(tf.reduce_mean(T_xy, axis = 0) - tf.math.log(tf.reduce_mean(tf.math.exp(T_x_y), axis = 0)))\n",
    "MINE_loss = MINE_loss[0]"
   ]
  },
  {
   "cell_type": "code",
   "execution_count": 19,
   "metadata": {
    "collapsed": false
   },
   "outputs": [],
   "source": [
    "labels_one_hot = tf.one_hot(labels_in, depth = 2)"
   ]
  },
  {
   "cell_type": "code",
   "execution_count": 20,
   "metadata": {
    "collapsed": false
   },
   "outputs": [],
   "source": [
    "classification_loss = tf.losses.softmax_cross_entropy(onehot_labels = labels_one_hot, logits = classifier_output)"
   ]
  },
  {
   "cell_type": "code",
   "execution_count": 21,
   "metadata": {
    "collapsed": true
   },
   "outputs": [],
   "source": [
    "train_ec_pair = tf.train.AdamOptimizer(learning_rate = 0.005, beta1 = 0.9, beta2 = 0.999).minimize(classification_loss, var_list = classifier_vars + encoder_vars)\n",
    "#train_ec_pair = tf.train.GradientDescentOptimizer(learning_rate = 0.00001).minimize(classification_loss, var_list = classifier_vars + encoder_vars)"
   ]
  },
  {
   "cell_type": "code",
   "execution_count": 22,
   "metadata": {
    "collapsed": true
   },
   "outputs": [],
   "source": [
    "MINE_regularized_classification_loss = classification_loss - MINE_loss"
   ]
  },
  {
   "cell_type": "code",
   "execution_count": 23,
   "metadata": {
    "collapsed": true
   },
   "outputs": [],
   "source": [
    "train_ec_pair_MINE_regularized = tf.train.AdamOptimizer(learning_rate = 0.0001, beta1 = 0.3, beta2 = 0.5).minimize(MINE_regularized_classification_loss, var_list = classifier_vars + encoder_vars)\n",
    "#train_ec_pair_MINE_regularized = tf.train.GradientDescentOptimizer(learning_rate = 0.1).minimize(MINE_regularized_classification_loss, var_list = classifier_vars + encoder_vars)"
   ]
  },
  {
   "cell_type": "code",
   "execution_count": 24,
   "metadata": {
    "collapsed": false
   },
   "outputs": [],
   "source": [
    "init_MINE = tf.variables_initializer(var_list = MINE_vars)\n",
    "train_MINE = tf.train.AdamOptimizer(learning_rate = 0.01, beta1 = 0.3, beta2 = 0.5).minimize(MINE_loss, var_list = MINE_vars)"
   ]
  },
  {
   "cell_type": "code",
   "execution_count": 25,
   "metadata": {
    "collapsed": true
   },
   "outputs": [],
   "source": [
    "# combined training\n",
    "classification_loss_evolution = []\n",
    "MI_evolution = []\n",
    "number_batches = 200\n",
    "MINE_batches = 300"
   ]
  },
  {
   "cell_type": "code",
   "execution_count": 26,
   "metadata": {
    "collapsed": true
   },
   "outputs": [],
   "source": [
    "number_epochs = 20"
   ]
  },
  {
   "cell_type": "code",
   "execution_count": 27,
   "metadata": {
    "collapsed": true
   },
   "outputs": [],
   "source": [
    "sess.run(tf.global_variables_initializer())"
   ]
  },
  {
   "cell_type": "code",
   "execution_count": 28,
   "metadata": {
    "collapsed": false
   },
   "outputs": [
    {
     "name": "stdout",
     "output_type": "stream",
     "text": [
      "pre-training complete\n",
      "epoch 0\n",
      "MI = 0.006844282150268555, class_loss = 0.6955029964447021, global_loss = 0.7026185989379883\n",
      "MI = 0.00045680999755859375, class_loss = 0.6938179731369019, global_loss = 0.6942723989486694\n",
      "epoch 1\n",
      "MI = 0.0013570785522460938, class_loss = 0.6928529143333435, global_loss = 0.694274365901947\n",
      "MI = -0.00010776519775390625, class_loss = 0.6917111873626709, global_loss = 0.6915404796600342\n",
      "epoch 2\n",
      "MI = 0.0001354217529296875, class_loss = 0.6902758479118347, global_loss = 0.6905104517936707\n",
      "MI = 0.0010151863098144531, class_loss = 0.6882178783416748, global_loss = 0.6890904903411865\n",
      "epoch 3\n",
      "MI = 0.002063751220703125, class_loss = 0.6869966983795166, global_loss = 0.6894829273223877\n",
      "MI = 0.0019588470458984375, class_loss = 0.6864670515060425, global_loss = 0.6885040998458862\n",
      "epoch 4\n",
      "MI = 0.0011501312255859375, class_loss = 0.6857666373252869, global_loss = 0.6871275305747986\n",
      "MI = 0.0006084442138671875, class_loss = 0.6849972009658813, global_loss = 0.685249924659729\n",
      "epoch 5\n",
      "MI = 0.00042629241943359375, class_loss = 0.6838257908821106, global_loss = 0.6841214299201965\n",
      "MI = 0.0002994537353515625, class_loss = 0.6821141242980957, global_loss = 0.6823925971984863\n",
      "epoch 6\n",
      "MI = 0.00028514862060546875, class_loss = 0.6796781420707703, global_loss = 0.6800500750541687\n",
      "MI = 0.00020313262939453125, class_loss = 0.6774253249168396, global_loss = 0.6776980757713318\n",
      "epoch 7\n",
      "MI = 0.0004329681396484375, class_loss = 0.6744255423545837, global_loss = 0.6750072836875916\n",
      "MI = 0.00034332275390625, class_loss = 0.6712101697921753, global_loss = 0.6716755628585815\n",
      "epoch 8\n",
      "MI = 0.0003070831298828125, class_loss = 0.6681873202323914, global_loss = 0.6685592532157898\n",
      "MI = 0.000431060791015625, class_loss = 0.6652286052703857, global_loss = 0.6655986309051514\n",
      "epoch 9\n",
      "MI = 0.0004253387451171875, class_loss = 0.6625887751579285, global_loss = 0.6630675196647644\n",
      "MI = 0.0006275177001953125, class_loss = 0.6600520014762878, global_loss = 0.66069096326828\n",
      "epoch 10\n",
      "MI = 0.0004673004150390625, class_loss = 0.6577821373939514, global_loss = 0.6581979393959045\n",
      "MI = 0.00048065185546875, class_loss = 0.6558808088302612, global_loss = 0.6563423871994019\n",
      "epoch 11\n",
      "MI = 0.0007419586181640625, class_loss = 0.6542860865592957, global_loss = 0.6550566554069519\n",
      "MI = 0.0001506805419921875, class_loss = 0.6531161069869995, global_loss = 0.6533850431442261\n",
      "epoch 12\n",
      "MI = 0.0004730224609375, class_loss = 0.6518293619155884, global_loss = 0.6521707773208618\n",
      "MI = 0.0002460479736328125, class_loss = 0.6508839130401611, global_loss = 0.6512539386749268\n",
      "epoch 13\n",
      "MI = 0.0002536773681640625, class_loss = 0.6501535177230835, global_loss = 0.6506780385971069\n",
      "MI = 0.0001964569091796875, class_loss = 0.6495236158370972, global_loss = 0.6500042676925659\n",
      "epoch 14\n",
      "MI = 0.000270843505859375, class_loss = 0.6490520238876343, global_loss = 0.6491988897323608\n",
      "MI = 0.0004520416259765625, class_loss = 0.6485509872436523, global_loss = 0.649266242980957\n",
      "epoch 15\n",
      "MI = 0.000759124755859375, class_loss = 0.6481178998947144, global_loss = 0.6487358808517456\n",
      "MI = 0.000156402587890625, class_loss = 0.6478272676467896, global_loss = 0.6480370759963989\n",
      "epoch 16\n",
      "MI = -6.103515625e-05, class_loss = 0.6475167870521545, global_loss = 0.6476007103919983\n",
      "MI = 4.1961669921875e-05, class_loss = 0.6473239064216614, global_loss = 0.6473239064216614\n",
      "epoch 17\n",
      "MI = -9.918212890625e-05, class_loss = 0.64715975522995, global_loss = 0.6471826434135437\n",
      "MI = -3.814697265625e-05, class_loss = 0.6470054984092712, global_loss = 0.6470054984092712\n",
      "epoch 18\n",
      "MI = -6.103515625e-05, class_loss = 0.6468590497970581, global_loss = 0.6469734907150269\n",
      "MI = 0.0003204345703125, class_loss = 0.6467335820198059, global_loss = 0.6470006108283997\n",
      "epoch 19\n",
      "MI = 8.7738037109375e-05, class_loss = 0.6466360688209534, global_loss = 0.646761953830719\n",
      "MI = -0.000133514404296875, class_loss = 0.646546483039856, global_loss = 0.6465274095535278\n"
     ]
    }
   ],
   "source": [
    "# pre-train MINE\n",
    "sess.run(init_MINE)\n",
    "for batch in range(MINE_batches):\n",
    "    sess.run(train_MINE, feed_dict = {data_in: data_train, nuisances_in: nuisances_train})\n",
    "\n",
    "print(\"pre-training complete\")\n",
    "    \n",
    "for epoch in range(number_epochs):\n",
    "    print(\"epoch {}\".format(epoch))\n",
    "    # train new MINE on current encoder output\n",
    "    \n",
    "    for batch in range(number_batches):\n",
    "        # train classifier with MINE regularization\n",
    "        inds = np.random.choice(len(data_train), batch_size)\n",
    "        data_batch = data_train[inds]\n",
    "        labels_batch = labels_train[inds]\n",
    "        nuisances_batch = nuisances_train[inds]\n",
    "\n",
    "        sess.run(train_MINE, feed_dict = {data_in: data_train, nuisances_in: nuisances_train})\n",
    "        sess.run(train_ec_pair_MINE_regularized, feed_dict = {data_in: data_batch, nuisances_in: nuisances_batch, labels_in: labels_batch})\n",
    "    \n",
    "        if not batch % 100:\n",
    "            MI = -sess.run(MINE_loss, feed_dict = {data_in: data_train, nuisances_in: nuisances_train})\n",
    "            class_loss = sess.run(classification_loss, feed_dict = {data_in: data_train, nuisances_in: nuisances_train, labels_in: labels_train})\n",
    "            global_loss = sess.run(MINE_regularized_classification_loss, feed_dict = {data_in: data_train, nuisances_in: nuisances_train, labels_in: labels_train})\n",
    "\n",
    "            print(\"MI = {}, class_loss = {}, global_loss = {}\".format(MI, class_loss, global_loss))"
   ]
  },
  {
   "cell_type": "code",
   "execution_count": 29,
   "metadata": {
    "collapsed": true
   },
   "outputs": [],
   "source": [
    "data_test = np.random.uniform(low = -6, high = 6, size = [50000, 2])"
   ]
  },
  {
   "cell_type": "code",
   "execution_count": 30,
   "metadata": {
    "collapsed": false
   },
   "outputs": [],
   "source": [
    "pred = sess.run(classifier_output, feed_dict = {data_in: data_test})"
   ]
  },
  {
   "cell_type": "code",
   "execution_count": 31,
   "metadata": {
    "collapsed": false
   },
   "outputs": [
    {
     "name": "stderr",
     "output_type": "stream",
     "text": [
      "/usr/lib/python3/dist-packages/ipykernel/__main__.py:3: MatplotlibDeprecationWarning: The griddata function was deprecated in Matplotlib 2.2 and will be removed in 3.1. Use scipy.interpolate.griddata instead.\n",
      "  app.launch_new_instance()\n",
      "/home/philipp/.local/lib/python3.5/site-packages/matplotlib/contour.py:1000: UserWarning: The following kwargs were not used by contour: 'interp'\n",
      "  s)\n"
     ]
    },
    {
     "data": {
      "image/png": "[encoded data removed]",
      "text/plain": [
       "<Figure size 432x288 with 2 Axes>"
      ]
     },
     "metadata": {},
     "output_type": "display_data"
    }
   ],
   "source": [
    "xi = np.linspace(-4, 4, 1000)\n",
    "yi = np.linspace(-4, 6, 1000)\n",
    "zi = griddata(data_test[:, 0], data_test[:, 1], pred[:, 0], xi, yi, interp = \"linear\")\n",
    "\n",
    "plt.contourf(xi, yi, zi, interp='linear', levels = 100)\n",
    "plt.xlabel('x')\n",
    "plt.ylabel('y')\n",
    "plt.colorbar()\n",
    "plt.show()"
   ]
  },
  {
   "cell_type": "code",
   "execution_count": 32,
   "metadata": {
    "collapsed": false
   },
   "outputs": [
    {
     "data": {
      "image/png": "[encoded data removed]",
      "text/plain": [
       "<Figure size 432x288 with 2 Axes>"
      ]
     },
     "metadata": {},
     "output_type": "display_data"
    }
   ],
   "source": [
    "plt.hexbin(x = data_train[:, 0], y = data_train[:, 1], bins = 'log', gridsize = 50)\n",
    "plt.colorbar()\n",
    "plt.show()"
   ]
  },
  {
   "cell_type": "code",
   "execution_count": 33,
   "metadata": {
    "collapsed": false
   },
   "outputs": [],
   "source": [
    "# check for pivoting property\n",
    "data_test, labels_test, nuisances_test = prepare_data(num_samples)"
   ]
  },
  {
   "cell_type": "code",
   "execution_count": 34,
   "metadata": {
    "collapsed": false
   },
   "outputs": [],
   "source": [
    "group1 = np.logical_and(nuisances_test > 0.0, nuisances_test < 0.5)\n",
    "group2 = np.logical_and(nuisances_test > 0.5, nuisances_test < 1.0)\n",
    "group3 = np.logical_and(nuisances_test > 1.0, nuisances_test < 1.5)\n",
    "group4 = np.logical_and(nuisances_test > 1.5, nuisances_test < 2.0)"
   ]
  },
  {
   "cell_type": "code",
   "execution_count": 35,
   "metadata": {
    "collapsed": false
   },
   "outputs": [],
   "source": [
    "pred1 = sess.run(classifier_output, feed_dict = {data_in: data_test[group1]})\n",
    "pred2 = sess.run(classifier_output, feed_dict = {data_in: data_test[group2]})\n",
    "pred3 = sess.run(classifier_output, feed_dict = {data_in: data_test[group3]})\n",
    "pred4 = sess.run(classifier_output, feed_dict = {data_in: data_test[group4]})"
   ]
  },
  {
   "cell_type": "code",
   "execution_count": 36,
   "metadata": {
    "collapsed": false
   },
   "outputs": [
    {
     "data": {
      "image/png": "[encoded data removed]",
      "text/plain": [
       "<Figure size 432x288 with 1 Axes>"
      ]
     },
     "metadata": {},
     "output_type": "display_data"
    }
   ],
   "source": [
    "colors = ['red', 'tan', 'lime', 'green']\n",
    "plt.hist([pred1[:,1], pred2[:,1], pred3[:,1], pred4[:,1]], label = [r'$\\nu_1$', r'$\\nu_2$', r'$\\nu_3$', r'$\\nu_4$'], histtype = 'step', density = True, stacked = False, fill = False, bins = 20)\n",
    "plt.legend(loc = 'upper left')\n",
    "plt.show()"
   ]
  },
  {
   "cell_type": "code",
   "execution_count": 37,
   "metadata": {
    "collapsed": false
   },
   "outputs": [],
   "source": [
    "sig = data_test[labels_test == 1]\n",
    "bkg = data_test[labels_test == 0]"
   ]
  },
  {
   "cell_type": "code",
   "execution_count": 38,
   "metadata": {
    "collapsed": true
   },
   "outputs": [],
   "source": [
    "pred_sig = sess.run(classifier_output, feed_dict = {data_in: sig})\n",
    "pred_bkg = sess.run(classifier_output, feed_dict = {data_in: bkg})"
   ]
  },
  {
   "cell_type": "code",
   "execution_count": 39,
   "metadata": {
    "collapsed": false
   },
   "outputs": [
    {
     "data": {
      "image/png": "[encoded data removed]",
      "text/plain": [
       "<Figure size 432x288 with 1 Axes>"
      ]
     },
     "metadata": {},
     "output_type": "display_data"
    }
   ],
   "source": [
    "plt.hist([pred_sig[:,1], pred_bkg[:,1]], label = ['sig', 'bkg'], histtype = 'step', density = True, stacked = False, fill = False, bins = 10)\n",
    "plt.show()"
   ]
  },
  {
   "cell_type": "code",
   "execution_count": 41,
   "metadata": {
    "collapsed": false
   },
   "outputs": [],
   "source": [
    "pred = sess.run(classifier_output, feed_dict = {data_in: data_test})"
   ]
  },
  {
   "cell_type": "code",
   "execution_count": 54,
   "metadata": {
    "collapsed": true
   },
   "outputs": [],
   "source": [
    "# plot ROC curves\n",
    "from sklearn import metrics"
   ]
  },
  {
   "cell_type": "code",
   "execution_count": 57,
   "metadata": {
    "collapsed": false
   },
   "outputs": [],
   "source": [
    "fpr, tpr, thresholds = metrics.roc_curve(labels_test, pred[:,1])"
   ]
  },
  {
   "cell_type": "code",
   "execution_count": 58,
   "metadata": {
    "collapsed": false
   },
   "outputs": [
    {
     "data": {
      "image/png": "[encoded data removed]",
      "text/plain": [
       "<Figure size 432x288 with 1 Axes>"
      ]
     },
     "metadata": {},
     "output_type": "display_data"
    }
   ],
   "source": [
    "plt.plot(fpr, tpr)\n",
    "plt.show()"
   ]
  },
  {
   "cell_type": "code",
   "execution_count": 60,
   "metadata": {
    "collapsed": false
   },
   "outputs": [
    {
     "data": {
      "text/plain": [
       "0.7222121046215254"
      ]
     },
     "execution_count": 60,
     "metadata": {},
     "output_type": "execute_result"
    }
   ],
   "source": [
    "metrics.roc_auc_score(labels_test, pred[:,1])"
   ]
  },
  {
   "cell_type": "code",
   "execution_count": null,
   "metadata": {
    "collapsed": true
   },
   "outputs": [],
   "source": []
  }
 ],
 "metadata": {
  "kernelspec": {
   "display_name": "Python 3",
   "language": "python",
   "name": "python3"
  },
  "language_info": {
   "codemirror_mode": {
    "name": "ipython",
    "version": 3
   },
   "file_extension": ".py",
   "mimetype": "text/x-python",
   "name": "python",
   "nbconvert_exporter": "python",
   "pygments_lexer": "ipython3",
   "version": "3.5.3"
  }
 },
 "nbformat": 4,
 "nbformat_minor": 2
}
