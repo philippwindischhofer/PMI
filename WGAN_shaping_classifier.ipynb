{
 "cells": [
  {
   "cell_type": "code",
   "execution_count": 1,
   "metadata": {
    "collapsed": true
   },
   "outputs": [],
   "source": [
    "import tensorflow as tf\n",
    "import tensorflow.contrib.layers as layers\n",
    "import tensorflow.contrib.distributions as ds"
   ]
  },
  {
   "cell_type": "code",
   "execution_count": 2,
   "metadata": {
    "collapsed": true
   },
   "outputs": [],
   "source": [
    "import numpy as np\n",
    "import matplotlib.pyplot as plt"
   ]
  },
  {
   "cell_type": "code",
   "execution_count": 3,
   "metadata": {
    "collapsed": false
   },
   "outputs": [],
   "source": [
    "config = tf.ConfigProto(intra_op_parallelism_threads=8, inter_op_parallelism_threads=8, \\\n",
    "                        allow_soft_placement=True, device_count = {'CPU': 8})\n",
    "sess = tf.InteractiveSession(config = config)"
   ]
  },
  {
   "cell_type": "code",
   "execution_count": 4,
   "metadata": {
    "collapsed": true
   },
   "outputs": [],
   "source": [
    "target_loc = 3\n",
    "target_scale = 0.8"
   ]
  },
  {
   "cell_type": "code",
   "execution_count": 5,
   "metadata": {
    "collapsed": true
   },
   "outputs": [],
   "source": [
    "eps = 1e-10"
   ]
  },
  {
   "cell_type": "code",
   "execution_count": 6,
   "metadata": {
    "collapsed": true
   },
   "outputs": [],
   "source": [
    "def prepare_data(n_samples):\n",
    "    data = []\n",
    "    labels = []\n",
    "    nuisances = []\n",
    "    \n",
    "    for i in range(n_samples):\n",
    "        sig_bkg = np.random.uniform(low = 0.0, high = 1.0, size = 1)\n",
    "        if sig_bkg > 0.5:\n",
    "            nuisance = np.random.uniform(low = 0.0, high = 2.0, size = 1)\n",
    "            data.append(np.random.multivariate_normal(mean = [0.0, nuisance], cov = np.array([[1, -0.5], [-0.5, 1]]), size = 1).flatten())\n",
    "            labels.append(1.0)\n",
    "        else:\n",
    "            nuisance = np.random.uniform(low = 0.0, high = 2.0, size = 1)\n",
    "            data.append(np.random.multivariate_normal(mean = [1.0, nuisance], cov = np.eye(2), size = 1).flatten())\n",
    "            labels.append(0.0)\n",
    "            \n",
    "        nuisances.append(nuisance)\n",
    "    data = np.array(data)\n",
    "    labels = np.array(labels)\n",
    "    nuisances = np.array(nuisances)\n",
    "    \n",
    "    return data, labels, nuisances.flatten()"
   ]
  },
  {
   "cell_type": "code",
   "execution_count": 7,
   "metadata": {
    "collapsed": false
   },
   "outputs": [],
   "source": [
    "num_samples = 100000\n",
    "data_train, labels_train, nuisances_train = prepare_data(num_samples)\n",
    "nuisances_train = np.expand_dims(nuisances_train, axis = 1)\n",
    "labels_train = np.expand_dims(labels_train, axis = 1)"
   ]
  },
  {
   "cell_type": "code",
   "execution_count": 17,
   "metadata": {
    "collapsed": false
   },
   "outputs": [],
   "source": [
    "train_bkg = labels_train == 0\n",
    "bkg_data_train = data_train[train_bkg.flatten()]\n",
    "bkg_labels_train = labels_train[train_bkg.flatten()]"
   ]
  },
  {
   "cell_type": "code",
   "execution_count": 19,
   "metadata": {
    "collapsed": false
   },
   "outputs": [],
   "source": [
    "train_sig = labels_train == 1\n",
    "sig_data_train = data_train[train_sig.flatten()]\n",
    "sig_labels_train = labels_train[train_sig.flatten()]"
   ]
  },
  {
   "cell_type": "code",
   "execution_count": 20,
   "metadata": {
    "collapsed": true
   },
   "outputs": [],
   "source": [
    "def classifier(data_in, name):\n",
    "    with tf.variable_scope(name, reuse = tf.AUTO_REUSE):\n",
    "        lay = layers.relu(data_in, 40)\n",
    "        lay = layers.relu(lay, 20)\n",
    "        outputs = layers.linear(lay, 1)\n",
    "\n",
    "    these_vars = tf.get_collection(tf.GraphKeys.GLOBAL_VARIABLES, scope = name)\n",
    "\n",
    "    return outputs, these_vars"
   ]
  },
  {
   "cell_type": "code",
   "execution_count": 21,
   "metadata": {
    "collapsed": true
   },
   "outputs": [],
   "source": [
    "def EM_network(data, name):\n",
    "    with tf.variable_scope(name, reuse = tf.AUTO_REUSE):       \n",
    "        lay = layers.relu(data, 40)\n",
    "        lay = layers.relu(lay, 20)\n",
    "        outputs = layers.linear(lay, 1)\n",
    "        \n",
    "    these_vars = tf.get_collection(tf.GraphKeys.GLOBAL_VARIABLES, scope = name)\n",
    "    \n",
    "    return outputs, these_vars"
   ]
  },
  {
   "cell_type": "code",
   "execution_count": 22,
   "metadata": {
    "collapsed": true
   },
   "outputs": [],
   "source": [
    "def make_EM_loss(data_P, data_Q, name):\n",
    "    local_EM_network_name = name + \"_EM_net\"\n",
    "    \n",
    "    # generator output\n",
    "    T_P, EM_vars = EM_network(data_P, name = local_EM_network_name)\n",
    "    \n",
    "    # target\n",
    "    T_Q, _ = EM_network(data_Q, name = local_EM_network_name)\n",
    "\n",
    "    EM_loss = tf.reduce_mean(T_P, axis = 0) - tf.reduce_mean(T_Q, axis = 0)\n",
    "    \n",
    "    batch_size_dyn = tf.cast(tf.shape(T_P)[0], tf.int32)\n",
    "    rand = tf.random.uniform(shape = (batch_size_dyn, 1), minval = 0.0, maxval = 1.0)\n",
    "    \n",
    "    # add gradient penalty\n",
    "    x_grad = tf.math.add(tf.math.multiply(rand, data_P),\n",
    "                         tf.math.multiply(tf.math.subtract(1.0, rand), data_Q))\n",
    "    x_grad_EM, _ = EM_network(x_grad, name = local_EM_network_name)\n",
    "    grad = tf.gradients(x_grad_EM, x_grad)[0]\n",
    "    \n",
    "    grad_norm = tf.math.sqrt(tf.reduce_sum(tf.math.square(grad), axis = 1) + eps)\n",
    "    \n",
    "    grad_pen = tf.reduce_mean(tf.math.square(grad_norm - 1.0))\n",
    "\n",
    "    EM_loss_grad_pen = EM_loss[0] + 10 * grad_pen\n",
    "\n",
    "    return EM_loss_grad_pen, EM_vars, -EM_loss"
   ]
  },
  {
   "cell_type": "code",
   "execution_count": 23,
   "metadata": {
    "collapsed": true
   },
   "outputs": [],
   "source": [
    "def make_plots():\n",
    "    target_test = np.random.normal(loc = target_loc, scale = target_scale, size = (1000, 1))\n",
    "    inds = np.random.choice(len(data_train), batch_size)\n",
    "    data_batch = data_train[inds]\n",
    "    class_output_test = sess.run(class_out,  feed_dict = {data_in: data_batch})\n",
    "    \n",
    "    plt.clf()\n",
    "    plt.hist([np.squeeze(target_test), np.squeeze(class_output_test)], label = ['target', 'generator'], histtype = 'step', density = True, bins = 50)\n",
    "    plt.xlim([-1, 5])\n",
    "    plt.ylim([0, 3])\n",
    "    plt.legend()"
   ]
  },
  {
   "cell_type": "code",
   "execution_count": 24,
   "metadata": {
    "collapsed": true
   },
   "outputs": [],
   "source": [
    "data_in = tf.placeholder(tf.float32, [None, 2], name = 'data_in')\n",
    "target_in = tf.placeholder(tf.float32, [None, 1], name = 'target_in')\n",
    "labels_in = tf.placeholder(tf.float32, [None, 1], name = 'labels_in')"
   ]
  },
  {
   "cell_type": "code",
   "execution_count": 25,
   "metadata": {
    "collapsed": false
   },
   "outputs": [],
   "source": [
    "class_out, gen_vars = classifier(data_in, \"gen\")"
   ]
  },
  {
   "cell_type": "code",
   "execution_count": 26,
   "metadata": {
    "collapsed": true
   },
   "outputs": [],
   "source": [
    "bkg_truth = tf.where(tf.math.less(labels_in, 1))"
   ]
  },
  {
   "cell_type": "code",
   "execution_count": 52,
   "metadata": {
    "collapsed": true
   },
   "outputs": [],
   "source": [
    "class_out_bkg = tf.gather_nd(class_out, bkg_truth)\n",
    "class_out_bkg = tf.expand_dims(class_out_bkg, axis = 1)"
   ]
  },
  {
   "cell_type": "code",
   "execution_count": 53,
   "metadata": {
    "collapsed": false
   },
   "outputs": [],
   "source": [
    "EM_lossval, EM_vars, EM_dist = make_EM_loss(class_out_bkg, target_in, \"EM_loss_obj\")"
   ]
  },
  {
   "cell_type": "code",
   "execution_count": 54,
   "metadata": {
    "collapsed": false
   },
   "outputs": [],
   "source": [
    "train_EM = tf.train.AdamOptimizer(learning_rate = 0.01, beta1 = 0.0, beta2 = 0.5).minimize(EM_lossval, var_list = EM_vars)"
   ]
  },
  {
   "cell_type": "code",
   "execution_count": 55,
   "metadata": {
    "collapsed": true
   },
   "outputs": [],
   "source": [
    "train_gen = tf.train.AdamOptimizer(learning_rate = 1e-4, beta1 = 0.0, beta2 = 0.5).minimize(EM_dist, var_list = gen_vars)"
   ]
  },
  {
   "cell_type": "code",
   "execution_count": 72,
   "metadata": {
    "collapsed": true
   },
   "outputs": [],
   "source": [
    "sess.run(tf.global_variables_initializer())"
   ]
  },
  {
   "cell_type": "code",
   "execution_count": 73,
   "metadata": {
    "collapsed": true
   },
   "outputs": [],
   "source": [
    "init_critic = tf.variables_initializer(EM_vars)"
   ]
  },
  {
   "cell_type": "code",
   "execution_count": 74,
   "metadata": {
    "collapsed": true
   },
   "outputs": [],
   "source": [
    "sess.run(init_critic)"
   ]
  },
  {
   "cell_type": "code",
   "execution_count": 75,
   "metadata": {
    "collapsed": true
   },
   "outputs": [],
   "source": [
    "batch_size = 1000"
   ]
  },
  {
   "cell_type": "code",
   "execution_count": 76,
   "metadata": {
    "collapsed": false
   },
   "outputs": [
    {
     "name": "stdout",
     "output_type": "stream",
     "text": [
      "EM_dist = [0.48231593]\n",
      "EM_dist = [0.8809836]\n",
      "EM_dist = [1.3438917]\n",
      "EM_dist = [1.7963531]\n",
      "EM_dist = [2.3160834]\n",
      "EM_dist = [2.747621]\n",
      "EM_dist = [3.088494]\n",
      "EM_dist = [3.337567]\n",
      "EM_dist = [3.4945016]\n",
      "EM_dist = [3.8423731]\n",
      "EM_dist = [3.4342387]\n",
      "EM_dist = [4.0654845]\n",
      "EM_dist = [3.2401087]\n",
      "EM_dist = [4.0944824]\n",
      "EM_dist = [3.3862917]\n",
      "EM_dist = [4.1257296]\n",
      "EM_dist = [3.3330324]\n",
      "EM_dist = [4.10738]\n",
      "EM_dist = [3.33686]\n",
      "EM_dist = [4.0418506]\n",
      "EM_dist = [3.4544895]\n",
      "EM_dist = [4.115942]\n",
      "EM_dist = [3.388836]\n",
      "EM_dist = [4.0449753]\n",
      "EM_dist = [3.362161]\n",
      "EM_dist = [4.031206]\n",
      "EM_dist = [3.3979783]\n",
      "EM_dist = [4.019992]\n",
      "EM_dist = [3.4649966]\n",
      "EM_dist = [4.1384296]\n",
      "EM_dist = [3.4180913]\n",
      "EM_dist = [4.0358553]\n",
      "EM_dist = [3.4708252]\n",
      "EM_dist = [4.1013947]\n",
      "EM_dist = [3.4019933]\n",
      "EM_dist = [4.021979]\n",
      "EM_dist = [3.396811]\n",
      "EM_dist = [4.0429177]\n",
      "EM_dist = [3.3959508]\n",
      "EM_dist = [3.9946234]\n",
      "EM_dist = [3.4239132]\n",
      "EM_dist = [4.034388]\n",
      "EM_dist = [3.424184]\n",
      "EM_dist = [4.053059]\n",
      "EM_dist = [3.3852308]\n",
      "EM_dist = [4.0869517]\n",
      "EM_dist = [3.4095528]\n",
      "EM_dist = [4.107502]\n",
      "EM_dist = [3.4083529]\n",
      "EM_dist = [4.087405]\n",
      "EM_dist = [3.4908056]\n",
      "EM_dist = [3.9475927]\n",
      "EM_dist = [3.4020267]\n",
      "EM_dist = [4.0826964]\n",
      "EM_dist = [3.343709]\n",
      "EM_dist = [4.0233974]\n",
      "EM_dist = [3.4658413]\n",
      "EM_dist = [4.1213803]\n",
      "EM_dist = [3.4708364]\n",
      "EM_dist = [4.0474014]\n",
      "EM_dist = [3.4357615]\n",
      "EM_dist = [4.034217]\n",
      "EM_dist = [3.4327312]\n",
      "EM_dist = [4.0743704]\n",
      "EM_dist = [3.419383]\n",
      "EM_dist = [4.0302258]\n",
      "EM_dist = [3.5034652]\n",
      "EM_dist = [4.0491]\n",
      "EM_dist = [3.464479]\n",
      "EM_dist = [4.0271187]\n",
      "EM_dist = [3.404674]\n",
      "EM_dist = [4.014258]\n",
      "EM_dist = [3.4773297]\n",
      "EM_dist = [4.0224047]\n",
      "EM_dist = [3.4443707]\n",
      "EM_dist = [4.0642915]\n",
      "EM_dist = [3.411055]\n",
      "EM_dist = [4.0619187]\n",
      "EM_dist = [3.501605]\n",
      "EM_dist = [4.0511694]\n",
      "EM_dist = [3.4222598]\n",
      "EM_dist = [3.9835956]\n",
      "EM_dist = [3.505582]\n",
      "EM_dist = [4.032064]\n",
      "EM_dist = [3.45829]\n",
      "EM_dist = [4.0618024]\n",
      "EM_dist = [3.4616756]\n",
      "EM_dist = [4.0828404]\n",
      "EM_dist = [3.5423355]\n",
      "EM_dist = [4.038957]\n",
      "EM_dist = [3.4881997]\n",
      "EM_dist = [4.0411544]\n",
      "EM_dist = [3.4889083]\n",
      "EM_dist = [4.0207486]\n",
      "EM_dist = [3.4694521]\n",
      "EM_dist = [4.060238]\n",
      "EM_dist = [3.4465742]\n",
      "EM_dist = [4.041323]\n",
      "EM_dist = [3.450654]\n",
      "EM_dist = [4.081668]\n",
      "EM_dist = [3.465344]\n",
      "EM_dist = [4.0481954]\n",
      "EM_dist = [3.4862435]\n",
      "EM_dist = [4.0319743]\n",
      "EM_dist = [3.4449973]\n",
      "EM_dist = [4.0519204]\n",
      "EM_dist = [3.4780998]\n",
      "EM_dist = [4.027658]\n",
      "EM_dist = [3.4692764]\n",
      "EM_dist = [4.0491924]\n",
      "EM_dist = [3.5025394]\n",
      "EM_dist = [4.0392]\n",
      "EM_dist = [3.503998]\n",
      "EM_dist = [3.9915876]\n",
      "EM_dist = [3.4269562]\n",
      "EM_dist = [4.0668054]\n",
      "EM_dist = [3.4791255]\n",
      "EM_dist = [3.9511566]\n",
      "EM_dist = [3.4716098]\n",
      "EM_dist = [4.028782]\n",
      "EM_dist = [3.482791]\n",
      "EM_dist = [4.0195217]\n",
      "EM_dist = [3.478743]\n",
      "EM_dist = [4.0167456]\n",
      "EM_dist = [3.4480224]\n",
      "EM_dist = [3.9910476]\n",
      "EM_dist = [3.509533]\n",
      "EM_dist = [3.9982328]\n",
      "EM_dist = [3.4551263]\n",
      "EM_dist = [3.96771]\n",
      "EM_dist = [3.5089145]\n",
      "EM_dist = [3.9652197]\n",
      "EM_dist = [3.4625444]\n",
      "EM_dist = [3.9786258]\n",
      "EM_dist = [3.489167]\n",
      "EM_dist = [4.033307]\n",
      "EM_dist = [3.4647264]\n",
      "EM_dist = [4.0287023]\n",
      "EM_dist = [3.52115]\n",
      "EM_dist = [4.0799575]\n",
      "EM_dist = [3.5271854]\n",
      "EM_dist = [4.0303555]\n",
      "EM_dist = [3.5438135]\n",
      "EM_dist = [3.997528]\n",
      "EM_dist = [3.549201]\n",
      "EM_dist = [3.9929724]\n",
      "EM_dist = [3.4671082]\n",
      "EM_dist = [4.1054363]\n",
      "EM_dist = [3.4771223]\n",
      "EM_dist = [4.0313787]\n",
      "EM_dist = [3.4679952]\n",
      "EM_dist = [4.0493865]\n",
      "EM_dist = [3.4681864]\n",
      "EM_dist = [4.0091124]\n",
      "EM_dist = [3.4974613]\n",
      "EM_dist = [3.9455776]\n",
      "EM_dist = [3.4984162]\n",
      "EM_dist = [4.0079412]\n",
      "EM_dist = [3.4928045]\n",
      "EM_dist = [3.9526885]\n",
      "EM_dist = [3.5488648]\n",
      "EM_dist = [4.031204]\n",
      "EM_dist = [3.5330915]\n",
      "EM_dist = [3.9751148]\n",
      "EM_dist = [3.4637494]\n",
      "EM_dist = [4.001013]\n",
      "EM_dist = [3.5226502]\n",
      "EM_dist = [4.01613]\n",
      "EM_dist = [3.4906268]\n",
      "EM_dist = [4.00698]\n",
      "EM_dist = [3.4947355]\n",
      "EM_dist = [4.0346427]\n",
      "EM_dist = [3.5422673]\n",
      "EM_dist = [4.0351944]\n",
      "EM_dist = [3.5142422]\n",
      "EM_dist = [4.068153]\n",
      "EM_dist = [3.5069864]\n",
      "EM_dist = [4.0147157]\n",
      "EM_dist = [3.539984]\n",
      "EM_dist = [3.9956465]\n",
      "EM_dist = [3.4594524]\n",
      "EM_dist = [3.967637]\n",
      "EM_dist = [3.448061]\n",
      "EM_dist = [4.037461]\n",
      "EM_dist = [3.5378962]\n",
      "EM_dist = [4.030345]\n",
      "EM_dist = [3.4865031]\n",
      "EM_dist = [3.9833984]\n",
      "EM_dist = [3.5057745]\n",
      "EM_dist = [3.9921212]\n",
      "EM_dist = [3.5164647]\n",
      "EM_dist = [4.0494313]\n",
      "EM_dist = [3.5387163]\n",
      "EM_dist = [4.0074315]\n",
      "EM_dist = [3.4891229]\n",
      "EM_dist = [4.0374875]\n",
      "EM_dist = [3.5347362]\n",
      "EM_dist = [3.9802475]\n",
      "EM_dist = [3.5094786]\n",
      "EM_dist = [3.967126]\n"
     ]
    }
   ],
   "source": [
    "for i in range(200):\n",
    "    target = np.random.normal(loc = target_loc, scale = target_scale, size = (batch_size, 1))\n",
    "    inds = np.random.choice(len(bkg_data_train), batch_size)\n",
    "    data_batch = bkg_data_train[inds]\n",
    "    labels_batch = bkg_labels_train[inds]\n",
    "    \n",
    "    sess.run(train_EM, feed_dict = {data_in: data_batch, target_in: target, labels_in: labels_batch})\n",
    "\n",
    "    EM_dist_val = sess.run(EM_dist, feed_dict = {data_in: data_batch, target_in: target, labels_in: labels_batch})\n",
    "    print(\"EM_dist = {}\".format(EM_dist_val))"
   ]
  },
  {
   "cell_type": "code",
   "execution_count": 77,
   "metadata": {
    "collapsed": false
   },
   "outputs": [],
   "source": [
    "# compare initial distributions\n",
    "target_test = np.random.normal(loc = target_loc, scale = target_scale, size = (1000, 1))\n",
    "inds = np.random.choice(len(data_train), batch_size)\n",
    "data_batch = data_train[inds]\n",
    "class_output_test = sess.run(class_out,  feed_dict = {data_in: data_batch})"
   ]
  },
  {
   "cell_type": "code",
   "execution_count": 78,
   "metadata": {
    "collapsed": false
   },
   "outputs": [
    {
     "data": {
      "image/png": "[encoded data removed]",
      "text/plain": [
       "<Figure size 432x288 with 1 Axes>"
      ]
     },
     "metadata": {},
     "output_type": "display_data"
    }
   ],
   "source": [
    "plt.hist([np.squeeze(target_test), np.squeeze(class_output_test)], label = ['target', 'class'], histtype = 'step', density = True, bins = 50)\n",
    "plt.legend()\n",
    "plt.show()"
   ]
  },
  {
   "cell_type": "code",
   "execution_count": null,
   "metadata": {
    "collapsed": false,
    "scrolled": true
   },
   "outputs": [
    {
     "name": "stdout",
     "output_type": "stream",
     "text": [
      "W = [3.9264297]\n",
      "critic loss = -3.416257381439209\n",
      "W = [3.960438]\n",
      "critic loss = -3.4619593620300293\n",
      "W = [3.9726346]\n",
      "critic loss = -3.506592273712158\n",
      "W = [3.95437]\n",
      "critic loss = -3.5002193450927734\n",
      "W = [3.895618]\n",
      "critic loss = -3.4512178897857666\n",
      "W = [3.9018419]\n",
      "critic loss = -3.473156690597534\n",
      "W = [3.852683]\n",
      "critic loss = -3.440791368484497\n",
      "W = [3.904016]\n",
      "critic loss = -3.5010101795196533\n",
      "W = [3.8940744]\n",
      "critic loss = -3.4780712127685547\n",
      "W = [3.7789793]\n",
      "critic loss = -3.3651466369628906\n",
      "W = [3.8329005]\n",
      "critic loss = -3.437039852142334\n",
      "W = [3.839501]\n",
      "critic loss = -3.442192316055298\n",
      "W = [3.8123667]\n",
      "critic loss = -3.4158878326416016\n",
      "W = [3.7744944]\n",
      "critic loss = -3.3663289546966553\n",
      "W = [3.77826]\n",
      "critic loss = -3.3808481693267822\n",
      "W = [3.8083036]\n",
      "critic loss = -3.4168968200683594\n",
      "W = [3.6980968]\n",
      "critic loss = -3.3054072856903076\n",
      "W = [3.8029222]\n",
      "critic loss = -3.4133408069610596\n",
      "W = [3.8202024]\n",
      "critic loss = -3.4137589931488037\n",
      "W = [3.825568]\n",
      "critic loss = -3.4386136531829834\n"
     ]
    }
   ],
   "source": [
    "for i in range(0, 800):\n",
    "    # prepare noise\n",
    "    for j in range(250):\n",
    "        target = np.random.normal(loc = target_loc, scale = target_scale, size = (batch_size, 1))\n",
    "        inds = np.random.choice(len(bkg_data_train), batch_size)\n",
    "        bkg_batch_data = bkg_data_train[inds]\n",
    "        bkg_batch_labels = bkg_labels_train[inds]\n",
    "        \n",
    "        sess.run(train_EM, feed_dict = {data_in: bkg_batch_data, target_in: target, labels_in: bkg_batch_labels})\n",
    "    \n",
    "    target = np.random.normal(loc = target_loc, scale = target_scale, size = (int(batch_size / 2), 1))\n",
    "    inds = np.random.choice(len(data_train), batch_size)\n",
    "    data_batch = data_train[inds]\n",
    "    \n",
    "    inds_bkg = np.random.choice(len(bkg_data_train), int(batch_size / 2))\n",
    "    bkg_batch_data = bkg_data_train[inds_bkg]\n",
    "    bkg_batch_labels = bkg_labels_train[inds_bkg]\n",
    "\n",
    "    inds_sig = np.random.choice(len(sig_data_train), int(batch_size / 2))\n",
    "    sig_batch_data = sig_data_train[inds_sig]\n",
    "    sig_batch_labels = sig_labels_train[inds_sig]\n",
    "\n",
    "    data_batch = np.concatenate([sig_batch_data, bkg_batch_data])\n",
    "    labels_batch = np.concatenate([sig_batch_labels, bkg_batch_labels])\n",
    "\n",
    "    sess.run(train_gen, feed_dict = {data_in: data_batch, target_in: target, labels_in: labels_batch})\n",
    "    EM_dist_val = sess.run(EM_dist, feed_dict = {data_in: data_batch, target_in: target, labels_in: labels_batch})\n",
    "    critic_loss = sess.run(EM_lossval, feed_dict = {data_in: data_batch, target_in: target, labels_in: labels_batch})\n",
    "\n",
    "    print(\"W = {}\".format(EM_dist_val))\n",
    "    print(\"critic loss = {}\".format(critic_loss))\n",
    "    \n",
    "    #save_plots(\"WGAN_training/epoch_\" + str(i).zfill(5) + \".png\")"
   ]
  },
  {
   "cell_type": "code",
   "execution_count": 70,
   "metadata": {
    "collapsed": false
   },
   "outputs": [],
   "source": [
    "make_plots()"
   ]
  },
  {
   "cell_type": "code",
   "execution_count": 71,
   "metadata": {
    "collapsed": false
   },
   "outputs": [
    {
     "data": {
      "image/png": "[encoded data removed]",
      "text/plain": [
       "<Figure size 432x288 with 1 Axes>"
      ]
     },
     "metadata": {},
     "output_type": "display_data"
    }
   ],
   "source": [
    "plt.show()"
   ]
  },
  {
   "cell_type": "code",
   "execution_count": null,
   "metadata": {
    "collapsed": true
   },
   "outputs": [],
   "source": []
  },
  {
   "cell_type": "code",
   "execution_count": null,
   "metadata": {
    "collapsed": true
   },
   "outputs": [],
   "source": []
  }
 ],
 "metadata": {
  "kernelspec": {
   "display_name": "Python 3",
   "language": "python",
   "name": "python3"
  },
  "language_info": {
   "codemirror_mode": {
    "name": "ipython",
    "version": 3
   },
   "file_extension": ".py",
   "mimetype": "text/x-python",
   "name": "python",
   "nbconvert_exporter": "python",
   "pygments_lexer": "ipython3",
   "version": "3.5.3"
  }
 },
 "nbformat": 4,
 "nbformat_minor": 2
}
